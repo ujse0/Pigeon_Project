{
 "cells": [
  {
   "cell_type": "code",
   "execution_count": 1,
   "id": "2459177c-01d9-4c35-9bdb-f2abaf1c2b90",
   "metadata": {},
   "outputs": [],
   "source": [
    "def xywh_to_xyxy(x, y, w, h, width, height):\n",
    "    x1 = (x - 1/2 * w) * width\n",
    "    y1 = (y - 1/2 * h) * height\n",
    "\n",
    "    x2 = (x + 1/2 * w) * width\n",
    "    y2 = (y + 1/2 * h) * height\n",
    "\n",
    "    return x1, y1, x2, y2"
   ]
  },
  {
   "cell_type": "code",
   "execution_count": 2,
   "id": "6b80a623-0da8-4b49-9522-d29617913a87",
   "metadata": {},
   "outputs": [],
   "source": [
    "def read_txt(txt_path):\n",
    "    bboxes = []\n",
    "    with open(txt_path, \"r\") as f:\n",
    "        lines = f.readlines()\n",
    "    lines = [line.strip() for line in lines]\n",
    "    \n",
    "    for line in lines:\n",
    "        bbox = list(map(eval, line.split()))\n",
    "        bboxes.append(bbox)\n",
    "\n",
    "    return bboxes"
   ]
  },
  {
   "cell_type": "code",
   "execution_count": null,
   "id": "51bcd745-4da6-4719-bd84-ba392fd9dc43",
   "metadata": {},
   "outputs": [],
   "source": [
    "from glob import glob\n",
    "import cv2\n",
    "\n",
    "\n",
    "img_path = '/Users/joonseouh/workspace/pigeon_detection/yolo_data/jongnoB_vid_1_frame_10.png'\n",
    "\n",
    "txt_path = '/Users/joonseouh/workspace/pigeon_detection/yolo_data/jongnoB_vid_1_frame_10.txt'\n",
    "\n",
    "bboxes = read_txt(txt_path)\n",
    "\n",
    "img = cv2.imread(img_path)\n",
    "height, width, _ = img.shape\n",
    "\n",
    "window_name = 'Image'\n",
    "color = (0, 0, 255)\n",
    "thickness = 2\n",
    "\n",
    "for bbox in bboxes:\n",
    "    _, x, y, w, h = bbox\n",
    "    x1, y1, x2, y2  = xywh_to_xyxy(x, y, w, h, width, height)\n",
    "    start_point = (int(x1), int(y1))\n",
    "    end_point = (int(x2), int(y2))\n",
    "    image = cv2.rectangle(img, start_point, end_point, color, thickness)\n",
    "    \n",
    "cv2.imshow(window_name, image) \n",
    "cv2.waitKey(0) \n",
    "    \n",
    "cv2.destroyAllWindows()"
   ]
  }
 ],
 "metadata": {
  "kernelspec": {
   "display_name": "pigeon",
   "language": "python",
   "name": "pigeon"
  },
  "language_info": {
   "codemirror_mode": {
    "name": "ipython",
    "version": 3
   },
   "file_extension": ".py",
   "mimetype": "text/x-python",
   "name": "python",
   "nbconvert_exporter": "python",
   "pygments_lexer": "ipython3",
   "version": "3.10.16"
  }
 },
 "nbformat": 4,
 "nbformat_minor": 5
}
