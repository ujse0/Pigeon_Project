{
 "cells": [
  {
   "cell_type": "code",
   "execution_count": 12,
   "metadata": {
    "colab": {
     "base_uri": "https://localhost:8080/"
    },
    "executionInfo": {
     "elapsed": 1784,
     "status": "ok",
     "timestamp": 1744787620987,
     "user": {
      "displayName": "어준서",
      "userId": "15978467973835436486"
     },
     "user_tz": -60
    },
    "id": "Z6c6fTnRaAO8",
    "outputId": "57e49634-7b74-4b51-c9ca-29bb1650849c"
   },
   "outputs": [
    {
     "name": "stdout",
     "output_type": "stream",
     "text": [
      "Drive already mounted at /content/drive; to attempt to forcibly remount, call drive.mount(\"/content/drive\", force_remount=True).\n"
     ]
    }
   ],
   "source": [
    "from google.colab import drive\n",
    "drive.mount('/content/drive')"
   ]
  },
  {
   "cell_type": "code",
   "execution_count": 2,
   "metadata": {
    "colab": {
     "base_uri": "https://localhost:8080/"
    },
    "executionInfo": {
     "elapsed": 1194,
     "status": "ok",
     "timestamp": 1744785674369,
     "user": {
      "displayName": "어준서",
      "userId": "15978467973835436486"
     },
     "user_tz": -60
    },
    "id": "rwH-2AmPaCId",
    "outputId": "bd2110f4-5819-4be7-d550-865fc652e347"
   },
   "outputs": [
    {
     "name": "stdout",
     "output_type": "stream",
     "text": [
      "70 20 10\n"
     ]
    }
   ],
   "source": [
    "from sklearn.model_selection import train_test_split\n",
    "\n",
    "\n",
    "X = [i for i in range(100)]\n",
    "\n",
    "X_temp, X_test = train_test_split(\n",
    "    X, test_size=0.1, random_state=42)\n",
    "\n",
    "X_train, X_val = train_test_split(\n",
    "    X_temp, test_size=0.22, random_state=42)\n",
    "\n",
    "print(len(X_train), len(X_val), len(X_test))"
   ]
  },
  {
   "cell_type": "code",
   "execution_count": 22,
   "metadata": {
    "colab": {
     "base_uri": "https://localhost:8080/"
    },
    "executionInfo": {
     "elapsed": 7,
     "status": "ok",
     "timestamp": 1744787760599,
     "user": {
      "displayName": "어준서",
      "userId": "15978467973835436486"
     },
     "user_tz": -60
    },
    "id": "K0RIHdNXaF8N",
    "outputId": "7416a574-0877-474f-ed97-27a3077cb244"
   },
   "outputs": [
    {
     "name": "stdout",
     "output_type": "stream",
     "text": [
      "/content/drive/MyDrive/dataset/images\n",
      "/content/drive/MyDrive/dataset/labels\n"
     ]
    }
   ],
   "source": [
    "import os\n",
    "\n",
    "data_path = \"/content/drive/MyDrive/dataset\"\n",
    "\n",
    "set_types = [\"images\", \"labels\"]\n",
    "\n",
    "split_types = [\"train\", \"val\", \"test\"]\n",
    "\n",
    "images_path = os.path.join(data_path, set_types[0])\n",
    "labels_path = os.path.join(data_path, set_types[1])\n",
    "\n",
    "print(images_path)\n",
    "print(labels_path)"
   ]
  },
  {
   "cell_type": "code",
   "execution_count": 23,
   "metadata": {
    "colab": {
     "base_uri": "https://localhost:8080/"
    },
    "executionInfo": {
     "elapsed": 754,
     "status": "ok",
     "timestamp": 1744787763259,
     "user": {
      "displayName": "어준서",
      "userId": "15978467973835436486"
     },
     "user_tz": -60
    },
    "id": "mCPDf6Z8v5dt",
    "outputId": "aea6e98a-2a37-4255-dc25-3d5f45d01947"
   },
   "outputs": [
    {
     "name": "stdout",
     "output_type": "stream",
     "text": [
      "29639\n",
      "20806 5869 2964\n"
     ]
    }
   ],
   "source": [
    "from glob import glob\n",
    "\n",
    "\n",
    "X = []\n",
    "\n",
    "for image_path in glob(images_path + \"/*\"):\n",
    "    X.append(os.path.basename(image_path)[:-4])\n",
    "\n",
    "print(len(X))\n",
    "X_temp, X_test = train_test_split(\n",
    "    X, test_size=0.1, random_state=42)\n",
    "\n",
    "X_train, X_val = train_test_split(\n",
    "    X_temp, test_size=0.22, random_state=42)\n",
    "\n",
    "print(len(X_train), len(X_val), len(X_test))"
   ]
  },
  {
   "cell_type": "code",
   "execution_count": 24,
   "metadata": {
    "executionInfo": {
     "elapsed": 2403,
     "status": "ok",
     "timestamp": 1744787768284,
     "user": {
      "displayName": "어준서",
      "userId": "15978467973835436486"
     },
     "user_tz": -60
    },
    "id": "daYhsJ0xaI1m"
   },
   "outputs": [],
   "source": [
    "import os\n",
    "for split_type in split_types:\n",
    "    images_folder_path = os.path.join(images_path, split_type)\n",
    "    labels_folder_path = os.path.join(labels_path, split_type)\n",
    "    os.makedirs(images_folder_path)\n",
    "    os.makedirs(labels_folder_path)"
   ]
  },
  {
   "cell_type": "code",
   "execution_count": 28,
   "metadata": {
    "executionInfo": {
     "elapsed": 179218,
     "status": "ok",
     "timestamp": 1744788038915,
     "user": {
      "displayName": "어준서",
      "userId": "15978467973835436486"
     },
     "user_tz": -60
    },
    "id": "TGQ7P982ZO3k"
   },
   "outputs": [],
   "source": [
    "import shutil\n",
    "for item in X_train:\n",
    "    start_img = os.path.join(images_path, item + \".png\")\n",
    "    end_img = os.path.join(images_path, \"train\", item + \".png\")\n",
    "\n",
    "    start_label = os.path.join(labels_path, item + \".txt\")\n",
    "    end_label = os.path.join(labels_path, \"train\", item + \".txt\")\n",
    "    shutil.move(start_label, end_label)\n",
    "    shutil.move(start_img, end_img)"
   ]
  },
  {
   "cell_type": "code",
   "execution_count": 29,
   "metadata": {
    "executionInfo": {
     "elapsed": 51381,
     "status": "ok",
     "timestamp": 1744788208239,
     "user": {
      "displayName": "어준서",
      "userId": "15978467973835436486"
     },
     "user_tz": -60
    },
    "id": "7f9hXWVIcgyN"
   },
   "outputs": [],
   "source": [
    "for item in X_val:\n",
    "    start_img = os.path.join(images_path, item + \".png\")\n",
    "    end_img = os.path.join(images_path, \"val\", item + \".png\")\n",
    "\n",
    "    start_label = os.path.join(labels_path, item + \".txt\")\n",
    "    end_label = os.path.join(labels_path, \"val\", item + \".txt\")\n",
    "    shutil.move(start_label, end_label)\n",
    "    shutil.move(start_img, end_img)"
   ]
  },
  {
   "cell_type": "code",
   "execution_count": 30,
   "metadata": {
    "executionInfo": {
     "elapsed": 24936,
     "status": "ok",
     "timestamp": 1744788233174,
     "user": {
      "displayName": "어준서",
      "userId": "15978467973835436486"
     },
     "user_tz": -60
    },
    "id": "pa-CH656dkZJ"
   },
   "outputs": [],
   "source": [
    "for item in X_test:\n",
    "    start_img = os.path.join(images_path, item + \".png\")\n",
    "    end_img = os.path.join(images_path, \"test\", item + \".png\")\n",
    "\n",
    "    start_label = os.path.join(labels_path, item + \".txt\")\n",
    "    end_label = os.path.join(labels_path, \"test\", item + \".txt\")\n",
    "    shutil.move(start_label, end_label)\n",
    "    shutil.move(start_img, end_img)"
   ]
  },
  {
   "cell_type": "code",
   "execution_count": 35,
   "metadata": {
    "colab": {
     "base_uri": "https://localhost:8080/"
    },
    "executionInfo": {
     "elapsed": 10890,
     "status": "ok",
     "timestamp": 1744790922697,
     "user": {
      "displayName": "어준서",
      "userId": "15978467973835436486"
     },
     "user_tz": -60
    },
    "id": "qjerDJlpmSVv",
    "outputId": "a90d9696-d59d-4bcf-e9ab-6a22af699a33"
   },
   "outputs": [
    {
     "name": "stdout",
     "output_type": "stream",
     "text": [
      "images/train: 20806\n",
      "images/val: 5869\n",
      "images/test: 2964\n",
      "labels/train: 20806\n",
      "labels/val: 5869\n",
      "labels/test: 2964\n"
     ]
    }
   ],
   "source": [
    "from glob import glob\n",
    "import os\n",
    "\n",
    "dataset_path = \"/content/drive/MyDrive/dataset\"\n",
    "\n",
    "\n",
    "data_types = [\"images\", \"labels\"]\n",
    "\n",
    "set_names = [\"train\", \"val\", \"test\"]\n",
    "\n",
    "for data_type in data_types:\n",
    "    for set_name in set_names:\n",
    "        set_path = os.path.join(dataset_path, data_type, set_name)\n",
    "        count = 0\n",
    "        for file in glob(set_path + \"/*\"):\n",
    "            filename, file_extension = os.path.splitext(file)\n",
    "            if data_type == \"images\" and file_extension == \".png\":\n",
    "                count += 1\n",
    "            elif data_type == \"labels\" and file_extension == \".txt\":\n",
    "                count += 1\n",
    "            else:\n",
    "                print(f\"Error: {file}\")\n",
    "        print(f\"{data_type}/{set_name}: {count}\")"
   ]
  },
  {
   "cell_type": "code",
   "execution_count": null,
   "metadata": {
    "id": "zBf5Y1_jetlx"
   },
   "outputs": [],
   "source": []
  }
 ],
 "metadata": {
  "colab": {
   "authorship_tag": "ABX9TyPfP8riJRgD8Mk10zoWdGK0",
   "provenance": []
  },
  "kernelspec": {
   "display_name": "Python 3 (ipykernel)",
   "language": "python",
   "name": "python3"
  },
  "language_info": {
   "codemirror_mode": {
    "name": "ipython",
    "version": 3
   },
   "file_extension": ".py",
   "mimetype": "text/x-python",
   "name": "python",
   "nbconvert_exporter": "python",
   "pygments_lexer": "ipython3",
   "version": "3.12.7"
  }
 },
 "nbformat": 4,
 "nbformat_minor": 4
}
