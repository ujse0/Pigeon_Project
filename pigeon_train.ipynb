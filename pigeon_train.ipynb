{
 "cells": [
  {
   "cell_type": "code",
   "execution_count": 2,
   "metadata": {},
   "outputs": [
    {
     "name": "stdout",
     "output_type": "stream",
     "text": [
      "Sun Apr 27 04:27:29 2025       \n",
      "+-----------------------------------------------------------------------------------------+\n",
      "| NVIDIA-SMI 576.02                 Driver Version: 576.02         CUDA Version: 12.9     |\n",
      "|-----------------------------------------+------------------------+----------------------+\n",
      "| GPU  Name                  Driver-Model | Bus-Id          Disp.A | Volatile Uncorr. ECC |\n",
      "| Fan  Temp   Perf          Pwr:Usage/Cap |           Memory-Usage | GPU-Util  Compute M. |\n",
      "|                                         |                        |               MIG M. |\n",
      "|=========================================+========================+======================|\n",
      "|   0  NVIDIA GeForce RTX 3080      WDDM  |   00000000:09:00.0  On |                  N/A |\n",
      "|  0%   34C    P5             55W /  340W |     834MiB /  10240MiB |      0%      Default |\n",
      "|                                         |                        |                  N/A |\n",
      "+-----------------------------------------+------------------------+----------------------+\n",
      "                                                                                         \n",
      "+-----------------------------------------------------------------------------------------+\n",
      "| Processes:                                                                              |\n",
      "|  GPU   GI   CI              PID   Type   Process name                        GPU Memory |\n",
      "|        ID   ID                                                               Usage      |\n",
      "|=========================================================================================|\n",
      "|    0   N/A  N/A            7612    C+G   C:\\Windows\\explorer.exe               N/A      |\n",
      "|    0   N/A  N/A            7708    C+G   ...e Experience\\NVIDIA Share.exe      N/A      |\n",
      "|    0   N/A  N/A            8024    C+G   ...indows\\System32\\ShellHost.exe      N/A      |\n",
      "|    0   N/A  N/A            9576    C+G   ...em32\\ApplicationFrameHost.exe      N/A      |\n",
      "|    0   N/A  N/A            9604    C+G   ..._cw5n1h2txyewy\\SearchHost.exe      N/A      |\n",
      "|    0   N/A  N/A            9628    C+G   ...y\\StartMenuExperienceHost.exe      N/A      |\n",
      "|    0   N/A  N/A            9804    C+G   ...yb3d8bbwe\\Microsoft.Notes.exe      N/A      |\n",
      "|    0   N/A  N/A           12184    C+G   ...Chrome\\Application\\chrome.exe      N/A      |\n",
      "|    0   N/A  N/A           12280    C+G   ....0.3179.98\\msedgewebview2.exe      N/A      |\n",
      "|    0   N/A  N/A           13580    C+G   ...5n1h2txyewy\\TextInputHost.exe      N/A      |\n",
      "|    0   N/A  N/A           14776    C+G   ...8bbwe\\PhoneExperienceHost.exe      N/A      |\n",
      "|    0   N/A  N/A           14840    C+G   ...ef.win7x64\\steamwebhelper.exe      N/A      |\n",
      "|    0   N/A  N/A           15936    C+G   ...crosoft\\OneDrive\\OneDrive.exe      N/A      |\n",
      "|    0   N/A  N/A           16884    C+G   ...em_tray\\lghub_system_tray.exe      N/A      |\n",
      "|    0   N/A  N/A           18276    C+G   ...t\\Edge\\Application\\msedge.exe      N/A      |\n",
      "|    0   N/A  N/A           20084    C+G   ....0.3179.98\\msedgewebview2.exe      N/A      |\n",
      "+-----------------------------------------------------------------------------------------+\n"
     ]
    }
   ],
   "source": [
    "!nvidia-smi"
   ]
  },
  {
   "cell_type": "code",
   "execution_count": 3,
   "metadata": {},
   "outputs": [
    {
     "name": "stdout",
     "output_type": "stream",
     "text": [
      "nvcc: NVIDIA (R) Cuda compiler driver\n",
      "Copyright (c) 2005-2022 NVIDIA Corporation\n",
      "Built on Wed_Sep_21_10:41:10_Pacific_Daylight_Time_2022\n",
      "Cuda compilation tools, release 11.8, V11.8.89\n",
      "Build cuda_11.8.r11.8/compiler.31833905_0\n"
     ]
    }
   ],
   "source": [
    "!nvcc --version"
   ]
  },
  {
   "cell_type": "code",
   "execution_count": 4,
   "metadata": {},
   "outputs": [
    {
     "name": "stdout",
     "output_type": "stream",
     "text": [
      "PyTorch version: 2.7.0+cu118\n",
      "CUDA available: True\n",
      "GPU name: NVIDIA GeForce RTX 3080\n"
     ]
    }
   ],
   "source": [
    "import torch\n",
    "\n",
    "print(\"PyTorch version:\", torch.__version__)\n",
    "print(\"CUDA available:\", torch.cuda.is_available())\n",
    "print(\"GPU name:\", torch.cuda.get_device_name(0) if torch.cuda.is_available() else \"error\")"
   ]
  },
  {
   "cell_type": "code",
   "execution_count": 5,
   "metadata": {
    "id": "KRj56shJ8Pmx"
   },
   "outputs": [
    {
     "name": "stdout",
     "output_type": "stream",
     "text": [
      "images/train: 20806\n",
      "images/val: 5869\n",
      "images/test: 2964\n",
      "labels/train: 20806\n",
      "labels/val: 5869\n",
      "labels/test: 2964\n"
     ]
    }
   ],
   "source": [
    "from glob import glob\n",
    "import os\n",
    "\n",
    "dataset_path = \"C:/Users/joons/workspace/final_project/dataset\"\n",
    "\n",
    "\n",
    "data_types = [\"images\", \"labels\"]\n",
    "\n",
    "set_names = [\"train\", \"val\", \"test\"]\n",
    "\n",
    "for data_type in data_types:\n",
    "    for set_name in set_names:\n",
    "        set_path = os.path.join(dataset_path, data_type, set_name)\n",
    "        count = 0\n",
    "        for file in glob(set_path + \"/*\"):\n",
    "            filename, file_extension = os.path.splitext(file)\n",
    "            if data_type == \"images\" and file_extension == \".png\":\n",
    "                count += 1\n",
    "            elif data_type == \"labels\" and file_extension == \".txt\":\n",
    "                count += 1\n",
    "            else:\n",
    "                print(f\"Error: {file}\")\n",
    "        print(f\"{data_type}/{set_name}: {count}\")"
   ]
  },
  {
   "cell_type": "code",
   "execution_count": 6,
   "metadata": {
    "executionInfo": {
     "elapsed": 1,
     "status": "ok",
     "timestamp": 1745367966266,
     "user": {
      "displayName": "어준서",
      "userId": "15978467973835436486"
     },
     "user_tz": -60
    },
    "id": "568SLZxG-4My"
   },
   "outputs": [],
   "source": [
    "import os\n",
    "\n",
    "project_path = \"C:/Users/joons/workspace/final_project\"\n",
    "\n",
    "dataset_path = os.path.join(project_path, 'dataset')\n",
    "yaml_path = os.path.join(dataset_path, \"coco8.yaml\")\n",
    "pretrained_model_path = os.path.join(project_path, \"pretrained_model\", \"yolo11s.pt\")\n",
    "runs_path = os.path.join(project_path, \"runs\")"
   ]
  },
  {
   "cell_type": "code",
   "execution_count": 12,
   "metadata": {
    "colab": {
     "base_uri": "https://localhost:8080/"
    },
    "id": "jQCt3Tbv_GVE",
    "outputId": "e827c3bf-c33e-452f-cd7f-0de4ee3fec8a",
    "scrolled": true
   },
   "outputs": [
    {
     "name": "stdout",
     "output_type": "stream",
     "text": [
      "New https://pypi.org/project/ultralytics/8.3.118 available  Update with 'pip install -U ultralytics'\n",
      "Ultralytics 8.3.115  Python-3.10.16 torch-2.7.0+cu118 CUDA:0 (NVIDIA GeForce RTX 3080, 10240MiB)\n",
      "\u001b[34m\u001b[1mengine\\trainer: \u001b[0mtask=detect, mode=train, model=C:/Users/joons/workspace/final_project\\pretrained_model\\yolo11s.pt, data=C:/Users/joons/workspace/final_project\\dataset\\coco8.yaml, epochs=100, time=None, patience=20, batch=32, imgsz=640, save=True, save_period=-1, cache=False, device=None, workers=8, project=C:/Users/joons/workspace/final_project\\runs, name=train, exist_ok=False, pretrained=True, optimizer=AdamW, verbose=True, seed=0, deterministic=True, single_cls=False, rect=False, cos_lr=False, close_mosaic=10, resume=False, amp=True, fraction=1.0, profile=False, freeze=None, multi_scale=False, overlap_mask=True, mask_ratio=4, dropout=0.0, val=True, split=val, save_json=False, conf=None, iou=0.7, max_det=300, half=False, dnn=False, plots=True, source=None, vid_stride=1, stream_buffer=False, visualize=False, augment=False, agnostic_nms=False, classes=None, retina_masks=False, embed=None, show=False, save_frames=False, save_txt=False, save_conf=False, save_crop=False, show_labels=True, show_conf=True, show_boxes=True, line_width=None, format=torchscript, keras=False, optimize=False, int8=False, dynamic=False, simplify=True, opset=None, workspace=None, nms=False, lr0=0.01, lrf=0.01, momentum=0.937, weight_decay=0.0005, warmup_epochs=3.0, warmup_momentum=0.8, warmup_bias_lr=0.1, box=7.5, cls=0.5, dfl=1.5, pose=12.0, kobj=1.0, nbs=64, hsv_h=0.015, hsv_s=0.7, hsv_v=0.4, degrees=0.0, translate=0.1, scale=0.5, shear=0.0, perspective=0.0, flipud=0.0, fliplr=0.5, bgr=0.0, mosaic=1.0, mixup=0.0, copy_paste=0.0, copy_paste_mode=flip, auto_augment=randaugment, erasing=0.4, cfg=None, tracker=botsort.yaml, save_dir=C:\\Users\\joons\\workspace\\final_project\\runs\\train\n",
      "Overriding model.yaml nc=80 with nc=1\n",
      "\n",
      "                   from  n    params  module                                       arguments                     \n",
      "  0                  -1  1       928  ultralytics.nn.modules.conv.Conv             [3, 32, 3, 2]                 \n",
      "  1                  -1  1     18560  ultralytics.nn.modules.conv.Conv             [32, 64, 3, 2]                \n",
      "  2                  -1  1     26080  ultralytics.nn.modules.block.C3k2            [64, 128, 1, False, 0.25]     \n",
      "  3                  -1  1    147712  ultralytics.nn.modules.conv.Conv             [128, 128, 3, 2]              \n",
      "  4                  -1  1    103360  ultralytics.nn.modules.block.C3k2            [128, 256, 1, False, 0.25]    \n",
      "  5                  -1  1    590336  ultralytics.nn.modules.conv.Conv             [256, 256, 3, 2]              \n",
      "  6                  -1  1    346112  ultralytics.nn.modules.block.C3k2            [256, 256, 1, True]           \n",
      "  7                  -1  1   1180672  ultralytics.nn.modules.conv.Conv             [256, 512, 3, 2]              \n",
      "  8                  -1  1   1380352  ultralytics.nn.modules.block.C3k2            [512, 512, 1, True]           \n",
      "  9                  -1  1    656896  ultralytics.nn.modules.block.SPPF            [512, 512, 5]                 \n",
      " 10                  -1  1    990976  ultralytics.nn.modules.block.C2PSA           [512, 512, 1]                 \n",
      " 11                  -1  1         0  torch.nn.modules.upsampling.Upsample         [None, 2, 'nearest']          \n",
      " 12             [-1, 6]  1         0  ultralytics.nn.modules.conv.Concat           [1]                           \n",
      " 13                  -1  1    443776  ultralytics.nn.modules.block.C3k2            [768, 256, 1, False]          \n",
      " 14                  -1  1         0  torch.nn.modules.upsampling.Upsample         [None, 2, 'nearest']          \n",
      " 15             [-1, 4]  1         0  ultralytics.nn.modules.conv.Concat           [1]                           \n",
      " 16                  -1  1    127680  ultralytics.nn.modules.block.C3k2            [512, 128, 1, False]          \n",
      " 17                  -1  1    147712  ultralytics.nn.modules.conv.Conv             [128, 128, 3, 2]              \n",
      " 18            [-1, 13]  1         0  ultralytics.nn.modules.conv.Concat           [1]                           \n",
      " 19                  -1  1    345472  ultralytics.nn.modules.block.C3k2            [384, 256, 1, False]          \n",
      " 20                  -1  1    590336  ultralytics.nn.modules.conv.Conv             [256, 256, 3, 2]              \n",
      " 21            [-1, 10]  1         0  ultralytics.nn.modules.conv.Concat           [1]                           \n",
      " 22                  -1  1   1511424  ultralytics.nn.modules.block.C3k2            [768, 512, 1, True]           \n",
      " 23        [16, 19, 22]  1    819795  ultralytics.nn.modules.head.Detect           [1, [128, 256, 512]]          \n",
      "YOLO11s summary: 181 layers, 9,428,179 parameters, 9,428,163 gradients, 21.5 GFLOPs\n",
      "\n",
      "Transferred 493/499 items from pretrained weights\n",
      "Freezing layer 'model.23.dfl.conv.weight'\n",
      "\u001b[34m\u001b[1mAMP: \u001b[0mrunning Automatic Mixed Precision (AMP) checks...\n",
      "\u001b[34m\u001b[1mAMP: \u001b[0mchecks passed \n",
      "\u001b[34m\u001b[1mtrain: \u001b[0mFast image access  (ping: 0.10.0 ms, read: 542.3292.2 MB/s, size: 4174.0 KB)\n"
     ]
    },
    {
     "name": "stderr",
     "output_type": "stream",
     "text": [
      "\u001b[34m\u001b[1mtrain: \u001b[0mScanning C:\\Users\\joons\\workspace\\final_project\\dataset\\labels\\train.cache... 20806 images, 61 backgrounds, 0 co\u001b[0m\n"
     ]
    },
    {
     "name": "stdout",
     "output_type": "stream",
     "text": [
      "\u001b[34m\u001b[1mval: \u001b[0mFast image access  (ping: 0.10.0 ms, read: 359.2216.2 MB/s, size: 4158.6 KB)\n"
     ]
    },
    {
     "name": "stderr",
     "output_type": "stream",
     "text": [
      "\u001b[34m\u001b[1mval: \u001b[0mScanning C:\\Users\\joons\\workspace\\final_project\\dataset\\labels\\val.cache... 5869 images, 17 backgrounds, 0 corrupt\u001b[0m\n"
     ]
    },
    {
     "name": "stdout",
     "output_type": "stream",
     "text": [
      "Plotting labels to C:\\Users\\joons\\workspace\\final_project\\runs\\train\\labels.jpg... \n",
      "\u001b[34m\u001b[1moptimizer:\u001b[0m AdamW(lr=0.01, momentum=0.937) with parameter groups 81 weight(decay=0.0), 88 weight(decay=0.0005), 87 bias(decay=0.0)\n",
      "Image sizes 640 train, 640 val\n",
      "Using 8 dataloader workers\n",
      "Logging results to \u001b[1mC:\\Users\\joons\\workspace\\final_project\\runs\\train\u001b[0m\n",
      "Starting training for 100 epochs...\n",
      "\n",
      "      Epoch    GPU_mem   box_loss   cls_loss   dfl_loss  Instances       Size\n"
     ]
    },
    {
     "name": "stderr",
     "output_type": "stream",
     "text": [
      "      1/100      8.07G      0.692     0.4608      0.879        126        640: 100%|██████████| 651/651 [08:21<00:00,  \n",
      "                 Class     Images  Instances      Box(P          R      mAP50  mAP50-95): 100%|██████████| 92/92 [00:32\n"
     ]
    },
    {
     "name": "stdout",
     "output_type": "stream",
     "text": [
      "                   all       5869      64101      0.973      0.929      0.965      0.808\n",
      "\n",
      "      Epoch    GPU_mem   box_loss   cls_loss   dfl_loss  Instances       Size\n"
     ]
    },
    {
     "name": "stderr",
     "output_type": "stream",
     "text": [
      "      2/100       8.1G     0.6282     0.3758     0.8623        128        640: 100%|██████████| 651/651 [05:20<00:00,  \n",
      "                 Class     Images  Instances      Box(P          R      mAP50  mAP50-95): 100%|██████████| 92/92 [00:51"
     ]
    },
    {
     "name": "stdout",
     "output_type": "stream",
     "text": [
      "                   all       5869      64101      0.976      0.944      0.976      0.865\n"
     ]
    },
    {
     "name": "stderr",
     "output_type": "stream",
     "text": [
      "\n"
     ]
    },
    {
     "name": "stdout",
     "output_type": "stream",
     "text": [
      "\n",
      "      Epoch    GPU_mem   box_loss   cls_loss   dfl_loss  Instances       Size\n"
     ]
    },
    {
     "name": "stderr",
     "output_type": "stream",
     "text": [
      "      3/100      8.13G     0.5883     0.3473     0.8525        130        640: 100%|██████████| 651/651 [05:10<00:00,  \n",
      "                 Class     Images  Instances      Box(P          R      mAP50  mAP50-95): 100%|██████████| 92/92 [00:46\n"
     ]
    },
    {
     "name": "stdout",
     "output_type": "stream",
     "text": [
      "                   all       5869      64101      0.978      0.941       0.98      0.872\n",
      "\n",
      "      Epoch    GPU_mem   box_loss   cls_loss   dfl_loss  Instances       Size\n"
     ]
    },
    {
     "name": "stderr",
     "output_type": "stream",
     "text": [
      "      4/100      8.13G     0.5718     0.3355     0.8481         88        640: 100%|██████████| 651/651 [03:25<00:00,  \n",
      "                 Class     Images  Instances      Box(P          R      mAP50  mAP50-95): 100%|██████████| 92/92 [00:42"
     ]
    },
    {
     "name": "stdout",
     "output_type": "stream",
     "text": [
      "                   all       5869      64101      0.978       0.95      0.984      0.887\n"
     ]
    },
    {
     "name": "stderr",
     "output_type": "stream",
     "text": [
      "\n"
     ]
    },
    {
     "name": "stdout",
     "output_type": "stream",
     "text": [
      "\n",
      "      Epoch    GPU_mem   box_loss   cls_loss   dfl_loss  Instances       Size\n"
     ]
    },
    {
     "name": "stderr",
     "output_type": "stream",
     "text": [
      "      5/100      7.89G     0.5497     0.3202     0.8431        101        640: 100%|██████████| 651/651 [02:36<00:00,  \n",
      "                 Class     Images  Instances      Box(P          R      mAP50  mAP50-95): 100%|██████████| 92/92 [00:31"
     ]
    },
    {
     "name": "stdout",
     "output_type": "stream",
     "text": [
      "                   all       5869      64101      0.979      0.955      0.985      0.888\n"
     ]
    },
    {
     "name": "stderr",
     "output_type": "stream",
     "text": [
      "\n"
     ]
    },
    {
     "name": "stdout",
     "output_type": "stream",
     "text": [
      "\n",
      "      Epoch    GPU_mem   box_loss   cls_loss   dfl_loss  Instances       Size\n"
     ]
    },
    {
     "name": "stderr",
     "output_type": "stream",
     "text": [
      "      6/100      7.93G     0.5319     0.3098     0.8386        145        640: 100%|██████████| 651/651 [02:35<00:00,  \n",
      "                 Class     Images  Instances      Box(P          R      mAP50  mAP50-95): 100%|██████████| 92/92 [00:32"
     ]
    },
    {
     "name": "stdout",
     "output_type": "stream",
     "text": [
      "                   all       5869      64101      0.981      0.955      0.987      0.899\n"
     ]
    },
    {
     "name": "stderr",
     "output_type": "stream",
     "text": [
      "\n"
     ]
    },
    {
     "name": "stdout",
     "output_type": "stream",
     "text": [
      "\n",
      "      Epoch    GPU_mem   box_loss   cls_loss   dfl_loss  Instances       Size\n"
     ]
    },
    {
     "name": "stderr",
     "output_type": "stream",
     "text": [
      "      7/100      8.18G     0.5231     0.3036     0.8372        135        640: 100%|██████████| 651/651 [03:48<00:00,  \n",
      "                 Class     Images  Instances      Box(P          R      mAP50  mAP50-95): 100%|██████████| 92/92 [00:30"
     ]
    },
    {
     "name": "stdout",
     "output_type": "stream",
     "text": [
      "                   all       5869      64101      0.981      0.956      0.986      0.903\n"
     ]
    },
    {
     "name": "stderr",
     "output_type": "stream",
     "text": [
      "\n"
     ]
    },
    {
     "name": "stdout",
     "output_type": "stream",
     "text": [
      "\n",
      "      Epoch    GPU_mem   box_loss   cls_loss   dfl_loss  Instances       Size\n"
     ]
    },
    {
     "name": "stderr",
     "output_type": "stream",
     "text": [
      "      8/100      8.17G      0.516     0.2982     0.8357        122        640: 100%|██████████| 651/651 [04:06<00:00,  \n",
      "                 Class     Images  Instances      Box(P          R      mAP50  mAP50-95): 100%|██████████| 92/92 [00:40"
     ]
    },
    {
     "name": "stdout",
     "output_type": "stream",
     "text": [
      "                   all       5869      64101      0.982      0.954      0.986      0.904\n"
     ]
    },
    {
     "name": "stderr",
     "output_type": "stream",
     "text": [
      "\n"
     ]
    },
    {
     "name": "stdout",
     "output_type": "stream",
     "text": [
      "\n",
      "      Epoch    GPU_mem   box_loss   cls_loss   dfl_loss  Instances       Size\n"
     ]
    },
    {
     "name": "stderr",
     "output_type": "stream",
     "text": [
      "      9/100      7.86G     0.5062     0.2918     0.8328        108        640: 100%|██████████| 651/651 [02:29<00:00,  \n",
      "                 Class     Images  Instances      Box(P          R      mAP50  mAP50-95): 100%|██████████| 92/92 [00:30\n"
     ]
    },
    {
     "name": "stdout",
     "output_type": "stream",
     "text": [
      "                   all       5869      64101       0.98      0.957      0.987      0.906\n",
      "\n",
      "      Epoch    GPU_mem   box_loss   cls_loss   dfl_loss  Instances       Size\n"
     ]
    },
    {
     "name": "stderr",
     "output_type": "stream",
     "text": [
      "     10/100      8.12G     0.5017     0.2883     0.8317         95        640: 100%|██████████| 651/651 [04:06<00:00,  \n",
      "                 Class     Images  Instances      Box(P          R      mAP50  mAP50-95): 100%|██████████| 92/92 [00:40"
     ]
    },
    {
     "name": "stdout",
     "output_type": "stream",
     "text": [
      "                   all       5869      64101      0.981      0.954      0.987      0.909\n"
     ]
    },
    {
     "name": "stderr",
     "output_type": "stream",
     "text": [
      "\n"
     ]
    },
    {
     "name": "stdout",
     "output_type": "stream",
     "text": [
      "\n",
      "      Epoch    GPU_mem   box_loss   cls_loss   dfl_loss  Instances       Size\n"
     ]
    },
    {
     "name": "stderr",
     "output_type": "stream",
     "text": [
      "     11/100      7.89G     0.4943     0.2841     0.8298         77        640: 100%|██████████| 651/651 [02:29<00:00,  \n",
      "                 Class     Images  Instances      Box(P          R      mAP50  mAP50-95): 100%|██████████| 92/92 [00:30"
     ]
    },
    {
     "name": "stdout",
     "output_type": "stream",
     "text": [
      "                   all       5869      64101      0.981      0.957      0.989      0.917\n"
     ]
    },
    {
     "name": "stderr",
     "output_type": "stream",
     "text": [
      "\n"
     ]
    },
    {
     "name": "stdout",
     "output_type": "stream",
     "text": [
      "\n",
      "      Epoch    GPU_mem   box_loss   cls_loss   dfl_loss  Instances       Size\n"
     ]
    },
    {
     "name": "stderr",
     "output_type": "stream",
     "text": [
      "     12/100      8.11G     0.4913     0.2808     0.8291        133        640: 100%|██████████| 651/651 [04:14<00:00,  \n",
      "                 Class     Images  Instances      Box(P          R      mAP50  mAP50-95): 100%|██████████| 92/92 [00:40"
     ]
    },
    {
     "name": "stdout",
     "output_type": "stream",
     "text": [
      "                   all       5869      64101      0.982      0.958      0.989      0.917\n"
     ]
    },
    {
     "name": "stderr",
     "output_type": "stream",
     "text": [
      "\n"
     ]
    },
    {
     "name": "stdout",
     "output_type": "stream",
     "text": [
      "\n",
      "      Epoch    GPU_mem   box_loss   cls_loss   dfl_loss  Instances       Size\n"
     ]
    },
    {
     "name": "stderr",
     "output_type": "stream",
     "text": [
      "     13/100      7.96G     0.4862     0.2779      0.828         94        640: 100%|██████████| 651/651 [02:29<00:00,  \n",
      "                 Class     Images  Instances      Box(P          R      mAP50  mAP50-95): 100%|██████████| 92/92 [00:30"
     ]
    },
    {
     "name": "stdout",
     "output_type": "stream",
     "text": [
      "                   all       5869      64101      0.981      0.961      0.989       0.92\n"
     ]
    },
    {
     "name": "stderr",
     "output_type": "stream",
     "text": [
      "\n"
     ]
    },
    {
     "name": "stdout",
     "output_type": "stream",
     "text": [
      "\n",
      "      Epoch    GPU_mem   box_loss   cls_loss   dfl_loss  Instances       Size\n"
     ]
    },
    {
     "name": "stderr",
     "output_type": "stream",
     "text": [
      "     14/100      7.93G     0.4832     0.2758     0.8272        154        640: 100%|██████████| 651/651 [02:29<00:00,  \n",
      "                 Class     Images  Instances      Box(P          R      mAP50  mAP50-95): 100%|██████████| 92/92 [00:30"
     ]
    },
    {
     "name": "stdout",
     "output_type": "stream",
     "text": [
      "                   all       5869      64101      0.982      0.959      0.989      0.919\n"
     ]
    },
    {
     "name": "stderr",
     "output_type": "stream",
     "text": [
      "\n"
     ]
    },
    {
     "name": "stdout",
     "output_type": "stream",
     "text": [
      "\n",
      "      Epoch    GPU_mem   box_loss   cls_loss   dfl_loss  Instances       Size\n"
     ]
    },
    {
     "name": "stderr",
     "output_type": "stream",
     "text": [
      "     15/100      8.05G     0.4811     0.2742     0.8267        107        640: 100%|██████████| 651/651 [03:02<00:00,  \n",
      "                 Class     Images  Instances      Box(P          R      mAP50  mAP50-95): 100%|██████████| 92/92 [00:33"
     ]
    },
    {
     "name": "stdout",
     "output_type": "stream",
     "text": [
      "                   all       5869      64101      0.982      0.958      0.989      0.921\n"
     ]
    },
    {
     "name": "stderr",
     "output_type": "stream",
     "text": [
      "\n"
     ]
    },
    {
     "name": "stdout",
     "output_type": "stream",
     "text": [
      "\n",
      "      Epoch    GPU_mem   box_loss   cls_loss   dfl_loss  Instances       Size\n"
     ]
    },
    {
     "name": "stderr",
     "output_type": "stream",
     "text": [
      "     16/100      8.08G      0.474     0.2704     0.8252        121        640: 100%|██████████| 651/651 [03:31<00:00,  \n",
      "                 Class     Images  Instances      Box(P          R      mAP50  mAP50-95): 100%|██████████| 92/92 [00:33"
     ]
    },
    {
     "name": "stdout",
     "output_type": "stream",
     "text": [
      "                   all       5869      64101      0.981      0.958      0.989      0.923\n"
     ]
    },
    {
     "name": "stderr",
     "output_type": "stream",
     "text": [
      "\n"
     ]
    },
    {
     "name": "stdout",
     "output_type": "stream",
     "text": [
      "\n",
      "      Epoch    GPU_mem   box_loss   cls_loss   dfl_loss  Instances       Size\n"
     ]
    },
    {
     "name": "stderr",
     "output_type": "stream",
     "text": [
      "     17/100      8.16G     0.4697     0.2688      0.825        101        640: 100%|██████████| 651/651 [04:21<00:00,  \n",
      "                 Class     Images  Instances      Box(P          R      mAP50  mAP50-95): 100%|██████████| 92/92 [00:40"
     ]
    },
    {
     "name": "stdout",
     "output_type": "stream",
     "text": [
      "                   all       5869      64101      0.983      0.958       0.99      0.927\n"
     ]
    },
    {
     "name": "stderr",
     "output_type": "stream",
     "text": [
      "\n"
     ]
    },
    {
     "name": "stdout",
     "output_type": "stream",
     "text": [
      "\n",
      "      Epoch    GPU_mem   box_loss   cls_loss   dfl_loss  Instances       Size\n"
     ]
    },
    {
     "name": "stderr",
     "output_type": "stream",
     "text": [
      "     18/100      8.11G     0.4669     0.2668     0.8238        109        640: 100%|██████████| 651/651 [03:31<00:00,  \n",
      "                 Class     Images  Instances      Box(P          R      mAP50  mAP50-95): 100%|██████████| 92/92 [00:37"
     ]
    },
    {
     "name": "stdout",
     "output_type": "stream",
     "text": [
      "                   all       5869      64101      0.983      0.959       0.99      0.927\n"
     ]
    },
    {
     "name": "stderr",
     "output_type": "stream",
     "text": [
      "\n"
     ]
    },
    {
     "name": "stdout",
     "output_type": "stream",
     "text": [
      "\n",
      "      Epoch    GPU_mem   box_loss   cls_loss   dfl_loss  Instances       Size\n"
     ]
    },
    {
     "name": "stderr",
     "output_type": "stream",
     "text": [
      "     19/100       8.1G     0.4644     0.2652     0.8236        118        640: 100%|██████████| 651/651 [03:27<00:00,  \n",
      "                 Class     Images  Instances      Box(P          R      mAP50  mAP50-95): 100%|██████████| 92/92 [00:37"
     ]
    },
    {
     "name": "stdout",
     "output_type": "stream",
     "text": [
      "                   all       5869      64101      0.981      0.961       0.99      0.928\n"
     ]
    },
    {
     "name": "stderr",
     "output_type": "stream",
     "text": [
      "\n"
     ]
    },
    {
     "name": "stdout",
     "output_type": "stream",
     "text": [
      "\n",
      "      Epoch    GPU_mem   box_loss   cls_loss   dfl_loss  Instances       Size\n"
     ]
    },
    {
     "name": "stderr",
     "output_type": "stream",
     "text": [
      "     20/100      8.04G     0.4596     0.2612      0.823        108        640: 100%|██████████| 651/651 [02:35<00:00,  \n",
      "                 Class     Images  Instances      Box(P          R      mAP50  mAP50-95): 100%|██████████| 92/92 [00:30"
     ]
    },
    {
     "name": "stdout",
     "output_type": "stream",
     "text": [
      "                   all       5869      64101      0.983      0.959       0.99      0.927\n"
     ]
    },
    {
     "name": "stderr",
     "output_type": "stream",
     "text": [
      "\n"
     ]
    },
    {
     "name": "stdout",
     "output_type": "stream",
     "text": [
      "\n",
      "      Epoch    GPU_mem   box_loss   cls_loss   dfl_loss  Instances       Size\n"
     ]
    },
    {
     "name": "stderr",
     "output_type": "stream",
     "text": [
      "     21/100      8.14G     0.4571     0.2611      0.822        124        640: 100%|██████████| 651/651 [03:57<00:00,  \n",
      "                 Class     Images  Instances      Box(P          R      mAP50  mAP50-95): 100%|██████████| 92/92 [00:37"
     ]
    },
    {
     "name": "stdout",
     "output_type": "stream",
     "text": [
      "                   all       5869      64101      0.983      0.961       0.99       0.93\n"
     ]
    },
    {
     "name": "stderr",
     "output_type": "stream",
     "text": [
      "\n"
     ]
    },
    {
     "name": "stdout",
     "output_type": "stream",
     "text": [
      "\n",
      "      Epoch    GPU_mem   box_loss   cls_loss   dfl_loss  Instances       Size\n"
     ]
    },
    {
     "name": "stderr",
     "output_type": "stream",
     "text": [
      "     22/100      8.03G     0.4569     0.2602     0.8222         83        640: 100%|██████████| 651/651 [03:15<00:00,  \n",
      "                 Class     Images  Instances      Box(P          R      mAP50  mAP50-95): 100%|██████████| 92/92 [00:31"
     ]
    },
    {
     "name": "stdout",
     "output_type": "stream",
     "text": [
      "                   all       5869      64101      0.982      0.961       0.99       0.93\n"
     ]
    },
    {
     "name": "stderr",
     "output_type": "stream",
     "text": [
      "\n"
     ]
    },
    {
     "name": "stdout",
     "output_type": "stream",
     "text": [
      "\n",
      "      Epoch    GPU_mem   box_loss   cls_loss   dfl_loss  Instances       Size\n"
     ]
    },
    {
     "name": "stderr",
     "output_type": "stream",
     "text": [
      "     23/100      8.14G     0.4526      0.257     0.8207        146        640: 100%|██████████| 651/651 [04:36<00:00,  \n",
      "                 Class     Images  Instances      Box(P          R      mAP50  mAP50-95): 100%|██████████| 92/92 [00:45"
     ]
    },
    {
     "name": "stdout",
     "output_type": "stream",
     "text": [
      "                   all       5869      64101      0.984       0.96       0.99      0.931\n"
     ]
    },
    {
     "name": "stderr",
     "output_type": "stream",
     "text": [
      "\n"
     ]
    },
    {
     "name": "stdout",
     "output_type": "stream",
     "text": [
      "\n",
      "      Epoch    GPU_mem   box_loss   cls_loss   dfl_loss  Instances       Size\n"
     ]
    },
    {
     "name": "stderr",
     "output_type": "stream",
     "text": [
      "     24/100      8.06G     0.4509     0.2568     0.8209         88        640: 100%|██████████| 651/651 [02:35<00:00,  \n",
      "                 Class     Images  Instances      Box(P          R      mAP50  mAP50-95): 100%|██████████| 92/92 [00:31"
     ]
    },
    {
     "name": "stdout",
     "output_type": "stream",
     "text": [
      "                   all       5869      64101      0.982      0.962       0.99      0.932\n"
     ]
    },
    {
     "name": "stderr",
     "output_type": "stream",
     "text": [
      "\n"
     ]
    },
    {
     "name": "stdout",
     "output_type": "stream",
     "text": [
      "\n",
      "      Epoch    GPU_mem   box_loss   cls_loss   dfl_loss  Instances       Size\n"
     ]
    },
    {
     "name": "stderr",
     "output_type": "stream",
     "text": [
      "     25/100      8.18G     0.4497     0.2559     0.8207        100        640: 100%|██████████| 651/651 [02:36<00:00,  \n",
      "                 Class     Images  Instances      Box(P          R      mAP50  mAP50-95): 100%|██████████| 92/92 [00:32"
     ]
    },
    {
     "name": "stdout",
     "output_type": "stream",
     "text": [
      "                   all       5869      64101      0.983      0.961       0.99      0.933\n"
     ]
    },
    {
     "name": "stderr",
     "output_type": "stream",
     "text": [
      "\n"
     ]
    },
    {
     "name": "stdout",
     "output_type": "stream",
     "text": [
      "\n",
      "      Epoch    GPU_mem   box_loss   cls_loss   dfl_loss  Instances       Size\n"
     ]
    },
    {
     "name": "stderr",
     "output_type": "stream",
     "text": [
      "     26/100      8.14G     0.4482     0.2545     0.8199         98        640: 100%|██████████| 651/651 [02:34<00:00,  \n",
      "                 Class     Images  Instances      Box(P          R      mAP50  mAP50-95): 100%|██████████| 92/92 [00:39"
     ]
    },
    {
     "name": "stdout",
     "output_type": "stream",
     "text": [
      "                   all       5869      64101      0.981      0.962      0.991      0.934\n"
     ]
    },
    {
     "name": "stderr",
     "output_type": "stream",
     "text": [
      "\n"
     ]
    },
    {
     "name": "stdout",
     "output_type": "stream",
     "text": [
      "\n",
      "      Epoch    GPU_mem   box_loss   cls_loss   dfl_loss  Instances       Size\n"
     ]
    },
    {
     "name": "stderr",
     "output_type": "stream",
     "text": [
      "     27/100      7.93G      0.448     0.2538       0.82         85        640: 100%|██████████| 651/651 [02:51<00:00,  \n",
      "                 Class     Images  Instances      Box(P          R      mAP50  mAP50-95): 100%|██████████| 92/92 [00:35"
     ]
    },
    {
     "name": "stdout",
     "output_type": "stream",
     "text": [
      "                   all       5869      64101      0.983      0.961      0.991      0.932\n"
     ]
    },
    {
     "name": "stderr",
     "output_type": "stream",
     "text": [
      "\n"
     ]
    },
    {
     "name": "stdout",
     "output_type": "stream",
     "text": [
      "\n",
      "      Epoch    GPU_mem   box_loss   cls_loss   dfl_loss  Instances       Size\n"
     ]
    },
    {
     "name": "stderr",
     "output_type": "stream",
     "text": [
      "     28/100      8.17G      0.444     0.2514     0.8195         97        640: 100%|██████████| 651/651 [04:08<00:00,  \n",
      "                 Class     Images  Instances      Box(P          R      mAP50  mAP50-95): 100%|██████████| 92/92 [00:44"
     ]
    },
    {
     "name": "stdout",
     "output_type": "stream",
     "text": [
      "                   all       5869      64101      0.983      0.961       0.99      0.934\n"
     ]
    },
    {
     "name": "stderr",
     "output_type": "stream",
     "text": [
      "\n"
     ]
    },
    {
     "name": "stdout",
     "output_type": "stream",
     "text": [
      "\n",
      "      Epoch    GPU_mem   box_loss   cls_loss   dfl_loss  Instances       Size\n"
     ]
    },
    {
     "name": "stderr",
     "output_type": "stream",
     "text": [
      "     29/100      8.15G     0.4427     0.2505     0.8191        115        640: 100%|██████████| 651/651 [04:41<00:00,  \n",
      "                 Class     Images  Instances      Box(P          R      mAP50  mAP50-95): 100%|██████████| 92/92 [00:50"
     ]
    },
    {
     "name": "stdout",
     "output_type": "stream",
     "text": [
      "                   all       5869      64101      0.984      0.961      0.991      0.934\n"
     ]
    },
    {
     "name": "stderr",
     "output_type": "stream",
     "text": [
      "\n"
     ]
    },
    {
     "name": "stdout",
     "output_type": "stream",
     "text": [
      "\n",
      "      Epoch    GPU_mem   box_loss   cls_loss   dfl_loss  Instances       Size\n"
     ]
    },
    {
     "name": "stderr",
     "output_type": "stream",
     "text": [
      "     30/100      8.17G     0.4416     0.2496     0.8191        115        640: 100%|██████████| 651/651 [02:56<00:00,  \n",
      "                 Class     Images  Instances      Box(P          R      mAP50  mAP50-95): 100%|██████████| 92/92 [00:33"
     ]
    },
    {
     "name": "stdout",
     "output_type": "stream",
     "text": [
      "                   all       5869      64101      0.983      0.962      0.991      0.935\n"
     ]
    },
    {
     "name": "stderr",
     "output_type": "stream",
     "text": [
      "\n"
     ]
    },
    {
     "name": "stdout",
     "output_type": "stream",
     "text": [
      "\n",
      "      Epoch    GPU_mem   box_loss   cls_loss   dfl_loss  Instances       Size\n"
     ]
    },
    {
     "name": "stderr",
     "output_type": "stream",
     "text": [
      "     31/100      7.86G     0.4405     0.2502     0.8187        111        640: 100%|██████████| 651/651 [02:50<00:00,  \n",
      "                 Class     Images  Instances      Box(P          R      mAP50  mAP50-95): 100%|██████████| 92/92 [00:32"
     ]
    },
    {
     "name": "stdout",
     "output_type": "stream",
     "text": [
      "                   all       5869      64101      0.985      0.961      0.991      0.935\n"
     ]
    },
    {
     "name": "stderr",
     "output_type": "stream",
     "text": [
      "\n"
     ]
    },
    {
     "name": "stdout",
     "output_type": "stream",
     "text": [
      "\n",
      "      Epoch    GPU_mem   box_loss   cls_loss   dfl_loss  Instances       Size\n"
     ]
    },
    {
     "name": "stderr",
     "output_type": "stream",
     "text": [
      "     32/100      8.12G     0.4382     0.2484     0.8177        109        640: 100%|██████████| 651/651 [04:17<00:00,  \n",
      "                 Class     Images  Instances      Box(P          R      mAP50  mAP50-95): 100%|██████████| 92/92 [00:44"
     ]
    },
    {
     "name": "stdout",
     "output_type": "stream",
     "text": [
      "                   all       5869      64101      0.983      0.962      0.991      0.936\n"
     ]
    },
    {
     "name": "stderr",
     "output_type": "stream",
     "text": [
      "\n"
     ]
    },
    {
     "name": "stdout",
     "output_type": "stream",
     "text": [
      "\n",
      "      Epoch    GPU_mem   box_loss   cls_loss   dfl_loss  Instances       Size\n"
     ]
    },
    {
     "name": "stderr",
     "output_type": "stream",
     "text": [
      "     33/100       8.2G     0.4346     0.2459      0.817         96        640: 100%|██████████| 651/651 [04:07<00:00,  \n",
      "                 Class     Images  Instances      Box(P          R      mAP50  mAP50-95): 100%|██████████| 92/92 [00:42"
     ]
    },
    {
     "name": "stdout",
     "output_type": "stream",
     "text": [
      "                   all       5869      64101      0.983      0.962      0.991      0.936\n"
     ]
    },
    {
     "name": "stderr",
     "output_type": "stream",
     "text": [
      "\n"
     ]
    },
    {
     "name": "stdout",
     "output_type": "stream",
     "text": [
      "\n",
      "      Epoch    GPU_mem   box_loss   cls_loss   dfl_loss  Instances       Size\n"
     ]
    },
    {
     "name": "stderr",
     "output_type": "stream",
     "text": [
      "     34/100      7.79G     0.4349     0.2454     0.8171        154        640: 100%|██████████| 651/651 [02:45<00:00,  \n",
      "                 Class     Images  Instances      Box(P          R      mAP50  mAP50-95): 100%|██████████| 92/92 [00:32"
     ]
    },
    {
     "name": "stdout",
     "output_type": "stream",
     "text": [
      "                   all       5869      64101      0.984      0.962      0.991      0.936\n"
     ]
    },
    {
     "name": "stderr",
     "output_type": "stream",
     "text": [
      "\n"
     ]
    },
    {
     "name": "stdout",
     "output_type": "stream",
     "text": [
      "\n",
      "      Epoch    GPU_mem   box_loss   cls_loss   dfl_loss  Instances       Size\n"
     ]
    },
    {
     "name": "stderr",
     "output_type": "stream",
     "text": [
      "     35/100      8.15G     0.4318     0.2435     0.8166        107        640: 100%|██████████| 651/651 [04:33<00:00,  \n",
      "                 Class     Images  Instances      Box(P          R      mAP50  mAP50-95): 100%|██████████| 92/92 [00:43"
     ]
    },
    {
     "name": "stdout",
     "output_type": "stream",
     "text": [
      "                   all       5869      64101      0.983      0.963      0.991      0.937\n"
     ]
    },
    {
     "name": "stderr",
     "output_type": "stream",
     "text": [
      "\n"
     ]
    },
    {
     "name": "stdout",
     "output_type": "stream",
     "text": [
      "\n",
      "      Epoch    GPU_mem   box_loss   cls_loss   dfl_loss  Instances       Size\n"
     ]
    },
    {
     "name": "stderr",
     "output_type": "stream",
     "text": [
      "     36/100      7.96G     0.4327     0.2443     0.8171        155        640: 100%|██████████| 651/651 [04:54<00:00,  \n",
      "                 Class     Images  Instances      Box(P          R      mAP50  mAP50-95): 100%|██████████| 92/92 [00:41"
     ]
    },
    {
     "name": "stdout",
     "output_type": "stream",
     "text": [
      "                   all       5869      64101      0.983      0.963      0.991      0.937\n"
     ]
    },
    {
     "name": "stderr",
     "output_type": "stream",
     "text": [
      "\n"
     ]
    },
    {
     "name": "stdout",
     "output_type": "stream",
     "text": [
      "\n",
      "      Epoch    GPU_mem   box_loss   cls_loss   dfl_loss  Instances       Size\n"
     ]
    },
    {
     "name": "stderr",
     "output_type": "stream",
     "text": [
      "     37/100      8.16G     0.4312     0.2436     0.8164        103        640: 100%|██████████| 651/651 [03:03<00:00,  \n",
      "                 Class     Images  Instances      Box(P          R      mAP50  mAP50-95): 100%|██████████| 92/92 [00:44"
     ]
    },
    {
     "name": "stdout",
     "output_type": "stream",
     "text": [
      "                   all       5869      64101      0.983      0.964      0.991      0.938\n"
     ]
    },
    {
     "name": "stderr",
     "output_type": "stream",
     "text": [
      "\n"
     ]
    },
    {
     "name": "stdout",
     "output_type": "stream",
     "text": [
      "\n",
      "      Epoch    GPU_mem   box_loss   cls_loss   dfl_loss  Instances       Size\n"
     ]
    },
    {
     "name": "stderr",
     "output_type": "stream",
     "text": [
      "     38/100      8.17G     0.4289     0.2413     0.8161        153        640: 100%|██████████| 651/651 [03:40<00:00,  \n",
      "                 Class     Images  Instances      Box(P          R      mAP50  mAP50-95): 100%|██████████| 92/92 [00:40"
     ]
    },
    {
     "name": "stdout",
     "output_type": "stream",
     "text": [
      "                   all       5869      64101      0.983      0.963      0.991      0.938\n"
     ]
    },
    {
     "name": "stderr",
     "output_type": "stream",
     "text": [
      "\n"
     ]
    },
    {
     "name": "stdout",
     "output_type": "stream",
     "text": [
      "\n",
      "      Epoch    GPU_mem   box_loss   cls_loss   dfl_loss  Instances       Size\n"
     ]
    },
    {
     "name": "stderr",
     "output_type": "stream",
     "text": [
      "     39/100      8.08G     0.4286      0.241      0.815        149        640: 100%|██████████| 651/651 [02:51<00:00,  \n",
      "                 Class     Images  Instances      Box(P          R      mAP50  mAP50-95): 100%|██████████| 92/92 [00:37"
     ]
    },
    {
     "name": "stdout",
     "output_type": "stream",
     "text": [
      "                   all       5869      64101      0.983      0.963      0.991      0.938\n"
     ]
    },
    {
     "name": "stderr",
     "output_type": "stream",
     "text": [
      "\n"
     ]
    },
    {
     "name": "stdout",
     "output_type": "stream",
     "text": [
      "\n",
      "      Epoch    GPU_mem   box_loss   cls_loss   dfl_loss  Instances       Size\n"
     ]
    },
    {
     "name": "stderr",
     "output_type": "stream",
     "text": [
      "     40/100      7.94G     0.4257     0.2397     0.8154        111        640: 100%|██████████| 651/651 [02:29<00:00,  \n",
      "                 Class     Images  Instances      Box(P          R      mAP50  mAP50-95): 100%|██████████| 92/92 [00:30"
     ]
    },
    {
     "name": "stdout",
     "output_type": "stream",
     "text": [
      "                   all       5869      64101      0.983      0.963      0.991      0.939\n"
     ]
    },
    {
     "name": "stderr",
     "output_type": "stream",
     "text": [
      "\n"
     ]
    },
    {
     "name": "stdout",
     "output_type": "stream",
     "text": [
      "\n",
      "      Epoch    GPU_mem   box_loss   cls_loss   dfl_loss  Instances       Size\n"
     ]
    },
    {
     "name": "stderr",
     "output_type": "stream",
     "text": [
      "     41/100      7.88G     0.4246     0.2388     0.8152        128        640: 100%|██████████| 651/651 [02:29<00:00,  \n",
      "                 Class     Images  Instances      Box(P          R      mAP50  mAP50-95): 100%|██████████| 92/92 [00:30"
     ]
    },
    {
     "name": "stdout",
     "output_type": "stream",
     "text": [
      "                   all       5869      64101      0.983      0.964      0.991      0.939\n"
     ]
    },
    {
     "name": "stderr",
     "output_type": "stream",
     "text": [
      "\n"
     ]
    },
    {
     "name": "stdout",
     "output_type": "stream",
     "text": [
      "\n",
      "      Epoch    GPU_mem   box_loss   cls_loss   dfl_loss  Instances       Size\n"
     ]
    },
    {
     "name": "stderr",
     "output_type": "stream",
     "text": [
      "     42/100      8.14G     0.4249     0.2393     0.8156        117        640: 100%|██████████| 651/651 [03:03<00:00,  \n",
      "                 Class     Images  Instances      Box(P          R      mAP50  mAP50-95): 100%|██████████| 92/92 [00:40"
     ]
    },
    {
     "name": "stdout",
     "output_type": "stream",
     "text": [
      "                   all       5869      64101      0.984      0.963      0.992      0.939\n"
     ]
    },
    {
     "name": "stderr",
     "output_type": "stream",
     "text": [
      "\n"
     ]
    },
    {
     "name": "stdout",
     "output_type": "stream",
     "text": [
      "\n",
      "      Epoch    GPU_mem   box_loss   cls_loss   dfl_loss  Instances       Size\n"
     ]
    },
    {
     "name": "stderr",
     "output_type": "stream",
     "text": [
      "     43/100      8.13G     0.4225     0.2382     0.8145         93        640: 100%|██████████| 651/651 [02:55<00:00,  \n",
      "                 Class     Images  Instances      Box(P          R      mAP50  mAP50-95): 100%|██████████| 92/92 [00:37"
     ]
    },
    {
     "name": "stdout",
     "output_type": "stream",
     "text": [
      "                   all       5869      64101      0.984      0.963      0.991      0.939\n"
     ]
    },
    {
     "name": "stderr",
     "output_type": "stream",
     "text": [
      "\n"
     ]
    },
    {
     "name": "stdout",
     "output_type": "stream",
     "text": [
      "\n",
      "      Epoch    GPU_mem   box_loss   cls_loss   dfl_loss  Instances       Size\n"
     ]
    },
    {
     "name": "stderr",
     "output_type": "stream",
     "text": [
      "     44/100      8.17G     0.4223     0.2372     0.8145         51        640: 100%|██████████| 651/651 [04:13<00:00,  \n",
      "                 Class     Images  Instances      Box(P          R      mAP50  mAP50-95): 100%|██████████| 92/92 [00:40"
     ]
    },
    {
     "name": "stdout",
     "output_type": "stream",
     "text": [
      "                   all       5869      64101      0.984      0.963      0.991      0.939\n"
     ]
    },
    {
     "name": "stderr",
     "output_type": "stream",
     "text": [
      "\n"
     ]
    },
    {
     "name": "stdout",
     "output_type": "stream",
     "text": [
      "\n",
      "      Epoch    GPU_mem   box_loss   cls_loss   dfl_loss  Instances       Size\n"
     ]
    },
    {
     "name": "stderr",
     "output_type": "stream",
     "text": [
      "     45/100      8.11G     0.4191     0.2349     0.8134        163        640: 100%|██████████| 651/651 [03:40<00:00,  \n",
      "                 Class     Images  Instances      Box(P          R      mAP50  mAP50-95): 100%|██████████| 92/92 [00:41"
     ]
    },
    {
     "name": "stdout",
     "output_type": "stream",
     "text": [
      "                   all       5869      64101      0.984      0.963      0.991       0.94\n"
     ]
    },
    {
     "name": "stderr",
     "output_type": "stream",
     "text": [
      "\n"
     ]
    },
    {
     "name": "stdout",
     "output_type": "stream",
     "text": [
      "\n",
      "      Epoch    GPU_mem   box_loss   cls_loss   dfl_loss  Instances       Size\n"
     ]
    },
    {
     "name": "stderr",
     "output_type": "stream",
     "text": [
      "     46/100      8.12G     0.4187     0.2342     0.8138        116        640: 100%|██████████| 651/651 [03:40<00:00,  \n",
      "                 Class     Images  Instances      Box(P          R      mAP50  mAP50-95): 100%|██████████| 92/92 [00:42"
     ]
    },
    {
     "name": "stdout",
     "output_type": "stream",
     "text": [
      "                   all       5869      64101      0.984      0.963      0.991       0.94\n"
     ]
    },
    {
     "name": "stderr",
     "output_type": "stream",
     "text": [
      "\n"
     ]
    },
    {
     "name": "stdout",
     "output_type": "stream",
     "text": [
      "\n",
      "      Epoch    GPU_mem   box_loss   cls_loss   dfl_loss  Instances       Size\n"
     ]
    },
    {
     "name": "stderr",
     "output_type": "stream",
     "text": [
      "     47/100       8.1G     0.4177     0.2338     0.8138         96        640: 100%|██████████| 651/651 [02:32<00:00,  \n",
      "                 Class     Images  Instances      Box(P          R      mAP50  mAP50-95): 100%|██████████| 92/92 [00:31"
     ]
    },
    {
     "name": "stdout",
     "output_type": "stream",
     "text": [
      "                   all       5869      64101      0.984      0.963      0.991       0.94\n"
     ]
    },
    {
     "name": "stderr",
     "output_type": "stream",
     "text": [
      "\n"
     ]
    },
    {
     "name": "stdout",
     "output_type": "stream",
     "text": [
      "\n",
      "      Epoch    GPU_mem   box_loss   cls_loss   dfl_loss  Instances       Size\n"
     ]
    },
    {
     "name": "stderr",
     "output_type": "stream",
     "text": [
      "     48/100      8.19G     0.4165     0.2333     0.8128        104        640: 100%|██████████| 651/651 [02:36<00:00,  \n",
      "                 Class     Images  Instances      Box(P          R      mAP50  mAP50-95): 100%|██████████| 92/92 [00:32"
     ]
    },
    {
     "name": "stdout",
     "output_type": "stream",
     "text": [
      "                   all       5869      64101      0.985      0.963      0.991       0.94\n"
     ]
    },
    {
     "name": "stderr",
     "output_type": "stream",
     "text": [
      "\n"
     ]
    },
    {
     "name": "stdout",
     "output_type": "stream",
     "text": [
      "\n",
      "      Epoch    GPU_mem   box_loss   cls_loss   dfl_loss  Instances       Size\n"
     ]
    },
    {
     "name": "stderr",
     "output_type": "stream",
     "text": [
      "     49/100      8.18G     0.4156     0.2334     0.8138         77        640: 100%|██████████| 651/651 [02:33<00:00,  \n",
      "                 Class     Images  Instances      Box(P          R      mAP50  mAP50-95): 100%|██████████| 92/92 [00:31"
     ]
    },
    {
     "name": "stdout",
     "output_type": "stream",
     "text": [
      "                   all       5869      64101      0.984      0.963      0.992       0.94\n"
     ]
    },
    {
     "name": "stderr",
     "output_type": "stream",
     "text": [
      "\n"
     ]
    },
    {
     "name": "stdout",
     "output_type": "stream",
     "text": [
      "\n",
      "      Epoch    GPU_mem   box_loss   cls_loss   dfl_loss  Instances       Size\n"
     ]
    },
    {
     "name": "stderr",
     "output_type": "stream",
     "text": [
      "     50/100      7.79G     0.4147     0.2319     0.8132        177        640: 100%|██████████| 651/651 [02:33<00:00,  \n",
      "                 Class     Images  Instances      Box(P          R      mAP50  mAP50-95): 100%|██████████| 92/92 [00:31"
     ]
    },
    {
     "name": "stdout",
     "output_type": "stream",
     "text": [
      "                   all       5869      64101      0.984      0.963      0.992       0.94\n"
     ]
    },
    {
     "name": "stderr",
     "output_type": "stream",
     "text": [
      "\n"
     ]
    },
    {
     "name": "stdout",
     "output_type": "stream",
     "text": [
      "\n",
      "      Epoch    GPU_mem   box_loss   cls_loss   dfl_loss  Instances       Size\n"
     ]
    },
    {
     "name": "stderr",
     "output_type": "stream",
     "text": [
      "     51/100      8.14G     0.4139     0.2314     0.8128        143        640: 100%|██████████| 651/651 [02:34<00:00,  \n",
      "                 Class     Images  Instances      Box(P          R      mAP50  mAP50-95): 100%|██████████| 92/92 [00:31"
     ]
    },
    {
     "name": "stdout",
     "output_type": "stream",
     "text": [
      "                   all       5869      64101      0.984      0.963      0.992      0.941\n"
     ]
    },
    {
     "name": "stderr",
     "output_type": "stream",
     "text": [
      "\n"
     ]
    },
    {
     "name": "stdout",
     "output_type": "stream",
     "text": [
      "\n",
      "      Epoch    GPU_mem   box_loss   cls_loss   dfl_loss  Instances       Size\n"
     ]
    },
    {
     "name": "stderr",
     "output_type": "stream",
     "text": [
      "     52/100      7.96G     0.4129     0.2306     0.8127        134        640: 100%|██████████| 651/651 [02:33<00:00,  \n",
      "                 Class     Images  Instances      Box(P          R      mAP50  mAP50-95): 100%|██████████| 92/92 [00:30"
     ]
    },
    {
     "name": "stdout",
     "output_type": "stream",
     "text": [
      "                   all       5869      64101      0.984      0.964      0.992      0.941\n"
     ]
    },
    {
     "name": "stderr",
     "output_type": "stream",
     "text": [
      "\n"
     ]
    },
    {
     "name": "stdout",
     "output_type": "stream",
     "text": [
      "\n",
      "      Epoch    GPU_mem   box_loss   cls_loss   dfl_loss  Instances       Size\n"
     ]
    },
    {
     "name": "stderr",
     "output_type": "stream",
     "text": [
      "     53/100      8.15G     0.4122     0.2302     0.8121        148        640: 100%|██████████| 651/651 [02:33<00:00,  \n",
      "                 Class     Images  Instances      Box(P          R      mAP50  mAP50-95): 100%|██████████| 92/92 [00:30"
     ]
    },
    {
     "name": "stdout",
     "output_type": "stream",
     "text": [
      "                   all       5869      64101      0.984      0.963      0.992      0.941\n"
     ]
    },
    {
     "name": "stderr",
     "output_type": "stream",
     "text": [
      "\n"
     ]
    },
    {
     "name": "stdout",
     "output_type": "stream",
     "text": [
      "\n",
      "      Epoch    GPU_mem   box_loss   cls_loss   dfl_loss  Instances       Size\n"
     ]
    },
    {
     "name": "stderr",
     "output_type": "stream",
     "text": [
      "     54/100      8.06G     0.4106     0.2298     0.8124        139        640: 100%|██████████| 651/651 [02:33<00:00,  \n",
      "                 Class     Images  Instances      Box(P          R      mAP50  mAP50-95): 100%|██████████| 92/92 [00:31"
     ]
    },
    {
     "name": "stdout",
     "output_type": "stream",
     "text": [
      "                   all       5869      64101      0.984      0.963      0.992      0.941\n"
     ]
    },
    {
     "name": "stderr",
     "output_type": "stream",
     "text": [
      "\n"
     ]
    },
    {
     "name": "stdout",
     "output_type": "stream",
     "text": [
      "\n",
      "      Epoch    GPU_mem   box_loss   cls_loss   dfl_loss  Instances       Size\n"
     ]
    },
    {
     "name": "stderr",
     "output_type": "stream",
     "text": [
      "     55/100      8.14G     0.4103      0.229     0.8117        113        640: 100%|██████████| 651/651 [02:33<00:00,  \n",
      "                 Class     Images  Instances      Box(P          R      mAP50  mAP50-95): 100%|██████████| 92/92 [00:31"
     ]
    },
    {
     "name": "stdout",
     "output_type": "stream",
     "text": [
      "                   all       5869      64101      0.984      0.963      0.992      0.941\n"
     ]
    },
    {
     "name": "stderr",
     "output_type": "stream",
     "text": [
      "\n"
     ]
    },
    {
     "name": "stdout",
     "output_type": "stream",
     "text": [
      "\n",
      "      Epoch    GPU_mem   box_loss   cls_loss   dfl_loss  Instances       Size\n"
     ]
    },
    {
     "name": "stderr",
     "output_type": "stream",
     "text": [
      "     56/100       7.8G     0.4093     0.2289     0.8113        143        640: 100%|██████████| 651/651 [02:33<00:00,  \n",
      "                 Class     Images  Instances      Box(P          R      mAP50  mAP50-95): 100%|██████████| 92/92 [00:31"
     ]
    },
    {
     "name": "stdout",
     "output_type": "stream",
     "text": [
      "                   all       5869      64101      0.984      0.963      0.992      0.941\n"
     ]
    },
    {
     "name": "stderr",
     "output_type": "stream",
     "text": [
      "\n"
     ]
    },
    {
     "name": "stdout",
     "output_type": "stream",
     "text": [
      "\n",
      "      Epoch    GPU_mem   box_loss   cls_loss   dfl_loss  Instances       Size\n"
     ]
    },
    {
     "name": "stderr",
     "output_type": "stream",
     "text": [
      "     57/100      8.17G     0.4076     0.2278     0.8119        120        640: 100%|██████████| 651/651 [02:33<00:00,  \n",
      "                 Class     Images  Instances      Box(P          R      mAP50  mAP50-95): 100%|██████████| 92/92 [00:31"
     ]
    },
    {
     "name": "stdout",
     "output_type": "stream",
     "text": [
      "                   all       5869      64101      0.985      0.963      0.992      0.941\n"
     ]
    },
    {
     "name": "stderr",
     "output_type": "stream",
     "text": [
      "\n"
     ]
    },
    {
     "name": "stdout",
     "output_type": "stream",
     "text": [
      "\n",
      "      Epoch    GPU_mem   box_loss   cls_loss   dfl_loss  Instances       Size\n"
     ]
    },
    {
     "name": "stderr",
     "output_type": "stream",
     "text": [
      "     58/100      8.16G     0.4077     0.2271     0.8112        125        640: 100%|██████████| 651/651 [02:30<00:00,  \n",
      "                 Class     Images  Instances      Box(P          R      mAP50  mAP50-95): 100%|██████████| 92/92 [00:30"
     ]
    },
    {
     "name": "stdout",
     "output_type": "stream",
     "text": [
      "                   all       5869      64101      0.985      0.963      0.992      0.941\n"
     ]
    },
    {
     "name": "stderr",
     "output_type": "stream",
     "text": [
      "\n"
     ]
    },
    {
     "name": "stdout",
     "output_type": "stream",
     "text": [
      "\n",
      "      Epoch    GPU_mem   box_loss   cls_loss   dfl_loss  Instances       Size\n"
     ]
    },
    {
     "name": "stderr",
     "output_type": "stream",
     "text": [
      "     59/100      8.15G     0.4055     0.2261     0.8115        162        640: 100%|██████████| 651/651 [02:29<00:00,  \n",
      "                 Class     Images  Instances      Box(P          R      mAP50  mAP50-95): 100%|██████████| 92/92 [00:30"
     ]
    },
    {
     "name": "stdout",
     "output_type": "stream",
     "text": [
      "                   all       5869      64101      0.985      0.963      0.992      0.941\n"
     ]
    },
    {
     "name": "stderr",
     "output_type": "stream",
     "text": [
      "\n"
     ]
    },
    {
     "name": "stdout",
     "output_type": "stream",
     "text": [
      "\n",
      "      Epoch    GPU_mem   box_loss   cls_loss   dfl_loss  Instances       Size\n"
     ]
    },
    {
     "name": "stderr",
     "output_type": "stream",
     "text": [
      "     60/100      7.97G      0.407     0.2266     0.8113        106        640: 100%|██████████| 651/651 [02:29<00:00,  \n",
      "                 Class     Images  Instances      Box(P          R      mAP50  mAP50-95): 100%|██████████| 92/92 [00:30"
     ]
    },
    {
     "name": "stdout",
     "output_type": "stream",
     "text": [
      "                   all       5869      64101      0.984      0.963      0.992      0.942\n"
     ]
    },
    {
     "name": "stderr",
     "output_type": "stream",
     "text": [
      "\n"
     ]
    },
    {
     "name": "stdout",
     "output_type": "stream",
     "text": [
      "\n",
      "      Epoch    GPU_mem   box_loss   cls_loss   dfl_loss  Instances       Size\n"
     ]
    },
    {
     "name": "stderr",
     "output_type": "stream",
     "text": [
      "     61/100      7.94G     0.4046     0.2256     0.8101        130        640: 100%|██████████| 651/651 [02:29<00:00,  \n",
      "                 Class     Images  Instances      Box(P          R      mAP50  mAP50-95): 100%|██████████| 92/92 [00:30"
     ]
    },
    {
     "name": "stdout",
     "output_type": "stream",
     "text": [
      "                   all       5869      64101      0.985      0.963      0.992      0.942\n"
     ]
    },
    {
     "name": "stderr",
     "output_type": "stream",
     "text": [
      "\n"
     ]
    },
    {
     "name": "stdout",
     "output_type": "stream",
     "text": [
      "\n",
      "      Epoch    GPU_mem   box_loss   cls_loss   dfl_loss  Instances       Size\n"
     ]
    },
    {
     "name": "stderr",
     "output_type": "stream",
     "text": [
      "     62/100      8.13G      0.406     0.2262     0.8108        122        640: 100%|██████████| 651/651 [02:29<00:00,  \n",
      "                 Class     Images  Instances      Box(P          R      mAP50  mAP50-95): 100%|██████████| 92/92 [00:30"
     ]
    },
    {
     "name": "stdout",
     "output_type": "stream",
     "text": [
      "                   all       5869      64101      0.985      0.963      0.992      0.942\n"
     ]
    },
    {
     "name": "stderr",
     "output_type": "stream",
     "text": [
      "\n"
     ]
    },
    {
     "name": "stdout",
     "output_type": "stream",
     "text": [
      "\n",
      "      Epoch    GPU_mem   box_loss   cls_loss   dfl_loss  Instances       Size\n"
     ]
    },
    {
     "name": "stderr",
     "output_type": "stream",
     "text": [
      "     63/100      8.16G     0.4021     0.2243     0.8106        168        640: 100%|██████████| 651/651 [02:29<00:00,  \n",
      "                 Class     Images  Instances      Box(P          R      mAP50  mAP50-95): 100%|██████████| 92/92 [00:30"
     ]
    },
    {
     "name": "stdout",
     "output_type": "stream",
     "text": [
      "                   all       5869      64101      0.985      0.963      0.992      0.942\n"
     ]
    },
    {
     "name": "stderr",
     "output_type": "stream",
     "text": [
      "\n"
     ]
    },
    {
     "name": "stdout",
     "output_type": "stream",
     "text": [
      "\n",
      "      Epoch    GPU_mem   box_loss   cls_loss   dfl_loss  Instances       Size\n"
     ]
    },
    {
     "name": "stderr",
     "output_type": "stream",
     "text": [
      "     64/100      8.05G     0.4032     0.2246     0.8111        133        640: 100%|██████████| 651/651 [02:29<00:00,  \n",
      "                 Class     Images  Instances      Box(P          R      mAP50  mAP50-95): 100%|██████████| 92/92 [00:30"
     ]
    },
    {
     "name": "stdout",
     "output_type": "stream",
     "text": [
      "                   all       5869      64101      0.985      0.964      0.992      0.942\n"
     ]
    },
    {
     "name": "stderr",
     "output_type": "stream",
     "text": [
      "\n"
     ]
    },
    {
     "name": "stdout",
     "output_type": "stream",
     "text": [
      "\n",
      "      Epoch    GPU_mem   box_loss   cls_loss   dfl_loss  Instances       Size\n"
     ]
    },
    {
     "name": "stderr",
     "output_type": "stream",
     "text": [
      "     65/100      8.07G     0.4018     0.2231     0.8099        101        640: 100%|██████████| 651/651 [02:29<00:00,  \n",
      "                 Class     Images  Instances      Box(P          R      mAP50  mAP50-95): 100%|██████████| 92/92 [00:30"
     ]
    },
    {
     "name": "stdout",
     "output_type": "stream",
     "text": [
      "                   all       5869      64101      0.985      0.964      0.992      0.942\n"
     ]
    },
    {
     "name": "stderr",
     "output_type": "stream",
     "text": [
      "\n"
     ]
    },
    {
     "name": "stdout",
     "output_type": "stream",
     "text": [
      "\n",
      "      Epoch    GPU_mem   box_loss   cls_loss   dfl_loss  Instances       Size\n"
     ]
    },
    {
     "name": "stderr",
     "output_type": "stream",
     "text": [
      "     66/100      8.13G     0.3999     0.2219     0.8099         87        640: 100%|██████████| 651/651 [02:29<00:00,  \n",
      "                 Class     Images  Instances      Box(P          R      mAP50  mAP50-95): 100%|██████████| 92/92 [00:30"
     ]
    },
    {
     "name": "stdout",
     "output_type": "stream",
     "text": [
      "                   all       5869      64101      0.985      0.964      0.992      0.942\n"
     ]
    },
    {
     "name": "stderr",
     "output_type": "stream",
     "text": [
      "\n"
     ]
    },
    {
     "name": "stdout",
     "output_type": "stream",
     "text": [
      "\n",
      "      Epoch    GPU_mem   box_loss   cls_loss   dfl_loss  Instances       Size\n"
     ]
    },
    {
     "name": "stderr",
     "output_type": "stream",
     "text": [
      "     67/100      8.18G     0.3995     0.2215     0.8097        113        640: 100%|██████████| 651/651 [02:33<00:00,  \n",
      "                 Class     Images  Instances      Box(P          R      mAP50  mAP50-95): 100%|██████████| 92/92 [00:31"
     ]
    },
    {
     "name": "stdout",
     "output_type": "stream",
     "text": [
      "                   all       5869      64101      0.984      0.964      0.992      0.943\n"
     ]
    },
    {
     "name": "stderr",
     "output_type": "stream",
     "text": [
      "\n"
     ]
    },
    {
     "name": "stdout",
     "output_type": "stream",
     "text": [
      "\n",
      "      Epoch    GPU_mem   box_loss   cls_loss   dfl_loss  Instances       Size\n"
     ]
    },
    {
     "name": "stderr",
     "output_type": "stream",
     "text": [
      "     68/100      8.08G     0.3983     0.2204     0.8101        143        640: 100%|██████████| 651/651 [02:34<00:00,  \n",
      "                 Class     Images  Instances      Box(P          R      mAP50  mAP50-95): 100%|██████████| 92/92 [00:32"
     ]
    },
    {
     "name": "stdout",
     "output_type": "stream",
     "text": [
      "                   all       5869      64101      0.984      0.964      0.992      0.943\n"
     ]
    },
    {
     "name": "stderr",
     "output_type": "stream",
     "text": [
      "\n"
     ]
    },
    {
     "name": "stdout",
     "output_type": "stream",
     "text": [
      "\n",
      "      Epoch    GPU_mem   box_loss   cls_loss   dfl_loss  Instances       Size\n"
     ]
    },
    {
     "name": "stderr",
     "output_type": "stream",
     "text": [
      "     69/100      8.15G     0.3987     0.2208       0.81         98        640: 100%|██████████| 651/651 [02:30<00:00,  \n",
      "                 Class     Images  Instances      Box(P          R      mAP50  mAP50-95): 100%|██████████| 92/92 [00:30"
     ]
    },
    {
     "name": "stdout",
     "output_type": "stream",
     "text": [
      "                   all       5869      64101      0.984      0.964      0.992      0.943\n"
     ]
    },
    {
     "name": "stderr",
     "output_type": "stream",
     "text": [
      "\n"
     ]
    },
    {
     "name": "stdout",
     "output_type": "stream",
     "text": [
      "\n",
      "      Epoch    GPU_mem   box_loss   cls_loss   dfl_loss  Instances       Size\n"
     ]
    },
    {
     "name": "stderr",
     "output_type": "stream",
     "text": [
      "     70/100      8.07G     0.3971     0.2195     0.8093        134        640: 100%|██████████| 651/651 [02:33<00:00,  \n",
      "                 Class     Images  Instances      Box(P          R      mAP50  mAP50-95): 100%|██████████| 92/92 [00:32"
     ]
    },
    {
     "name": "stdout",
     "output_type": "stream",
     "text": [
      "                   all       5869      64101      0.984      0.964      0.992      0.943\n"
     ]
    },
    {
     "name": "stderr",
     "output_type": "stream",
     "text": [
      "\n"
     ]
    },
    {
     "name": "stdout",
     "output_type": "stream",
     "text": [
      "\n",
      "      Epoch    GPU_mem   box_loss   cls_loss   dfl_loss  Instances       Size\n"
     ]
    },
    {
     "name": "stderr",
     "output_type": "stream",
     "text": [
      "     71/100      7.99G     0.3966     0.2196     0.8088        137        640: 100%|██████████| 651/651 [02:29<00:00,  \n",
      "                 Class     Images  Instances      Box(P          R      mAP50  mAP50-95): 100%|██████████| 92/92 [00:30"
     ]
    },
    {
     "name": "stdout",
     "output_type": "stream",
     "text": [
      "                   all       5869      64101      0.984      0.964      0.992      0.943\n"
     ]
    },
    {
     "name": "stderr",
     "output_type": "stream",
     "text": [
      "\n"
     ]
    },
    {
     "name": "stdout",
     "output_type": "stream",
     "text": [
      "\n",
      "      Epoch    GPU_mem   box_loss   cls_loss   dfl_loss  Instances       Size\n"
     ]
    },
    {
     "name": "stderr",
     "output_type": "stream",
     "text": [
      "     72/100      7.94G     0.3948     0.2188     0.8088         99        640: 100%|██████████| 651/651 [02:29<00:00,  \n",
      "                 Class     Images  Instances      Box(P          R      mAP50  mAP50-95): 100%|██████████| 92/92 [00:30"
     ]
    },
    {
     "name": "stdout",
     "output_type": "stream",
     "text": [
      "                   all       5869      64101      0.985      0.964      0.992      0.943\n"
     ]
    },
    {
     "name": "stderr",
     "output_type": "stream",
     "text": [
      "\n"
     ]
    },
    {
     "name": "stdout",
     "output_type": "stream",
     "text": [
      "\n",
      "      Epoch    GPU_mem   box_loss   cls_loss   dfl_loss  Instances       Size\n"
     ]
    },
    {
     "name": "stderr",
     "output_type": "stream",
     "text": [
      "     73/100      8.13G     0.3951     0.2185     0.8089        145        640: 100%|██████████| 651/651 [02:29<00:00,  \n",
      "                 Class     Images  Instances      Box(P          R      mAP50  mAP50-95): 100%|██████████| 92/92 [00:30"
     ]
    },
    {
     "name": "stdout",
     "output_type": "stream",
     "text": [
      "                   all       5869      64101      0.985      0.964      0.992      0.943\n"
     ]
    },
    {
     "name": "stderr",
     "output_type": "stream",
     "text": [
      "\n"
     ]
    },
    {
     "name": "stdout",
     "output_type": "stream",
     "text": [
      "\n",
      "      Epoch    GPU_mem   box_loss   cls_loss   dfl_loss  Instances       Size\n"
     ]
    },
    {
     "name": "stderr",
     "output_type": "stream",
     "text": [
      "     74/100      8.12G     0.3936     0.2172     0.8086        148        640: 100%|██████████| 651/651 [02:31<00:00,  \n",
      "                 Class     Images  Instances      Box(P          R      mAP50  mAP50-95): 100%|██████████| 92/92 [00:32"
     ]
    },
    {
     "name": "stdout",
     "output_type": "stream",
     "text": [
      "                   all       5869      64101      0.985      0.964      0.992      0.943\n"
     ]
    },
    {
     "name": "stderr",
     "output_type": "stream",
     "text": [
      "\n"
     ]
    },
    {
     "name": "stdout",
     "output_type": "stream",
     "text": [
      "\n",
      "      Epoch    GPU_mem   box_loss   cls_loss   dfl_loss  Instances       Size\n"
     ]
    },
    {
     "name": "stderr",
     "output_type": "stream",
     "text": [
      "     75/100      7.96G     0.3924     0.2166     0.8082        123        640: 100%|██████████| 651/651 [02:29<00:00,  \n",
      "                 Class     Images  Instances      Box(P          R      mAP50  mAP50-95): 100%|██████████| 92/92 [00:30"
     ]
    },
    {
     "name": "stdout",
     "output_type": "stream",
     "text": [
      "                   all       5869      64101      0.985      0.964      0.992      0.943\n"
     ]
    },
    {
     "name": "stderr",
     "output_type": "stream",
     "text": [
      "\n"
     ]
    },
    {
     "name": "stdout",
     "output_type": "stream",
     "text": [
      "\n",
      "      Epoch    GPU_mem   box_loss   cls_loss   dfl_loss  Instances       Size\n"
     ]
    },
    {
     "name": "stderr",
     "output_type": "stream",
     "text": [
      "     76/100      8.14G     0.3921     0.2161     0.8086         89        640: 100%|██████████| 651/651 [02:29<00:00,  \n",
      "                 Class     Images  Instances      Box(P          R      mAP50  mAP50-95): 100%|██████████| 92/92 [00:30"
     ]
    },
    {
     "name": "stdout",
     "output_type": "stream",
     "text": [
      "                   all       5869      64101      0.985      0.964      0.992      0.944\n"
     ]
    },
    {
     "name": "stderr",
     "output_type": "stream",
     "text": [
      "\n"
     ]
    },
    {
     "name": "stdout",
     "output_type": "stream",
     "text": [
      "\n",
      "      Epoch    GPU_mem   box_loss   cls_loss   dfl_loss  Instances       Size\n"
     ]
    },
    {
     "name": "stderr",
     "output_type": "stream",
     "text": [
      "     77/100      8.11G     0.3916     0.2157     0.8086        145        640: 100%|██████████| 651/651 [02:34<00:00,  \n",
      "                 Class     Images  Instances      Box(P          R      mAP50  mAP50-95): 100%|██████████| 92/92 [00:31"
     ]
    },
    {
     "name": "stdout",
     "output_type": "stream",
     "text": [
      "                   all       5869      64101      0.985      0.964      0.992      0.944\n"
     ]
    },
    {
     "name": "stderr",
     "output_type": "stream",
     "text": [
      "\n"
     ]
    },
    {
     "name": "stdout",
     "output_type": "stream",
     "text": [
      "\n",
      "      Epoch    GPU_mem   box_loss   cls_loss   dfl_loss  Instances       Size\n"
     ]
    },
    {
     "name": "stderr",
     "output_type": "stream",
     "text": [
      "     78/100      8.12G     0.3901     0.2152     0.8077         76        640: 100%|██████████| 651/651 [02:31<00:00,  \n",
      "                 Class     Images  Instances      Box(P          R      mAP50  mAP50-95): 100%|██████████| 92/92 [00:32"
     ]
    },
    {
     "name": "stdout",
     "output_type": "stream",
     "text": [
      "                   all       5869      64101      0.985      0.964      0.992      0.944\n"
     ]
    },
    {
     "name": "stderr",
     "output_type": "stream",
     "text": [
      "\n"
     ]
    },
    {
     "name": "stdout",
     "output_type": "stream",
     "text": [
      "\n",
      "      Epoch    GPU_mem   box_loss   cls_loss   dfl_loss  Instances       Size\n"
     ]
    },
    {
     "name": "stderr",
     "output_type": "stream",
     "text": [
      "     79/100      8.14G     0.3884     0.2139     0.8076        210        640: 100%|██████████| 651/651 [02:35<00:00,  \n",
      "                 Class     Images  Instances      Box(P          R      mAP50  mAP50-95): 100%|██████████| 92/92 [00:31"
     ]
    },
    {
     "name": "stdout",
     "output_type": "stream",
     "text": [
      "                   all       5869      64101      0.985      0.964      0.992      0.944\n"
     ]
    },
    {
     "name": "stderr",
     "output_type": "stream",
     "text": [
      "\n"
     ]
    },
    {
     "name": "stdout",
     "output_type": "stream",
     "text": [
      "\n",
      "      Epoch    GPU_mem   box_loss   cls_loss   dfl_loss  Instances       Size\n"
     ]
    },
    {
     "name": "stderr",
     "output_type": "stream",
     "text": [
      "     80/100      7.81G     0.3893     0.2139     0.8078        132        640: 100%|██████████| 651/651 [02:31<00:00,  \n",
      "                 Class     Images  Instances      Box(P          R      mAP50  mAP50-95): 100%|██████████| 92/92 [00:30"
     ]
    },
    {
     "name": "stdout",
     "output_type": "stream",
     "text": [
      "                   all       5869      64101      0.985      0.964      0.992      0.944\n"
     ]
    },
    {
     "name": "stderr",
     "output_type": "stream",
     "text": [
      "\n"
     ]
    },
    {
     "name": "stdout",
     "output_type": "stream",
     "text": [
      "\n",
      "      Epoch    GPU_mem   box_loss   cls_loss   dfl_loss  Instances       Size\n"
     ]
    },
    {
     "name": "stderr",
     "output_type": "stream",
     "text": [
      "     81/100      8.11G     0.3877     0.2127     0.8074        112        640: 100%|██████████| 651/651 [02:29<00:00,  \n",
      "                 Class     Images  Instances      Box(P          R      mAP50  mAP50-95): 100%|██████████| 92/92 [00:30"
     ]
    },
    {
     "name": "stdout",
     "output_type": "stream",
     "text": [
      "                   all       5869      64101      0.985      0.964      0.992      0.944\n"
     ]
    },
    {
     "name": "stderr",
     "output_type": "stream",
     "text": [
      "\n"
     ]
    },
    {
     "name": "stdout",
     "output_type": "stream",
     "text": [
      "\n",
      "      Epoch    GPU_mem   box_loss   cls_loss   dfl_loss  Instances       Size\n"
     ]
    },
    {
     "name": "stderr",
     "output_type": "stream",
     "text": [
      "     82/100       8.1G     0.3869     0.2122     0.8078        123        640: 100%|██████████| 651/651 [02:29<00:00,  \n",
      "                 Class     Images  Instances      Box(P          R      mAP50  mAP50-95): 100%|██████████| 92/92 [00:30"
     ]
    },
    {
     "name": "stdout",
     "output_type": "stream",
     "text": [
      "                   all       5869      64101      0.985      0.964      0.992      0.944\n"
     ]
    },
    {
     "name": "stderr",
     "output_type": "stream",
     "text": [
      "\n"
     ]
    },
    {
     "name": "stdout",
     "output_type": "stream",
     "text": [
      "\n",
      "      Epoch    GPU_mem   box_loss   cls_loss   dfl_loss  Instances       Size\n"
     ]
    },
    {
     "name": "stderr",
     "output_type": "stream",
     "text": [
      "     83/100      8.18G     0.3865     0.2121     0.8075        111        640: 100%|██████████| 651/651 [02:30<00:00,  \n",
      "                 Class     Images  Instances      Box(P          R      mAP50  mAP50-95): 100%|██████████| 92/92 [00:30"
     ]
    },
    {
     "name": "stdout",
     "output_type": "stream",
     "text": [
      "                   all       5869      64101      0.985      0.964      0.992      0.944\n"
     ]
    },
    {
     "name": "stderr",
     "output_type": "stream",
     "text": [
      "\n"
     ]
    },
    {
     "name": "stdout",
     "output_type": "stream",
     "text": [
      "\n",
      "      Epoch    GPU_mem   box_loss   cls_loss   dfl_loss  Instances       Size\n"
     ]
    },
    {
     "name": "stderr",
     "output_type": "stream",
     "text": [
      "     84/100      8.18G     0.3853     0.2116     0.8068         91        640: 100%|██████████| 651/651 [02:29<00:00,  \n",
      "                 Class     Images  Instances      Box(P          R      mAP50  mAP50-95): 100%|██████████| 92/92 [00:30"
     ]
    },
    {
     "name": "stdout",
     "output_type": "stream",
     "text": [
      "                   all       5869      64101      0.985      0.964      0.992      0.944\n"
     ]
    },
    {
     "name": "stderr",
     "output_type": "stream",
     "text": [
      "\n"
     ]
    },
    {
     "name": "stdout",
     "output_type": "stream",
     "text": [
      "\n",
      "      Epoch    GPU_mem   box_loss   cls_loss   dfl_loss  Instances       Size\n"
     ]
    },
    {
     "name": "stderr",
     "output_type": "stream",
     "text": [
      "     85/100      8.13G     0.3846     0.2109     0.8067        154        640: 100%|██████████| 651/651 [02:29<00:00,  \n",
      "                 Class     Images  Instances      Box(P          R      mAP50  mAP50-95): 100%|██████████| 92/92 [00:30"
     ]
    },
    {
     "name": "stdout",
     "output_type": "stream",
     "text": [
      "                   all       5869      64101      0.985      0.964      0.992      0.944\n"
     ]
    },
    {
     "name": "stderr",
     "output_type": "stream",
     "text": [
      "\n"
     ]
    },
    {
     "name": "stdout",
     "output_type": "stream",
     "text": [
      "\n",
      "      Epoch    GPU_mem   box_loss   cls_loss   dfl_loss  Instances       Size\n"
     ]
    },
    {
     "name": "stderr",
     "output_type": "stream",
     "text": [
      "     86/100      8.17G     0.3828     0.2095     0.8066        123        640: 100%|██████████| 651/651 [02:29<00:00,  \n",
      "                 Class     Images  Instances      Box(P          R      mAP50  mAP50-95): 100%|██████████| 92/92 [00:30"
     ]
    },
    {
     "name": "stdout",
     "output_type": "stream",
     "text": [
      "                   all       5869      64101      0.985      0.964      0.992      0.944\n"
     ]
    },
    {
     "name": "stderr",
     "output_type": "stream",
     "text": [
      "\n"
     ]
    },
    {
     "name": "stdout",
     "output_type": "stream",
     "text": [
      "\n",
      "      Epoch    GPU_mem   box_loss   cls_loss   dfl_loss  Instances       Size\n"
     ]
    },
    {
     "name": "stderr",
     "output_type": "stream",
     "text": [
      "     87/100      8.19G     0.3834     0.2095     0.8071        128        640: 100%|██████████| 651/651 [02:29<00:00,  \n",
      "                 Class     Images  Instances      Box(P          R      mAP50  mAP50-95): 100%|██████████| 92/92 [00:30"
     ]
    },
    {
     "name": "stdout",
     "output_type": "stream",
     "text": [
      "                   all       5869      64101      0.986      0.964      0.992      0.944\n"
     ]
    },
    {
     "name": "stderr",
     "output_type": "stream",
     "text": [
      "\n"
     ]
    },
    {
     "name": "stdout",
     "output_type": "stream",
     "text": [
      "\n",
      "      Epoch    GPU_mem   box_loss   cls_loss   dfl_loss  Instances       Size\n"
     ]
    },
    {
     "name": "stderr",
     "output_type": "stream",
     "text": [
      "     88/100      8.14G     0.3827     0.2093     0.8067        183        640: 100%|██████████| 651/651 [02:29<00:00,  \n",
      "                 Class     Images  Instances      Box(P          R      mAP50  mAP50-95): 100%|██████████| 92/92 [00:30"
     ]
    },
    {
     "name": "stdout",
     "output_type": "stream",
     "text": [
      "                   all       5869      64101      0.985      0.964      0.992      0.944\n"
     ]
    },
    {
     "name": "stderr",
     "output_type": "stream",
     "text": [
      "\n"
     ]
    },
    {
     "name": "stdout",
     "output_type": "stream",
     "text": [
      "\n",
      "      Epoch    GPU_mem   box_loss   cls_loss   dfl_loss  Instances       Size\n"
     ]
    },
    {
     "name": "stderr",
     "output_type": "stream",
     "text": [
      "     89/100      8.19G     0.3819     0.2083     0.8064         95        640: 100%|██████████| 651/651 [02:29<00:00,  \n",
      "                 Class     Images  Instances      Box(P          R      mAP50  mAP50-95): 100%|██████████| 92/92 [00:30"
     ]
    },
    {
     "name": "stdout",
     "output_type": "stream",
     "text": [
      "                   all       5869      64101      0.986      0.963      0.992      0.944\n"
     ]
    },
    {
     "name": "stderr",
     "output_type": "stream",
     "text": [
      "\n"
     ]
    },
    {
     "name": "stdout",
     "output_type": "stream",
     "text": [
      "\n",
      "      Epoch    GPU_mem   box_loss   cls_loss   dfl_loss  Instances       Size\n"
     ]
    },
    {
     "name": "stderr",
     "output_type": "stream",
     "text": [
      "     90/100      8.12G     0.3817     0.2079     0.8068        101        640: 100%|██████████| 651/651 [02:29<00:00,  \n",
      "                 Class     Images  Instances      Box(P          R      mAP50  mAP50-95): 100%|██████████| 92/92 [00:30"
     ]
    },
    {
     "name": "stdout",
     "output_type": "stream",
     "text": [
      "                   all       5869      64101      0.986      0.963      0.992      0.944\n"
     ]
    },
    {
     "name": "stderr",
     "output_type": "stream",
     "text": [
      "\n"
     ]
    },
    {
     "name": "stdout",
     "output_type": "stream",
     "text": [
      "Closing dataloader mosaic\n",
      "\n",
      "      Epoch    GPU_mem   box_loss   cls_loss   dfl_loss  Instances       Size\n"
     ]
    },
    {
     "name": "stderr",
     "output_type": "stream",
     "text": [
      "     91/100      7.74G     0.3595     0.1987     0.8029         79        640: 100%|██████████| 651/651 [02:26<00:00,  \n",
      "                 Class     Images  Instances      Box(P          R      mAP50  mAP50-95): 100%|██████████| 92/92 [00:30"
     ]
    },
    {
     "name": "stdout",
     "output_type": "stream",
     "text": [
      "                   all       5869      64101      0.986      0.963      0.992      0.945\n"
     ]
    },
    {
     "name": "stderr",
     "output_type": "stream",
     "text": [
      "\n"
     ]
    },
    {
     "name": "stdout",
     "output_type": "stream",
     "text": [
      "\n",
      "      Epoch    GPU_mem   box_loss   cls_loss   dfl_loss  Instances       Size\n"
     ]
    },
    {
     "name": "stderr",
     "output_type": "stream",
     "text": [
      "     92/100      7.77G      0.356     0.1968      0.802         80        640: 100%|██████████| 651/651 [02:26<00:00,  \n",
      "                 Class     Images  Instances      Box(P          R      mAP50  mAP50-95): 100%|██████████| 92/92 [00:30"
     ]
    },
    {
     "name": "stdout",
     "output_type": "stream",
     "text": [
      "                   all       5869      64101      0.986      0.963      0.992      0.945\n"
     ]
    },
    {
     "name": "stderr",
     "output_type": "stream",
     "text": [
      "\n"
     ]
    },
    {
     "name": "stdout",
     "output_type": "stream",
     "text": [
      "\n",
      "      Epoch    GPU_mem   box_loss   cls_loss   dfl_loss  Instances       Size\n"
     ]
    },
    {
     "name": "stderr",
     "output_type": "stream",
     "text": [
      "     93/100      7.72G     0.3537     0.1959     0.8008         68        640: 100%|██████████| 651/651 [02:26<00:00,  \n",
      "                 Class     Images  Instances      Box(P          R      mAP50  mAP50-95): 100%|██████████| 92/92 [00:30"
     ]
    },
    {
     "name": "stdout",
     "output_type": "stream",
     "text": [
      "                   all       5869      64101      0.986      0.963      0.992      0.945\n"
     ]
    },
    {
     "name": "stderr",
     "output_type": "stream",
     "text": [
      "\n"
     ]
    },
    {
     "name": "stdout",
     "output_type": "stream",
     "text": [
      "\n",
      "      Epoch    GPU_mem   box_loss   cls_loss   dfl_loss  Instances       Size\n"
     ]
    },
    {
     "name": "stderr",
     "output_type": "stream",
     "text": [
      "     94/100      7.77G      0.353     0.1949     0.8012         67        640: 100%|██████████| 651/651 [02:26<00:00,  \n",
      "                 Class     Images  Instances      Box(P          R      mAP50  mAP50-95): 100%|██████████| 92/92 [00:30"
     ]
    },
    {
     "name": "stdout",
     "output_type": "stream",
     "text": [
      "                   all       5869      64101      0.986      0.963      0.992      0.945\n"
     ]
    },
    {
     "name": "stderr",
     "output_type": "stream",
     "text": [
      "\n"
     ]
    },
    {
     "name": "stdout",
     "output_type": "stream",
     "text": [
      "\n",
      "      Epoch    GPU_mem   box_loss   cls_loss   dfl_loss  Instances       Size\n"
     ]
    },
    {
     "name": "stderr",
     "output_type": "stream",
     "text": [
      "     95/100      7.72G     0.3516     0.1936     0.8005         62        640: 100%|██████████| 651/651 [02:26<00:00,  \n",
      "                 Class     Images  Instances      Box(P          R      mAP50  mAP50-95): 100%|██████████| 92/92 [00:30"
     ]
    },
    {
     "name": "stdout",
     "output_type": "stream",
     "text": [
      "                   all       5869      64101      0.986      0.963      0.992      0.945\n"
     ]
    },
    {
     "name": "stderr",
     "output_type": "stream",
     "text": [
      "\n"
     ]
    },
    {
     "name": "stdout",
     "output_type": "stream",
     "text": [
      "\n",
      "      Epoch    GPU_mem   box_loss   cls_loss   dfl_loss  Instances       Size\n"
     ]
    },
    {
     "name": "stderr",
     "output_type": "stream",
     "text": [
      "     96/100      7.77G     0.3504      0.193     0.8002         62        640: 100%|██████████| 651/651 [02:26<00:00,  \n",
      "                 Class     Images  Instances      Box(P          R      mAP50  mAP50-95): 100%|██████████| 92/92 [00:31"
     ]
    },
    {
     "name": "stdout",
     "output_type": "stream",
     "text": [
      "                   all       5869      64101      0.986      0.963      0.992      0.945\n"
     ]
    },
    {
     "name": "stderr",
     "output_type": "stream",
     "text": [
      "\n"
     ]
    },
    {
     "name": "stdout",
     "output_type": "stream",
     "text": [
      "\n",
      "      Epoch    GPU_mem   box_loss   cls_loss   dfl_loss  Instances       Size\n"
     ]
    },
    {
     "name": "stderr",
     "output_type": "stream",
     "text": [
      "     97/100      7.73G     0.3491     0.1918     0.7997         77        640: 100%|██████████| 651/651 [02:30<00:00,  \n",
      "                 Class     Images  Instances      Box(P          R      mAP50  mAP50-95): 100%|██████████| 92/92 [00:31"
     ]
    },
    {
     "name": "stdout",
     "output_type": "stream",
     "text": [
      "                   all       5869      64101      0.986      0.963      0.992      0.945\n"
     ]
    },
    {
     "name": "stderr",
     "output_type": "stream",
     "text": [
      "\n"
     ]
    },
    {
     "name": "stdout",
     "output_type": "stream",
     "text": [
      "\n",
      "      Epoch    GPU_mem   box_loss   cls_loss   dfl_loss  Instances       Size\n"
     ]
    },
    {
     "name": "stderr",
     "output_type": "stream",
     "text": [
      "     98/100      7.71G     0.3486     0.1916     0.8003         73        640: 100%|██████████| 651/651 [02:26<00:00,  \n",
      "                 Class     Images  Instances      Box(P          R      mAP50  mAP50-95): 100%|██████████| 92/92 [00:30"
     ]
    },
    {
     "name": "stdout",
     "output_type": "stream",
     "text": [
      "                   all       5869      64101      0.986      0.963      0.992      0.945\n"
     ]
    },
    {
     "name": "stderr",
     "output_type": "stream",
     "text": [
      "\n"
     ]
    },
    {
     "name": "stdout",
     "output_type": "stream",
     "text": [
      "\n",
      "      Epoch    GPU_mem   box_loss   cls_loss   dfl_loss  Instances       Size\n"
     ]
    },
    {
     "name": "stderr",
     "output_type": "stream",
     "text": [
      "     99/100      7.73G     0.3476     0.1903     0.8003         56        640: 100%|██████████| 651/651 [02:26<00:00,  \n",
      "                 Class     Images  Instances      Box(P          R      mAP50  mAP50-95): 100%|██████████| 92/92 [00:30"
     ]
    },
    {
     "name": "stdout",
     "output_type": "stream",
     "text": [
      "                   all       5869      64101      0.986      0.963      0.992      0.945\n"
     ]
    },
    {
     "name": "stderr",
     "output_type": "stream",
     "text": [
      "\n"
     ]
    },
    {
     "name": "stdout",
     "output_type": "stream",
     "text": [
      "\n",
      "      Epoch    GPU_mem   box_loss   cls_loss   dfl_loss  Instances       Size\n"
     ]
    },
    {
     "name": "stderr",
     "output_type": "stream",
     "text": [
      "    100/100      7.71G     0.3466     0.1894     0.7994         57        640: 100%|██████████| 651/651 [02:26<00:00,  \n",
      "                 Class     Images  Instances      Box(P          R      mAP50  mAP50-95): 100%|██████████| 92/92 [00:30"
     ]
    },
    {
     "name": "stdout",
     "output_type": "stream",
     "text": [
      "                   all       5869      64101      0.986      0.964      0.992      0.945\n"
     ]
    },
    {
     "name": "stderr",
     "output_type": "stream",
     "text": [
      "\n"
     ]
    },
    {
     "name": "stdout",
     "output_type": "stream",
     "text": [
      "\n",
      "100 epochs completed in 5.982 hours.\n",
      "Optimizer stripped from C:\\Users\\joons\\workspace\\final_project\\runs\\train\\weights\\last.pt, 19.2MB\n",
      "Optimizer stripped from C:\\Users\\joons\\workspace\\final_project\\runs\\train\\weights\\best.pt, 19.2MB\n",
      "\n",
      "Validating C:\\Users\\joons\\workspace\\final_project\\runs\\train\\weights\\best.pt...\n",
      "Ultralytics 8.3.115  Python-3.10.16 torch-2.7.0+cu118 CUDA:0 (NVIDIA GeForce RTX 3080, 10240MiB)\n",
      "YOLO11s summary (fused): 100 layers, 9,413,187 parameters, 0 gradients, 21.3 GFLOPs\n"
     ]
    },
    {
     "name": "stderr",
     "output_type": "stream",
     "text": [
      "                 Class     Images  Instances      Box(P          R      mAP50  mAP50-95): 100%|██████████| 92/92 [00:44\n"
     ]
    },
    {
     "name": "stdout",
     "output_type": "stream",
     "text": [
      "                   all       5869      64101      0.986      0.963      0.992      0.945\n",
      "Speed: 0.1ms preprocess, 0.9ms inference, 0.0ms loss, 1.2ms postprocess per image\n",
      "Results saved to \u001b[1mC:\\Users\\joons\\workspace\\final_project\\runs\\train\u001b[0m\n"
     ]
    }
   ],
   "source": [
    "from ultralytics import YOLO\n",
    "\n",
    "model = YOLO(pretrained_model_path)\n",
    "\n",
    "results = model.train(\n",
    "    data=yaml_path,\n",
    "    epochs=100,\n",
    "    imgsz=640,\n",
    "    batch=32,\n",
    "    patience=20,\n",
    "    optimizer=\"AdamW\",\n",
    "    project= runs_path,\n",
    ")"
   ]
  },
  {
   "cell_type": "code",
   "execution_count": 5,
   "metadata": {
    "scrolled": true
   },
   "outputs": [
    {
     "name": "stdout",
     "output_type": "stream",
     "text": [
      "\u001b[34m\u001b[1mTuner: \u001b[0mInitialized Tuner instance with 'tune_dir=C:\\Users\\joons\\workspace\\final_project\\runs\\tuned_ga\\tuned_ga'\n",
      "\u001b[34m\u001b[1mTuner: \u001b[0m Learn about tuning at https://docs.ultralytics.com/guides/hyperparameter-tuning\n",
      "\u001b[34m\u001b[1mTuner: \u001b[0mStarting iteration 1/30 with hyperparameters: {'lr0': 0.01, 'momentum': 0.937, 'weight_decay': 0.0005, 'lrf': 0.01}\n",
      "Saved C:\\Users\\joons\\workspace\\final_project\\runs\\tuned_ga\\tuned_ga\\tune_scatter_plots.png\n",
      "Saved C:\\Users\\joons\\workspace\\final_project\\runs\\tuned_ga\\tuned_ga\\tune_fitness.png\n",
      "\n",
      "\u001b[34m\u001b[1mTuner: \u001b[0m1/30 iterations complete  (2066.38s)\n",
      "\u001b[34m\u001b[1mTuner: \u001b[0mResults saved to \u001b[1mC:\\Users\\joons\\workspace\\final_project\\runs\\tuned_ga\\tuned_ga\u001b[0m\n",
      "\u001b[34m\u001b[1mTuner: \u001b[0mBest fitness=0.92901 observed at iteration 1\n",
      "\u001b[34m\u001b[1mTuner: \u001b[0mBest fitness metrics are {'metrics/precision(B)': 0.98205, 'metrics/recall(B)': 0.95589, 'metrics/mAP50(B)': 0.9883, 'metrics/mAP50-95(B)': 0.92242, 'val/box_loss': 0.39076, 'val/cls_loss': 0.2268, 'val/dfl_loss': 0.80406, 'fitness': 0.92901}\n",
      "\u001b[34m\u001b[1mTuner: \u001b[0mBest fitness model is C:\\Users\\joons\\workspace\\final_project\\runs\\tuned_ga\\train\n",
      "\u001b[34m\u001b[1mTuner: \u001b[0mBest fitness hyperparameters are printed below.\n",
      "\n",
      "Printing '\u001b[1m\u001b[30mC:\\Users\\joons\\workspace\\final_project\\runs\\tuned_ga\\tuned_ga\\best_hyperparameters.yaml\u001b[0m'\n",
      "\n",
      "lr0: 0.01\n",
      "momentum: 0.937\n",
      "weight_decay: 0.0005\n",
      "lrf: 0.01\n",
      "\n",
      "\u001b[34m\u001b[1mTuner: \u001b[0mStarting iteration 2/30 with hyperparameters: {'lr0': 0.00992, 'momentum': 0.93547, 'weight_decay': 0.0005, 'lrf': 0.01}\n",
      "Saved C:\\Users\\joons\\workspace\\final_project\\runs\\tuned_ga\\tuned_ga\\tune_scatter_plots.png\n",
      "Saved C:\\Users\\joons\\workspace\\final_project\\runs\\tuned_ga\\tuned_ga\\tune_fitness.png\n",
      "\n",
      "\u001b[34m\u001b[1mTuner: \u001b[0m2/30 iterations complete  (4158.95s)\n",
      "\u001b[34m\u001b[1mTuner: \u001b[0mResults saved to \u001b[1mC:\\Users\\joons\\workspace\\final_project\\runs\\tuned_ga\\tuned_ga\u001b[0m\n",
      "\u001b[34m\u001b[1mTuner: \u001b[0mBest fitness=0.92946 observed at iteration 2\n",
      "\u001b[34m\u001b[1mTuner: \u001b[0mBest fitness metrics are {'metrics/precision(B)': 0.98261, 'metrics/recall(B)': 0.95879, 'metrics/mAP50(B)': 0.98951, 'metrics/mAP50-95(B)': 0.92279, 'val/box_loss': 0.38534, 'val/cls_loss': 0.22324, 'val/dfl_loss': 0.80374, 'fitness': 0.92946}\n",
      "\u001b[34m\u001b[1mTuner: \u001b[0mBest fitness model is C:\\Users\\joons\\workspace\\final_project\\runs\\tuned_ga\\train2\n",
      "\u001b[34m\u001b[1mTuner: \u001b[0mBest fitness hyperparameters are printed below.\n",
      "\n",
      "Printing '\u001b[1m\u001b[30mC:\\Users\\joons\\workspace\\final_project\\runs\\tuned_ga\\tuned_ga\\best_hyperparameters.yaml\u001b[0m'\n",
      "\n",
      "lr0: 0.00992\n",
      "momentum: 0.93547\n",
      "weight_decay: 0.0005\n",
      "lrf: 0.01\n",
      "\n",
      "\u001b[34m\u001b[1mTuner: \u001b[0mStarting iteration 3/30 with hyperparameters: {'lr0': 0.01, 'momentum': 0.93547, 'weight_decay': 0.0005, 'lrf': 0.01}\n",
      "Saved C:\\Users\\joons\\workspace\\final_project\\runs\\tuned_ga\\tuned_ga\\tune_scatter_plots.png\n",
      "Saved C:\\Users\\joons\\workspace\\final_project\\runs\\tuned_ga\\tuned_ga\\tune_fitness.png\n",
      "\n",
      "\u001b[34m\u001b[1mTuner: \u001b[0m3/30 iterations complete  (6213.74s)\n",
      "\u001b[34m\u001b[1mTuner: \u001b[0mResults saved to \u001b[1mC:\\Users\\joons\\workspace\\final_project\\runs\\tuned_ga\\tuned_ga\u001b[0m\n",
      "\u001b[34m\u001b[1mTuner: \u001b[0mBest fitness=0.92984 observed at iteration 3\n",
      "\u001b[34m\u001b[1mTuner: \u001b[0mBest fitness metrics are {'metrics/precision(B)': 0.98221, 'metrics/recall(B)': 0.95894, 'metrics/mAP50(B)': 0.98922, 'metrics/mAP50-95(B)': 0.92324, 'val/box_loss': 0.38434, 'val/cls_loss': 0.2222, 'val/dfl_loss': 0.80414, 'fitness': 0.92984}\n",
      "\u001b[34m\u001b[1mTuner: \u001b[0mBest fitness model is C:\\Users\\joons\\workspace\\final_project\\runs\\tuned_ga\\train3\n",
      "\u001b[34m\u001b[1mTuner: \u001b[0mBest fitness hyperparameters are printed below.\n",
      "\n",
      "Printing '\u001b[1m\u001b[30mC:\\Users\\joons\\workspace\\final_project\\runs\\tuned_ga\\tuned_ga\\best_hyperparameters.yaml\u001b[0m'\n",
      "\n",
      "lr0: 0.01\n",
      "momentum: 0.93547\n",
      "weight_decay: 0.0005\n",
      "lrf: 0.01\n",
      "\n",
      "\u001b[34m\u001b[1mTuner: \u001b[0mStarting iteration 4/30 with hyperparameters: {'lr0': 0.01, 'momentum': 0.93547, 'weight_decay': 0.00053, 'lrf': 0.0101}\n",
      "Saved C:\\Users\\joons\\workspace\\final_project\\runs\\tuned_ga\\tuned_ga\\tune_scatter_plots.png\n",
      "Saved C:\\Users\\joons\\workspace\\final_project\\runs\\tuned_ga\\tuned_ga\\tune_fitness.png\n",
      "\n",
      "\u001b[34m\u001b[1mTuner: \u001b[0m4/30 iterations complete  (8261.04s)\n",
      "\u001b[34m\u001b[1mTuner: \u001b[0mResults saved to \u001b[1mC:\\Users\\joons\\workspace\\final_project\\runs\\tuned_ga\\tuned_ga\u001b[0m\n",
      "\u001b[34m\u001b[1mTuner: \u001b[0mBest fitness=0.92984 observed at iteration 3\n",
      "\u001b[34m\u001b[1mTuner: \u001b[0mBest fitness metrics are {'metrics/precision(B)': 0.98221, 'metrics/recall(B)': 0.95894, 'metrics/mAP50(B)': 0.98922, 'metrics/mAP50-95(B)': 0.92324, 'val/box_loss': 0.38434, 'val/cls_loss': 0.2222, 'val/dfl_loss': 0.80414, 'fitness': 0.92984}\n",
      "\u001b[34m\u001b[1mTuner: \u001b[0mBest fitness model is C:\\Users\\joons\\workspace\\final_project\\runs\\tuned_ga\\train3\n",
      "\u001b[34m\u001b[1mTuner: \u001b[0mBest fitness hyperparameters are printed below.\n",
      "\n",
      "Printing '\u001b[1m\u001b[30mC:\\Users\\joons\\workspace\\final_project\\runs\\tuned_ga\\tuned_ga\\best_hyperparameters.yaml\u001b[0m'\n",
      "\n",
      "lr0: 0.01\n",
      "momentum: 0.93547\n",
      "weight_decay: 0.0005\n",
      "lrf: 0.01\n",
      "\n",
      "\u001b[34m\u001b[1mTuner: \u001b[0mStarting iteration 5/30 with hyperparameters: {'lr0': 0.01, 'momentum': 0.95808, 'weight_decay': 0.0005, 'lrf': 0.01027}\n",
      "ERROR training failure for hyperparameter tuning iteration 5\n",
      "Command '['C:\\\\Users\\\\joons\\\\anaconda3\\\\envs\\\\pigeon\\\\python.exe', '-m', 'ultralytics.cfg.__init__', 'train', 'task=detect', 'mode=train', 'model=C:/Users/joons/workspace/final_project\\\\pretrained_model\\\\yolo11s.pt', 'data=C:/Users/joons/workspace/final_project\\\\dataset\\\\coco8.yaml', 'epochs=10', 'time=None', 'patience=100', 'batch=32', 'imgsz=640', 'save=True', 'save_period=-1', 'cache=False', 'device=None', 'workers=8', 'project=C:/Users/joons/workspace/final_project\\\\runs\\\\tuned_ga', 'name=None', 'exist_ok=False', 'pretrained=True', 'optimizer=AdamW', 'verbose=True', 'seed=0', 'deterministic=True', 'single_cls=False', 'rect=False', 'cos_lr=False', 'close_mosaic=10', 'resume=False', 'amp=True', 'fraction=1.0', 'profile=False', 'freeze=None', 'multi_scale=False', 'overlap_mask=True', 'mask_ratio=4', 'dropout=0.0', 'val=True', 'split=val', 'save_json=False', 'conf=None', 'iou=0.7', 'max_det=300', 'half=False', 'dnn=False', 'plots=True', 'source=None', 'vid_stride=1', 'stream_buffer=False', 'visualize=False', 'augment=False', 'agnostic_nms=False', 'classes=None', 'retina_masks=False', 'embed=None', 'show=False', 'save_frames=False', 'save_txt=False', 'save_conf=False', 'save_crop=False', 'show_labels=True', 'show_conf=True', 'show_boxes=True', 'line_width=None', 'format=torchscript', 'keras=False', 'optimize=False', 'int8=False', 'dynamic=False', 'simplify=True', 'opset=None', 'workspace=None', 'nms=False', 'lr0=0.01', 'lrf=0.01027', 'momentum=0.95808', 'weight_decay=0.0005', 'warmup_epochs=3.0', 'warmup_momentum=0.8', 'warmup_bias_lr=0.1', 'box=7.5', 'cls=0.5', 'dfl=1.5', 'pose=12.0', 'kobj=1.0', 'nbs=64', 'hsv_h=0.015', 'hsv_s=0.7', 'hsv_v=0.4', 'degrees=0.0', 'translate=0.1', 'scale=0.5', 'shear=0.0', 'perspective=0.0', 'flipud=0.0', 'fliplr=0.5', 'bgr=0.0', 'mosaic=1.0', 'mixup=0.0', 'copy_paste=0.0', 'copy_paste_mode=flip', 'auto_augment=randaugment', 'erasing=0.4', 'cfg=None', 'tracker=botsort.yaml']' returned non-zero exit status 1.\n",
      "Saved C:\\Users\\joons\\workspace\\final_project\\runs\\tuned_ga\\tuned_ga\\tune_scatter_plots.png\n",
      "Saved C:\\Users\\joons\\workspace\\final_project\\runs\\tuned_ga\\tuned_ga\\tune_fitness.png\n",
      "\n",
      "\u001b[34m\u001b[1mTuner: \u001b[0m5/30 iterations complete  (9689.53s)\n",
      "\u001b[34m\u001b[1mTuner: \u001b[0mResults saved to \u001b[1mC:\\Users\\joons\\workspace\\final_project\\runs\\tuned_ga\\tuned_ga\u001b[0m\n",
      "\u001b[34m\u001b[1mTuner: \u001b[0mBest fitness=0.92984 observed at iteration 3\n",
      "\u001b[34m\u001b[1mTuner: \u001b[0mBest fitness metrics are {'metrics/precision(B)': 0.98221, 'metrics/recall(B)': 0.95894, 'metrics/mAP50(B)': 0.98922, 'metrics/mAP50-95(B)': 0.92324, 'val/box_loss': 0.38434, 'val/cls_loss': 0.2222, 'val/dfl_loss': 0.80414, 'fitness': 0.92984}\n",
      "\u001b[34m\u001b[1mTuner: \u001b[0mBest fitness model is C:\\Users\\joons\\workspace\\final_project\\runs\\tuned_ga\\train3\n",
      "\u001b[34m\u001b[1mTuner: \u001b[0mBest fitness hyperparameters are printed below.\n",
      "\n",
      "Printing '\u001b[1m\u001b[30mC:\\Users\\joons\\workspace\\final_project\\runs\\tuned_ga\\tuned_ga\\best_hyperparameters.yaml\u001b[0m'\n",
      "\n",
      "lr0: 0.01\n",
      "momentum: 0.93547\n",
      "weight_decay: 0.0005\n",
      "lrf: 0.01\n",
      "\n",
      "\u001b[34m\u001b[1mTuner: \u001b[0mStarting iteration 6/30 with hyperparameters: {'lr0': 0.01, 'momentum': 0.81837, 'weight_decay': 0.00049, 'lrf': 0.01}\n",
      "Saved C:\\Users\\joons\\workspace\\final_project\\runs\\tuned_ga\\tuned_ga\\tune_scatter_plots.png\n",
      "Saved C:\\Users\\joons\\workspace\\final_project\\runs\\tuned_ga\\tuned_ga\\tune_fitness.png\n",
      "\n",
      "\u001b[34m\u001b[1mTuner: \u001b[0m6/30 iterations complete  (11727.89s)\n",
      "\u001b[34m\u001b[1mTuner: \u001b[0mResults saved to \u001b[1mC:\\Users\\joons\\workspace\\final_project\\runs\\tuned_ga\\tuned_ga\u001b[0m\n",
      "\u001b[34m\u001b[1mTuner: \u001b[0mBest fitness=0.92984 observed at iteration 3\n",
      "\u001b[34m\u001b[1mTuner: \u001b[0mBest fitness metrics are {'metrics/precision(B)': 0.98221, 'metrics/recall(B)': 0.95894, 'metrics/mAP50(B)': 0.98922, 'metrics/mAP50-95(B)': 0.92324, 'val/box_loss': 0.38434, 'val/cls_loss': 0.2222, 'val/dfl_loss': 0.80414, 'fitness': 0.92984}\n",
      "\u001b[34m\u001b[1mTuner: \u001b[0mBest fitness model is C:\\Users\\joons\\workspace\\final_project\\runs\\tuned_ga\\train3\n",
      "\u001b[34m\u001b[1mTuner: \u001b[0mBest fitness hyperparameters are printed below.\n",
      "\n",
      "Printing '\u001b[1m\u001b[30mC:\\Users\\joons\\workspace\\final_project\\runs\\tuned_ga\\tuned_ga\\best_hyperparameters.yaml\u001b[0m'\n",
      "\n",
      "lr0: 0.01\n",
      "momentum: 0.93547\n",
      "weight_decay: 0.0005\n",
      "lrf: 0.01\n",
      "\n",
      "\u001b[34m\u001b[1mTuner: \u001b[0mStarting iteration 7/30 with hyperparameters: {'lr0': 0.00932, 'momentum': 0.91338, 'weight_decay': 0.00056, 'lrf': 0.01321}\n",
      "Saved C:\\Users\\joons\\workspace\\final_project\\runs\\tuned_ga\\tuned_ga\\tune_scatter_plots.png\n",
      "Saved C:\\Users\\joons\\workspace\\final_project\\runs\\tuned_ga\\tuned_ga\\tune_fitness.png\n",
      "\n",
      "\u001b[34m\u001b[1mTuner: \u001b[0m7/30 iterations complete  (13763.30s)\n",
      "\u001b[34m\u001b[1mTuner: \u001b[0mResults saved to \u001b[1mC:\\Users\\joons\\workspace\\final_project\\runs\\tuned_ga\\tuned_ga\u001b[0m\n",
      "\u001b[34m\u001b[1mTuner: \u001b[0mBest fitness=0.92984 observed at iteration 3\n",
      "\u001b[34m\u001b[1mTuner: \u001b[0mBest fitness metrics are {'metrics/precision(B)': 0.98221, 'metrics/recall(B)': 0.95894, 'metrics/mAP50(B)': 0.98922, 'metrics/mAP50-95(B)': 0.92324, 'val/box_loss': 0.38434, 'val/cls_loss': 0.2222, 'val/dfl_loss': 0.80414, 'fitness': 0.92984}\n",
      "\u001b[34m\u001b[1mTuner: \u001b[0mBest fitness model is C:\\Users\\joons\\workspace\\final_project\\runs\\tuned_ga\\train3\n",
      "\u001b[34m\u001b[1mTuner: \u001b[0mBest fitness hyperparameters are printed below.\n",
      "\n",
      "Printing '\u001b[1m\u001b[30mC:\\Users\\joons\\workspace\\final_project\\runs\\tuned_ga\\tuned_ga\\best_hyperparameters.yaml\u001b[0m'\n",
      "\n",
      "lr0: 0.01\n",
      "momentum: 0.93547\n",
      "weight_decay: 0.0005\n",
      "lrf: 0.01\n",
      "\n",
      "\u001b[34m\u001b[1mTuner: \u001b[0mStarting iteration 8/30 with hyperparameters: {'lr0': 0.0093, 'momentum': 0.93547, 'weight_decay': 0.00063, 'lrf': 0.01}\n",
      "Saved C:\\Users\\joons\\workspace\\final_project\\runs\\tuned_ga\\tuned_ga\\tune_scatter_plots.png\n",
      "Saved C:\\Users\\joons\\workspace\\final_project\\runs\\tuned_ga\\tuned_ga\\tune_fitness.png\n",
      "\n",
      "\u001b[34m\u001b[1mTuner: \u001b[0m8/30 iterations complete  (15813.50s)\n",
      "\u001b[34m\u001b[1mTuner: \u001b[0mResults saved to \u001b[1mC:\\Users\\joons\\workspace\\final_project\\runs\\tuned_ga\\tuned_ga\u001b[0m\n",
      "\u001b[34m\u001b[1mTuner: \u001b[0mBest fitness=0.92984 observed at iteration 3\n",
      "\u001b[34m\u001b[1mTuner: \u001b[0mBest fitness metrics are {'metrics/precision(B)': 0.98221, 'metrics/recall(B)': 0.95894, 'metrics/mAP50(B)': 0.98922, 'metrics/mAP50-95(B)': 0.92324, 'val/box_loss': 0.38434, 'val/cls_loss': 0.2222, 'val/dfl_loss': 0.80414, 'fitness': 0.92984}\n",
      "\u001b[34m\u001b[1mTuner: \u001b[0mBest fitness model is C:\\Users\\joons\\workspace\\final_project\\runs\\tuned_ga\\train3\n",
      "\u001b[34m\u001b[1mTuner: \u001b[0mBest fitness hyperparameters are printed below.\n",
      "\n",
      "Printing '\u001b[1m\u001b[30mC:\\Users\\joons\\workspace\\final_project\\runs\\tuned_ga\\tuned_ga\\best_hyperparameters.yaml\u001b[0m'\n",
      "\n",
      "lr0: 0.01\n",
      "momentum: 0.93547\n",
      "weight_decay: 0.0005\n",
      "lrf: 0.01\n",
      "\n",
      "\u001b[34m\u001b[1mTuner: \u001b[0mStarting iteration 9/30 with hyperparameters: {'lr0': 0.00975, 'momentum': 0.89399, 'weight_decay': 0.0005, 'lrf': 0.0101}\n",
      "Saved C:\\Users\\joons\\workspace\\final_project\\runs\\tuned_ga\\tuned_ga\\tune_scatter_plots.png\n",
      "Saved C:\\Users\\joons\\workspace\\final_project\\runs\\tuned_ga\\tuned_ga\\tune_fitness.png\n",
      "\n",
      "\u001b[34m\u001b[1mTuner: \u001b[0m9/30 iterations complete  (17911.65s)\n",
      "\u001b[34m\u001b[1mTuner: \u001b[0mResults saved to \u001b[1mC:\\Users\\joons\\workspace\\final_project\\runs\\tuned_ga\\tuned_ga\u001b[0m\n",
      "\u001b[34m\u001b[1mTuner: \u001b[0mBest fitness=0.93025 observed at iteration 9\n",
      "\u001b[34m\u001b[1mTuner: \u001b[0mBest fitness metrics are {'metrics/precision(B)': 0.98444, 'metrics/recall(B)': 0.95793, 'metrics/mAP50(B)': 0.98942, 'metrics/mAP50-95(B)': 0.92367, 'val/box_loss': 0.38133, 'val/cls_loss': 0.22016, 'val/dfl_loss': 0.80276, 'fitness': 0.93025}\n",
      "\u001b[34m\u001b[1mTuner: \u001b[0mBest fitness model is C:\\Users\\joons\\workspace\\final_project\\runs\\tuned_ga\\train9\n",
      "\u001b[34m\u001b[1mTuner: \u001b[0mBest fitness hyperparameters are printed below.\n",
      "\n",
      "Printing '\u001b[1m\u001b[30mC:\\Users\\joons\\workspace\\final_project\\runs\\tuned_ga\\tuned_ga\\best_hyperparameters.yaml\u001b[0m'\n",
      "\n",
      "lr0: 0.00975\n",
      "momentum: 0.89399\n",
      "weight_decay: 0.0005\n",
      "lrf: 0.0101\n",
      "\n",
      "\u001b[34m\u001b[1mTuner: \u001b[0mStarting iteration 10/30 with hyperparameters: {'lr0': 0.00975, 'momentum': 0.73697, 'weight_decay': 0.00053, 'lrf': 0.01}\n",
      "Saved C:\\Users\\joons\\workspace\\final_project\\runs\\tuned_ga\\tuned_ga\\tune_scatter_plots.png\n",
      "Saved C:\\Users\\joons\\workspace\\final_project\\runs\\tuned_ga\\tuned_ga\\tune_fitness.png\n",
      "\n",
      "\u001b[34m\u001b[1mTuner: \u001b[0m10/30 iterations complete  (19963.65s)\n",
      "\u001b[34m\u001b[1mTuner: \u001b[0mResults saved to \u001b[1mC:\\Users\\joons\\workspace\\final_project\\runs\\tuned_ga\\tuned_ga\u001b[0m\n",
      "\u001b[34m\u001b[1mTuner: \u001b[0mBest fitness=0.93069 observed at iteration 10\n",
      "\u001b[34m\u001b[1mTuner: \u001b[0mBest fitness metrics are {'metrics/precision(B)': 0.98257, 'metrics/recall(B)': 0.95666, 'metrics/mAP50(B)': 0.98841, 'metrics/mAP50-95(B)': 0.92427, 'val/box_loss': 0.38778, 'val/cls_loss': 0.22569, 'val/dfl_loss': 0.80471, 'fitness': 0.93069}\n",
      "\u001b[34m\u001b[1mTuner: \u001b[0mBest fitness model is C:\\Users\\joons\\workspace\\final_project\\runs\\tuned_ga\\train10\n",
      "\u001b[34m\u001b[1mTuner: \u001b[0mBest fitness hyperparameters are printed below.\n",
      "\n",
      "Printing '\u001b[1m\u001b[30mC:\\Users\\joons\\workspace\\final_project\\runs\\tuned_ga\\tuned_ga\\best_hyperparameters.yaml\u001b[0m'\n",
      "\n",
      "lr0: 0.00975\n",
      "momentum: 0.73697\n",
      "weight_decay: 0.00053\n",
      "lrf: 0.01\n",
      "\n",
      "\u001b[34m\u001b[1mTuner: \u001b[0mStarting iteration 11/30 with hyperparameters: {'lr0': 0.00843, 'momentum': 0.98, 'weight_decay': 0.0005, 'lrf': 0.01168}\n",
      "Saved C:\\Users\\joons\\workspace\\final_project\\runs\\tuned_ga\\tuned_ga\\tune_scatter_plots.png\n",
      "Saved C:\\Users\\joons\\workspace\\final_project\\runs\\tuned_ga\\tuned_ga\\tune_fitness.png\n",
      "\n",
      "\u001b[34m\u001b[1mTuner: \u001b[0m11/30 iterations complete  (21997.09s)\n",
      "\u001b[34m\u001b[1mTuner: \u001b[0mResults saved to \u001b[1mC:\\Users\\joons\\workspace\\final_project\\runs\\tuned_ga\\tuned_ga\u001b[0m\n",
      "\u001b[34m\u001b[1mTuner: \u001b[0mBest fitness=0.93069 observed at iteration 10\n",
      "\u001b[34m\u001b[1mTuner: \u001b[0mBest fitness metrics are {'metrics/precision(B)': 0.98257, 'metrics/recall(B)': 0.95666, 'metrics/mAP50(B)': 0.98841, 'metrics/mAP50-95(B)': 0.92427, 'val/box_loss': 0.38778, 'val/cls_loss': 0.22569, 'val/dfl_loss': 0.80471, 'fitness': 0.93069}\n",
      "\u001b[34m\u001b[1mTuner: \u001b[0mBest fitness model is C:\\Users\\joons\\workspace\\final_project\\runs\\tuned_ga\\train10\n",
      "\u001b[34m\u001b[1mTuner: \u001b[0mBest fitness hyperparameters are printed below.\n",
      "\n",
      "Printing '\u001b[1m\u001b[30mC:\\Users\\joons\\workspace\\final_project\\runs\\tuned_ga\\tuned_ga\\best_hyperparameters.yaml\u001b[0m'\n",
      "\n",
      "lr0: 0.00975\n",
      "momentum: 0.73697\n",
      "weight_decay: 0.00053\n",
      "lrf: 0.01\n",
      "\n",
      "\u001b[34m\u001b[1mTuner: \u001b[0mStarting iteration 12/30 with hyperparameters: {'lr0': 0.00997, 'momentum': 0.72358, 'weight_decay': 0.00059, 'lrf': 0.01}\n",
      "ERROR training failure for hyperparameter tuning iteration 12\n",
      "Command '['C:\\\\Users\\\\joons\\\\anaconda3\\\\envs\\\\pigeon\\\\python.exe', '-m', 'ultralytics.cfg.__init__', 'train', 'task=detect', 'mode=train', 'model=C:/Users/joons/workspace/final_project\\\\pretrained_model\\\\yolo11s.pt', 'data=C:/Users/joons/workspace/final_project\\\\dataset\\\\coco8.yaml', 'epochs=10', 'time=None', 'patience=100', 'batch=32', 'imgsz=640', 'save=True', 'save_period=-1', 'cache=False', 'device=None', 'workers=8', 'project=C:/Users/joons/workspace/final_project\\\\runs\\\\tuned_ga', 'name=None', 'exist_ok=False', 'pretrained=True', 'optimizer=AdamW', 'verbose=True', 'seed=0', 'deterministic=True', 'single_cls=False', 'rect=False', 'cos_lr=False', 'close_mosaic=10', 'resume=False', 'amp=True', 'fraction=1.0', 'profile=False', 'freeze=None', 'multi_scale=False', 'overlap_mask=True', 'mask_ratio=4', 'dropout=0.0', 'val=True', 'split=val', 'save_json=False', 'conf=None', 'iou=0.7', 'max_det=300', 'half=False', 'dnn=False', 'plots=True', 'source=None', 'vid_stride=1', 'stream_buffer=False', 'visualize=False', 'augment=False', 'agnostic_nms=False', 'classes=None', 'retina_masks=False', 'embed=None', 'show=False', 'save_frames=False', 'save_txt=False', 'save_conf=False', 'save_crop=False', 'show_labels=True', 'show_conf=True', 'show_boxes=True', 'line_width=None', 'format=torchscript', 'keras=False', 'optimize=False', 'int8=False', 'dynamic=False', 'simplify=True', 'opset=None', 'workspace=None', 'nms=False', 'lr0=0.00997', 'lrf=0.01', 'momentum=0.72358', 'weight_decay=0.00059', 'warmup_epochs=3.0', 'warmup_momentum=0.8', 'warmup_bias_lr=0.1', 'box=7.5', 'cls=0.5', 'dfl=1.5', 'pose=12.0', 'kobj=1.0', 'nbs=64', 'hsv_h=0.015', 'hsv_s=0.7', 'hsv_v=0.4', 'degrees=0.0', 'translate=0.1', 'scale=0.5', 'shear=0.0', 'perspective=0.0', 'flipud=0.0', 'fliplr=0.5', 'bgr=0.0', 'mosaic=1.0', 'mixup=0.0', 'copy_paste=0.0', 'copy_paste_mode=flip', 'auto_augment=randaugment', 'erasing=0.4', 'cfg=None', 'tracker=botsort.yaml']' returned non-zero exit status 1.\n",
      "Saved C:\\Users\\joons\\workspace\\final_project\\runs\\tuned_ga\\tuned_ga\\tune_scatter_plots.png\n",
      "Saved C:\\Users\\joons\\workspace\\final_project\\runs\\tuned_ga\\tuned_ga\\tune_fitness.png\n",
      "\n",
      "\u001b[34m\u001b[1mTuner: \u001b[0m12/30 iterations complete  (22645.58s)\n",
      "\u001b[34m\u001b[1mTuner: \u001b[0mResults saved to \u001b[1mC:\\Users\\joons\\workspace\\final_project\\runs\\tuned_ga\\tuned_ga\u001b[0m\n",
      "\u001b[34m\u001b[1mTuner: \u001b[0mBest fitness=0.93069 observed at iteration 10\n",
      "\u001b[34m\u001b[1mTuner: \u001b[0mBest fitness metrics are {'metrics/precision(B)': 0.98257, 'metrics/recall(B)': 0.95666, 'metrics/mAP50(B)': 0.98841, 'metrics/mAP50-95(B)': 0.92427, 'val/box_loss': 0.38778, 'val/cls_loss': 0.22569, 'val/dfl_loss': 0.80471, 'fitness': 0.93069}\n",
      "\u001b[34m\u001b[1mTuner: \u001b[0mBest fitness model is C:\\Users\\joons\\workspace\\final_project\\runs\\tuned_ga\\train10\n",
      "\u001b[34m\u001b[1mTuner: \u001b[0mBest fitness hyperparameters are printed below.\n",
      "\n",
      "Printing '\u001b[1m\u001b[30mC:\\Users\\joons\\workspace\\final_project\\runs\\tuned_ga\\tuned_ga\\best_hyperparameters.yaml\u001b[0m'\n",
      "\n",
      "lr0: 0.00975\n",
      "momentum: 0.73697\n",
      "weight_decay: 0.00053\n",
      "lrf: 0.01\n",
      "\n",
      "\u001b[34m\u001b[1mTuner: \u001b[0mStarting iteration 13/30 with hyperparameters: {'lr0': 0.01, 'momentum': 0.89399, 'weight_decay': 0.00041, 'lrf': 0.01001}\n",
      "Saved C:\\Users\\joons\\workspace\\final_project\\runs\\tuned_ga\\tuned_ga\\tune_scatter_plots.png\n",
      "Saved C:\\Users\\joons\\workspace\\final_project\\runs\\tuned_ga\\tuned_ga\\tune_fitness.png\n",
      "\n",
      "\u001b[34m\u001b[1mTuner: \u001b[0m13/30 iterations complete  (24682.37s)\n",
      "\u001b[34m\u001b[1mTuner: \u001b[0mResults saved to \u001b[1mC:\\Users\\joons\\workspace\\final_project\\runs\\tuned_ga\\tuned_ga\u001b[0m\n",
      "\u001b[34m\u001b[1mTuner: \u001b[0mBest fitness=0.93069 observed at iteration 10\n",
      "\u001b[34m\u001b[1mTuner: \u001b[0mBest fitness metrics are {'metrics/precision(B)': 0.98257, 'metrics/recall(B)': 0.95666, 'metrics/mAP50(B)': 0.98841, 'metrics/mAP50-95(B)': 0.92427, 'val/box_loss': 0.38778, 'val/cls_loss': 0.22569, 'val/dfl_loss': 0.80471, 'fitness': 0.93069}\n",
      "\u001b[34m\u001b[1mTuner: \u001b[0mBest fitness model is C:\\Users\\joons\\workspace\\final_project\\runs\\tuned_ga\\train10\n",
      "\u001b[34m\u001b[1mTuner: \u001b[0mBest fitness hyperparameters are printed below.\n",
      "\n",
      "Printing '\u001b[1m\u001b[30mC:\\Users\\joons\\workspace\\final_project\\runs\\tuned_ga\\tuned_ga\\best_hyperparameters.yaml\u001b[0m'\n",
      "\n",
      "lr0: 0.00975\n",
      "momentum: 0.73697\n",
      "weight_decay: 0.00053\n",
      "lrf: 0.01\n",
      "\n",
      "\u001b[34m\u001b[1mTuner: \u001b[0mStarting iteration 14/30 with hyperparameters: {'lr0': 0.01, 'momentum': 0.97181, 'weight_decay': 0.00048, 'lrf': 0.01042}\n",
      "Saved C:\\Users\\joons\\workspace\\final_project\\runs\\tuned_ga\\tuned_ga\\tune_scatter_plots.png\n",
      "Saved C:\\Users\\joons\\workspace\\final_project\\runs\\tuned_ga\\tuned_ga\\tune_fitness.png\n",
      "\n",
      "\u001b[34m\u001b[1mTuner: \u001b[0m14/30 iterations complete  (26708.78s)\n",
      "\u001b[34m\u001b[1mTuner: \u001b[0mResults saved to \u001b[1mC:\\Users\\joons\\workspace\\final_project\\runs\\tuned_ga\\tuned_ga\u001b[0m\n",
      "\u001b[34m\u001b[1mTuner: \u001b[0mBest fitness=0.93069 observed at iteration 10\n",
      "\u001b[34m\u001b[1mTuner: \u001b[0mBest fitness metrics are {'metrics/precision(B)': 0.98257, 'metrics/recall(B)': 0.95666, 'metrics/mAP50(B)': 0.98841, 'metrics/mAP50-95(B)': 0.92427, 'val/box_loss': 0.38778, 'val/cls_loss': 0.22569, 'val/dfl_loss': 0.80471, 'fitness': 0.93069}\n",
      "\u001b[34m\u001b[1mTuner: \u001b[0mBest fitness model is C:\\Users\\joons\\workspace\\final_project\\runs\\tuned_ga\\train10\n",
      "\u001b[34m\u001b[1mTuner: \u001b[0mBest fitness hyperparameters are printed below.\n",
      "\n",
      "Printing '\u001b[1m\u001b[30mC:\\Users\\joons\\workspace\\final_project\\runs\\tuned_ga\\tuned_ga\\best_hyperparameters.yaml\u001b[0m'\n",
      "\n",
      "lr0: 0.00975\n",
      "momentum: 0.73697\n",
      "weight_decay: 0.00053\n",
      "lrf: 0.01\n",
      "\n",
      "\u001b[34m\u001b[1mTuner: \u001b[0mStarting iteration 15/30 with hyperparameters: {'lr0': 0.01, 'momentum': 0.91715, 'weight_decay': 0.00053, 'lrf': 0.01}\n",
      "Saved C:\\Users\\joons\\workspace\\final_project\\runs\\tuned_ga\\tuned_ga\\tune_scatter_plots.png\n",
      "Saved C:\\Users\\joons\\workspace\\final_project\\runs\\tuned_ga\\tuned_ga\\tune_fitness.png\n",
      "\n",
      "\u001b[34m\u001b[1mTuner: \u001b[0m15/30 iterations complete  (28733.76s)\n",
      "\u001b[34m\u001b[1mTuner: \u001b[0mResults saved to \u001b[1mC:\\Users\\joons\\workspace\\final_project\\runs\\tuned_ga\\tuned_ga\u001b[0m\n",
      "\u001b[34m\u001b[1mTuner: \u001b[0mBest fitness=0.93069 observed at iteration 10\n",
      "\u001b[34m\u001b[1mTuner: \u001b[0mBest fitness metrics are {'metrics/precision(B)': 0.98257, 'metrics/recall(B)': 0.95666, 'metrics/mAP50(B)': 0.98841, 'metrics/mAP50-95(B)': 0.92427, 'val/box_loss': 0.38778, 'val/cls_loss': 0.22569, 'val/dfl_loss': 0.80471, 'fitness': 0.93069}\n",
      "\u001b[34m\u001b[1mTuner: \u001b[0mBest fitness model is C:\\Users\\joons\\workspace\\final_project\\runs\\tuned_ga\\train10\n",
      "\u001b[34m\u001b[1mTuner: \u001b[0mBest fitness hyperparameters are printed below.\n",
      "\n",
      "Printing '\u001b[1m\u001b[30mC:\\Users\\joons\\workspace\\final_project\\runs\\tuned_ga\\tuned_ga\\best_hyperparameters.yaml\u001b[0m'\n",
      "\n",
      "lr0: 0.00975\n",
      "momentum: 0.73697\n",
      "weight_decay: 0.00053\n",
      "lrf: 0.01\n",
      "\n",
      "\u001b[34m\u001b[1mTuner: \u001b[0mStarting iteration 16/30 with hyperparameters: {'lr0': 0.01, 'momentum': 0.93547, 'weight_decay': 0.00052, 'lrf': 0.0101}\n",
      "Saved C:\\Users\\joons\\workspace\\final_project\\runs\\tuned_ga\\tuned_ga\\tune_scatter_plots.png\n",
      "Saved C:\\Users\\joons\\workspace\\final_project\\runs\\tuned_ga\\tuned_ga\\tune_fitness.png\n",
      "\n",
      "\u001b[34m\u001b[1mTuner: \u001b[0m16/30 iterations complete  (30758.10s)\n",
      "\u001b[34m\u001b[1mTuner: \u001b[0mResults saved to \u001b[1mC:\\Users\\joons\\workspace\\final_project\\runs\\tuned_ga\\tuned_ga\u001b[0m\n",
      "\u001b[34m\u001b[1mTuner: \u001b[0mBest fitness=0.93069 observed at iteration 10\n",
      "\u001b[34m\u001b[1mTuner: \u001b[0mBest fitness metrics are {'metrics/precision(B)': 0.98257, 'metrics/recall(B)': 0.95666, 'metrics/mAP50(B)': 0.98841, 'metrics/mAP50-95(B)': 0.92427, 'val/box_loss': 0.38778, 'val/cls_loss': 0.22569, 'val/dfl_loss': 0.80471, 'fitness': 0.93069}\n",
      "\u001b[34m\u001b[1mTuner: \u001b[0mBest fitness model is C:\\Users\\joons\\workspace\\final_project\\runs\\tuned_ga\\train10\n",
      "\u001b[34m\u001b[1mTuner: \u001b[0mBest fitness hyperparameters are printed below.\n",
      "\n",
      "Printing '\u001b[1m\u001b[30mC:\\Users\\joons\\workspace\\final_project\\runs\\tuned_ga\\tuned_ga\\best_hyperparameters.yaml\u001b[0m'\n",
      "\n",
      "lr0: 0.00975\n",
      "momentum: 0.73697\n",
      "weight_decay: 0.00053\n",
      "lrf: 0.01\n",
      "\n",
      "\u001b[34m\u001b[1mTuner: \u001b[0mStarting iteration 17/30 with hyperparameters: {'lr0': 0.00992, 'momentum': 0.98, 'weight_decay': 0.00052, 'lrf': 0.01009}\n",
      "Saved C:\\Users\\joons\\workspace\\final_project\\runs\\tuned_ga\\tuned_ga\\tune_scatter_plots.png\n",
      "Saved C:\\Users\\joons\\workspace\\final_project\\runs\\tuned_ga\\tuned_ga\\tune_fitness.png\n",
      "\n",
      "\u001b[34m\u001b[1mTuner: \u001b[0m17/30 iterations complete  (32789.37s)\n",
      "\u001b[34m\u001b[1mTuner: \u001b[0mResults saved to \u001b[1mC:\\Users\\joons\\workspace\\final_project\\runs\\tuned_ga\\tuned_ga\u001b[0m\n",
      "\u001b[34m\u001b[1mTuner: \u001b[0mBest fitness=0.93069 observed at iteration 10\n",
      "\u001b[34m\u001b[1mTuner: \u001b[0mBest fitness metrics are {'metrics/precision(B)': 0.98257, 'metrics/recall(B)': 0.95666, 'metrics/mAP50(B)': 0.98841, 'metrics/mAP50-95(B)': 0.92427, 'val/box_loss': 0.38778, 'val/cls_loss': 0.22569, 'val/dfl_loss': 0.80471, 'fitness': 0.93069}\n",
      "\u001b[34m\u001b[1mTuner: \u001b[0mBest fitness model is C:\\Users\\joons\\workspace\\final_project\\runs\\tuned_ga\\train10\n",
      "\u001b[34m\u001b[1mTuner: \u001b[0mBest fitness hyperparameters are printed below.\n",
      "\n",
      "Printing '\u001b[1m\u001b[30mC:\\Users\\joons\\workspace\\final_project\\runs\\tuned_ga\\tuned_ga\\best_hyperparameters.yaml\u001b[0m'\n",
      "\n",
      "lr0: 0.00975\n",
      "momentum: 0.73697\n",
      "weight_decay: 0.00053\n",
      "lrf: 0.01\n",
      "\n",
      "\u001b[34m\u001b[1mTuner: \u001b[0mStarting iteration 18/30 with hyperparameters: {'lr0': 0.00895, 'momentum': 0.89399, 'weight_decay': 0.00043, 'lrf': 0.01}\n",
      "Saved C:\\Users\\joons\\workspace\\final_project\\runs\\tuned_ga\\tuned_ga\\tune_scatter_plots.png\n",
      "Saved C:\\Users\\joons\\workspace\\final_project\\runs\\tuned_ga\\tuned_ga\\tune_fitness.png\n",
      "\n",
      "\u001b[34m\u001b[1mTuner: \u001b[0m18/30 iterations complete  (34812.02s)\n",
      "\u001b[34m\u001b[1mTuner: \u001b[0mResults saved to \u001b[1mC:\\Users\\joons\\workspace\\final_project\\runs\\tuned_ga\\tuned_ga\u001b[0m\n",
      "\u001b[34m\u001b[1mTuner: \u001b[0mBest fitness=0.93069 observed at iteration 10\n",
      "\u001b[34m\u001b[1mTuner: \u001b[0mBest fitness metrics are {'metrics/precision(B)': 0.98257, 'metrics/recall(B)': 0.95666, 'metrics/mAP50(B)': 0.98841, 'metrics/mAP50-95(B)': 0.92427, 'val/box_loss': 0.38778, 'val/cls_loss': 0.22569, 'val/dfl_loss': 0.80471, 'fitness': 0.93069}\n",
      "\u001b[34m\u001b[1mTuner: \u001b[0mBest fitness model is C:\\Users\\joons\\workspace\\final_project\\runs\\tuned_ga\\train10\n",
      "\u001b[34m\u001b[1mTuner: \u001b[0mBest fitness hyperparameters are printed below.\n",
      "\n",
      "Printing '\u001b[1m\u001b[30mC:\\Users\\joons\\workspace\\final_project\\runs\\tuned_ga\\tuned_ga\\best_hyperparameters.yaml\u001b[0m'\n",
      "\n",
      "lr0: 0.00975\n",
      "momentum: 0.73697\n",
      "weight_decay: 0.00053\n",
      "lrf: 0.01\n",
      "\n",
      "\u001b[34m\u001b[1mTuner: \u001b[0mStarting iteration 19/30 with hyperparameters: {'lr0': 0.00755, 'momentum': 0.73697, 'weight_decay': 0.00062, 'lrf': 0.0102}\n",
      "Saved C:\\Users\\joons\\workspace\\final_project\\runs\\tuned_ga\\tuned_ga\\tune_scatter_plots.png\n",
      "Saved C:\\Users\\joons\\workspace\\final_project\\runs\\tuned_ga\\tuned_ga\\tune_fitness.png\n",
      "\n",
      "\u001b[34m\u001b[1mTuner: \u001b[0m19/30 iterations complete  (36838.33s)\n",
      "\u001b[34m\u001b[1mTuner: \u001b[0mResults saved to \u001b[1mC:\\Users\\joons\\workspace\\final_project\\runs\\tuned_ga\\tuned_ga\u001b[0m\n",
      "\u001b[34m\u001b[1mTuner: \u001b[0mBest fitness=0.93069 observed at iteration 10\n",
      "\u001b[34m\u001b[1mTuner: \u001b[0mBest fitness metrics are {'metrics/precision(B)': 0.98257, 'metrics/recall(B)': 0.95666, 'metrics/mAP50(B)': 0.98841, 'metrics/mAP50-95(B)': 0.92427, 'val/box_loss': 0.38778, 'val/cls_loss': 0.22569, 'val/dfl_loss': 0.80471, 'fitness': 0.93069}\n",
      "\u001b[34m\u001b[1mTuner: \u001b[0mBest fitness model is C:\\Users\\joons\\workspace\\final_project\\runs\\tuned_ga\\train10\n",
      "\u001b[34m\u001b[1mTuner: \u001b[0mBest fitness hyperparameters are printed below.\n",
      "\n",
      "Printing '\u001b[1m\u001b[30mC:\\Users\\joons\\workspace\\final_project\\runs\\tuned_ga\\tuned_ga\\best_hyperparameters.yaml\u001b[0m'\n",
      "\n",
      "lr0: 0.00975\n",
      "momentum: 0.73697\n",
      "weight_decay: 0.00053\n",
      "lrf: 0.01\n",
      "\n",
      "\u001b[34m\u001b[1mTuner: \u001b[0mStarting iteration 20/30 with hyperparameters: {'lr0': 0.0089, 'momentum': 0.7575, 'weight_decay': 0.00049, 'lrf': 0.01}\n",
      "ERROR training failure for hyperparameter tuning iteration 20\n",
      "Command '['C:\\\\Users\\\\joons\\\\anaconda3\\\\envs\\\\pigeon\\\\python.exe', '-m', 'ultralytics.cfg.__init__', 'train', 'task=detect', 'mode=train', 'model=C:/Users/joons/workspace/final_project\\\\pretrained_model\\\\yolo11s.pt', 'data=C:/Users/joons/workspace/final_project\\\\dataset\\\\coco8.yaml', 'epochs=10', 'time=None', 'patience=100', 'batch=32', 'imgsz=640', 'save=True', 'save_period=-1', 'cache=False', 'device=None', 'workers=8', 'project=C:/Users/joons/workspace/final_project\\\\runs\\\\tuned_ga', 'name=None', 'exist_ok=False', 'pretrained=True', 'optimizer=AdamW', 'verbose=True', 'seed=0', 'deterministic=True', 'single_cls=False', 'rect=False', 'cos_lr=False', 'close_mosaic=10', 'resume=False', 'amp=True', 'fraction=1.0', 'profile=False', 'freeze=None', 'multi_scale=False', 'overlap_mask=True', 'mask_ratio=4', 'dropout=0.0', 'val=True', 'split=val', 'save_json=False', 'conf=None', 'iou=0.7', 'max_det=300', 'half=False', 'dnn=False', 'plots=True', 'source=None', 'vid_stride=1', 'stream_buffer=False', 'visualize=False', 'augment=False', 'agnostic_nms=False', 'classes=None', 'retina_masks=False', 'embed=None', 'show=False', 'save_frames=False', 'save_txt=False', 'save_conf=False', 'save_crop=False', 'show_labels=True', 'show_conf=True', 'show_boxes=True', 'line_width=None', 'format=torchscript', 'keras=False', 'optimize=False', 'int8=False', 'dynamic=False', 'simplify=True', 'opset=None', 'workspace=None', 'nms=False', 'lr0=0.0089', 'lrf=0.01', 'momentum=0.7575', 'weight_decay=0.00049', 'warmup_epochs=3.0', 'warmup_momentum=0.8', 'warmup_bias_lr=0.1', 'box=7.5', 'cls=0.5', 'dfl=1.5', 'pose=12.0', 'kobj=1.0', 'nbs=64', 'hsv_h=0.015', 'hsv_s=0.7', 'hsv_v=0.4', 'degrees=0.0', 'translate=0.1', 'scale=0.5', 'shear=0.0', 'perspective=0.0', 'flipud=0.0', 'fliplr=0.5', 'bgr=0.0', 'mosaic=1.0', 'mixup=0.0', 'copy_paste=0.0', 'copy_paste_mode=flip', 'auto_augment=randaugment', 'erasing=0.4', 'cfg=None', 'tracker=botsort.yaml']' returned non-zero exit status 1.\n",
      "Saved C:\\Users\\joons\\workspace\\final_project\\runs\\tuned_ga\\tuned_ga\\tune_scatter_plots.png\n",
      "Saved C:\\Users\\joons\\workspace\\final_project\\runs\\tuned_ga\\tuned_ga\\tune_fitness.png\n",
      "\n",
      "\u001b[34m\u001b[1mTuner: \u001b[0m20/30 iterations complete  (37986.79s)\n",
      "\u001b[34m\u001b[1mTuner: \u001b[0mResults saved to \u001b[1mC:\\Users\\joons\\workspace\\final_project\\runs\\tuned_ga\\tuned_ga\u001b[0m\n",
      "\u001b[34m\u001b[1mTuner: \u001b[0mBest fitness=0.93069 observed at iteration 10\n",
      "\u001b[34m\u001b[1mTuner: \u001b[0mBest fitness metrics are {'metrics/precision(B)': 0.98257, 'metrics/recall(B)': 0.95666, 'metrics/mAP50(B)': 0.98841, 'metrics/mAP50-95(B)': 0.92427, 'val/box_loss': 0.38778, 'val/cls_loss': 0.22569, 'val/dfl_loss': 0.80471, 'fitness': 0.93069}\n",
      "\u001b[34m\u001b[1mTuner: \u001b[0mBest fitness model is C:\\Users\\joons\\workspace\\final_project\\runs\\tuned_ga\\train10\n",
      "\u001b[34m\u001b[1mTuner: \u001b[0mBest fitness hyperparameters are printed below.\n",
      "\n",
      "Printing '\u001b[1m\u001b[30mC:\\Users\\joons\\workspace\\final_project\\runs\\tuned_ga\\tuned_ga\\best_hyperparameters.yaml\u001b[0m'\n",
      "\n",
      "lr0: 0.00975\n",
      "momentum: 0.73697\n",
      "weight_decay: 0.00053\n",
      "lrf: 0.01\n",
      "\n",
      "\u001b[34m\u001b[1mTuner: \u001b[0mStarting iteration 21/30 with hyperparameters: {'lr0': 0.00975, 'momentum': 0.77991, 'weight_decay': 0.00058, 'lrf': 0.01062}\n",
      "Saved C:\\Users\\joons\\workspace\\final_project\\runs\\tuned_ga\\tuned_ga\\tune_scatter_plots.png\n",
      "Saved C:\\Users\\joons\\workspace\\final_project\\runs\\tuned_ga\\tuned_ga\\tune_fitness.png\n",
      "\n",
      "\u001b[34m\u001b[1mTuner: \u001b[0m21/30 iterations complete  (40013.20s)\n",
      "\u001b[34m\u001b[1mTuner: \u001b[0mResults saved to \u001b[1mC:\\Users\\joons\\workspace\\final_project\\runs\\tuned_ga\\tuned_ga\u001b[0m\n",
      "\u001b[34m\u001b[1mTuner: \u001b[0mBest fitness=0.93069 observed at iteration 10\n",
      "\u001b[34m\u001b[1mTuner: \u001b[0mBest fitness metrics are {'metrics/precision(B)': 0.98257, 'metrics/recall(B)': 0.95666, 'metrics/mAP50(B)': 0.98841, 'metrics/mAP50-95(B)': 0.92427, 'val/box_loss': 0.38778, 'val/cls_loss': 0.22569, 'val/dfl_loss': 0.80471, 'fitness': 0.93069}\n",
      "\u001b[34m\u001b[1mTuner: \u001b[0mBest fitness model is C:\\Users\\joons\\workspace\\final_project\\runs\\tuned_ga\\train10\n",
      "\u001b[34m\u001b[1mTuner: \u001b[0mBest fitness hyperparameters are printed below.\n",
      "\n",
      "Printing '\u001b[1m\u001b[30mC:\\Users\\joons\\workspace\\final_project\\runs\\tuned_ga\\tuned_ga\\best_hyperparameters.yaml\u001b[0m'\n",
      "\n",
      "lr0: 0.00975\n",
      "momentum: 0.73697\n",
      "weight_decay: 0.00053\n",
      "lrf: 0.01\n",
      "\n",
      "\u001b[34m\u001b[1mTuner: \u001b[0mStarting iteration 22/30 with hyperparameters: {'lr0': 0.00871, 'momentum': 0.73697, 'weight_decay': 0.00053, 'lrf': 0.01}\n",
      "Saved C:\\Users\\joons\\workspace\\final_project\\runs\\tuned_ga\\tuned_ga\\tune_scatter_plots.png\n",
      "Saved C:\\Users\\joons\\workspace\\final_project\\runs\\tuned_ga\\tuned_ga\\tune_fitness.png\n",
      "\n",
      "\u001b[34m\u001b[1mTuner: \u001b[0m22/30 iterations complete  (42040.93s)\n",
      "\u001b[34m\u001b[1mTuner: \u001b[0mResults saved to \u001b[1mC:\\Users\\joons\\workspace\\final_project\\runs\\tuned_ga\\tuned_ga\u001b[0m\n",
      "\u001b[34m\u001b[1mTuner: \u001b[0mBest fitness=0.93069 observed at iteration 10\n",
      "\u001b[34m\u001b[1mTuner: \u001b[0mBest fitness metrics are {'metrics/precision(B)': 0.98257, 'metrics/recall(B)': 0.95666, 'metrics/mAP50(B)': 0.98841, 'metrics/mAP50-95(B)': 0.92427, 'val/box_loss': 0.38778, 'val/cls_loss': 0.22569, 'val/dfl_loss': 0.80471, 'fitness': 0.93069}\n",
      "\u001b[34m\u001b[1mTuner: \u001b[0mBest fitness model is C:\\Users\\joons\\workspace\\final_project\\runs\\tuned_ga\\train10\n",
      "\u001b[34m\u001b[1mTuner: \u001b[0mBest fitness hyperparameters are printed below.\n",
      "\n",
      "Printing '\u001b[1m\u001b[30mC:\\Users\\joons\\workspace\\final_project\\runs\\tuned_ga\\tuned_ga\\best_hyperparameters.yaml\u001b[0m'\n",
      "\n",
      "lr0: 0.00975\n",
      "momentum: 0.73697\n",
      "weight_decay: 0.00053\n",
      "lrf: 0.01\n",
      "\n",
      "\u001b[34m\u001b[1mTuner: \u001b[0mStarting iteration 23/30 with hyperparameters: {'lr0': 0.00872, 'momentum': 0.81159, 'weight_decay': 0.00052, 'lrf': 0.0102}\n",
      "Saved C:\\Users\\joons\\workspace\\final_project\\runs\\tuned_ga\\tuned_ga\\tune_scatter_plots.png\n",
      "Saved C:\\Users\\joons\\workspace\\final_project\\runs\\tuned_ga\\tuned_ga\\tune_fitness.png\n",
      "\n",
      "\u001b[34m\u001b[1mTuner: \u001b[0m23/30 iterations complete  (44064.67s)\n",
      "\u001b[34m\u001b[1mTuner: \u001b[0mResults saved to \u001b[1mC:\\Users\\joons\\workspace\\final_project\\runs\\tuned_ga\\tuned_ga\u001b[0m\n",
      "\u001b[34m\u001b[1mTuner: \u001b[0mBest fitness=0.93069 observed at iteration 10\n",
      "\u001b[34m\u001b[1mTuner: \u001b[0mBest fitness metrics are {'metrics/precision(B)': 0.98257, 'metrics/recall(B)': 0.95666, 'metrics/mAP50(B)': 0.98841, 'metrics/mAP50-95(B)': 0.92427, 'val/box_loss': 0.38778, 'val/cls_loss': 0.22569, 'val/dfl_loss': 0.80471, 'fitness': 0.93069}\n",
      "\u001b[34m\u001b[1mTuner: \u001b[0mBest fitness model is C:\\Users\\joons\\workspace\\final_project\\runs\\tuned_ga\\train10\n",
      "\u001b[34m\u001b[1mTuner: \u001b[0mBest fitness hyperparameters are printed below.\n",
      "\n",
      "Printing '\u001b[1m\u001b[30mC:\\Users\\joons\\workspace\\final_project\\runs\\tuned_ga\\tuned_ga\\best_hyperparameters.yaml\u001b[0m'\n",
      "\n",
      "lr0: 0.00975\n",
      "momentum: 0.73697\n",
      "weight_decay: 0.00053\n",
      "lrf: 0.01\n",
      "\n",
      "\u001b[34m\u001b[1mTuner: \u001b[0mStarting iteration 24/30 with hyperparameters: {'lr0': 0.00975, 'momentum': 0.89945, 'weight_decay': 0.00051, 'lrf': 0.01101}\n",
      "Saved C:\\Users\\joons\\workspace\\final_project\\runs\\tuned_ga\\tuned_ga\\tune_scatter_plots.png\n",
      "Saved C:\\Users\\joons\\workspace\\final_project\\runs\\tuned_ga\\tuned_ga\\tune_fitness.png\n",
      "\n",
      "\u001b[34m\u001b[1mTuner: \u001b[0m24/30 iterations complete  (46084.97s)\n",
      "\u001b[34m\u001b[1mTuner: \u001b[0mResults saved to \u001b[1mC:\\Users\\joons\\workspace\\final_project\\runs\\tuned_ga\\tuned_ga\u001b[0m\n",
      "\u001b[34m\u001b[1mTuner: \u001b[0mBest fitness=0.93069 observed at iteration 10\n",
      "\u001b[34m\u001b[1mTuner: \u001b[0mBest fitness metrics are {'metrics/precision(B)': 0.98257, 'metrics/recall(B)': 0.95666, 'metrics/mAP50(B)': 0.98841, 'metrics/mAP50-95(B)': 0.92427, 'val/box_loss': 0.38778, 'val/cls_loss': 0.22569, 'val/dfl_loss': 0.80471, 'fitness': 0.93069}\n",
      "\u001b[34m\u001b[1mTuner: \u001b[0mBest fitness model is C:\\Users\\joons\\workspace\\final_project\\runs\\tuned_ga\\train10\n",
      "\u001b[34m\u001b[1mTuner: \u001b[0mBest fitness hyperparameters are printed below.\n",
      "\n",
      "Printing '\u001b[1m\u001b[30mC:\\Users\\joons\\workspace\\final_project\\runs\\tuned_ga\\tuned_ga\\best_hyperparameters.yaml\u001b[0m'\n",
      "\n",
      "lr0: 0.00975\n",
      "momentum: 0.73697\n",
      "weight_decay: 0.00053\n",
      "lrf: 0.01\n",
      "\n",
      "\u001b[34m\u001b[1mTuner: \u001b[0mStarting iteration 25/30 with hyperparameters: {'lr0': 0.00823, 'momentum': 0.68383, 'weight_decay': 0.00058, 'lrf': 0.01061}\n",
      "Saved C:\\Users\\joons\\workspace\\final_project\\runs\\tuned_ga\\tuned_ga\\tune_scatter_plots.png\n",
      "Saved C:\\Users\\joons\\workspace\\final_project\\runs\\tuned_ga\\tuned_ga\\tune_fitness.png\n",
      "\n",
      "\u001b[34m\u001b[1mTuner: \u001b[0m25/30 iterations complete  (48101.04s)\n",
      "\u001b[34m\u001b[1mTuner: \u001b[0mResults saved to \u001b[1mC:\\Users\\joons\\workspace\\final_project\\runs\\tuned_ga\\tuned_ga\u001b[0m\n",
      "\u001b[34m\u001b[1mTuner: \u001b[0mBest fitness=0.93069 observed at iteration 10\n",
      "\u001b[34m\u001b[1mTuner: \u001b[0mBest fitness metrics are {'metrics/precision(B)': 0.98257, 'metrics/recall(B)': 0.95666, 'metrics/mAP50(B)': 0.98841, 'metrics/mAP50-95(B)': 0.92427, 'val/box_loss': 0.38778, 'val/cls_loss': 0.22569, 'val/dfl_loss': 0.80471, 'fitness': 0.93069}\n",
      "\u001b[34m\u001b[1mTuner: \u001b[0mBest fitness model is C:\\Users\\joons\\workspace\\final_project\\runs\\tuned_ga\\train10\n",
      "\u001b[34m\u001b[1mTuner: \u001b[0mBest fitness hyperparameters are printed below.\n",
      "\n",
      "Printing '\u001b[1m\u001b[30mC:\\Users\\joons\\workspace\\final_project\\runs\\tuned_ga\\tuned_ga\\best_hyperparameters.yaml\u001b[0m'\n",
      "\n",
      "lr0: 0.00975\n",
      "momentum: 0.73697\n",
      "weight_decay: 0.00053\n",
      "lrf: 0.01\n",
      "\n",
      "\u001b[34m\u001b[1mTuner: \u001b[0mStarting iteration 26/30 with hyperparameters: {'lr0': 0.00872, 'momentum': 0.74823, 'weight_decay': 0.00049, 'lrf': 0.01042}\n",
      "Saved C:\\Users\\joons\\workspace\\final_project\\runs\\tuned_ga\\tuned_ga\\tune_scatter_plots.png\n",
      "Saved C:\\Users\\joons\\workspace\\final_project\\runs\\tuned_ga\\tuned_ga\\tune_fitness.png\n",
      "\n",
      "\u001b[34m\u001b[1mTuner: \u001b[0m26/30 iterations complete  (50125.52s)\n",
      "\u001b[34m\u001b[1mTuner: \u001b[0mResults saved to \u001b[1mC:\\Users\\joons\\workspace\\final_project\\runs\\tuned_ga\\tuned_ga\u001b[0m\n",
      "\u001b[34m\u001b[1mTuner: \u001b[0mBest fitness=0.93171 observed at iteration 26\n",
      "\u001b[34m\u001b[1mTuner: \u001b[0mBest fitness metrics are {'metrics/precision(B)': 0.98121, 'metrics/recall(B)': 0.9576, 'metrics/mAP50(B)': 0.98854, 'metrics/mAP50-95(B)': 0.92539, 'val/box_loss': 0.38309, 'val/cls_loss': 0.22353, 'val/dfl_loss': 0.80326, 'fitness': 0.93171}\n",
      "\u001b[34m\u001b[1mTuner: \u001b[0mBest fitness model is C:\\Users\\joons\\workspace\\final_project\\runs\\tuned_ga\\train26\n",
      "\u001b[34m\u001b[1mTuner: \u001b[0mBest fitness hyperparameters are printed below.\n",
      "\n",
      "Printing '\u001b[1m\u001b[30mC:\\Users\\joons\\workspace\\final_project\\runs\\tuned_ga\\tuned_ga\\best_hyperparameters.yaml\u001b[0m'\n",
      "\n",
      "lr0: 0.00872\n",
      "momentum: 0.74823\n",
      "weight_decay: 0.00049\n",
      "lrf: 0.01042\n",
      "\n",
      "\u001b[34m\u001b[1mTuner: \u001b[0mStarting iteration 27/30 with hyperparameters: {'lr0': 0.00715, 'momentum': 0.83917, 'weight_decay': 0.0005, 'lrf': 0.01125}\n",
      "Saved C:\\Users\\joons\\workspace\\final_project\\runs\\tuned_ga\\tuned_ga\\tune_scatter_plots.png\n",
      "Saved C:\\Users\\joons\\workspace\\final_project\\runs\\tuned_ga\\tuned_ga\\tune_fitness.png\n",
      "\n",
      "\u001b[34m\u001b[1mTuner: \u001b[0m27/30 iterations complete  (52141.32s)\n",
      "\u001b[34m\u001b[1mTuner: \u001b[0mResults saved to \u001b[1mC:\\Users\\joons\\workspace\\final_project\\runs\\tuned_ga\\tuned_ga\u001b[0m\n",
      "\u001b[34m\u001b[1mTuner: \u001b[0mBest fitness=0.93171 observed at iteration 26\n",
      "\u001b[34m\u001b[1mTuner: \u001b[0mBest fitness metrics are {'metrics/precision(B)': 0.98121, 'metrics/recall(B)': 0.9576, 'metrics/mAP50(B)': 0.98854, 'metrics/mAP50-95(B)': 0.92539, 'val/box_loss': 0.38309, 'val/cls_loss': 0.22353, 'val/dfl_loss': 0.80326, 'fitness': 0.93171}\n",
      "\u001b[34m\u001b[1mTuner: \u001b[0mBest fitness model is C:\\Users\\joons\\workspace\\final_project\\runs\\tuned_ga\\train26\n",
      "\u001b[34m\u001b[1mTuner: \u001b[0mBest fitness hyperparameters are printed below.\n",
      "\n",
      "Printing '\u001b[1m\u001b[30mC:\\Users\\joons\\workspace\\final_project\\runs\\tuned_ga\\tuned_ga\\best_hyperparameters.yaml\u001b[0m'\n",
      "\n",
      "lr0: 0.00872\n",
      "momentum: 0.74823\n",
      "weight_decay: 0.00049\n",
      "lrf: 0.01042\n",
      "\n",
      "\u001b[34m\u001b[1mTuner: \u001b[0mStarting iteration 28/30 with hyperparameters: {'lr0': 0.00859, 'momentum': 0.73697, 'weight_decay': 0.00049, 'lrf': 0.01113}\n",
      "Saved C:\\Users\\joons\\workspace\\final_project\\runs\\tuned_ga\\tuned_ga\\tune_scatter_plots.png\n",
      "Saved C:\\Users\\joons\\workspace\\final_project\\runs\\tuned_ga\\tuned_ga\\tune_fitness.png\n",
      "\n",
      "\u001b[34m\u001b[1mTuner: \u001b[0m28/30 iterations complete  (54162.25s)\n",
      "\u001b[34m\u001b[1mTuner: \u001b[0mResults saved to \u001b[1mC:\\Users\\joons\\workspace\\final_project\\runs\\tuned_ga\\tuned_ga\u001b[0m\n",
      "\u001b[34m\u001b[1mTuner: \u001b[0mBest fitness=0.93171 observed at iteration 26\n",
      "\u001b[34m\u001b[1mTuner: \u001b[0mBest fitness metrics are {'metrics/precision(B)': 0.98121, 'metrics/recall(B)': 0.9576, 'metrics/mAP50(B)': 0.98854, 'metrics/mAP50-95(B)': 0.92539, 'val/box_loss': 0.38309, 'val/cls_loss': 0.22353, 'val/dfl_loss': 0.80326, 'fitness': 0.93171}\n",
      "\u001b[34m\u001b[1mTuner: \u001b[0mBest fitness model is C:\\Users\\joons\\workspace\\final_project\\runs\\tuned_ga\\train26\n",
      "\u001b[34m\u001b[1mTuner: \u001b[0mBest fitness hyperparameters are printed below.\n",
      "\n",
      "Printing '\u001b[1m\u001b[30mC:\\Users\\joons\\workspace\\final_project\\runs\\tuned_ga\\tuned_ga\\best_hyperparameters.yaml\u001b[0m'\n",
      "\n",
      "lr0: 0.00872\n",
      "momentum: 0.74823\n",
      "weight_decay: 0.00049\n",
      "lrf: 0.01042\n",
      "\n",
      "\u001b[34m\u001b[1mTuner: \u001b[0mStarting iteration 29/30 with hyperparameters: {'lr0': 0.00947, 'momentum': 0.74823, 'weight_decay': 0.00046, 'lrf': 0.01063}\n",
      "Saved C:\\Users\\joons\\workspace\\final_project\\runs\\tuned_ga\\tuned_ga\\tune_scatter_plots.png\n",
      "Saved C:\\Users\\joons\\workspace\\final_project\\runs\\tuned_ga\\tuned_ga\\tune_fitness.png\n",
      "\n",
      "\u001b[34m\u001b[1mTuner: \u001b[0m29/30 iterations complete  (56188.77s)\n",
      "\u001b[34m\u001b[1mTuner: \u001b[0mResults saved to \u001b[1mC:\\Users\\joons\\workspace\\final_project\\runs\\tuned_ga\\tuned_ga\u001b[0m\n",
      "\u001b[34m\u001b[1mTuner: \u001b[0mBest fitness=0.93254 observed at iteration 29\n",
      "\u001b[34m\u001b[1mTuner: \u001b[0mBest fitness metrics are {'metrics/precision(B)': 0.98338, 'metrics/recall(B)': 0.95559, 'metrics/mAP50(B)': 0.98849, 'metrics/mAP50-95(B)': 0.92632, 'val/box_loss': 0.38261, 'val/cls_loss': 0.22269, 'val/dfl_loss': 0.80398, 'fitness': 0.93254}\n",
      "\u001b[34m\u001b[1mTuner: \u001b[0mBest fitness model is C:\\Users\\joons\\workspace\\final_project\\runs\\tuned_ga\\train29\n",
      "\u001b[34m\u001b[1mTuner: \u001b[0mBest fitness hyperparameters are printed below.\n",
      "\n",
      "Printing '\u001b[1m\u001b[30mC:\\Users\\joons\\workspace\\final_project\\runs\\tuned_ga\\tuned_ga\\best_hyperparameters.yaml\u001b[0m'\n",
      "\n",
      "lr0: 0.00947\n",
      "momentum: 0.74823\n",
      "weight_decay: 0.00046\n",
      "lrf: 0.01063\n",
      "\n",
      "\u001b[34m\u001b[1mTuner: \u001b[0mStarting iteration 30/30 with hyperparameters: {'lr0': 0.00748, 'momentum': 0.72075, 'weight_decay': 0.00046, 'lrf': 0.0108}\n",
      "Saved C:\\Users\\joons\\workspace\\final_project\\runs\\tuned_ga\\tuned_ga\\tune_scatter_plots.png\n",
      "Saved C:\\Users\\joons\\workspace\\final_project\\runs\\tuned_ga\\tuned_ga\\tune_fitness.png\n",
      "\n",
      "\u001b[34m\u001b[1mTuner: \u001b[0m30/30 iterations complete  (58215.34s)\n",
      "\u001b[34m\u001b[1mTuner: \u001b[0mResults saved to \u001b[1mC:\\Users\\joons\\workspace\\final_project\\runs\\tuned_ga\\tuned_ga\u001b[0m\n",
      "\u001b[34m\u001b[1mTuner: \u001b[0mBest fitness=0.93254 observed at iteration 29\n",
      "\u001b[34m\u001b[1mTuner: \u001b[0mBest fitness metrics are {'metrics/precision(B)': 0.98338, 'metrics/recall(B)': 0.95559, 'metrics/mAP50(B)': 0.98849, 'metrics/mAP50-95(B)': 0.92632, 'val/box_loss': 0.38261, 'val/cls_loss': 0.22269, 'val/dfl_loss': 0.80398, 'fitness': 0.93254}\n",
      "\u001b[34m\u001b[1mTuner: \u001b[0mBest fitness model is C:\\Users\\joons\\workspace\\final_project\\runs\\tuned_ga\\train29\n",
      "\u001b[34m\u001b[1mTuner: \u001b[0mBest fitness hyperparameters are printed below.\n",
      "\n",
      "Printing '\u001b[1m\u001b[30mC:\\Users\\joons\\workspace\\final_project\\runs\\tuned_ga\\tuned_ga\\best_hyperparameters.yaml\u001b[0m'\n",
      "\n",
      "lr0: 0.00947\n",
      "momentum: 0.74823\n",
      "weight_decay: 0.00046\n",
      "lrf: 0.01063\n",
      "\n"
     ]
    }
   ],
   "source": [
    "from ultralytics import YOLO\n",
    "import os\n",
    "\n",
    "runs_ga_path = os.path.join(runs_path, \"tuned_ga\")\n",
    "\n",
    "model = YOLO(pretrained_model_path)\n",
    "\n",
    "search_space = {\n",
    "    \"lr0\": (1e-5, 1e-2),\n",
    "    \"momentum\": (0.6, 0.98),\n",
    "    \"weight_decay\": (0.0, 0.001),\n",
    "    \"lrf\": (0.01, 1.0),\n",
    "\n",
    "}\n",
    "\n",
    "model.tune(\n",
    "    data=yaml_path,\n",
    "    epochs=10,\n",
    "    iterations=30,\n",
    "    imgsz=640,\n",
    "    batch=32,\n",
    "    optimizer=\"AdamW\",\n",
    "    space=search_space,\n",
    "    project=runs_ga_path,\n",
    "    name=\"tuned_ga\",\n",
    "    resume=True,\n",
    ")"
   ]
  },
  {
   "cell_type": "code",
   "execution_count": 8,
   "metadata": {
    "scrolled": true
   },
   "outputs": [
    {
     "name": "stdout",
     "output_type": "stream",
     "text": [
      "\u001b[34m\u001b[1mTuner: \u001b[0mInitialized Tuner instance with 'tune_dir=C:\\Users\\joons\\workspace\\final_project\\runs\\tuned_aug_auto\\aug_auto'\n",
      "\u001b[34m\u001b[1mTuner: \u001b[0m Learn about tuning at https://docs.ultralytics.com/guides/hyperparameter-tuning\n",
      "\u001b[34m\u001b[1mTuner: \u001b[0mStarting iteration 1/30 with hyperparameters: {'mosaic': 1.0, 'mixup': 0.0, 'hsv_s': 0.7, 'degrees': 0.0, 'scale': 0.5, 'fliplr': 0.5}\n",
      "Saved C:\\Users\\joons\\workspace\\final_project\\runs\\tuned_aug_auto\\aug_auto\\tune_scatter_plots.png\n",
      "Saved C:\\Users\\joons\\workspace\\final_project\\runs\\tuned_aug_auto\\aug_auto\\tune_fitness.png\n",
      "\n",
      "\u001b[34m\u001b[1mTuner: \u001b[0m1/30 iterations complete  (2022.88s)\n",
      "\u001b[34m\u001b[1mTuner: \u001b[0mResults saved to \u001b[1mC:\\Users\\joons\\workspace\\final_project\\runs\\tuned_aug_auto\\aug_auto\u001b[0m\n",
      "\u001b[34m\u001b[1mTuner: \u001b[0mBest fitness=0.92901 observed at iteration 1\n",
      "\u001b[34m\u001b[1mTuner: \u001b[0mBest fitness metrics are {'metrics/precision(B)': 0.98205, 'metrics/recall(B)': 0.95589, 'metrics/mAP50(B)': 0.9883, 'metrics/mAP50-95(B)': 0.92242, 'val/box_loss': 0.39076, 'val/cls_loss': 0.2268, 'val/dfl_loss': 0.80406, 'fitness': 0.92901}\n",
      "\u001b[34m\u001b[1mTuner: \u001b[0mBest fitness model is C:\\Users\\joons\\workspace\\final_project\\runs\\tuned_aug_auto\\train\n",
      "\u001b[34m\u001b[1mTuner: \u001b[0mBest fitness hyperparameters are printed below.\n",
      "\n",
      "Printing '\u001b[1m\u001b[30mC:\\Users\\joons\\workspace\\final_project\\runs\\tuned_aug_auto\\aug_auto\\best_hyperparameters.yaml\u001b[0m'\n",
      "\n",
      "mosaic: 1.0\n",
      "mixup: 0.0\n",
      "hsv_s: 0.7\n",
      "degrees: 0.0\n",
      "scale: 0.5\n",
      "fliplr: 0.5\n",
      "\n",
      "\u001b[34m\u001b[1mTuner: \u001b[0mStarting iteration 2/30 with hyperparameters: {'mosaic': 0.9315, 'mixup': 0.0, 'hsv_s': 0.7, 'degrees': 0.0, 'scale': 0.59504, 'fliplr': 0.5}\n",
      "Saved C:\\Users\\joons\\workspace\\final_project\\runs\\tuned_aug_auto\\aug_auto\\tune_scatter_plots.png\n",
      "Saved C:\\Users\\joons\\workspace\\final_project\\runs\\tuned_aug_auto\\aug_auto\\tune_fitness.png\n",
      "\n",
      "\u001b[34m\u001b[1mTuner: \u001b[0m2/30 iterations complete  (4055.38s)\n",
      "\u001b[34m\u001b[1mTuner: \u001b[0mResults saved to \u001b[1mC:\\Users\\joons\\workspace\\final_project\\runs\\tuned_aug_auto\\aug_auto\u001b[0m\n",
      "\u001b[34m\u001b[1mTuner: \u001b[0mBest fitness=0.92901 observed at iteration 1\n",
      "\u001b[34m\u001b[1mTuner: \u001b[0mBest fitness metrics are {'metrics/precision(B)': 0.98205, 'metrics/recall(B)': 0.95589, 'metrics/mAP50(B)': 0.9883, 'metrics/mAP50-95(B)': 0.92242, 'val/box_loss': 0.39076, 'val/cls_loss': 0.2268, 'val/dfl_loss': 0.80406, 'fitness': 0.92901}\n",
      "\u001b[34m\u001b[1mTuner: \u001b[0mBest fitness model is C:\\Users\\joons\\workspace\\final_project\\runs\\tuned_aug_auto\\train\n",
      "\u001b[34m\u001b[1mTuner: \u001b[0mBest fitness hyperparameters are printed below.\n",
      "\n",
      "Printing '\u001b[1m\u001b[30mC:\\Users\\joons\\workspace\\final_project\\runs\\tuned_aug_auto\\aug_auto\\best_hyperparameters.yaml\u001b[0m'\n",
      "\n",
      "mosaic: 1.0\n",
      "mixup: 0.0\n",
      "hsv_s: 0.7\n",
      "degrees: 0.0\n",
      "scale: 0.5\n",
      "fliplr: 0.5\n",
      "\n",
      "\u001b[34m\u001b[1mTuner: \u001b[0mStarting iteration 3/30 with hyperparameters: {'mosaic': 1.0, 'mixup': 0.0, 'hsv_s': 0.89963, 'degrees': 0.0, 'scale': 0.48072, 'fliplr': 0.5}\n",
      "Saved C:\\Users\\joons\\workspace\\final_project\\runs\\tuned_aug_auto\\aug_auto\\tune_scatter_plots.png\n",
      "Saved C:\\Users\\joons\\workspace\\final_project\\runs\\tuned_aug_auto\\aug_auto\\tune_fitness.png\n",
      "\n",
      "\u001b[34m\u001b[1mTuner: \u001b[0m3/30 iterations complete  (6117.50s)\n",
      "\u001b[34m\u001b[1mTuner: \u001b[0mResults saved to \u001b[1mC:\\Users\\joons\\workspace\\final_project\\runs\\tuned_aug_auto\\aug_auto\u001b[0m\n",
      "\u001b[34m\u001b[1mTuner: \u001b[0mBest fitness=0.93055 observed at iteration 3\n",
      "\u001b[34m\u001b[1mTuner: \u001b[0mBest fitness metrics are {'metrics/precision(B)': 0.98239, 'metrics/recall(B)': 0.95821, 'metrics/mAP50(B)': 0.98939, 'metrics/mAP50-95(B)': 0.92401, 'val/box_loss': 0.3831, 'val/cls_loss': 0.22173, 'val/dfl_loss': 0.80311, 'fitness': 0.93055}\n",
      "\u001b[34m\u001b[1mTuner: \u001b[0mBest fitness model is C:\\Users\\joons\\workspace\\final_project\\runs\\tuned_aug_auto\\train3\n",
      "\u001b[34m\u001b[1mTuner: \u001b[0mBest fitness hyperparameters are printed below.\n",
      "\n",
      "Printing '\u001b[1m\u001b[30mC:\\Users\\joons\\workspace\\final_project\\runs\\tuned_aug_auto\\aug_auto\\best_hyperparameters.yaml\u001b[0m'\n",
      "\n",
      "mosaic: 1.0\n",
      "mixup: 0.0\n",
      "hsv_s: 0.89963\n",
      "degrees: 0.0\n",
      "scale: 0.48072\n",
      "fliplr: 0.5\n",
      "\n",
      "\u001b[34m\u001b[1mTuner: \u001b[0mStarting iteration 4/30 with hyperparameters: {'mosaic': 0.93388, 'mixup': 0.0, 'hsv_s': 0.86597, 'degrees': 0.0, 'scale': 0.5362, 'fliplr': 0.53432}\n",
      "Saved C:\\Users\\joons\\workspace\\final_project\\runs\\tuned_aug_auto\\aug_auto\\tune_scatter_plots.png\n",
      "Saved C:\\Users\\joons\\workspace\\final_project\\runs\\tuned_aug_auto\\aug_auto\\tune_fitness.png\n",
      "\n",
      "\u001b[34m\u001b[1mTuner: \u001b[0m4/30 iterations complete  (8364.93s)\n",
      "\u001b[34m\u001b[1mTuner: \u001b[0mResults saved to \u001b[1mC:\\Users\\joons\\workspace\\final_project\\runs\\tuned_aug_auto\\aug_auto\u001b[0m\n",
      "\u001b[34m\u001b[1mTuner: \u001b[0mBest fitness=0.93055 observed at iteration 3\n",
      "\u001b[34m\u001b[1mTuner: \u001b[0mBest fitness metrics are {'metrics/precision(B)': 0.98239, 'metrics/recall(B)': 0.95821, 'metrics/mAP50(B)': 0.98939, 'metrics/mAP50-95(B)': 0.92401, 'val/box_loss': 0.3831, 'val/cls_loss': 0.22173, 'val/dfl_loss': 0.80311, 'fitness': 0.93055}\n",
      "\u001b[34m\u001b[1mTuner: \u001b[0mBest fitness model is C:\\Users\\joons\\workspace\\final_project\\runs\\tuned_aug_auto\\train3\n",
      "\u001b[34m\u001b[1mTuner: \u001b[0mBest fitness hyperparameters are printed below.\n",
      "\n",
      "Printing '\u001b[1m\u001b[30mC:\\Users\\joons\\workspace\\final_project\\runs\\tuned_aug_auto\\aug_auto\\best_hyperparameters.yaml\u001b[0m'\n",
      "\n",
      "mosaic: 1.0\n",
      "mixup: 0.0\n",
      "hsv_s: 0.89963\n",
      "degrees: 0.0\n",
      "scale: 0.48072\n",
      "fliplr: 0.5\n",
      "\n",
      "\u001b[34m\u001b[1mTuner: \u001b[0mStarting iteration 5/30 with hyperparameters: {'mosaic': 1.0, 'mixup': 0.0, 'hsv_s': 0.9, 'degrees': 0.0, 'scale': 0.47845, 'fliplr': 0.48788}\n",
      "Saved C:\\Users\\joons\\workspace\\final_project\\runs\\tuned_aug_auto\\aug_auto\\tune_scatter_plots.png\n",
      "Saved C:\\Users\\joons\\workspace\\final_project\\runs\\tuned_aug_auto\\aug_auto\\tune_fitness.png\n",
      "\n",
      "\u001b[34m\u001b[1mTuner: \u001b[0m5/30 iterations complete  (10560.08s)\n",
      "\u001b[34m\u001b[1mTuner: \u001b[0mResults saved to \u001b[1mC:\\Users\\joons\\workspace\\final_project\\runs\\tuned_aug_auto\\aug_auto\u001b[0m\n",
      "\u001b[34m\u001b[1mTuner: \u001b[0mBest fitness=0.93055 observed at iteration 3\n",
      "\u001b[34m\u001b[1mTuner: \u001b[0mBest fitness metrics are {'metrics/precision(B)': 0.98239, 'metrics/recall(B)': 0.95821, 'metrics/mAP50(B)': 0.98939, 'metrics/mAP50-95(B)': 0.92401, 'val/box_loss': 0.3831, 'val/cls_loss': 0.22173, 'val/dfl_loss': 0.80311, 'fitness': 0.93055}\n",
      "\u001b[34m\u001b[1mTuner: \u001b[0mBest fitness model is C:\\Users\\joons\\workspace\\final_project\\runs\\tuned_aug_auto\\train3\n",
      "\u001b[34m\u001b[1mTuner: \u001b[0mBest fitness hyperparameters are printed below.\n",
      "\n",
      "Printing '\u001b[1m\u001b[30mC:\\Users\\joons\\workspace\\final_project\\runs\\tuned_aug_auto\\aug_auto\\best_hyperparameters.yaml\u001b[0m'\n",
      "\n",
      "mosaic: 1.0\n",
      "mixup: 0.0\n",
      "hsv_s: 0.89963\n",
      "degrees: 0.0\n",
      "scale: 0.48072\n",
      "fliplr: 0.5\n",
      "\n",
      "\u001b[34m\u001b[1mTuner: \u001b[0mStarting iteration 6/30 with hyperparameters: {'mosaic': 0.93743, 'mixup': 0.0, 'hsv_s': 0.9, 'degrees': 0.0, 'scale': 0.50875, 'fliplr': 0.5877}\n",
      "Saved C:\\Users\\joons\\workspace\\final_project\\runs\\tuned_aug_auto\\aug_auto\\tune_scatter_plots.png\n",
      "Saved C:\\Users\\joons\\workspace\\final_project\\runs\\tuned_aug_auto\\aug_auto\\tune_fitness.png\n",
      "\n",
      "\u001b[34m\u001b[1mTuner: \u001b[0m6/30 iterations complete  (12882.24s)\n",
      "\u001b[34m\u001b[1mTuner: \u001b[0mResults saved to \u001b[1mC:\\Users\\joons\\workspace\\final_project\\runs\\tuned_aug_auto\\aug_auto\u001b[0m\n",
      "\u001b[34m\u001b[1mTuner: \u001b[0mBest fitness=0.93055 observed at iteration 3\n",
      "\u001b[34m\u001b[1mTuner: \u001b[0mBest fitness metrics are {'metrics/precision(B)': 0.98239, 'metrics/recall(B)': 0.95821, 'metrics/mAP50(B)': 0.98939, 'metrics/mAP50-95(B)': 0.92401, 'val/box_loss': 0.3831, 'val/cls_loss': 0.22173, 'val/dfl_loss': 0.80311, 'fitness': 0.93055}\n",
      "\u001b[34m\u001b[1mTuner: \u001b[0mBest fitness model is C:\\Users\\joons\\workspace\\final_project\\runs\\tuned_aug_auto\\train3\n",
      "\u001b[34m\u001b[1mTuner: \u001b[0mBest fitness hyperparameters are printed below.\n",
      "\n",
      "Printing '\u001b[1m\u001b[30mC:\\Users\\joons\\workspace\\final_project\\runs\\tuned_aug_auto\\aug_auto\\best_hyperparameters.yaml\u001b[0m'\n",
      "\n",
      "mosaic: 1.0\n",
      "mixup: 0.0\n",
      "hsv_s: 0.89963\n",
      "degrees: 0.0\n",
      "scale: 0.48072\n",
      "fliplr: 0.5\n",
      "\n",
      "\u001b[34m\u001b[1mTuner: \u001b[0mStarting iteration 7/30 with hyperparameters: {'mosaic': 0.93511, 'mixup': 0.0, 'hsv_s': 0.6878, 'degrees': 0.0, 'scale': 0.51254, 'fliplr': 0.48894}\n",
      "Saved C:\\Users\\joons\\workspace\\final_project\\runs\\tuned_aug_auto\\aug_auto\\tune_scatter_plots.png\n",
      "Saved C:\\Users\\joons\\workspace\\final_project\\runs\\tuned_aug_auto\\aug_auto\\tune_fitness.png\n",
      "\n",
      "\u001b[34m\u001b[1mTuner: \u001b[0m7/30 iterations complete  (14915.22s)\n",
      "\u001b[34m\u001b[1mTuner: \u001b[0mResults saved to \u001b[1mC:\\Users\\joons\\workspace\\final_project\\runs\\tuned_aug_auto\\aug_auto\u001b[0m\n",
      "\u001b[34m\u001b[1mTuner: \u001b[0mBest fitness=0.93055 observed at iteration 3\n",
      "\u001b[34m\u001b[1mTuner: \u001b[0mBest fitness metrics are {'metrics/precision(B)': 0.98239, 'metrics/recall(B)': 0.95821, 'metrics/mAP50(B)': 0.98939, 'metrics/mAP50-95(B)': 0.92401, 'val/box_loss': 0.3831, 'val/cls_loss': 0.22173, 'val/dfl_loss': 0.80311, 'fitness': 0.93055}\n",
      "\u001b[34m\u001b[1mTuner: \u001b[0mBest fitness model is C:\\Users\\joons\\workspace\\final_project\\runs\\tuned_aug_auto\\train3\n",
      "\u001b[34m\u001b[1mTuner: \u001b[0mBest fitness hyperparameters are printed below.\n",
      "\n",
      "Printing '\u001b[1m\u001b[30mC:\\Users\\joons\\workspace\\final_project\\runs\\tuned_aug_auto\\aug_auto\\best_hyperparameters.yaml\u001b[0m'\n",
      "\n",
      "mosaic: 1.0\n",
      "mixup: 0.0\n",
      "hsv_s: 0.89963\n",
      "degrees: 0.0\n",
      "scale: 0.48072\n",
      "fliplr: 0.5\n",
      "\n",
      "\u001b[34m\u001b[1mTuner: \u001b[0mStarting iteration 8/30 with hyperparameters: {'mosaic': 0.98079, 'mixup': 0.0, 'hsv_s': 0.89803, 'degrees': 0.0, 'scale': 0.47845, 'fliplr': 0.48788}\n",
      "Saved C:\\Users\\joons\\workspace\\final_project\\runs\\tuned_aug_auto\\aug_auto\\tune_scatter_plots.png\n",
      "Saved C:\\Users\\joons\\workspace\\final_project\\runs\\tuned_aug_auto\\aug_auto\\tune_fitness.png\n",
      "\n",
      "\u001b[34m\u001b[1mTuner: \u001b[0m8/30 iterations complete  (16967.65s)\n",
      "\u001b[34m\u001b[1mTuner: \u001b[0mResults saved to \u001b[1mC:\\Users\\joons\\workspace\\final_project\\runs\\tuned_aug_auto\\aug_auto\u001b[0m\n",
      "\u001b[34m\u001b[1mTuner: \u001b[0mBest fitness=0.93055 observed at iteration 3\n",
      "\u001b[34m\u001b[1mTuner: \u001b[0mBest fitness metrics are {'metrics/precision(B)': 0.98239, 'metrics/recall(B)': 0.95821, 'metrics/mAP50(B)': 0.98939, 'metrics/mAP50-95(B)': 0.92401, 'val/box_loss': 0.3831, 'val/cls_loss': 0.22173, 'val/dfl_loss': 0.80311, 'fitness': 0.93055}\n",
      "\u001b[34m\u001b[1mTuner: \u001b[0mBest fitness model is C:\\Users\\joons\\workspace\\final_project\\runs\\tuned_aug_auto\\train3\n",
      "\u001b[34m\u001b[1mTuner: \u001b[0mBest fitness hyperparameters are printed below.\n",
      "\n",
      "Printing '\u001b[1m\u001b[30mC:\\Users\\joons\\workspace\\final_project\\runs\\tuned_aug_auto\\aug_auto\\best_hyperparameters.yaml\u001b[0m'\n",
      "\n",
      "mosaic: 1.0\n",
      "mixup: 0.0\n",
      "hsv_s: 0.89963\n",
      "degrees: 0.0\n",
      "scale: 0.48072\n",
      "fliplr: 0.5\n",
      "\n",
      "\u001b[34m\u001b[1mTuner: \u001b[0mStarting iteration 9/30 with hyperparameters: {'mosaic': 0.85646, 'mixup': 0.0, 'hsv_s': 0.9, 'degrees': 0.0, 'scale': 0.54536, 'fliplr': 0.49248}\n",
      "Saved C:\\Users\\joons\\workspace\\final_project\\runs\\tuned_aug_auto\\aug_auto\\tune_scatter_plots.png\n",
      "Saved C:\\Users\\joons\\workspace\\final_project\\runs\\tuned_aug_auto\\aug_auto\\tune_fitness.png\n",
      "\n",
      "\u001b[34m\u001b[1mTuner: \u001b[0m9/30 iterations complete  (19061.88s)\n",
      "\u001b[34m\u001b[1mTuner: \u001b[0mResults saved to \u001b[1mC:\\Users\\joons\\workspace\\final_project\\runs\\tuned_aug_auto\\aug_auto\u001b[0m\n",
      "\u001b[34m\u001b[1mTuner: \u001b[0mBest fitness=0.93055 observed at iteration 3\n",
      "\u001b[34m\u001b[1mTuner: \u001b[0mBest fitness metrics are {'metrics/precision(B)': 0.98239, 'metrics/recall(B)': 0.95821, 'metrics/mAP50(B)': 0.98939, 'metrics/mAP50-95(B)': 0.92401, 'val/box_loss': 0.3831, 'val/cls_loss': 0.22173, 'val/dfl_loss': 0.80311, 'fitness': 0.93055}\n",
      "\u001b[34m\u001b[1mTuner: \u001b[0mBest fitness model is C:\\Users\\joons\\workspace\\final_project\\runs\\tuned_aug_auto\\train3\n",
      "\u001b[34m\u001b[1mTuner: \u001b[0mBest fitness hyperparameters are printed below.\n",
      "\n",
      "Printing '\u001b[1m\u001b[30mC:\\Users\\joons\\workspace\\final_project\\runs\\tuned_aug_auto\\aug_auto\\best_hyperparameters.yaml\u001b[0m'\n",
      "\n",
      "mosaic: 1.0\n",
      "mixup: 0.0\n",
      "hsv_s: 0.89963\n",
      "degrees: 0.0\n",
      "scale: 0.48072\n",
      "fliplr: 0.5\n",
      "\n",
      "\u001b[34m\u001b[1mTuner: \u001b[0mStarting iteration 10/30 with hyperparameters: {'mosaic': 0.95773, 'mixup': 0.0, 'hsv_s': 0.9, 'degrees': 0.0, 'scale': 0.46214, 'fliplr': 0.55806}\n",
      "Saved C:\\Users\\joons\\workspace\\final_project\\runs\\tuned_aug_auto\\aug_auto\\tune_scatter_plots.png\n",
      "Saved C:\\Users\\joons\\workspace\\final_project\\runs\\tuned_aug_auto\\aug_auto\\tune_fitness.png\n",
      "\n",
      "\u001b[34m\u001b[1mTuner: \u001b[0m10/30 iterations complete  (21105.82s)\n",
      "\u001b[34m\u001b[1mTuner: \u001b[0mResults saved to \u001b[1mC:\\Users\\joons\\workspace\\final_project\\runs\\tuned_aug_auto\\aug_auto\u001b[0m\n",
      "\u001b[34m\u001b[1mTuner: \u001b[0mBest fitness=0.93055 observed at iteration 3\n",
      "\u001b[34m\u001b[1mTuner: \u001b[0mBest fitness metrics are {'metrics/precision(B)': 0.98239, 'metrics/recall(B)': 0.95821, 'metrics/mAP50(B)': 0.98939, 'metrics/mAP50-95(B)': 0.92401, 'val/box_loss': 0.3831, 'val/cls_loss': 0.22173, 'val/dfl_loss': 0.80311, 'fitness': 0.93055}\n",
      "\u001b[34m\u001b[1mTuner: \u001b[0mBest fitness model is C:\\Users\\joons\\workspace\\final_project\\runs\\tuned_aug_auto\\train3\n",
      "\u001b[34m\u001b[1mTuner: \u001b[0mBest fitness hyperparameters are printed below.\n",
      "\n",
      "Printing '\u001b[1m\u001b[30mC:\\Users\\joons\\workspace\\final_project\\runs\\tuned_aug_auto\\aug_auto\\best_hyperparameters.yaml\u001b[0m'\n",
      "\n",
      "mosaic: 1.0\n",
      "mixup: 0.0\n",
      "hsv_s: 0.89963\n",
      "degrees: 0.0\n",
      "scale: 0.48072\n",
      "fliplr: 0.5\n",
      "\n",
      "\u001b[34m\u001b[1mTuner: \u001b[0mStarting iteration 11/30 with hyperparameters: {'mosaic': 0.95741, 'mixup': 0.0, 'hsv_s': 0.9, 'degrees': 0.0, 'scale': 0.47983, 'fliplr': 0.43186}\n",
      "Saved C:\\Users\\joons\\workspace\\final_project\\runs\\tuned_aug_auto\\aug_auto\\tune_scatter_plots.png\n",
      "Saved C:\\Users\\joons\\workspace\\final_project\\runs\\tuned_aug_auto\\aug_auto\\tune_fitness.png\n",
      "\n",
      "\u001b[34m\u001b[1mTuner: \u001b[0m11/30 iterations complete  (23137.77s)\n",
      "\u001b[34m\u001b[1mTuner: \u001b[0mResults saved to \u001b[1mC:\\Users\\joons\\workspace\\final_project\\runs\\tuned_aug_auto\\aug_auto\u001b[0m\n",
      "\u001b[34m\u001b[1mTuner: \u001b[0mBest fitness=0.93067 observed at iteration 11\n",
      "\u001b[34m\u001b[1mTuner: \u001b[0mBest fitness metrics are {'metrics/precision(B)': 0.98212, 'metrics/recall(B)': 0.95802, 'metrics/mAP50(B)': 0.98923, 'metrics/mAP50-95(B)': 0.92416, 'val/box_loss': 0.38278, 'val/cls_loss': 0.22271, 'val/dfl_loss': 0.80342, 'fitness': 0.93067}\n",
      "\u001b[34m\u001b[1mTuner: \u001b[0mBest fitness model is C:\\Users\\joons\\workspace\\final_project\\runs\\tuned_aug_auto\\train11\n",
      "\u001b[34m\u001b[1mTuner: \u001b[0mBest fitness hyperparameters are printed below.\n",
      "\n",
      "Printing '\u001b[1m\u001b[30mC:\\Users\\joons\\workspace\\final_project\\runs\\tuned_aug_auto\\aug_auto\\best_hyperparameters.yaml\u001b[0m'\n",
      "\n",
      "mosaic: 0.95741\n",
      "mixup: 0.0\n",
      "hsv_s: 0.9\n",
      "degrees: 0.0\n",
      "scale: 0.47983\n",
      "fliplr: 0.43186\n",
      "\n",
      "\u001b[34m\u001b[1mTuner: \u001b[0mStarting iteration 12/30 with hyperparameters: {'mosaic': 1.0, 'mixup': 0.0, 'hsv_s': 0.8168, 'degrees': 0.0, 'scale': 0.47983, 'fliplr': 0.43186}\n",
      "Saved C:\\Users\\joons\\workspace\\final_project\\runs\\tuned_aug_auto\\aug_auto\\tune_scatter_plots.png\n",
      "Saved C:\\Users\\joons\\workspace\\final_project\\runs\\tuned_aug_auto\\aug_auto\\tune_fitness.png\n",
      "\n",
      "\u001b[34m\u001b[1mTuner: \u001b[0m12/30 iterations complete  (25183.13s)\n",
      "\u001b[34m\u001b[1mTuner: \u001b[0mResults saved to \u001b[1mC:\\Users\\joons\\workspace\\final_project\\runs\\tuned_aug_auto\\aug_auto\u001b[0m\n",
      "\u001b[34m\u001b[1mTuner: \u001b[0mBest fitness=0.93067 observed at iteration 11\n",
      "\u001b[34m\u001b[1mTuner: \u001b[0mBest fitness metrics are {'metrics/precision(B)': 0.98212, 'metrics/recall(B)': 0.95802, 'metrics/mAP50(B)': 0.98923, 'metrics/mAP50-95(B)': 0.92416, 'val/box_loss': 0.38278, 'val/cls_loss': 0.22271, 'val/dfl_loss': 0.80342, 'fitness': 0.93067}\n",
      "\u001b[34m\u001b[1mTuner: \u001b[0mBest fitness model is C:\\Users\\joons\\workspace\\final_project\\runs\\tuned_aug_auto\\train11\n",
      "\u001b[34m\u001b[1mTuner: \u001b[0mBest fitness hyperparameters are printed below.\n",
      "\n",
      "Printing '\u001b[1m\u001b[30mC:\\Users\\joons\\workspace\\final_project\\runs\\tuned_aug_auto\\aug_auto\\best_hyperparameters.yaml\u001b[0m'\n",
      "\n",
      "mosaic: 0.95741\n",
      "mixup: 0.0\n",
      "hsv_s: 0.9\n",
      "degrees: 0.0\n",
      "scale: 0.47983\n",
      "fliplr: 0.43186\n",
      "\n",
      "\u001b[34m\u001b[1mTuner: \u001b[0mStarting iteration 13/30 with hyperparameters: {'mosaic': 0.95741, 'mixup': 0.0, 'hsv_s': 0.9, 'degrees': 0.0, 'scale': 0.47983, 'fliplr': 0.31443}\n",
      "Saved C:\\Users\\joons\\workspace\\final_project\\runs\\tuned_aug_auto\\aug_auto\\tune_scatter_plots.png\n",
      "Saved C:\\Users\\joons\\workspace\\final_project\\runs\\tuned_aug_auto\\aug_auto\\tune_fitness.png\n",
      "\n",
      "\u001b[34m\u001b[1mTuner: \u001b[0m13/30 iterations complete  (27248.43s)\n",
      "\u001b[34m\u001b[1mTuner: \u001b[0mResults saved to \u001b[1mC:\\Users\\joons\\workspace\\final_project\\runs\\tuned_aug_auto\\aug_auto\u001b[0m\n",
      "\u001b[34m\u001b[1mTuner: \u001b[0mBest fitness=0.93198 observed at iteration 13\n",
      "\u001b[34m\u001b[1mTuner: \u001b[0mBest fitness metrics are {'metrics/precision(B)': 0.98427, 'metrics/recall(B)': 0.9586, 'metrics/mAP50(B)': 0.98939, 'metrics/mAP50-95(B)': 0.9256, 'val/box_loss': 0.37622, 'val/cls_loss': 0.21923, 'val/dfl_loss': 0.80184, 'fitness': 0.93198}\n",
      "\u001b[34m\u001b[1mTuner: \u001b[0mBest fitness model is C:\\Users\\joons\\workspace\\final_project\\runs\\tuned_aug_auto\\train13\n",
      "\u001b[34m\u001b[1mTuner: \u001b[0mBest fitness hyperparameters are printed below.\n",
      "\n",
      "Printing '\u001b[1m\u001b[30mC:\\Users\\joons\\workspace\\final_project\\runs\\tuned_aug_auto\\aug_auto\\best_hyperparameters.yaml\u001b[0m'\n",
      "\n",
      "mosaic: 0.95741\n",
      "mixup: 0.0\n",
      "hsv_s: 0.9\n",
      "degrees: 0.0\n",
      "scale: 0.47983\n",
      "fliplr: 0.31443\n",
      "\n",
      "\u001b[34m\u001b[1mTuner: \u001b[0mStarting iteration 14/30 with hyperparameters: {'mosaic': 0.90839, 'mixup': 0.0, 'hsv_s': 0.9, 'degrees': 0.0, 'scale': 0.47845, 'fliplr': 0.45784}\n",
      "Saved C:\\Users\\joons\\workspace\\final_project\\runs\\tuned_aug_auto\\aug_auto\\tune_scatter_plots.png\n",
      "Saved C:\\Users\\joons\\workspace\\final_project\\runs\\tuned_aug_auto\\aug_auto\\tune_fitness.png\n",
      "\n",
      "\u001b[34m\u001b[1mTuner: \u001b[0m14/30 iterations complete  (29346.18s)\n",
      "\u001b[34m\u001b[1mTuner: \u001b[0mResults saved to \u001b[1mC:\\Users\\joons\\workspace\\final_project\\runs\\tuned_aug_auto\\aug_auto\u001b[0m\n",
      "\u001b[34m\u001b[1mTuner: \u001b[0mBest fitness=0.93198 observed at iteration 13\n",
      "\u001b[34m\u001b[1mTuner: \u001b[0mBest fitness metrics are {'metrics/precision(B)': 0.98427, 'metrics/recall(B)': 0.9586, 'metrics/mAP50(B)': 0.98939, 'metrics/mAP50-95(B)': 0.9256, 'val/box_loss': 0.37622, 'val/cls_loss': 0.21923, 'val/dfl_loss': 0.80184, 'fitness': 0.93198}\n",
      "\u001b[34m\u001b[1mTuner: \u001b[0mBest fitness model is C:\\Users\\joons\\workspace\\final_project\\runs\\tuned_aug_auto\\train13\n",
      "\u001b[34m\u001b[1mTuner: \u001b[0mBest fitness hyperparameters are printed below.\n",
      "\n",
      "Printing '\u001b[1m\u001b[30mC:\\Users\\joons\\workspace\\final_project\\runs\\tuned_aug_auto\\aug_auto\\best_hyperparameters.yaml\u001b[0m'\n",
      "\n",
      "mosaic: 0.95741\n",
      "mixup: 0.0\n",
      "hsv_s: 0.9\n",
      "degrees: 0.0\n",
      "scale: 0.47983\n",
      "fliplr: 0.31443\n",
      "\n",
      "\u001b[34m\u001b[1mTuner: \u001b[0mStarting iteration 15/30 with hyperparameters: {'mosaic': 0.93806, 'mixup': 0.0, 'hsv_s': 0.9, 'degrees': 0.0, 'scale': 0.48424, 'fliplr': 0.31443}\n",
      "ERROR training failure for hyperparameter tuning iteration 15\n",
      "Command '['C:\\\\Users\\\\joons\\\\anaconda3\\\\envs\\\\pigeon\\\\python.exe', '-m', 'ultralytics.cfg.__init__', 'train', 'task=detect', 'mode=train', 'model=C:/Users/joons/workspace/final_project\\\\pretrained_model\\\\yolo11s.pt', 'data=C:/Users/joons/workspace/final_project\\\\dataset\\\\coco8.yaml', 'epochs=10', 'time=None', 'patience=100', 'batch=32', 'imgsz=640', 'save=True', 'save_period=-1', 'cache=False', 'device=None', 'workers=8', 'project=C:/Users/joons/workspace/final_project\\\\runs\\\\tuned_aug_auto', 'name=None', 'exist_ok=False', 'pretrained=True', 'optimizer=AdamW', 'verbose=True', 'seed=0', 'deterministic=True', 'single_cls=False', 'rect=False', 'cos_lr=False', 'close_mosaic=10', 'resume=False', 'amp=True', 'fraction=1.0', 'profile=False', 'freeze=None', 'multi_scale=False', 'overlap_mask=True', 'mask_ratio=4', 'dropout=0.0', 'val=True', 'split=val', 'save_json=False', 'conf=None', 'iou=0.7', 'max_det=300', 'half=False', 'dnn=False', 'plots=True', 'source=None', 'vid_stride=1', 'stream_buffer=False', 'visualize=False', 'augment=False', 'agnostic_nms=False', 'classes=None', 'retina_masks=False', 'embed=None', 'show=False', 'save_frames=False', 'save_txt=False', 'save_conf=False', 'save_crop=False', 'show_labels=True', 'show_conf=True', 'show_boxes=True', 'line_width=None', 'format=torchscript', 'keras=False', 'optimize=False', 'int8=False', 'dynamic=False', 'simplify=True', 'opset=None', 'workspace=None', 'nms=False', 'lr0=0.01', 'lrf=0.01', 'momentum=0.937', 'weight_decay=0.0005', 'warmup_epochs=3.0', 'warmup_momentum=0.8', 'warmup_bias_lr=0.1', 'box=7.5', 'cls=0.5', 'dfl=1.5', 'pose=12.0', 'kobj=1.0', 'nbs=64', 'hsv_h=0.015', 'hsv_s=0.9', 'hsv_v=0.4', 'degrees=0.0', 'translate=0.1', 'scale=0.48424', 'shear=0.0', 'perspective=0.0', 'flipud=0.0', 'fliplr=0.31443', 'bgr=0.0', 'mosaic=0.93806', 'mixup=0.0', 'copy_paste=0.0', 'copy_paste_mode=flip', 'auto_augment=randaugment', 'erasing=0.4', 'cfg=None', 'tracker=botsort.yaml']' returned non-zero exit status 1.\n",
      "Saved C:\\Users\\joons\\workspace\\final_project\\runs\\tuned_aug_auto\\aug_auto\\tune_scatter_plots.png\n",
      "Saved C:\\Users\\joons\\workspace\\final_project\\runs\\tuned_aug_auto\\aug_auto\\tune_fitness.png\n",
      "\n",
      "\u001b[34m\u001b[1mTuner: \u001b[0m15/30 iterations complete  (30265.63s)\n",
      "\u001b[34m\u001b[1mTuner: \u001b[0mResults saved to \u001b[1mC:\\Users\\joons\\workspace\\final_project\\runs\\tuned_aug_auto\\aug_auto\u001b[0m\n",
      "\u001b[34m\u001b[1mTuner: \u001b[0mBest fitness=0.93198 observed at iteration 13\n",
      "\u001b[34m\u001b[1mTuner: \u001b[0mBest fitness metrics are {'metrics/precision(B)': 0.98427, 'metrics/recall(B)': 0.9586, 'metrics/mAP50(B)': 0.98939, 'metrics/mAP50-95(B)': 0.9256, 'val/box_loss': 0.37622, 'val/cls_loss': 0.21923, 'val/dfl_loss': 0.80184, 'fitness': 0.93198}\n",
      "\u001b[34m\u001b[1mTuner: \u001b[0mBest fitness model is C:\\Users\\joons\\workspace\\final_project\\runs\\tuned_aug_auto\\train13\n",
      "\u001b[34m\u001b[1mTuner: \u001b[0mBest fitness hyperparameters are printed below.\n",
      "\n",
      "Printing '\u001b[1m\u001b[30mC:\\Users\\joons\\workspace\\final_project\\runs\\tuned_aug_auto\\aug_auto\\best_hyperparameters.yaml\u001b[0m'\n",
      "\n",
      "mosaic: 0.95741\n",
      "mixup: 0.0\n",
      "hsv_s: 0.9\n",
      "degrees: 0.0\n",
      "scale: 0.47983\n",
      "fliplr: 0.31443\n",
      "\n",
      "\u001b[34m\u001b[1mTuner: \u001b[0mStarting iteration 16/30 with hyperparameters: {'mosaic': 1.0, 'mixup': 0.0, 'hsv_s': 0.78336, 'degrees': 0.0, 'scale': 0.5226, 'fliplr': 0.27111}\n",
      "Saved C:\\Users\\joons\\workspace\\final_project\\runs\\tuned_aug_auto\\aug_auto\\tune_scatter_plots.png\n",
      "Saved C:\\Users\\joons\\workspace\\final_project\\runs\\tuned_aug_auto\\aug_auto\\tune_fitness.png\n",
      "\n",
      "\u001b[34m\u001b[1mTuner: \u001b[0m16/30 iterations complete  (32296.91s)\n",
      "\u001b[34m\u001b[1mTuner: \u001b[0mResults saved to \u001b[1mC:\\Users\\joons\\workspace\\final_project\\runs\\tuned_aug_auto\\aug_auto\u001b[0m\n",
      "\u001b[34m\u001b[1mTuner: \u001b[0mBest fitness=0.93198 observed at iteration 13\n",
      "\u001b[34m\u001b[1mTuner: \u001b[0mBest fitness metrics are {'metrics/precision(B)': 0.98427, 'metrics/recall(B)': 0.9586, 'metrics/mAP50(B)': 0.98939, 'metrics/mAP50-95(B)': 0.9256, 'val/box_loss': 0.37622, 'val/cls_loss': 0.21923, 'val/dfl_loss': 0.80184, 'fitness': 0.93198}\n",
      "\u001b[34m\u001b[1mTuner: \u001b[0mBest fitness model is C:\\Users\\joons\\workspace\\final_project\\runs\\tuned_aug_auto\\train13\n",
      "\u001b[34m\u001b[1mTuner: \u001b[0mBest fitness hyperparameters are printed below.\n",
      "\n",
      "Printing '\u001b[1m\u001b[30mC:\\Users\\joons\\workspace\\final_project\\runs\\tuned_aug_auto\\aug_auto\\best_hyperparameters.yaml\u001b[0m'\n",
      "\n",
      "mosaic: 0.95741\n",
      "mixup: 0.0\n",
      "hsv_s: 0.9\n",
      "degrees: 0.0\n",
      "scale: 0.47983\n",
      "fliplr: 0.31443\n",
      "\n",
      "\u001b[34m\u001b[1mTuner: \u001b[0mStarting iteration 17/30 with hyperparameters: {'mosaic': 0.87757, 'mixup': 0.0, 'hsv_s': 0.9, 'degrees': 0.0, 'scale': 0.47983, 'fliplr': 0.35897}\n",
      "Saved C:\\Users\\joons\\workspace\\final_project\\runs\\tuned_aug_auto\\aug_auto\\tune_scatter_plots.png\n",
      "Saved C:\\Users\\joons\\workspace\\final_project\\runs\\tuned_aug_auto\\aug_auto\\tune_fitness.png\n",
      "\n",
      "\u001b[34m\u001b[1mTuner: \u001b[0m17/30 iterations complete  (34323.70s)\n",
      "\u001b[34m\u001b[1mTuner: \u001b[0mResults saved to \u001b[1mC:\\Users\\joons\\workspace\\final_project\\runs\\tuned_aug_auto\\aug_auto\u001b[0m\n",
      "\u001b[34m\u001b[1mTuner: \u001b[0mBest fitness=0.93198 observed at iteration 13\n",
      "\u001b[34m\u001b[1mTuner: \u001b[0mBest fitness metrics are {'metrics/precision(B)': 0.98427, 'metrics/recall(B)': 0.9586, 'metrics/mAP50(B)': 0.98939, 'metrics/mAP50-95(B)': 0.9256, 'val/box_loss': 0.37622, 'val/cls_loss': 0.21923, 'val/dfl_loss': 0.80184, 'fitness': 0.93198}\n",
      "\u001b[34m\u001b[1mTuner: \u001b[0mBest fitness model is C:\\Users\\joons\\workspace\\final_project\\runs\\tuned_aug_auto\\train13\n",
      "\u001b[34m\u001b[1mTuner: \u001b[0mBest fitness hyperparameters are printed below.\n",
      "\n",
      "Printing '\u001b[1m\u001b[30mC:\\Users\\joons\\workspace\\final_project\\runs\\tuned_aug_auto\\aug_auto\\best_hyperparameters.yaml\u001b[0m'\n",
      "\n",
      "mosaic: 0.95741\n",
      "mixup: 0.0\n",
      "hsv_s: 0.9\n",
      "degrees: 0.0\n",
      "scale: 0.47983\n",
      "fliplr: 0.31443\n",
      "\n",
      "\u001b[34m\u001b[1mTuner: \u001b[0mStarting iteration 18/30 with hyperparameters: {'mosaic': 1.0, 'mixup': 0.0, 'hsv_s': 0.72334, 'degrees': 0.0, 'scale': 0.55368, 'fliplr': 0.34275}\n",
      "Saved C:\\Users\\joons\\workspace\\final_project\\runs\\tuned_aug_auto\\aug_auto\\tune_scatter_plots.png\n",
      "Saved C:\\Users\\joons\\workspace\\final_project\\runs\\tuned_aug_auto\\aug_auto\\tune_fitness.png\n",
      "\n",
      "\u001b[34m\u001b[1mTuner: \u001b[0m18/30 iterations complete  (36352.43s)\n",
      "\u001b[34m\u001b[1mTuner: \u001b[0mResults saved to \u001b[1mC:\\Users\\joons\\workspace\\final_project\\runs\\tuned_aug_auto\\aug_auto\u001b[0m\n",
      "\u001b[34m\u001b[1mTuner: \u001b[0mBest fitness=0.93198 observed at iteration 13\n",
      "\u001b[34m\u001b[1mTuner: \u001b[0mBest fitness metrics are {'metrics/precision(B)': 0.98427, 'metrics/recall(B)': 0.9586, 'metrics/mAP50(B)': 0.98939, 'metrics/mAP50-95(B)': 0.9256, 'val/box_loss': 0.37622, 'val/cls_loss': 0.21923, 'val/dfl_loss': 0.80184, 'fitness': 0.93198}\n",
      "\u001b[34m\u001b[1mTuner: \u001b[0mBest fitness model is C:\\Users\\joons\\workspace\\final_project\\runs\\tuned_aug_auto\\train13\n",
      "\u001b[34m\u001b[1mTuner: \u001b[0mBest fitness hyperparameters are printed below.\n",
      "\n",
      "Printing '\u001b[1m\u001b[30mC:\\Users\\joons\\workspace\\final_project\\runs\\tuned_aug_auto\\aug_auto\\best_hyperparameters.yaml\u001b[0m'\n",
      "\n",
      "mosaic: 0.95741\n",
      "mixup: 0.0\n",
      "hsv_s: 0.9\n",
      "degrees: 0.0\n",
      "scale: 0.47983\n",
      "fliplr: 0.31443\n",
      "\n",
      "\u001b[34m\u001b[1mTuner: \u001b[0mStarting iteration 19/30 with hyperparameters: {'mosaic': 1.0, 'mixup': 0.0, 'hsv_s': 0.9, 'degrees': 0.0, 'scale': 0.37788, 'fliplr': 0.14769}\n",
      "Saved C:\\Users\\joons\\workspace\\final_project\\runs\\tuned_aug_auto\\aug_auto\\tune_scatter_plots.png\n",
      "Saved C:\\Users\\joons\\workspace\\final_project\\runs\\tuned_aug_auto\\aug_auto\\tune_fitness.png\n",
      "\n",
      "\u001b[34m\u001b[1mTuner: \u001b[0m19/30 iterations complete  (38412.99s)\n",
      "\u001b[34m\u001b[1mTuner: \u001b[0mResults saved to \u001b[1mC:\\Users\\joons\\workspace\\final_project\\runs\\tuned_aug_auto\\aug_auto\u001b[0m\n",
      "\u001b[34m\u001b[1mTuner: \u001b[0mBest fitness=0.93335 observed at iteration 19\n",
      "\u001b[34m\u001b[1mTuner: \u001b[0mBest fitness metrics are {'metrics/precision(B)': 0.98146, 'metrics/recall(B)': 0.95811, 'metrics/mAP50(B)': 0.9887, 'metrics/mAP50-95(B)': 0.9272, 'val/box_loss': 0.36909, 'val/cls_loss': 0.21833, 'val/dfl_loss': 0.79977, 'fitness': 0.93335}\n",
      "\u001b[34m\u001b[1mTuner: \u001b[0mBest fitness model is C:\\Users\\joons\\workspace\\final_project\\runs\\tuned_aug_auto\\train19\n",
      "\u001b[34m\u001b[1mTuner: \u001b[0mBest fitness hyperparameters are printed below.\n",
      "\n",
      "Printing '\u001b[1m\u001b[30mC:\\Users\\joons\\workspace\\final_project\\runs\\tuned_aug_auto\\aug_auto\\best_hyperparameters.yaml\u001b[0m'\n",
      "\n",
      "mosaic: 1.0\n",
      "mixup: 0.0\n",
      "hsv_s: 0.9\n",
      "degrees: 0.0\n",
      "scale: 0.37788\n",
      "fliplr: 0.14769\n",
      "\n",
      "\u001b[34m\u001b[1mTuner: \u001b[0mStarting iteration 20/30 with hyperparameters: {'mosaic': 1.0, 'mixup': 0.0, 'hsv_s': 0.61398, 'degrees': 0.0, 'scale': 0.47983, 'fliplr': 0.29363}\n",
      "Saved C:\\Users\\joons\\workspace\\final_project\\runs\\tuned_aug_auto\\aug_auto\\tune_scatter_plots.png\n",
      "Saved C:\\Users\\joons\\workspace\\final_project\\runs\\tuned_aug_auto\\aug_auto\\tune_fitness.png\n",
      "\n",
      "\u001b[34m\u001b[1mTuner: \u001b[0m20/30 iterations complete  (40446.96s)\n",
      "\u001b[34m\u001b[1mTuner: \u001b[0mResults saved to \u001b[1mC:\\Users\\joons\\workspace\\final_project\\runs\\tuned_aug_auto\\aug_auto\u001b[0m\n",
      "\u001b[34m\u001b[1mTuner: \u001b[0mBest fitness=0.93335 observed at iteration 19\n",
      "\u001b[34m\u001b[1mTuner: \u001b[0mBest fitness metrics are {'metrics/precision(B)': 0.98146, 'metrics/recall(B)': 0.95811, 'metrics/mAP50(B)': 0.9887, 'metrics/mAP50-95(B)': 0.9272, 'val/box_loss': 0.36909, 'val/cls_loss': 0.21833, 'val/dfl_loss': 0.79977, 'fitness': 0.93335}\n",
      "\u001b[34m\u001b[1mTuner: \u001b[0mBest fitness model is C:\\Users\\joons\\workspace\\final_project\\runs\\tuned_aug_auto\\train19\n",
      "\u001b[34m\u001b[1mTuner: \u001b[0mBest fitness hyperparameters are printed below.\n",
      "\n",
      "Printing '\u001b[1m\u001b[30mC:\\Users\\joons\\workspace\\final_project\\runs\\tuned_aug_auto\\aug_auto\\best_hyperparameters.yaml\u001b[0m'\n",
      "\n",
      "mosaic: 1.0\n",
      "mixup: 0.0\n",
      "hsv_s: 0.9\n",
      "degrees: 0.0\n",
      "scale: 0.37788\n",
      "fliplr: 0.14769\n",
      "\n",
      "\u001b[34m\u001b[1mTuner: \u001b[0mStarting iteration 21/30 with hyperparameters: {'mosaic': 0.97066, 'mixup': 0.0, 'hsv_s': 0.9, 'degrees': 0.0, 'scale': 0.36812, 'fliplr': 0.15453}\n",
      "Saved C:\\Users\\joons\\workspace\\final_project\\runs\\tuned_aug_auto\\aug_auto\\tune_scatter_plots.png\n",
      "Saved C:\\Users\\joons\\workspace\\final_project\\runs\\tuned_aug_auto\\aug_auto\\tune_fitness.png\n",
      "\n",
      "\u001b[34m\u001b[1mTuner: \u001b[0m21/30 iterations complete  (42476.43s)\n",
      "\u001b[34m\u001b[1mTuner: \u001b[0mResults saved to \u001b[1mC:\\Users\\joons\\workspace\\final_project\\runs\\tuned_aug_auto\\aug_auto\u001b[0m\n",
      "\u001b[34m\u001b[1mTuner: \u001b[0mBest fitness=0.93424 observed at iteration 21\n",
      "\u001b[34m\u001b[1mTuner: \u001b[0mBest fitness metrics are {'metrics/precision(B)': 0.98361, 'metrics/recall(B)': 0.9579, 'metrics/mAP50(B)': 0.98977, 'metrics/mAP50-95(B)': 0.92807, 'val/box_loss': 0.36948, 'val/cls_loss': 0.21501, 'val/dfl_loss': 0.80105, 'fitness': 0.93424}\n",
      "\u001b[34m\u001b[1mTuner: \u001b[0mBest fitness model is C:\\Users\\joons\\workspace\\final_project\\runs\\tuned_aug_auto\\train21\n",
      "\u001b[34m\u001b[1mTuner: \u001b[0mBest fitness hyperparameters are printed below.\n",
      "\n",
      "Printing '\u001b[1m\u001b[30mC:\\Users\\joons\\workspace\\final_project\\runs\\tuned_aug_auto\\aug_auto\\best_hyperparameters.yaml\u001b[0m'\n",
      "\n",
      "mosaic: 0.97066\n",
      "mixup: 0.0\n",
      "hsv_s: 0.9\n",
      "degrees: 0.0\n",
      "scale: 0.36812\n",
      "fliplr: 0.15453\n",
      "\n",
      "\u001b[34m\u001b[1mTuner: \u001b[0mStarting iteration 22/30 with hyperparameters: {'mosaic': 1.0, 'mixup': 0.0, 'hsv_s': 0.9, 'degrees': 0.0, 'scale': 0.49715, 'fliplr': 0.29066}\n",
      "Saved C:\\Users\\joons\\workspace\\final_project\\runs\\tuned_aug_auto\\aug_auto\\tune_scatter_plots.png\n",
      "Saved C:\\Users\\joons\\workspace\\final_project\\runs\\tuned_aug_auto\\aug_auto\\tune_fitness.png\n",
      "\n",
      "\u001b[34m\u001b[1mTuner: \u001b[0m22/30 iterations complete  (44518.46s)\n",
      "\u001b[34m\u001b[1mTuner: \u001b[0mResults saved to \u001b[1mC:\\Users\\joons\\workspace\\final_project\\runs\\tuned_aug_auto\\aug_auto\u001b[0m\n",
      "\u001b[34m\u001b[1mTuner: \u001b[0mBest fitness=0.93424 observed at iteration 21\n",
      "\u001b[34m\u001b[1mTuner: \u001b[0mBest fitness metrics are {'metrics/precision(B)': 0.98361, 'metrics/recall(B)': 0.9579, 'metrics/mAP50(B)': 0.98977, 'metrics/mAP50-95(B)': 0.92807, 'val/box_loss': 0.36948, 'val/cls_loss': 0.21501, 'val/dfl_loss': 0.80105, 'fitness': 0.93424}\n",
      "\u001b[34m\u001b[1mTuner: \u001b[0mBest fitness model is C:\\Users\\joons\\workspace\\final_project\\runs\\tuned_aug_auto\\train21\n",
      "\u001b[34m\u001b[1mTuner: \u001b[0mBest fitness hyperparameters are printed below.\n",
      "\n",
      "Printing '\u001b[1m\u001b[30mC:\\Users\\joons\\workspace\\final_project\\runs\\tuned_aug_auto\\aug_auto\\best_hyperparameters.yaml\u001b[0m'\n",
      "\n",
      "mosaic: 0.97066\n",
      "mixup: 0.0\n",
      "hsv_s: 0.9\n",
      "degrees: 0.0\n",
      "scale: 0.36812\n",
      "fliplr: 0.15453\n",
      "\n",
      "\u001b[34m\u001b[1mTuner: \u001b[0mStarting iteration 23/30 with hyperparameters: {'mosaic': 1.0, 'mixup': 0.0, 'hsv_s': 0.9, 'degrees': 0.0, 'scale': 0.37932, 'fliplr': 0.14769}\n",
      "Saved C:\\Users\\joons\\workspace\\final_project\\runs\\tuned_aug_auto\\aug_auto\\tune_scatter_plots.png\n",
      "Saved C:\\Users\\joons\\workspace\\final_project\\runs\\tuned_aug_auto\\aug_auto\\tune_fitness.png\n",
      "\n",
      "\u001b[34m\u001b[1mTuner: \u001b[0m23/30 iterations complete  (46547.35s)\n",
      "\u001b[34m\u001b[1mTuner: \u001b[0mResults saved to \u001b[1mC:\\Users\\joons\\workspace\\final_project\\runs\\tuned_aug_auto\\aug_auto\u001b[0m\n",
      "\u001b[34m\u001b[1mTuner: \u001b[0mBest fitness=0.93601 observed at iteration 23\n",
      "\u001b[34m\u001b[1mTuner: \u001b[0mBest fitness metrics are {'metrics/precision(B)': 0.98334, 'metrics/recall(B)': 0.95577, 'metrics/mAP50(B)': 0.9882, 'metrics/mAP50-95(B)': 0.93022, 'val/box_loss': 0.36737, 'val/cls_loss': 0.21864, 'val/dfl_loss': 0.80008, 'fitness': 0.93601}\n",
      "\u001b[34m\u001b[1mTuner: \u001b[0mBest fitness model is C:\\Users\\joons\\workspace\\final_project\\runs\\tuned_aug_auto\\train23\n",
      "\u001b[34m\u001b[1mTuner: \u001b[0mBest fitness hyperparameters are printed below.\n",
      "\n",
      "Printing '\u001b[1m\u001b[30mC:\\Users\\joons\\workspace\\final_project\\runs\\tuned_aug_auto\\aug_auto\\best_hyperparameters.yaml\u001b[0m'\n",
      "\n",
      "mosaic: 1.0\n",
      "mixup: 0.0\n",
      "hsv_s: 0.9\n",
      "degrees: 0.0\n",
      "scale: 0.37932\n",
      "fliplr: 0.14769\n",
      "\n",
      "\u001b[34m\u001b[1mTuner: \u001b[0mStarting iteration 24/30 with hyperparameters: {'mosaic': 1.0, 'mixup': 0.0, 'hsv_s': 0.9, 'degrees': 0.0, 'scale': 0.41235, 'fliplr': 0.13538}\n",
      "Saved C:\\Users\\joons\\workspace\\final_project\\runs\\tuned_aug_auto\\aug_auto\\tune_scatter_plots.png\n",
      "Saved C:\\Users\\joons\\workspace\\final_project\\runs\\tuned_aug_auto\\aug_auto\\tune_fitness.png\n",
      "\n",
      "\u001b[34m\u001b[1mTuner: \u001b[0m24/30 iterations complete  (48580.09s)\n",
      "\u001b[34m\u001b[1mTuner: \u001b[0mResults saved to \u001b[1mC:\\Users\\joons\\workspace\\final_project\\runs\\tuned_aug_auto\\aug_auto\u001b[0m\n",
      "\u001b[34m\u001b[1mTuner: \u001b[0mBest fitness=0.93601 observed at iteration 23\n",
      "\u001b[34m\u001b[1mTuner: \u001b[0mBest fitness metrics are {'metrics/precision(B)': 0.98334, 'metrics/recall(B)': 0.95577, 'metrics/mAP50(B)': 0.9882, 'metrics/mAP50-95(B)': 0.93022, 'val/box_loss': 0.36737, 'val/cls_loss': 0.21864, 'val/dfl_loss': 0.80008, 'fitness': 0.93601}\n",
      "\u001b[34m\u001b[1mTuner: \u001b[0mBest fitness model is C:\\Users\\joons\\workspace\\final_project\\runs\\tuned_aug_auto\\train23\n",
      "\u001b[34m\u001b[1mTuner: \u001b[0mBest fitness hyperparameters are printed below.\n",
      "\n",
      "Printing '\u001b[1m\u001b[30mC:\\Users\\joons\\workspace\\final_project\\runs\\tuned_aug_auto\\aug_auto\\best_hyperparameters.yaml\u001b[0m'\n",
      "\n",
      "mosaic: 1.0\n",
      "mixup: 0.0\n",
      "hsv_s: 0.9\n",
      "degrees: 0.0\n",
      "scale: 0.37932\n",
      "fliplr: 0.14769\n",
      "\n",
      "\u001b[34m\u001b[1mTuner: \u001b[0mStarting iteration 25/30 with hyperparameters: {'mosaic': 1.0, 'mixup': 0.0, 'hsv_s': 0.89951, 'degrees': 0.0, 'scale': 0.40967, 'fliplr': 0.13672}\n",
      "Saved C:\\Users\\joons\\workspace\\final_project\\runs\\tuned_aug_auto\\aug_auto\\tune_scatter_plots.png\n",
      "Saved C:\\Users\\joons\\workspace\\final_project\\runs\\tuned_aug_auto\\aug_auto\\tune_fitness.png\n",
      "\n",
      "\u001b[34m\u001b[1mTuner: \u001b[0m25/30 iterations complete  (50605.77s)\n",
      "\u001b[34m\u001b[1mTuner: \u001b[0mResults saved to \u001b[1mC:\\Users\\joons\\workspace\\final_project\\runs\\tuned_aug_auto\\aug_auto\u001b[0m\n",
      "\u001b[34m\u001b[1mTuner: \u001b[0mBest fitness=0.93601 observed at iteration 23\n",
      "\u001b[34m\u001b[1mTuner: \u001b[0mBest fitness metrics are {'metrics/precision(B)': 0.98334, 'metrics/recall(B)': 0.95577, 'metrics/mAP50(B)': 0.9882, 'metrics/mAP50-95(B)': 0.93022, 'val/box_loss': 0.36737, 'val/cls_loss': 0.21864, 'val/dfl_loss': 0.80008, 'fitness': 0.93601}\n",
      "\u001b[34m\u001b[1mTuner: \u001b[0mBest fitness model is C:\\Users\\joons\\workspace\\final_project\\runs\\tuned_aug_auto\\train23\n",
      "\u001b[34m\u001b[1mTuner: \u001b[0mBest fitness hyperparameters are printed below.\n",
      "\n",
      "Printing '\u001b[1m\u001b[30mC:\\Users\\joons\\workspace\\final_project\\runs\\tuned_aug_auto\\aug_auto\\best_hyperparameters.yaml\u001b[0m'\n",
      "\n",
      "mosaic: 1.0\n",
      "mixup: 0.0\n",
      "hsv_s: 0.9\n",
      "degrees: 0.0\n",
      "scale: 0.37932\n",
      "fliplr: 0.14769\n",
      "\n",
      "\u001b[34m\u001b[1mTuner: \u001b[0mStarting iteration 26/30 with hyperparameters: {'mosaic': 1.0, 'mixup': 0.0, 'hsv_s': 0.83421, 'degrees': 0.0, 'scale': 0.49391, 'fliplr': 0.13538}\n",
      "Saved C:\\Users\\joons\\workspace\\final_project\\runs\\tuned_aug_auto\\aug_auto\\tune_scatter_plots.png\n",
      "Saved C:\\Users\\joons\\workspace\\final_project\\runs\\tuned_aug_auto\\aug_auto\\tune_fitness.png\n",
      "\n",
      "\u001b[34m\u001b[1mTuner: \u001b[0m26/30 iterations complete  (52626.61s)\n",
      "\u001b[34m\u001b[1mTuner: \u001b[0mResults saved to \u001b[1mC:\\Users\\joons\\workspace\\final_project\\runs\\tuned_aug_auto\\aug_auto\u001b[0m\n",
      "\u001b[34m\u001b[1mTuner: \u001b[0mBest fitness=0.93601 observed at iteration 23\n",
      "\u001b[34m\u001b[1mTuner: \u001b[0mBest fitness metrics are {'metrics/precision(B)': 0.98334, 'metrics/recall(B)': 0.95577, 'metrics/mAP50(B)': 0.9882, 'metrics/mAP50-95(B)': 0.93022, 'val/box_loss': 0.36737, 'val/cls_loss': 0.21864, 'val/dfl_loss': 0.80008, 'fitness': 0.93601}\n",
      "\u001b[34m\u001b[1mTuner: \u001b[0mBest fitness model is C:\\Users\\joons\\workspace\\final_project\\runs\\tuned_aug_auto\\train23\n",
      "\u001b[34m\u001b[1mTuner: \u001b[0mBest fitness hyperparameters are printed below.\n",
      "\n",
      "Printing '\u001b[1m\u001b[30mC:\\Users\\joons\\workspace\\final_project\\runs\\tuned_aug_auto\\aug_auto\\best_hyperparameters.yaml\u001b[0m'\n",
      "\n",
      "mosaic: 1.0\n",
      "mixup: 0.0\n",
      "hsv_s: 0.9\n",
      "degrees: 0.0\n",
      "scale: 0.37932\n",
      "fliplr: 0.14769\n",
      "\n",
      "\u001b[34m\u001b[1mTuner: \u001b[0mStarting iteration 27/30 with hyperparameters: {'mosaic': 1.0, 'mixup': 0.0, 'hsv_s': 0.9, 'degrees': 0.0, 'scale': 0.42186, 'fliplr': 0.13068}\n",
      "Saved C:\\Users\\joons\\workspace\\final_project\\runs\\tuned_aug_auto\\aug_auto\\tune_scatter_plots.png\n",
      "Saved C:\\Users\\joons\\workspace\\final_project\\runs\\tuned_aug_auto\\aug_auto\\tune_fitness.png\n",
      "\n",
      "\u001b[34m\u001b[1mTuner: \u001b[0m27/30 iterations complete  (54645.84s)\n",
      "\u001b[34m\u001b[1mTuner: \u001b[0mResults saved to \u001b[1mC:\\Users\\joons\\workspace\\final_project\\runs\\tuned_aug_auto\\aug_auto\u001b[0m\n",
      "\u001b[34m\u001b[1mTuner: \u001b[0mBest fitness=0.93601 observed at iteration 23\n",
      "\u001b[34m\u001b[1mTuner: \u001b[0mBest fitness metrics are {'metrics/precision(B)': 0.98334, 'metrics/recall(B)': 0.95577, 'metrics/mAP50(B)': 0.9882, 'metrics/mAP50-95(B)': 0.93022, 'val/box_loss': 0.36737, 'val/cls_loss': 0.21864, 'val/dfl_loss': 0.80008, 'fitness': 0.93601}\n",
      "\u001b[34m\u001b[1mTuner: \u001b[0mBest fitness model is C:\\Users\\joons\\workspace\\final_project\\runs\\tuned_aug_auto\\train23\n",
      "\u001b[34m\u001b[1mTuner: \u001b[0mBest fitness hyperparameters are printed below.\n",
      "\n",
      "Printing '\u001b[1m\u001b[30mC:\\Users\\joons\\workspace\\final_project\\runs\\tuned_aug_auto\\aug_auto\\best_hyperparameters.yaml\u001b[0m'\n",
      "\n",
      "mosaic: 1.0\n",
      "mixup: 0.0\n",
      "hsv_s: 0.9\n",
      "degrees: 0.0\n",
      "scale: 0.37932\n",
      "fliplr: 0.14769\n",
      "\n",
      "\u001b[34m\u001b[1mTuner: \u001b[0mStarting iteration 28/30 with hyperparameters: {'mosaic': 0.90874, 'mixup': 0.0, 'hsv_s': 0.86272, 'degrees': 0.0, 'scale': 0.45932, 'fliplr': 0.1279}\n",
      "Saved C:\\Users\\joons\\workspace\\final_project\\runs\\tuned_aug_auto\\aug_auto\\tune_scatter_plots.png\n",
      "Saved C:\\Users\\joons\\workspace\\final_project\\runs\\tuned_aug_auto\\aug_auto\\tune_fitness.png\n",
      "\n",
      "\u001b[34m\u001b[1mTuner: \u001b[0m28/30 iterations complete  (56693.54s)\n",
      "\u001b[34m\u001b[1mTuner: \u001b[0mResults saved to \u001b[1mC:\\Users\\joons\\workspace\\final_project\\runs\\tuned_aug_auto\\aug_auto\u001b[0m\n",
      "\u001b[34m\u001b[1mTuner: \u001b[0mBest fitness=0.93601 observed at iteration 23\n",
      "\u001b[34m\u001b[1mTuner: \u001b[0mBest fitness metrics are {'metrics/precision(B)': 0.98334, 'metrics/recall(B)': 0.95577, 'metrics/mAP50(B)': 0.9882, 'metrics/mAP50-95(B)': 0.93022, 'val/box_loss': 0.36737, 'val/cls_loss': 0.21864, 'val/dfl_loss': 0.80008, 'fitness': 0.93601}\n",
      "\u001b[34m\u001b[1mTuner: \u001b[0mBest fitness model is C:\\Users\\joons\\workspace\\final_project\\runs\\tuned_aug_auto\\train23\n",
      "\u001b[34m\u001b[1mTuner: \u001b[0mBest fitness hyperparameters are printed below.\n",
      "\n",
      "Printing '\u001b[1m\u001b[30mC:\\Users\\joons\\workspace\\final_project\\runs\\tuned_aug_auto\\aug_auto\\best_hyperparameters.yaml\u001b[0m'\n",
      "\n",
      "mosaic: 1.0\n",
      "mixup: 0.0\n",
      "hsv_s: 0.9\n",
      "degrees: 0.0\n",
      "scale: 0.37932\n",
      "fliplr: 0.14769\n",
      "\n",
      "\u001b[34m\u001b[1mTuner: \u001b[0mStarting iteration 29/30 with hyperparameters: {'mosaic': 0.86077, 'mixup': 0.0, 'hsv_s': 0.72796, 'degrees': 0.0, 'scale': 0.43246, 'fliplr': 0.15969}\n",
      "Saved C:\\Users\\joons\\workspace\\final_project\\runs\\tuned_aug_auto\\aug_auto\\tune_scatter_plots.png\n",
      "Saved C:\\Users\\joons\\workspace\\final_project\\runs\\tuned_aug_auto\\aug_auto\\tune_fitness.png\n",
      "\n",
      "\u001b[34m\u001b[1mTuner: \u001b[0m29/30 iterations complete  (58716.54s)\n",
      "\u001b[34m\u001b[1mTuner: \u001b[0mResults saved to \u001b[1mC:\\Users\\joons\\workspace\\final_project\\runs\\tuned_aug_auto\\aug_auto\u001b[0m\n",
      "\u001b[34m\u001b[1mTuner: \u001b[0mBest fitness=0.93601 observed at iteration 23\n",
      "\u001b[34m\u001b[1mTuner: \u001b[0mBest fitness metrics are {'metrics/precision(B)': 0.98334, 'metrics/recall(B)': 0.95577, 'metrics/mAP50(B)': 0.9882, 'metrics/mAP50-95(B)': 0.93022, 'val/box_loss': 0.36737, 'val/cls_loss': 0.21864, 'val/dfl_loss': 0.80008, 'fitness': 0.93601}\n",
      "\u001b[34m\u001b[1mTuner: \u001b[0mBest fitness model is C:\\Users\\joons\\workspace\\final_project\\runs\\tuned_aug_auto\\train23\n",
      "\u001b[34m\u001b[1mTuner: \u001b[0mBest fitness hyperparameters are printed below.\n",
      "\n",
      "Printing '\u001b[1m\u001b[30mC:\\Users\\joons\\workspace\\final_project\\runs\\tuned_aug_auto\\aug_auto\\best_hyperparameters.yaml\u001b[0m'\n",
      "\n",
      "mosaic: 1.0\n",
      "mixup: 0.0\n",
      "hsv_s: 0.9\n",
      "degrees: 0.0\n",
      "scale: 0.37932\n",
      "fliplr: 0.14769\n",
      "\n",
      "\u001b[34m\u001b[1mTuner: \u001b[0mStarting iteration 30/30 with hyperparameters: {'mosaic': 0.52331, 'mixup': 0.0, 'hsv_s': 0.87774, 'degrees': 0.0, 'scale': 0.41438, 'fliplr': 0.13365}\n",
      "Saved C:\\Users\\joons\\workspace\\final_project\\runs\\tuned_aug_auto\\aug_auto\\tune_scatter_plots.png\n",
      "Saved C:\\Users\\joons\\workspace\\final_project\\runs\\tuned_aug_auto\\aug_auto\\tune_fitness.png\n",
      "\n",
      "\u001b[34m\u001b[1mTuner: \u001b[0m30/30 iterations complete  (60738.50s)\n",
      "\u001b[34m\u001b[1mTuner: \u001b[0mResults saved to \u001b[1mC:\\Users\\joons\\workspace\\final_project\\runs\\tuned_aug_auto\\aug_auto\u001b[0m\n",
      "\u001b[34m\u001b[1mTuner: \u001b[0mBest fitness=0.93601 observed at iteration 23\n",
      "\u001b[34m\u001b[1mTuner: \u001b[0mBest fitness metrics are {'metrics/precision(B)': 0.98334, 'metrics/recall(B)': 0.95577, 'metrics/mAP50(B)': 0.9882, 'metrics/mAP50-95(B)': 0.93022, 'val/box_loss': 0.36737, 'val/cls_loss': 0.21864, 'val/dfl_loss': 0.80008, 'fitness': 0.93601}\n",
      "\u001b[34m\u001b[1mTuner: \u001b[0mBest fitness model is C:\\Users\\joons\\workspace\\final_project\\runs\\tuned_aug_auto\\train23\n",
      "\u001b[34m\u001b[1mTuner: \u001b[0mBest fitness hyperparameters are printed below.\n",
      "\n",
      "Printing '\u001b[1m\u001b[30mC:\\Users\\joons\\workspace\\final_project\\runs\\tuned_aug_auto\\aug_auto\\best_hyperparameters.yaml\u001b[0m'\n",
      "\n",
      "mosaic: 1.0\n",
      "mixup: 0.0\n",
      "hsv_s: 0.9\n",
      "degrees: 0.0\n",
      "scale: 0.37932\n",
      "fliplr: 0.14769\n",
      "\n"
     ]
    }
   ],
   "source": [
    "from ultralytics import YOLO\n",
    "import os\n",
    "\n",
    "runs_aug_path = os.path.join(runs_path, \"tuned_aug_auto\")\n",
    "model = YOLO(pretrained_model_path)\n",
    "\n",
    "search_space = {\n",
    "    \"mosaic\": (0.0, 1.0),\n",
    "    \"mixup\": (0.0, 1.0),\n",
    "    \"hsv_s\": (0.0, 0.9),\n",
    "    \"degrees\": (0.0, 45.0),\n",
    "    \"scale\": (0.0, 0.9),\n",
    "    \"fliplr\": (0.0, 1.0)\n",
    "}\n",
    "model.tune(\n",
    "    data=yaml_path,\n",
    "    epochs=10,\n",
    "    iterations=30,\n",
    "    imgsz=640,\n",
    "    batch=32,\n",
    "    space=search_space,\n",
    "    optimizer=\"AdamW\",\n",
    "    project=runs_aug_path,\n",
    "    name=\"aug_auto\",\n",
    "    resume=True,\n",
    ")"
   ]
  },
  {
   "cell_type": "code",
   "execution_count": 5,
   "metadata": {
    "scrolled": true
   },
   "outputs": [
    {
     "name": "stdout",
     "output_type": "stream",
     "text": [
      "\u001b[34m\u001b[1mTuner: \u001b[0mInitialized Tuner instance with 'tune_dir=C:\\Users\\joons\\workspace\\final_project\\runs\\mixed\\mixed'\n",
      "\u001b[34m\u001b[1mTuner: \u001b[0m Learn about tuning at https://docs.ultralytics.com/guides/hyperparameter-tuning\n",
      "\u001b[34m\u001b[1mTuner: \u001b[0mStarting iteration 1/30 with hyperparameters: {'mosaic': 1.0, 'scale': 0.5, 'fliplr': 0.5, 'momentum': 0.937}\n",
      "ERROR training failure for hyperparameter tuning iteration 1\n",
      "Command '['C:\\\\Users\\\\joons\\\\anaconda3\\\\envs\\\\pigeon\\\\python.exe', '-m', 'ultralytics.cfg.__init__', 'train', 'task=detect', 'mode=train', 'model=C:/Users/joons/workspace/final_project\\\\pretrained_model\\\\yolo11s.pt', 'data=C:/Users/joons/workspace/final_project\\\\dataset\\\\coco8.yaml', 'epochs=10', 'time=None', 'patience=100', 'batch=32', 'imgsz=640', 'save=True', 'save_period=-1', 'cache=False', 'device=None', 'workers=8', 'project=C:/Users/joons/workspace/final_project\\\\runs\\\\mixed', 'name=None', 'exist_ok=False', 'pretrained=True', 'optimizer=AdamW', 'verbose=True', 'seed=0', 'deterministic=True', 'single_cls=False', 'rect=False', 'cos_lr=False', 'close_mosaic=10', 'resume=False', 'amp=True', 'fraction=1.0', 'profile=False', 'freeze=None', 'multi_scale=False', 'overlap_mask=True', 'mask_ratio=4', 'dropout=0.0', 'val=True', 'split=val', 'save_json=False', 'conf=None', 'iou=0.7', 'max_det=300', 'half=False', 'dnn=False', 'plots=True', 'source=None', 'vid_stride=1', 'stream_buffer=False', 'visualize=False', 'augment=False', 'agnostic_nms=False', 'classes=None', 'retina_masks=False', 'embed=None', 'show=False', 'save_frames=False', 'save_txt=False', 'save_conf=False', 'save_crop=False', 'show_labels=True', 'show_conf=True', 'show_boxes=True', 'line_width=None', 'format=torchscript', 'keras=False', 'optimize=False', 'int8=False', 'dynamic=False', 'simplify=True', 'opset=None', 'workspace=None', 'nms=False', 'lr0=0.01', 'lrf=0.01', 'momentum=0.937', 'weight_decay=0.0005', 'warmup_epochs=3.0', 'warmup_momentum=0.8', 'warmup_bias_lr=0.1', 'box=7.5', 'cls=0.5', 'dfl=1.5', 'pose=12.0', 'kobj=1.0', 'nbs=64', 'hsv_h=0.015', 'hsv_s=0.7', 'hsv_v=0.4', 'degrees=0.0', 'translate=0.1', 'scale=0.5', 'shear=0.0', 'perspective=0.0', 'flipud=0.0', 'fliplr=0.5', 'bgr=0.0', 'mosaic=1.0', 'mixup=0.0', 'copy_paste=0.0', 'copy_paste_mode=flip', 'auto_augment=randaugment', 'erasing=0.4', 'cfg=None', 'tracker=botsort.yaml']' returned non-zero exit status 1.\n",
      "Saved C:\\Users\\joons\\workspace\\final_project\\runs\\mixed\\mixed\\tune_scatter_plots.png\n",
      "Saved C:\\Users\\joons\\workspace\\final_project\\runs\\mixed\\mixed\\tune_fitness.png\n",
      "\n",
      "\u001b[34m\u001b[1mTuner: \u001b[0m1/30 iterations complete  (1466.63s)\n",
      "\u001b[34m\u001b[1mTuner: \u001b[0mResults saved to \u001b[1mC:\\Users\\joons\\workspace\\final_project\\runs\\mixed\\mixed\u001b[0m\n",
      "\u001b[34m\u001b[1mTuner: \u001b[0mBest fitness=0.0 observed at iteration 1\n",
      "\u001b[34m\u001b[1mTuner: \u001b[0mBest fitness metrics are {}\n",
      "\u001b[34m\u001b[1mTuner: \u001b[0mBest fitness model is C:\\Users\\joons\\workspace\\final_project\\runs\\mixed\\train\n",
      "\u001b[34m\u001b[1mTuner: \u001b[0mBest fitness hyperparameters are printed below.\n",
      "\n",
      "Printing '\u001b[1m\u001b[30mC:\\Users\\joons\\workspace\\final_project\\runs\\mixed\\mixed\\best_hyperparameters.yaml\u001b[0m'\n",
      "\n",
      "mosaic: 1.0\n",
      "scale: 0.5\n",
      "fliplr: 0.5\n",
      "momentum: 0.937\n",
      "\n",
      "\u001b[34m\u001b[1mTuner: \u001b[0mStarting iteration 2/30 with hyperparameters: {'mosaic': 0.91849, 'scale': 0.5, 'fliplr': 0.47478, 'momentum': 0.98}\n",
      "Saved C:\\Users\\joons\\workspace\\final_project\\runs\\mixed\\mixed\\tune_scatter_plots.png\n",
      "Saved C:\\Users\\joons\\workspace\\final_project\\runs\\mixed\\mixed\\tune_fitness.png\n",
      "\n",
      "\u001b[34m\u001b[1mTuner: \u001b[0m2/30 iterations complete  (3497.90s)\n",
      "\u001b[34m\u001b[1mTuner: \u001b[0mResults saved to \u001b[1mC:\\Users\\joons\\workspace\\final_project\\runs\\mixed\\mixed\u001b[0m\n",
      "\u001b[34m\u001b[1mTuner: \u001b[0mBest fitness=0.92772 observed at iteration 2\n",
      "\u001b[34m\u001b[1mTuner: \u001b[0mBest fitness metrics are {'metrics/precision(B)': 0.98172, 'metrics/recall(B)': 0.96004, 'metrics/mAP50(B)': 0.9894, 'metrics/mAP50-95(B)': 0.92087, 'val/box_loss': 0.38479, 'val/cls_loss': 0.22521, 'val/dfl_loss': 0.80314, 'fitness': 0.92772}\n",
      "\u001b[34m\u001b[1mTuner: \u001b[0mBest fitness model is C:\\Users\\joons\\workspace\\final_project\\runs\\mixed\\train2\n",
      "\u001b[34m\u001b[1mTuner: \u001b[0mBest fitness hyperparameters are printed below.\n",
      "\n",
      "Printing '\u001b[1m\u001b[30mC:\\Users\\joons\\workspace\\final_project\\runs\\mixed\\mixed\\best_hyperparameters.yaml\u001b[0m'\n",
      "\n",
      "mosaic: 0.91849\n",
      "scale: 0.5\n",
      "fliplr: 0.47478\n",
      "momentum: 0.98\n",
      "\n",
      "\u001b[34m\u001b[1mTuner: \u001b[0mStarting iteration 3/30 with hyperparameters: {'mosaic': 1.0, 'scale': 0.52054, 'fliplr': 0.51679, 'momentum': 0.98}\n",
      "Saved C:\\Users\\joons\\workspace\\final_project\\runs\\mixed\\mixed\\tune_scatter_plots.png\n",
      "Saved C:\\Users\\joons\\workspace\\final_project\\runs\\mixed\\mixed\\tune_fitness.png\n",
      "\n",
      "\u001b[34m\u001b[1mTuner: \u001b[0m3/30 iterations complete  (5526.04s)\n",
      "\u001b[34m\u001b[1mTuner: \u001b[0mResults saved to \u001b[1mC:\\Users\\joons\\workspace\\final_project\\runs\\mixed\\mixed\u001b[0m\n",
      "\u001b[34m\u001b[1mTuner: \u001b[0mBest fitness=0.92772 observed at iteration 2\n",
      "\u001b[34m\u001b[1mTuner: \u001b[0mBest fitness metrics are {'metrics/precision(B)': 0.98172, 'metrics/recall(B)': 0.96004, 'metrics/mAP50(B)': 0.9894, 'metrics/mAP50-95(B)': 0.92087, 'val/box_loss': 0.38479, 'val/cls_loss': 0.22521, 'val/dfl_loss': 0.80314, 'fitness': 0.92772}\n",
      "\u001b[34m\u001b[1mTuner: \u001b[0mBest fitness model is C:\\Users\\joons\\workspace\\final_project\\runs\\mixed\\train2\n",
      "\u001b[34m\u001b[1mTuner: \u001b[0mBest fitness hyperparameters are printed below.\n",
      "\n",
      "Printing '\u001b[1m\u001b[30mC:\\Users\\joons\\workspace\\final_project\\runs\\mixed\\mixed\\best_hyperparameters.yaml\u001b[0m'\n",
      "\n",
      "mosaic: 0.91849\n",
      "scale: 0.5\n",
      "fliplr: 0.47478\n",
      "momentum: 0.98\n",
      "\n",
      "\u001b[34m\u001b[1mTuner: \u001b[0mStarting iteration 4/30 with hyperparameters: {'mosaic': 1.0, 'scale': 0.52054, 'fliplr': 0.57504, 'momentum': 0.93728}\n",
      "Saved C:\\Users\\joons\\workspace\\final_project\\runs\\mixed\\mixed\\tune_scatter_plots.png\n",
      "Saved C:\\Users\\joons\\workspace\\final_project\\runs\\mixed\\mixed\\tune_fitness.png\n",
      "\n",
      "\u001b[34m\u001b[1mTuner: \u001b[0m4/30 iterations complete  (7558.86s)\n",
      "\u001b[34m\u001b[1mTuner: \u001b[0mResults saved to \u001b[1mC:\\Users\\joons\\workspace\\final_project\\runs\\mixed\\mixed\u001b[0m\n",
      "\u001b[34m\u001b[1mTuner: \u001b[0mBest fitness=0.92772 observed at iteration 2\n",
      "\u001b[34m\u001b[1mTuner: \u001b[0mBest fitness metrics are {'metrics/precision(B)': 0.98172, 'metrics/recall(B)': 0.96004, 'metrics/mAP50(B)': 0.9894, 'metrics/mAP50-95(B)': 0.92087, 'val/box_loss': 0.38479, 'val/cls_loss': 0.22521, 'val/dfl_loss': 0.80314, 'fitness': 0.92772}\n",
      "\u001b[34m\u001b[1mTuner: \u001b[0mBest fitness model is C:\\Users\\joons\\workspace\\final_project\\runs\\mixed\\train2\n",
      "\u001b[34m\u001b[1mTuner: \u001b[0mBest fitness hyperparameters are printed below.\n",
      "\n",
      "Printing '\u001b[1m\u001b[30mC:\\Users\\joons\\workspace\\final_project\\runs\\mixed\\mixed\\best_hyperparameters.yaml\u001b[0m'\n",
      "\n",
      "mosaic: 0.91849\n",
      "scale: 0.5\n",
      "fliplr: 0.47478\n",
      "momentum: 0.98\n",
      "\n",
      "\u001b[34m\u001b[1mTuner: \u001b[0mStarting iteration 5/30 with hyperparameters: {'mosaic': 1.0, 'scale': 0.56857, 'fliplr': 0.55192, 'momentum': 0.93728}\n",
      "Saved C:\\Users\\joons\\workspace\\final_project\\runs\\mixed\\mixed\\tune_scatter_plots.png\n",
      "Saved C:\\Users\\joons\\workspace\\final_project\\runs\\mixed\\mixed\\tune_fitness.png\n",
      "\n",
      "\u001b[34m\u001b[1mTuner: \u001b[0m5/30 iterations complete  (9591.55s)\n",
      "\u001b[34m\u001b[1mTuner: \u001b[0mResults saved to \u001b[1mC:\\Users\\joons\\workspace\\final_project\\runs\\mixed\\mixed\u001b[0m\n",
      "\u001b[34m\u001b[1mTuner: \u001b[0mBest fitness=0.92772 observed at iteration 2\n",
      "\u001b[34m\u001b[1mTuner: \u001b[0mBest fitness metrics are {'metrics/precision(B)': 0.98172, 'metrics/recall(B)': 0.96004, 'metrics/mAP50(B)': 0.9894, 'metrics/mAP50-95(B)': 0.92087, 'val/box_loss': 0.38479, 'val/cls_loss': 0.22521, 'val/dfl_loss': 0.80314, 'fitness': 0.92772}\n",
      "\u001b[34m\u001b[1mTuner: \u001b[0mBest fitness model is C:\\Users\\joons\\workspace\\final_project\\runs\\mixed\\train2\n",
      "\u001b[34m\u001b[1mTuner: \u001b[0mBest fitness hyperparameters are printed below.\n",
      "\n",
      "Printing '\u001b[1m\u001b[30mC:\\Users\\joons\\workspace\\final_project\\runs\\mixed\\mixed\\best_hyperparameters.yaml\u001b[0m'\n",
      "\n",
      "mosaic: 0.91849\n",
      "scale: 0.5\n",
      "fliplr: 0.47478\n",
      "momentum: 0.98\n",
      "\n",
      "\u001b[34m\u001b[1mTuner: \u001b[0mStarting iteration 6/30 with hyperparameters: {'mosaic': 1.0, 'scale': 0.41765, 'fliplr': 0.47478, 'momentum': 0.98}\n",
      "Saved C:\\Users\\joons\\workspace\\final_project\\runs\\mixed\\mixed\\tune_scatter_plots.png\n",
      "Saved C:\\Users\\joons\\workspace\\final_project\\runs\\mixed\\mixed\\tune_fitness.png\n",
      "\n",
      "\u001b[34m\u001b[1mTuner: \u001b[0m6/30 iterations complete  (11619.65s)\n",
      "\u001b[34m\u001b[1mTuner: \u001b[0mResults saved to \u001b[1mC:\\Users\\joons\\workspace\\final_project\\runs\\mixed\\mixed\u001b[0m\n",
      "\u001b[34m\u001b[1mTuner: \u001b[0mBest fitness=0.93037 observed at iteration 6\n",
      "\u001b[34m\u001b[1mTuner: \u001b[0mBest fitness metrics are {'metrics/precision(B)': 0.98337, 'metrics/recall(B)': 0.9573, 'metrics/mAP50(B)': 0.98928, 'metrics/mAP50-95(B)': 0.92382, 'val/box_loss': 0.38397, 'val/cls_loss': 0.22179, 'val/dfl_loss': 0.80305, 'fitness': 0.93037}\n",
      "\u001b[34m\u001b[1mTuner: \u001b[0mBest fitness model is C:\\Users\\joons\\workspace\\final_project\\runs\\mixed\\train6\n",
      "\u001b[34m\u001b[1mTuner: \u001b[0mBest fitness hyperparameters are printed below.\n",
      "\n",
      "Printing '\u001b[1m\u001b[30mC:\\Users\\joons\\workspace\\final_project\\runs\\mixed\\mixed\\best_hyperparameters.yaml\u001b[0m'\n",
      "\n",
      "mosaic: 1.0\n",
      "scale: 0.41765\n",
      "fliplr: 0.47478\n",
      "momentum: 0.98\n",
      "\n",
      "\u001b[34m\u001b[1mTuner: \u001b[0mStarting iteration 7/30 with hyperparameters: {'mosaic': 1.0, 'scale': 0.32264, 'fliplr': 0.42989, 'momentum': 0.98}\n",
      "Saved C:\\Users\\joons\\workspace\\final_project\\runs\\mixed\\mixed\\tune_scatter_plots.png\n",
      "Saved C:\\Users\\joons\\workspace\\final_project\\runs\\mixed\\mixed\\tune_fitness.png\n",
      "\n",
      "\u001b[34m\u001b[1mTuner: \u001b[0m7/30 iterations complete  (13649.95s)\n",
      "\u001b[34m\u001b[1mTuner: \u001b[0mResults saved to \u001b[1mC:\\Users\\joons\\workspace\\final_project\\runs\\mixed\\mixed\u001b[0m\n",
      "\u001b[34m\u001b[1mTuner: \u001b[0mBest fitness=0.93037 observed at iteration 6\n",
      "\u001b[34m\u001b[1mTuner: \u001b[0mBest fitness metrics are {'metrics/precision(B)': 0.98337, 'metrics/recall(B)': 0.9573, 'metrics/mAP50(B)': 0.98928, 'metrics/mAP50-95(B)': 0.92382, 'val/box_loss': 0.38397, 'val/cls_loss': 0.22179, 'val/dfl_loss': 0.80305, 'fitness': 0.93037}\n",
      "\u001b[34m\u001b[1mTuner: \u001b[0mBest fitness model is C:\\Users\\joons\\workspace\\final_project\\runs\\mixed\\train6\n",
      "\u001b[34m\u001b[1mTuner: \u001b[0mBest fitness hyperparameters are printed below.\n",
      "\n",
      "Printing '\u001b[1m\u001b[30mC:\\Users\\joons\\workspace\\final_project\\runs\\mixed\\mixed\\best_hyperparameters.yaml\u001b[0m'\n",
      "\n",
      "mosaic: 1.0\n",
      "scale: 0.41765\n",
      "fliplr: 0.47478\n",
      "momentum: 0.98\n",
      "\n",
      "\u001b[34m\u001b[1mTuner: \u001b[0mStarting iteration 8/30 with hyperparameters: {'mosaic': 1.0, 'scale': 0.35609, 'fliplr': 0.47478, 'momentum': 0.87579}\n",
      "Saved C:\\Users\\joons\\workspace\\final_project\\runs\\mixed\\mixed\\tune_scatter_plots.png\n",
      "Saved C:\\Users\\joons\\workspace\\final_project\\runs\\mixed\\mixed\\tune_fitness.png\n",
      "\n",
      "\u001b[34m\u001b[1mTuner: \u001b[0m8/30 iterations complete  (15677.11s)\n",
      "\u001b[34m\u001b[1mTuner: \u001b[0mResults saved to \u001b[1mC:\\Users\\joons\\workspace\\final_project\\runs\\mixed\\mixed\u001b[0m\n",
      "\u001b[34m\u001b[1mTuner: \u001b[0mBest fitness=0.93276 observed at iteration 8\n",
      "\u001b[34m\u001b[1mTuner: \u001b[0mBest fitness metrics are {'metrics/precision(B)': 0.98315, 'metrics/recall(B)': 0.95829, 'metrics/mAP50(B)': 0.98949, 'metrics/mAP50-95(B)': 0.92645, 'val/box_loss': 0.37733, 'val/cls_loss': 0.21709, 'val/dfl_loss': 0.80237, 'fitness': 0.93276}\n",
      "\u001b[34m\u001b[1mTuner: \u001b[0mBest fitness model is C:\\Users\\joons\\workspace\\final_project\\runs\\mixed\\train8\n",
      "\u001b[34m\u001b[1mTuner: \u001b[0mBest fitness hyperparameters are printed below.\n",
      "\n",
      "Printing '\u001b[1m\u001b[30mC:\\Users\\joons\\workspace\\final_project\\runs\\mixed\\mixed\\best_hyperparameters.yaml\u001b[0m'\n",
      "\n",
      "mosaic: 1.0\n",
      "scale: 0.35609\n",
      "fliplr: 0.47478\n",
      "momentum: 0.87579\n",
      "\n",
      "\u001b[34m\u001b[1mTuner: \u001b[0mStarting iteration 9/30 with hyperparameters: {'mosaic': 1.0, 'scale': 0.34064, 'fliplr': 0.476, 'momentum': 0.92562}\n",
      "Saved C:\\Users\\joons\\workspace\\final_project\\runs\\mixed\\mixed\\tune_scatter_plots.png\n",
      "Saved C:\\Users\\joons\\workspace\\final_project\\runs\\mixed\\mixed\\tune_fitness.png\n",
      "\n",
      "\u001b[34m\u001b[1mTuner: \u001b[0m9/30 iterations complete  (17706.87s)\n",
      "\u001b[34m\u001b[1mTuner: \u001b[0mResults saved to \u001b[1mC:\\Users\\joons\\workspace\\final_project\\runs\\mixed\\mixed\u001b[0m\n",
      "\u001b[34m\u001b[1mTuner: \u001b[0mBest fitness=0.93276 observed at iteration 8\n",
      "\u001b[34m\u001b[1mTuner: \u001b[0mBest fitness metrics are {'metrics/precision(B)': 0.98315, 'metrics/recall(B)': 0.95829, 'metrics/mAP50(B)': 0.98949, 'metrics/mAP50-95(B)': 0.92645, 'val/box_loss': 0.37733, 'val/cls_loss': 0.21709, 'val/dfl_loss': 0.80237, 'fitness': 0.93276}\n",
      "\u001b[34m\u001b[1mTuner: \u001b[0mBest fitness model is C:\\Users\\joons\\workspace\\final_project\\runs\\mixed\\train8\n",
      "\u001b[34m\u001b[1mTuner: \u001b[0mBest fitness hyperparameters are printed below.\n",
      "\n",
      "Printing '\u001b[1m\u001b[30mC:\\Users\\joons\\workspace\\final_project\\runs\\mixed\\mixed\\best_hyperparameters.yaml\u001b[0m'\n",
      "\n",
      "mosaic: 1.0\n",
      "scale: 0.35609\n",
      "fliplr: 0.47478\n",
      "momentum: 0.87579\n",
      "\n",
      "\u001b[34m\u001b[1mTuner: \u001b[0mStarting iteration 10/30 with hyperparameters: {'mosaic': 1.0, 'scale': 0.37145, 'fliplr': 0.49931, 'momentum': 0.87579}\n",
      "Saved C:\\Users\\joons\\workspace\\final_project\\runs\\mixed\\mixed\\tune_scatter_plots.png\n",
      "Saved C:\\Users\\joons\\workspace\\final_project\\runs\\mixed\\mixed\\tune_fitness.png\n",
      "\n",
      "\u001b[34m\u001b[1mTuner: \u001b[0m10/30 iterations complete  (19739.71s)\n",
      "\u001b[34m\u001b[1mTuner: \u001b[0mResults saved to \u001b[1mC:\\Users\\joons\\workspace\\final_project\\runs\\mixed\\mixed\u001b[0m\n",
      "\u001b[34m\u001b[1mTuner: \u001b[0mBest fitness=0.93276 observed at iteration 8\n",
      "\u001b[34m\u001b[1mTuner: \u001b[0mBest fitness metrics are {'metrics/precision(B)': 0.98315, 'metrics/recall(B)': 0.95829, 'metrics/mAP50(B)': 0.98949, 'metrics/mAP50-95(B)': 0.92645, 'val/box_loss': 0.37733, 'val/cls_loss': 0.21709, 'val/dfl_loss': 0.80237, 'fitness': 0.93276}\n",
      "\u001b[34m\u001b[1mTuner: \u001b[0mBest fitness model is C:\\Users\\joons\\workspace\\final_project\\runs\\mixed\\train8\n",
      "\u001b[34m\u001b[1mTuner: \u001b[0mBest fitness hyperparameters are printed below.\n",
      "\n",
      "Printing '\u001b[1m\u001b[30mC:\\Users\\joons\\workspace\\final_project\\runs\\mixed\\mixed\\best_hyperparameters.yaml\u001b[0m'\n",
      "\n",
      "mosaic: 1.0\n",
      "scale: 0.35609\n",
      "fliplr: 0.47478\n",
      "momentum: 0.87579\n",
      "\n",
      "\u001b[34m\u001b[1mTuner: \u001b[0mStarting iteration 11/30 with hyperparameters: {'mosaic': 0.99417, 'scale': 0.34363, 'fliplr': 0.46576, 'momentum': 0.88974}\n",
      "ERROR training failure for hyperparameter tuning iteration 11\n",
      "Command '['C:\\\\Users\\\\joons\\\\anaconda3\\\\envs\\\\pigeon\\\\python.exe', '-m', 'ultralytics.cfg.__init__', 'train', 'task=detect', 'mode=train', 'model=C:/Users/joons/workspace/final_project\\\\pretrained_model\\\\yolo11s.pt', 'data=C:/Users/joons/workspace/final_project\\\\dataset\\\\coco8.yaml', 'epochs=10', 'time=None', 'patience=100', 'batch=32', 'imgsz=640', 'save=True', 'save_period=-1', 'cache=False', 'device=None', 'workers=8', 'project=C:/Users/joons/workspace/final_project\\\\runs\\\\mixed', 'name=None', 'exist_ok=False', 'pretrained=True', 'optimizer=AdamW', 'verbose=True', 'seed=0', 'deterministic=True', 'single_cls=False', 'rect=False', 'cos_lr=False', 'close_mosaic=10', 'resume=False', 'amp=True', 'fraction=1.0', 'profile=False', 'freeze=None', 'multi_scale=False', 'overlap_mask=True', 'mask_ratio=4', 'dropout=0.0', 'val=True', 'split=val', 'save_json=False', 'conf=None', 'iou=0.7', 'max_det=300', 'half=False', 'dnn=False', 'plots=True', 'source=None', 'vid_stride=1', 'stream_buffer=False', 'visualize=False', 'augment=False', 'agnostic_nms=False', 'classes=None', 'retina_masks=False', 'embed=None', 'show=False', 'save_frames=False', 'save_txt=False', 'save_conf=False', 'save_crop=False', 'show_labels=True', 'show_conf=True', 'show_boxes=True', 'line_width=None', 'format=torchscript', 'keras=False', 'optimize=False', 'int8=False', 'dynamic=False', 'simplify=True', 'opset=None', 'workspace=None', 'nms=False', 'lr0=0.01', 'lrf=0.01', 'momentum=0.88974', 'weight_decay=0.0005', 'warmup_epochs=3.0', 'warmup_momentum=0.8', 'warmup_bias_lr=0.1', 'box=7.5', 'cls=0.5', 'dfl=1.5', 'pose=12.0', 'kobj=1.0', 'nbs=64', 'hsv_h=0.015', 'hsv_s=0.7', 'hsv_v=0.4', 'degrees=0.0', 'translate=0.1', 'scale=0.34363', 'shear=0.0', 'perspective=0.0', 'flipud=0.0', 'fliplr=0.46576', 'bgr=0.0', 'mosaic=0.99417', 'mixup=0.0', 'copy_paste=0.0', 'copy_paste_mode=flip', 'auto_augment=randaugment', 'erasing=0.4', 'cfg=None', 'tracker=botsort.yaml']' returned non-zero exit status 1.\n",
      "Saved C:\\Users\\joons\\workspace\\final_project\\runs\\mixed\\mixed\\tune_scatter_plots.png\n",
      "Saved C:\\Users\\joons\\workspace\\final_project\\runs\\mixed\\mixed\\tune_fitness.png\n",
      "\n",
      "\u001b[34m\u001b[1mTuner: \u001b[0m11/30 iterations complete  (20157.24s)\n",
      "\u001b[34m\u001b[1mTuner: \u001b[0mResults saved to \u001b[1mC:\\Users\\joons\\workspace\\final_project\\runs\\mixed\\mixed\u001b[0m\n",
      "\u001b[34m\u001b[1mTuner: \u001b[0mBest fitness=0.93276 observed at iteration 8\n",
      "\u001b[34m\u001b[1mTuner: \u001b[0mBest fitness metrics are {'metrics/precision(B)': 0.98315, 'metrics/recall(B)': 0.95829, 'metrics/mAP50(B)': 0.98949, 'metrics/mAP50-95(B)': 0.92645, 'val/box_loss': 0.37733, 'val/cls_loss': 0.21709, 'val/dfl_loss': 0.80237, 'fitness': 0.93276}\n",
      "\u001b[34m\u001b[1mTuner: \u001b[0mBest fitness model is C:\\Users\\joons\\workspace\\final_project\\runs\\mixed\\train8\n",
      "\u001b[34m\u001b[1mTuner: \u001b[0mBest fitness hyperparameters are printed below.\n",
      "\n",
      "Printing '\u001b[1m\u001b[30mC:\\Users\\joons\\workspace\\final_project\\runs\\mixed\\mixed\\best_hyperparameters.yaml\u001b[0m'\n",
      "\n",
      "mosaic: 1.0\n",
      "scale: 0.35609\n",
      "fliplr: 0.47478\n",
      "momentum: 0.87579\n",
      "\n",
      "\u001b[34m\u001b[1mTuner: \u001b[0mStarting iteration 12/30 with hyperparameters: {'mosaic': 0.86915, 'scale': 0.37145, 'fliplr': 0.49931, 'momentum': 0.80209}\n",
      "Saved C:\\Users\\joons\\workspace\\final_project\\runs\\mixed\\mixed\\tune_scatter_plots.png\n",
      "Saved C:\\Users\\joons\\workspace\\final_project\\runs\\mixed\\mixed\\tune_fitness.png\n",
      "\n",
      "\u001b[34m\u001b[1mTuner: \u001b[0m12/30 iterations complete  (22190.96s)\n",
      "\u001b[34m\u001b[1mTuner: \u001b[0mResults saved to \u001b[1mC:\\Users\\joons\\workspace\\final_project\\runs\\mixed\\mixed\u001b[0m\n",
      "\u001b[34m\u001b[1mTuner: \u001b[0mBest fitness=0.93276 observed at iteration 8\n",
      "\u001b[34m\u001b[1mTuner: \u001b[0mBest fitness metrics are {'metrics/precision(B)': 0.98315, 'metrics/recall(B)': 0.95829, 'metrics/mAP50(B)': 0.98949, 'metrics/mAP50-95(B)': 0.92645, 'val/box_loss': 0.37733, 'val/cls_loss': 0.21709, 'val/dfl_loss': 0.80237, 'fitness': 0.93276}\n",
      "\u001b[34m\u001b[1mTuner: \u001b[0mBest fitness model is C:\\Users\\joons\\workspace\\final_project\\runs\\mixed\\train8\n",
      "\u001b[34m\u001b[1mTuner: \u001b[0mBest fitness hyperparameters are printed below.\n",
      "\n",
      "Printing '\u001b[1m\u001b[30mC:\\Users\\joons\\workspace\\final_project\\runs\\mixed\\mixed\\best_hyperparameters.yaml\u001b[0m'\n",
      "\n",
      "mosaic: 1.0\n",
      "scale: 0.35609\n",
      "fliplr: 0.47478\n",
      "momentum: 0.87579\n",
      "\n",
      "\u001b[34m\u001b[1mTuner: \u001b[0mStarting iteration 13/30 with hyperparameters: {'mosaic': 0.96542, 'scale': 0.3602, 'fliplr': 0.48446, 'momentum': 0.8797}\n",
      "Saved C:\\Users\\joons\\workspace\\final_project\\runs\\mixed\\mixed\\tune_scatter_plots.png\n",
      "Saved C:\\Users\\joons\\workspace\\final_project\\runs\\mixed\\mixed\\tune_fitness.png\n",
      "\n",
      "\u001b[34m\u001b[1mTuner: \u001b[0m13/30 iterations complete  (24216.92s)\n",
      "\u001b[34m\u001b[1mTuner: \u001b[0mResults saved to \u001b[1mC:\\Users\\joons\\workspace\\final_project\\runs\\mixed\\mixed\u001b[0m\n",
      "\u001b[34m\u001b[1mTuner: \u001b[0mBest fitness=0.93326 observed at iteration 13\n",
      "\u001b[34m\u001b[1mTuner: \u001b[0mBest fitness metrics are {'metrics/precision(B)': 0.98282, 'metrics/recall(B)': 0.95697, 'metrics/mAP50(B)': 0.98922, 'metrics/mAP50-95(B)': 0.92704, 'val/box_loss': 0.37796, 'val/cls_loss': 0.21888, 'val/dfl_loss': 0.80252, 'fitness': 0.93326}\n",
      "\u001b[34m\u001b[1mTuner: \u001b[0mBest fitness model is C:\\Users\\joons\\workspace\\final_project\\runs\\mixed\\train13\n",
      "\u001b[34m\u001b[1mTuner: \u001b[0mBest fitness hyperparameters are printed below.\n",
      "\n",
      "Printing '\u001b[1m\u001b[30mC:\\Users\\joons\\workspace\\final_project\\runs\\mixed\\mixed\\best_hyperparameters.yaml\u001b[0m'\n",
      "\n",
      "mosaic: 0.96542\n",
      "scale: 0.3602\n",
      "fliplr: 0.48446\n",
      "momentum: 0.8797\n",
      "\n",
      "\u001b[34m\u001b[1mTuner: \u001b[0mStarting iteration 14/30 with hyperparameters: {'mosaic': 0.43687, 'scale': 0.34918, 'fliplr': 0.43597, 'momentum': 0.98}\n",
      "Saved C:\\Users\\joons\\workspace\\final_project\\runs\\mixed\\mixed\\tune_scatter_plots.png\n",
      "Saved C:\\Users\\joons\\workspace\\final_project\\runs\\mixed\\mixed\\tune_fitness.png\n",
      "\n",
      "\u001b[34m\u001b[1mTuner: \u001b[0m14/30 iterations complete  (26242.84s)\n",
      "\u001b[34m\u001b[1mTuner: \u001b[0mResults saved to \u001b[1mC:\\Users\\joons\\workspace\\final_project\\runs\\mixed\\mixed\u001b[0m\n",
      "\u001b[34m\u001b[1mTuner: \u001b[0mBest fitness=0.93326 observed at iteration 13\n",
      "\u001b[34m\u001b[1mTuner: \u001b[0mBest fitness metrics are {'metrics/precision(B)': 0.98282, 'metrics/recall(B)': 0.95697, 'metrics/mAP50(B)': 0.98922, 'metrics/mAP50-95(B)': 0.92704, 'val/box_loss': 0.37796, 'val/cls_loss': 0.21888, 'val/dfl_loss': 0.80252, 'fitness': 0.93326}\n",
      "\u001b[34m\u001b[1mTuner: \u001b[0mBest fitness model is C:\\Users\\joons\\workspace\\final_project\\runs\\mixed\\train13\n",
      "\u001b[34m\u001b[1mTuner: \u001b[0mBest fitness hyperparameters are printed below.\n",
      "\n",
      "Printing '\u001b[1m\u001b[30mC:\\Users\\joons\\workspace\\final_project\\runs\\mixed\\mixed\\best_hyperparameters.yaml\u001b[0m'\n",
      "\n",
      "mosaic: 0.96542\n",
      "scale: 0.3602\n",
      "fliplr: 0.48446\n",
      "momentum: 0.8797\n",
      "\n",
      "\u001b[34m\u001b[1mTuner: \u001b[0mStarting iteration 15/30 with hyperparameters: {'mosaic': 0.72039, 'scale': 0.19458, 'fliplr': 0.60332, 'momentum': 0.8797}\n",
      "Saved C:\\Users\\joons\\workspace\\final_project\\runs\\mixed\\mixed\\tune_scatter_plots.png\n",
      "Saved C:\\Users\\joons\\workspace\\final_project\\runs\\mixed\\mixed\\tune_fitness.png\n",
      "\n",
      "\u001b[34m\u001b[1mTuner: \u001b[0m15/30 iterations complete  (28274.49s)\n",
      "\u001b[34m\u001b[1mTuner: \u001b[0mResults saved to \u001b[1mC:\\Users\\joons\\workspace\\final_project\\runs\\mixed\\mixed\u001b[0m\n",
      "\u001b[34m\u001b[1mTuner: \u001b[0mBest fitness=0.93326 observed at iteration 13\n",
      "\u001b[34m\u001b[1mTuner: \u001b[0mBest fitness metrics are {'metrics/precision(B)': 0.98282, 'metrics/recall(B)': 0.95697, 'metrics/mAP50(B)': 0.98922, 'metrics/mAP50-95(B)': 0.92704, 'val/box_loss': 0.37796, 'val/cls_loss': 0.21888, 'val/dfl_loss': 0.80252, 'fitness': 0.93326}\n",
      "\u001b[34m\u001b[1mTuner: \u001b[0mBest fitness model is C:\\Users\\joons\\workspace\\final_project\\runs\\mixed\\train13\n",
      "\u001b[34m\u001b[1mTuner: \u001b[0mBest fitness hyperparameters are printed below.\n",
      "\n",
      "Printing '\u001b[1m\u001b[30mC:\\Users\\joons\\workspace\\final_project\\runs\\mixed\\mixed\\best_hyperparameters.yaml\u001b[0m'\n",
      "\n",
      "mosaic: 0.96542\n",
      "scale: 0.3602\n",
      "fliplr: 0.48446\n",
      "momentum: 0.8797\n",
      "\n",
      "\u001b[34m\u001b[1mTuner: \u001b[0mStarting iteration 16/30 with hyperparameters: {'mosaic': 0.78157, 'scale': 0.4653, 'fliplr': 0.35343, 'momentum': 0.9171}\n",
      "Saved C:\\Users\\joons\\workspace\\final_project\\runs\\mixed\\mixed\\tune_scatter_plots.png\n",
      "Saved C:\\Users\\joons\\workspace\\final_project\\runs\\mixed\\mixed\\tune_fitness.png\n",
      "\n",
      "\u001b[34m\u001b[1mTuner: \u001b[0m16/30 iterations complete  (30297.09s)\n",
      "\u001b[34m\u001b[1mTuner: \u001b[0mResults saved to \u001b[1mC:\\Users\\joons\\workspace\\final_project\\runs\\mixed\\mixed\u001b[0m\n",
      "\u001b[34m\u001b[1mTuner: \u001b[0mBest fitness=0.93326 observed at iteration 13\n",
      "\u001b[34m\u001b[1mTuner: \u001b[0mBest fitness metrics are {'metrics/precision(B)': 0.98282, 'metrics/recall(B)': 0.95697, 'metrics/mAP50(B)': 0.98922, 'metrics/mAP50-95(B)': 0.92704, 'val/box_loss': 0.37796, 'val/cls_loss': 0.21888, 'val/dfl_loss': 0.80252, 'fitness': 0.93326}\n",
      "\u001b[34m\u001b[1mTuner: \u001b[0mBest fitness model is C:\\Users\\joons\\workspace\\final_project\\runs\\mixed\\train13\n",
      "\u001b[34m\u001b[1mTuner: \u001b[0mBest fitness hyperparameters are printed below.\n",
      "\n",
      "Printing '\u001b[1m\u001b[30mC:\\Users\\joons\\workspace\\final_project\\runs\\mixed\\mixed\\best_hyperparameters.yaml\u001b[0m'\n",
      "\n",
      "mosaic: 0.96542\n",
      "scale: 0.3602\n",
      "fliplr: 0.48446\n",
      "momentum: 0.8797\n",
      "\n",
      "\u001b[34m\u001b[1mTuner: \u001b[0mStarting iteration 17/30 with hyperparameters: {'mosaic': 1.0, 'scale': 0.32201, 'fliplr': 0.29182, 'momentum': 0.98}\n",
      "ERROR training failure for hyperparameter tuning iteration 17\n",
      "Command '['C:\\\\Users\\\\joons\\\\anaconda3\\\\envs\\\\pigeon\\\\python.exe', '-m', 'ultralytics.cfg.__init__', 'train', 'task=detect', 'mode=train', 'model=C:/Users/joons/workspace/final_project\\\\pretrained_model\\\\yolo11s.pt', 'data=C:/Users/joons/workspace/final_project\\\\dataset\\\\coco8.yaml', 'epochs=10', 'time=None', 'patience=100', 'batch=32', 'imgsz=640', 'save=True', 'save_period=-1', 'cache=False', 'device=None', 'workers=8', 'project=C:/Users/joons/workspace/final_project\\\\runs\\\\mixed', 'name=None', 'exist_ok=False', 'pretrained=True', 'optimizer=AdamW', 'verbose=True', 'seed=0', 'deterministic=True', 'single_cls=False', 'rect=False', 'cos_lr=False', 'close_mosaic=10', 'resume=False', 'amp=True', 'fraction=1.0', 'profile=False', 'freeze=None', 'multi_scale=False', 'overlap_mask=True', 'mask_ratio=4', 'dropout=0.0', 'val=True', 'split=val', 'save_json=False', 'conf=None', 'iou=0.7', 'max_det=300', 'half=False', 'dnn=False', 'plots=True', 'source=None', 'vid_stride=1', 'stream_buffer=False', 'visualize=False', 'augment=False', 'agnostic_nms=False', 'classes=None', 'retina_masks=False', 'embed=None', 'show=False', 'save_frames=False', 'save_txt=False', 'save_conf=False', 'save_crop=False', 'show_labels=True', 'show_conf=True', 'show_boxes=True', 'line_width=None', 'format=torchscript', 'keras=False', 'optimize=False', 'int8=False', 'dynamic=False', 'simplify=True', 'opset=None', 'workspace=None', 'nms=False', 'lr0=0.01', 'lrf=0.01', 'momentum=0.98', 'weight_decay=0.0005', 'warmup_epochs=3.0', 'warmup_momentum=0.8', 'warmup_bias_lr=0.1', 'box=7.5', 'cls=0.5', 'dfl=1.5', 'pose=12.0', 'kobj=1.0', 'nbs=64', 'hsv_h=0.015', 'hsv_s=0.7', 'hsv_v=0.4', 'degrees=0.0', 'translate=0.1', 'scale=0.32201', 'shear=0.0', 'perspective=0.0', 'flipud=0.0', 'fliplr=0.29182', 'bgr=0.0', 'mosaic=1.0', 'mixup=0.0', 'copy_paste=0.0', 'copy_paste_mode=flip', 'auto_augment=randaugment', 'erasing=0.4', 'cfg=None', 'tracker=botsort.yaml']' returned non-zero exit status 1.\n",
      "Saved C:\\Users\\joons\\workspace\\final_project\\runs\\mixed\\mixed\\tune_scatter_plots.png\n",
      "Saved C:\\Users\\joons\\workspace\\final_project\\runs\\mixed\\mixed\\tune_fitness.png\n",
      "\n",
      "\u001b[34m\u001b[1mTuner: \u001b[0m17/30 iterations complete  (30606.90s)\n",
      "\u001b[34m\u001b[1mTuner: \u001b[0mResults saved to \u001b[1mC:\\Users\\joons\\workspace\\final_project\\runs\\mixed\\mixed\u001b[0m\n",
      "\u001b[34m\u001b[1mTuner: \u001b[0mBest fitness=0.93326 observed at iteration 13\n",
      "\u001b[34m\u001b[1mTuner: \u001b[0mBest fitness metrics are {'metrics/precision(B)': 0.98282, 'metrics/recall(B)': 0.95697, 'metrics/mAP50(B)': 0.98922, 'metrics/mAP50-95(B)': 0.92704, 'val/box_loss': 0.37796, 'val/cls_loss': 0.21888, 'val/dfl_loss': 0.80252, 'fitness': 0.93326}\n",
      "\u001b[34m\u001b[1mTuner: \u001b[0mBest fitness model is C:\\Users\\joons\\workspace\\final_project\\runs\\mixed\\train13\n",
      "\u001b[34m\u001b[1mTuner: \u001b[0mBest fitness hyperparameters are printed below.\n",
      "\n",
      "Printing '\u001b[1m\u001b[30mC:\\Users\\joons\\workspace\\final_project\\runs\\mixed\\mixed\\best_hyperparameters.yaml\u001b[0m'\n",
      "\n",
      "mosaic: 0.96542\n",
      "scale: 0.3602\n",
      "fliplr: 0.48446\n",
      "momentum: 0.8797\n",
      "\n",
      "\u001b[34m\u001b[1mTuner: \u001b[0mStarting iteration 18/30 with hyperparameters: {'mosaic': 0.96489, 'scale': 0.36062, 'fliplr': 0.48425, 'momentum': 0.8797}\n",
      "Saved C:\\Users\\joons\\workspace\\final_project\\runs\\mixed\\mixed\\tune_scatter_plots.png\n",
      "Saved C:\\Users\\joons\\workspace\\final_project\\runs\\mixed\\mixed\\tune_fitness.png\n",
      "\n",
      "\u001b[34m\u001b[1mTuner: \u001b[0m18/30 iterations complete  (32645.13s)\n",
      "\u001b[34m\u001b[1mTuner: \u001b[0mResults saved to \u001b[1mC:\\Users\\joons\\workspace\\final_project\\runs\\mixed\\mixed\u001b[0m\n",
      "\u001b[34m\u001b[1mTuner: \u001b[0mBest fitness=0.93326 observed at iteration 13\n",
      "\u001b[34m\u001b[1mTuner: \u001b[0mBest fitness metrics are {'metrics/precision(B)': 0.98282, 'metrics/recall(B)': 0.95697, 'metrics/mAP50(B)': 0.98922, 'metrics/mAP50-95(B)': 0.92704, 'val/box_loss': 0.37796, 'val/cls_loss': 0.21888, 'val/dfl_loss': 0.80252, 'fitness': 0.93326}\n",
      "\u001b[34m\u001b[1mTuner: \u001b[0mBest fitness model is C:\\Users\\joons\\workspace\\final_project\\runs\\mixed\\train13\n",
      "\u001b[34m\u001b[1mTuner: \u001b[0mBest fitness hyperparameters are printed below.\n",
      "\n",
      "Printing '\u001b[1m\u001b[30mC:\\Users\\joons\\workspace\\final_project\\runs\\mixed\\mixed\\best_hyperparameters.yaml\u001b[0m'\n",
      "\n",
      "mosaic: 0.96542\n",
      "scale: 0.3602\n",
      "fliplr: 0.48446\n",
      "momentum: 0.8797\n",
      "\n",
      "\u001b[34m\u001b[1mTuner: \u001b[0mStarting iteration 19/30 with hyperparameters: {'mosaic': 0.8473, 'scale': 0.33761, 'fliplr': 0.37146, 'momentum': 0.8797}\n",
      "Saved C:\\Users\\joons\\workspace\\final_project\\runs\\mixed\\mixed\\tune_scatter_plots.png\n",
      "Saved C:\\Users\\joons\\workspace\\final_project\\runs\\mixed\\mixed\\tune_fitness.png\n",
      "\n",
      "\u001b[34m\u001b[1mTuner: \u001b[0m19/30 iterations complete  (34665.72s)\n",
      "\u001b[34m\u001b[1mTuner: \u001b[0mResults saved to \u001b[1mC:\\Users\\joons\\workspace\\final_project\\runs\\mixed\\mixed\u001b[0m\n",
      "\u001b[34m\u001b[1mTuner: \u001b[0mBest fitness=0.93384 observed at iteration 19\n",
      "\u001b[34m\u001b[1mTuner: \u001b[0mBest fitness metrics are {'metrics/precision(B)': 0.98316, 'metrics/recall(B)': 0.95591, 'metrics/mAP50(B)': 0.9884, 'metrics/mAP50-95(B)': 0.92778, 'val/box_loss': 0.3737, 'val/cls_loss': 0.21721, 'val/dfl_loss': 0.80561, 'fitness': 0.93384}\n",
      "\u001b[34m\u001b[1mTuner: \u001b[0mBest fitness model is C:\\Users\\joons\\workspace\\final_project\\runs\\mixed\\train19\n",
      "\u001b[34m\u001b[1mTuner: \u001b[0mBest fitness hyperparameters are printed below.\n",
      "\n",
      "Printing '\u001b[1m\u001b[30mC:\\Users\\joons\\workspace\\final_project\\runs\\mixed\\mixed\\best_hyperparameters.yaml\u001b[0m'\n",
      "\n",
      "mosaic: 0.8473\n",
      "scale: 0.33761\n",
      "fliplr: 0.37146\n",
      "momentum: 0.8797\n",
      "\n",
      "\u001b[34m\u001b[1mTuner: \u001b[0mStarting iteration 20/30 with hyperparameters: {'mosaic': 1.0, 'scale': 0.40812, 'fliplr': 0.44866, 'momentum': 0.77456}\n",
      "Saved C:\\Users\\joons\\workspace\\final_project\\runs\\mixed\\mixed\\tune_scatter_plots.png\n",
      "Saved C:\\Users\\joons\\workspace\\final_project\\runs\\mixed\\mixed\\tune_fitness.png\n",
      "\n",
      "\u001b[34m\u001b[1mTuner: \u001b[0m20/30 iterations complete  (36700.72s)\n",
      "\u001b[34m\u001b[1mTuner: \u001b[0mResults saved to \u001b[1mC:\\Users\\joons\\workspace\\final_project\\runs\\mixed\\mixed\u001b[0m\n",
      "\u001b[34m\u001b[1mTuner: \u001b[0mBest fitness=0.93384 observed at iteration 19\n",
      "\u001b[34m\u001b[1mTuner: \u001b[0mBest fitness metrics are {'metrics/precision(B)': 0.98316, 'metrics/recall(B)': 0.95591, 'metrics/mAP50(B)': 0.9884, 'metrics/mAP50-95(B)': 0.92778, 'val/box_loss': 0.3737, 'val/cls_loss': 0.21721, 'val/dfl_loss': 0.80561, 'fitness': 0.93384}\n",
      "\u001b[34m\u001b[1mTuner: \u001b[0mBest fitness model is C:\\Users\\joons\\workspace\\final_project\\runs\\mixed\\train19\n",
      "\u001b[34m\u001b[1mTuner: \u001b[0mBest fitness hyperparameters are printed below.\n",
      "\n",
      "Printing '\u001b[1m\u001b[30mC:\\Users\\joons\\workspace\\final_project\\runs\\mixed\\mixed\\best_hyperparameters.yaml\u001b[0m'\n",
      "\n",
      "mosaic: 0.8473\n",
      "scale: 0.33761\n",
      "fliplr: 0.37146\n",
      "momentum: 0.8797\n",
      "\n",
      "\u001b[34m\u001b[1mTuner: \u001b[0mStarting iteration 21/30 with hyperparameters: {'mosaic': 0.8473, 'scale': 0.39945, 'fliplr': 0.52369, 'momentum': 0.76269}\n",
      "ERROR training failure for hyperparameter tuning iteration 21\n",
      "Command '['C:\\\\Users\\\\joons\\\\anaconda3\\\\envs\\\\pigeon\\\\python.exe', '-m', 'ultralytics.cfg.__init__', 'train', 'task=detect', 'mode=train', 'model=C:/Users/joons/workspace/final_project\\\\pretrained_model\\\\yolo11s.pt', 'data=C:/Users/joons/workspace/final_project\\\\dataset\\\\coco8.yaml', 'epochs=10', 'time=None', 'patience=100', 'batch=32', 'imgsz=640', 'save=True', 'save_period=-1', 'cache=False', 'device=None', 'workers=8', 'project=C:/Users/joons/workspace/final_project\\\\runs\\\\mixed', 'name=None', 'exist_ok=False', 'pretrained=True', 'optimizer=AdamW', 'verbose=True', 'seed=0', 'deterministic=True', 'single_cls=False', 'rect=False', 'cos_lr=False', 'close_mosaic=10', 'resume=False', 'amp=True', 'fraction=1.0', 'profile=False', 'freeze=None', 'multi_scale=False', 'overlap_mask=True', 'mask_ratio=4', 'dropout=0.0', 'val=True', 'split=val', 'save_json=False', 'conf=None', 'iou=0.7', 'max_det=300', 'half=False', 'dnn=False', 'plots=True', 'source=None', 'vid_stride=1', 'stream_buffer=False', 'visualize=False', 'augment=False', 'agnostic_nms=False', 'classes=None', 'retina_masks=False', 'embed=None', 'show=False', 'save_frames=False', 'save_txt=False', 'save_conf=False', 'save_crop=False', 'show_labels=True', 'show_conf=True', 'show_boxes=True', 'line_width=None', 'format=torchscript', 'keras=False', 'optimize=False', 'int8=False', 'dynamic=False', 'simplify=True', 'opset=None', 'workspace=None', 'nms=False', 'lr0=0.01', 'lrf=0.01', 'momentum=0.76269', 'weight_decay=0.0005', 'warmup_epochs=3.0', 'warmup_momentum=0.8', 'warmup_bias_lr=0.1', 'box=7.5', 'cls=0.5', 'dfl=1.5', 'pose=12.0', 'kobj=1.0', 'nbs=64', 'hsv_h=0.015', 'hsv_s=0.7', 'hsv_v=0.4', 'degrees=0.0', 'translate=0.1', 'scale=0.39945', 'shear=0.0', 'perspective=0.0', 'flipud=0.0', 'fliplr=0.52369', 'bgr=0.0', 'mosaic=0.8473', 'mixup=0.0', 'copy_paste=0.0', 'copy_paste_mode=flip', 'auto_augment=randaugment', 'erasing=0.4', 'cfg=None', 'tracker=botsort.yaml']' returned non-zero exit status 1.\n",
      "Saved C:\\Users\\joons\\workspace\\final_project\\runs\\mixed\\mixed\\tune_scatter_plots.png\n",
      "Saved C:\\Users\\joons\\workspace\\final_project\\runs\\mixed\\mixed\\tune_fitness.png\n",
      "\n",
      "\u001b[34m\u001b[1mTuner: \u001b[0m21/30 iterations complete  (37181.94s)\n",
      "\u001b[34m\u001b[1mTuner: \u001b[0mResults saved to \u001b[1mC:\\Users\\joons\\workspace\\final_project\\runs\\mixed\\mixed\u001b[0m\n",
      "\u001b[34m\u001b[1mTuner: \u001b[0mBest fitness=0.93384 observed at iteration 19\n",
      "\u001b[34m\u001b[1mTuner: \u001b[0mBest fitness metrics are {'metrics/precision(B)': 0.98316, 'metrics/recall(B)': 0.95591, 'metrics/mAP50(B)': 0.9884, 'metrics/mAP50-95(B)': 0.92778, 'val/box_loss': 0.3737, 'val/cls_loss': 0.21721, 'val/dfl_loss': 0.80561, 'fitness': 0.93384}\n",
      "\u001b[34m\u001b[1mTuner: \u001b[0mBest fitness model is C:\\Users\\joons\\workspace\\final_project\\runs\\mixed\\train19\n",
      "\u001b[34m\u001b[1mTuner: \u001b[0mBest fitness hyperparameters are printed below.\n",
      "\n",
      "Printing '\u001b[1m\u001b[30mC:\\Users\\joons\\workspace\\final_project\\runs\\mixed\\mixed\\best_hyperparameters.yaml\u001b[0m'\n",
      "\n",
      "mosaic: 0.8473\n",
      "scale: 0.33761\n",
      "fliplr: 0.37146\n",
      "momentum: 0.8797\n",
      "\n",
      "\u001b[34m\u001b[1mTuner: \u001b[0mStarting iteration 22/30 with hyperparameters: {'mosaic': 1.0, 'scale': 0.42131, 'fliplr': 0.47478, 'momentum': 0.98}\n",
      "Saved C:\\Users\\joons\\workspace\\final_project\\runs\\mixed\\mixed\\tune_scatter_plots.png\n",
      "Saved C:\\Users\\joons\\workspace\\final_project\\runs\\mixed\\mixed\\tune_fitness.png\n",
      "\n",
      "\u001b[34m\u001b[1mTuner: \u001b[0m22/30 iterations complete  (39214.26s)\n",
      "\u001b[34m\u001b[1mTuner: \u001b[0mResults saved to \u001b[1mC:\\Users\\joons\\workspace\\final_project\\runs\\mixed\\mixed\u001b[0m\n",
      "\u001b[34m\u001b[1mTuner: \u001b[0mBest fitness=0.93384 observed at iteration 19\n",
      "\u001b[34m\u001b[1mTuner: \u001b[0mBest fitness metrics are {'metrics/precision(B)': 0.98316, 'metrics/recall(B)': 0.95591, 'metrics/mAP50(B)': 0.9884, 'metrics/mAP50-95(B)': 0.92778, 'val/box_loss': 0.3737, 'val/cls_loss': 0.21721, 'val/dfl_loss': 0.80561, 'fitness': 0.93384}\n",
      "\u001b[34m\u001b[1mTuner: \u001b[0mBest fitness model is C:\\Users\\joons\\workspace\\final_project\\runs\\mixed\\train19\n",
      "\u001b[34m\u001b[1mTuner: \u001b[0mBest fitness hyperparameters are printed below.\n",
      "\n",
      "Printing '\u001b[1m\u001b[30mC:\\Users\\joons\\workspace\\final_project\\runs\\mixed\\mixed\\best_hyperparameters.yaml\u001b[0m'\n",
      "\n",
      "mosaic: 0.8473\n",
      "scale: 0.33761\n",
      "fliplr: 0.37146\n",
      "momentum: 0.8797\n",
      "\n",
      "\u001b[34m\u001b[1mTuner: \u001b[0mStarting iteration 23/30 with hyperparameters: {'mosaic': 0.94108, 'scale': 0.42339, 'fliplr': 0.41822, 'momentum': 0.98}\n",
      "Saved C:\\Users\\joons\\workspace\\final_project\\runs\\mixed\\mixed\\tune_scatter_plots.png\n",
      "Saved C:\\Users\\joons\\workspace\\final_project\\runs\\mixed\\mixed\\tune_fitness.png\n",
      "\n",
      "\u001b[34m\u001b[1mTuner: \u001b[0m23/30 iterations complete  (41243.77s)\n",
      "\u001b[34m\u001b[1mTuner: \u001b[0mResults saved to \u001b[1mC:\\Users\\joons\\workspace\\final_project\\runs\\mixed\\mixed\u001b[0m\n",
      "\u001b[34m\u001b[1mTuner: \u001b[0mBest fitness=0.93384 observed at iteration 19\n",
      "\u001b[34m\u001b[1mTuner: \u001b[0mBest fitness metrics are {'metrics/precision(B)': 0.98316, 'metrics/recall(B)': 0.95591, 'metrics/mAP50(B)': 0.9884, 'metrics/mAP50-95(B)': 0.92778, 'val/box_loss': 0.3737, 'val/cls_loss': 0.21721, 'val/dfl_loss': 0.80561, 'fitness': 0.93384}\n",
      "\u001b[34m\u001b[1mTuner: \u001b[0mBest fitness model is C:\\Users\\joons\\workspace\\final_project\\runs\\mixed\\train19\n",
      "\u001b[34m\u001b[1mTuner: \u001b[0mBest fitness hyperparameters are printed below.\n",
      "\n",
      "Printing '\u001b[1m\u001b[30mC:\\Users\\joons\\workspace\\final_project\\runs\\mixed\\mixed\\best_hyperparameters.yaml\u001b[0m'\n",
      "\n",
      "mosaic: 0.8473\n",
      "scale: 0.33761\n",
      "fliplr: 0.37146\n",
      "momentum: 0.8797\n",
      "\n",
      "\u001b[34m\u001b[1mTuner: \u001b[0mStarting iteration 24/30 with hyperparameters: {'mosaic': 0.88028, 'scale': 0.34141, 'fliplr': 0.3664, 'momentum': 0.87476}\n",
      "Saved C:\\Users\\joons\\workspace\\final_project\\runs\\mixed\\mixed\\tune_scatter_plots.png\n",
      "Saved C:\\Users\\joons\\workspace\\final_project\\runs\\mixed\\mixed\\tune_fitness.png\n",
      "\n",
      "\u001b[34m\u001b[1mTuner: \u001b[0m24/30 iterations complete  (43282.33s)\n",
      "\u001b[34m\u001b[1mTuner: \u001b[0mResults saved to \u001b[1mC:\\Users\\joons\\workspace\\final_project\\runs\\mixed\\mixed\u001b[0m\n",
      "\u001b[34m\u001b[1mTuner: \u001b[0mBest fitness=0.93384 observed at iteration 19\n",
      "\u001b[34m\u001b[1mTuner: \u001b[0mBest fitness metrics are {'metrics/precision(B)': 0.98316, 'metrics/recall(B)': 0.95591, 'metrics/mAP50(B)': 0.9884, 'metrics/mAP50-95(B)': 0.92778, 'val/box_loss': 0.3737, 'val/cls_loss': 0.21721, 'val/dfl_loss': 0.80561, 'fitness': 0.93384}\n",
      "\u001b[34m\u001b[1mTuner: \u001b[0mBest fitness model is C:\\Users\\joons\\workspace\\final_project\\runs\\mixed\\train19\n",
      "\u001b[34m\u001b[1mTuner: \u001b[0mBest fitness hyperparameters are printed below.\n",
      "\n",
      "Printing '\u001b[1m\u001b[30mC:\\Users\\joons\\workspace\\final_project\\runs\\mixed\\mixed\\best_hyperparameters.yaml\u001b[0m'\n",
      "\n",
      "mosaic: 0.8473\n",
      "scale: 0.33761\n",
      "fliplr: 0.37146\n",
      "momentum: 0.8797\n",
      "\n",
      "\u001b[34m\u001b[1mTuner: \u001b[0mStarting iteration 25/30 with hyperparameters: {'mosaic': 0.73044, 'scale': 0.33761, 'fliplr': 0.38865, 'momentum': 0.8797}\n",
      "Saved C:\\Users\\joons\\workspace\\final_project\\runs\\mixed\\mixed\\tune_scatter_plots.png\n",
      "Saved C:\\Users\\joons\\workspace\\final_project\\runs\\mixed\\mixed\\tune_fitness.png\n",
      "\n",
      "\u001b[34m\u001b[1mTuner: \u001b[0m25/30 iterations complete  (45324.24s)\n",
      "\u001b[34m\u001b[1mTuner: \u001b[0mResults saved to \u001b[1mC:\\Users\\joons\\workspace\\final_project\\runs\\mixed\\mixed\u001b[0m\n",
      "\u001b[34m\u001b[1mTuner: \u001b[0mBest fitness=0.93384 observed at iteration 19\n",
      "\u001b[34m\u001b[1mTuner: \u001b[0mBest fitness metrics are {'metrics/precision(B)': 0.98316, 'metrics/recall(B)': 0.95591, 'metrics/mAP50(B)': 0.9884, 'metrics/mAP50-95(B)': 0.92778, 'val/box_loss': 0.3737, 'val/cls_loss': 0.21721, 'val/dfl_loss': 0.80561, 'fitness': 0.93384}\n",
      "\u001b[34m\u001b[1mTuner: \u001b[0mBest fitness model is C:\\Users\\joons\\workspace\\final_project\\runs\\mixed\\train19\n",
      "\u001b[34m\u001b[1mTuner: \u001b[0mBest fitness hyperparameters are printed below.\n",
      "\n",
      "Printing '\u001b[1m\u001b[30mC:\\Users\\joons\\workspace\\final_project\\runs\\mixed\\mixed\\best_hyperparameters.yaml\u001b[0m'\n",
      "\n",
      "mosaic: 0.8473\n",
      "scale: 0.33761\n",
      "fliplr: 0.37146\n",
      "momentum: 0.8797\n",
      "\n",
      "\u001b[34m\u001b[1mTuner: \u001b[0mStarting iteration 26/30 with hyperparameters: {'mosaic': 0.86743, 'scale': 0.26314, 'fliplr': 0.59759, 'momentum': 0.83654}\n",
      "Saved C:\\Users\\joons\\workspace\\final_project\\runs\\mixed\\mixed\\tune_scatter_plots.png\n",
      "Saved C:\\Users\\joons\\workspace\\final_project\\runs\\mixed\\mixed\\tune_fitness.png\n",
      "\n",
      "\u001b[34m\u001b[1mTuner: \u001b[0m26/30 iterations complete  (47365.14s)\n",
      "\u001b[34m\u001b[1mTuner: \u001b[0mResults saved to \u001b[1mC:\\Users\\joons\\workspace\\final_project\\runs\\mixed\\mixed\u001b[0m\n",
      "\u001b[34m\u001b[1mTuner: \u001b[0mBest fitness=0.93384 observed at iteration 19\n",
      "\u001b[34m\u001b[1mTuner: \u001b[0mBest fitness metrics are {'metrics/precision(B)': 0.98316, 'metrics/recall(B)': 0.95591, 'metrics/mAP50(B)': 0.9884, 'metrics/mAP50-95(B)': 0.92778, 'val/box_loss': 0.3737, 'val/cls_loss': 0.21721, 'val/dfl_loss': 0.80561, 'fitness': 0.93384}\n",
      "\u001b[34m\u001b[1mTuner: \u001b[0mBest fitness model is C:\\Users\\joons\\workspace\\final_project\\runs\\mixed\\train19\n",
      "\u001b[34m\u001b[1mTuner: \u001b[0mBest fitness hyperparameters are printed below.\n",
      "\n",
      "Printing '\u001b[1m\u001b[30mC:\\Users\\joons\\workspace\\final_project\\runs\\mixed\\mixed\\best_hyperparameters.yaml\u001b[0m'\n",
      "\n",
      "mosaic: 0.8473\n",
      "scale: 0.33761\n",
      "fliplr: 0.37146\n",
      "momentum: 0.8797\n",
      "\n",
      "\u001b[34m\u001b[1mTuner: \u001b[0mStarting iteration 27/30 with hyperparameters: {'mosaic': 1.0, 'scale': 0.3602, 'fliplr': 0.39103, 'momentum': 0.8856}\n",
      "Saved C:\\Users\\joons\\workspace\\final_project\\runs\\mixed\\mixed\\tune_scatter_plots.png\n",
      "Saved C:\\Users\\joons\\workspace\\final_project\\runs\\mixed\\mixed\\tune_fitness.png\n",
      "\n",
      "\u001b[34m\u001b[1mTuner: \u001b[0m27/30 iterations complete  (49400.66s)\n",
      "\u001b[34m\u001b[1mTuner: \u001b[0mResults saved to \u001b[1mC:\\Users\\joons\\workspace\\final_project\\runs\\mixed\\mixed\u001b[0m\n",
      "\u001b[34m\u001b[1mTuner: \u001b[0mBest fitness=0.93384 observed at iteration 19\n",
      "\u001b[34m\u001b[1mTuner: \u001b[0mBest fitness metrics are {'metrics/precision(B)': 0.98316, 'metrics/recall(B)': 0.95591, 'metrics/mAP50(B)': 0.9884, 'metrics/mAP50-95(B)': 0.92778, 'val/box_loss': 0.3737, 'val/cls_loss': 0.21721, 'val/dfl_loss': 0.80561, 'fitness': 0.93384}\n",
      "\u001b[34m\u001b[1mTuner: \u001b[0mBest fitness model is C:\\Users\\joons\\workspace\\final_project\\runs\\mixed\\train19\n",
      "\u001b[34m\u001b[1mTuner: \u001b[0mBest fitness hyperparameters are printed below.\n",
      "\n",
      "Printing '\u001b[1m\u001b[30mC:\\Users\\joons\\workspace\\final_project\\runs\\mixed\\mixed\\best_hyperparameters.yaml\u001b[0m'\n",
      "\n",
      "mosaic: 0.8473\n",
      "scale: 0.33761\n",
      "fliplr: 0.37146\n",
      "momentum: 0.8797\n",
      "\n",
      "\u001b[34m\u001b[1mTuner: \u001b[0mStarting iteration 28/30 with hyperparameters: {'mosaic': 0.8473, 'scale': 0.33346, 'fliplr': 0.36334, 'momentum': 0.83998}\n",
      "Saved C:\\Users\\joons\\workspace\\final_project\\runs\\mixed\\mixed\\tune_scatter_plots.png\n",
      "Saved C:\\Users\\joons\\workspace\\final_project\\runs\\mixed\\mixed\\tune_fitness.png\n",
      "\n",
      "\u001b[34m\u001b[1mTuner: \u001b[0m28/30 iterations complete  (51422.71s)\n",
      "\u001b[34m\u001b[1mTuner: \u001b[0mResults saved to \u001b[1mC:\\Users\\joons\\workspace\\final_project\\runs\\mixed\\mixed\u001b[0m\n",
      "\u001b[34m\u001b[1mTuner: \u001b[0mBest fitness=0.93384 observed at iteration 19\n",
      "\u001b[34m\u001b[1mTuner: \u001b[0mBest fitness metrics are {'metrics/precision(B)': 0.98316, 'metrics/recall(B)': 0.95591, 'metrics/mAP50(B)': 0.9884, 'metrics/mAP50-95(B)': 0.92778, 'val/box_loss': 0.3737, 'val/cls_loss': 0.21721, 'val/dfl_loss': 0.80561, 'fitness': 0.93384}\n",
      "\u001b[34m\u001b[1mTuner: \u001b[0mBest fitness model is C:\\Users\\joons\\workspace\\final_project\\runs\\mixed\\train19\n",
      "\u001b[34m\u001b[1mTuner: \u001b[0mBest fitness hyperparameters are printed below.\n",
      "\n",
      "Printing '\u001b[1m\u001b[30mC:\\Users\\joons\\workspace\\final_project\\runs\\mixed\\mixed\\best_hyperparameters.yaml\u001b[0m'\n",
      "\n",
      "mosaic: 0.8473\n",
      "scale: 0.33761\n",
      "fliplr: 0.37146\n",
      "momentum: 0.8797\n",
      "\n",
      "\u001b[34m\u001b[1mTuner: \u001b[0mStarting iteration 29/30 with hyperparameters: {'mosaic': 0.8228, 'scale': 0.33771, 'fliplr': 0.37146, 'momentum': 0.8891}\n",
      "Saved C:\\Users\\joons\\workspace\\final_project\\runs\\mixed\\mixed\\tune_scatter_plots.png\n",
      "Saved C:\\Users\\joons\\workspace\\final_project\\runs\\mixed\\mixed\\tune_fitness.png\n",
      "\n",
      "\u001b[34m\u001b[1mTuner: \u001b[0m29/30 iterations complete  (53454.32s)\n",
      "\u001b[34m\u001b[1mTuner: \u001b[0mResults saved to \u001b[1mC:\\Users\\joons\\workspace\\final_project\\runs\\mixed\\mixed\u001b[0m\n",
      "\u001b[34m\u001b[1mTuner: \u001b[0mBest fitness=0.93384 observed at iteration 19\n",
      "\u001b[34m\u001b[1mTuner: \u001b[0mBest fitness metrics are {'metrics/precision(B)': 0.98316, 'metrics/recall(B)': 0.95591, 'metrics/mAP50(B)': 0.9884, 'metrics/mAP50-95(B)': 0.92778, 'val/box_loss': 0.3737, 'val/cls_loss': 0.21721, 'val/dfl_loss': 0.80561, 'fitness': 0.93384}\n",
      "\u001b[34m\u001b[1mTuner: \u001b[0mBest fitness model is C:\\Users\\joons\\workspace\\final_project\\runs\\mixed\\train19\n",
      "\u001b[34m\u001b[1mTuner: \u001b[0mBest fitness hyperparameters are printed below.\n",
      "\n",
      "Printing '\u001b[1m\u001b[30mC:\\Users\\joons\\workspace\\final_project\\runs\\mixed\\mixed\\best_hyperparameters.yaml\u001b[0m'\n",
      "\n",
      "mosaic: 0.8473\n",
      "scale: 0.33761\n",
      "fliplr: 0.37146\n",
      "momentum: 0.8797\n",
      "\n",
      "\u001b[34m\u001b[1mTuner: \u001b[0mStarting iteration 30/30 with hyperparameters: {'mosaic': 0.72702, 'scale': 0.46811, 'fliplr': 0.38769, 'momentum': 0.8797}\n",
      "Saved C:\\Users\\joons\\workspace\\final_project\\runs\\mixed\\mixed\\tune_scatter_plots.png\n",
      "Saved C:\\Users\\joons\\workspace\\final_project\\runs\\mixed\\mixed\\tune_fitness.png\n",
      "\n",
      "\u001b[34m\u001b[1mTuner: \u001b[0m30/30 iterations complete  (55503.76s)\n",
      "\u001b[34m\u001b[1mTuner: \u001b[0mResults saved to \u001b[1mC:\\Users\\joons\\workspace\\final_project\\runs\\mixed\\mixed\u001b[0m\n",
      "\u001b[34m\u001b[1mTuner: \u001b[0mBest fitness=0.93384 observed at iteration 19\n",
      "\u001b[34m\u001b[1mTuner: \u001b[0mBest fitness metrics are {'metrics/precision(B)': 0.98316, 'metrics/recall(B)': 0.95591, 'metrics/mAP50(B)': 0.9884, 'metrics/mAP50-95(B)': 0.92778, 'val/box_loss': 0.3737, 'val/cls_loss': 0.21721, 'val/dfl_loss': 0.80561, 'fitness': 0.93384}\n",
      "\u001b[34m\u001b[1mTuner: \u001b[0mBest fitness model is C:\\Users\\joons\\workspace\\final_project\\runs\\mixed\\train19\n",
      "\u001b[34m\u001b[1mTuner: \u001b[0mBest fitness hyperparameters are printed below.\n",
      "\n",
      "Printing '\u001b[1m\u001b[30mC:\\Users\\joons\\workspace\\final_project\\runs\\mixed\\mixed\\best_hyperparameters.yaml\u001b[0m'\n",
      "\n",
      "mosaic: 0.8473\n",
      "scale: 0.33761\n",
      "fliplr: 0.37146\n",
      "momentum: 0.8797\n",
      "\n"
     ]
    }
   ],
   "source": [
    "from ultralytics import YOLO\n",
    "import os\n",
    "\n",
    "runs_mixed_path = os.path.join(runs_path, \"mixed\")\n",
    "model = YOLO(pretrained_model_path)\n",
    "\n",
    "search_space = {\n",
    "    \"mosaic\": (0.0, 1.0),\n",
    "    \"scale\": (0.0, 0.9),\n",
    "    \"fliplr\": (0.0, 1.0),\n",
    "    \"momentum\": (0.6, 0.98)\n",
    "}\n",
    "model.tune(\n",
    "    data=yaml_path,\n",
    "    epochs=10,\n",
    "    iterations=30,\n",
    "    imgsz=640,\n",
    "    batch=32,\n",
    "    space=search_space,\n",
    "    optimizer=\"AdamW\",\n",
    "    project=runs_mixed_path,\n",
    "    name=\"mixed\",\n",
    "    resume=True,\n",
    ")"
   ]
  },
  {
   "cell_type": "code",
   "execution_count": 7,
   "metadata": {
    "scrolled": true
   },
   "outputs": [
    {
     "name": "stdout",
     "output_type": "stream",
     "text": [
      "New https://pypi.org/project/ultralytics/8.3.118 available  Update with 'pip install -U ultralytics'\n",
      "Ultralytics 8.3.115  Python-3.10.16 torch-2.7.0+cu118 CUDA:0 (NVIDIA GeForce RTX 3080, 10240MiB)\n",
      "\u001b[34m\u001b[1mengine\\trainer: \u001b[0mtask=detect, mode=train, model=C:/Users/joons/workspace/final_project\\pretrained_model\\yolo11s.pt, data=C:/Users/joons/workspace/final_project\\dataset\\coco8.yaml, epochs=100, time=None, patience=20, batch=32, imgsz=640, save=True, save_period=-1, cache=False, device=None, workers=8, project=C:/Users/joons/workspace/final_project\\runs, name=train, exist_ok=False, pretrained=True, optimizer=AdamW, verbose=True, seed=0, deterministic=True, single_cls=False, rect=False, cos_lr=False, close_mosaic=10, resume=False, amp=True, fraction=1.0, profile=False, freeze=None, multi_scale=False, overlap_mask=True, mask_ratio=4, dropout=0.0, val=True, split=val, save_json=False, conf=None, iou=0.7, max_det=300, half=False, dnn=False, plots=True, source=None, vid_stride=1, stream_buffer=False, visualize=False, augment=False, agnostic_nms=False, classes=None, retina_masks=False, embed=None, show=False, save_frames=False, save_txt=False, save_conf=False, save_crop=False, show_labels=True, show_conf=True, show_boxes=True, line_width=None, format=torchscript, keras=False, optimize=False, int8=False, dynamic=False, simplify=True, opset=None, workspace=None, nms=False, lr0=0.01, lrf=0.01, momentum=0.8797, weight_decay=0.0005, warmup_epochs=3.0, warmup_momentum=0.8, warmup_bias_lr=0.1, box=7.5, cls=0.5, dfl=1.5, pose=12.0, kobj=1.0, nbs=64, hsv_h=0.015, hsv_s=0.7, hsv_v=0.4, degrees=0.0, translate=0.1, scale=0.33761, shear=0.0, perspective=0.0, flipud=0.0, fliplr=0.37146, bgr=0.0, mosaic=0.8473, mixup=0.0, copy_paste=0.0, copy_paste_mode=flip, auto_augment=randaugment, erasing=0.4, cfg=None, tracker=botsort.yaml, save_dir=C:\\Users\\joons\\workspace\\final_project\\runs\\train\n",
      "Overriding model.yaml nc=80 with nc=1\n",
      "\n",
      "                   from  n    params  module                                       arguments                     \n",
      "  0                  -1  1       928  ultralytics.nn.modules.conv.Conv             [3, 32, 3, 2]                 \n",
      "  1                  -1  1     18560  ultralytics.nn.modules.conv.Conv             [32, 64, 3, 2]                \n",
      "  2                  -1  1     26080  ultralytics.nn.modules.block.C3k2            [64, 128, 1, False, 0.25]     \n",
      "  3                  -1  1    147712  ultralytics.nn.modules.conv.Conv             [128, 128, 3, 2]              \n",
      "  4                  -1  1    103360  ultralytics.nn.modules.block.C3k2            [128, 256, 1, False, 0.25]    \n",
      "  5                  -1  1    590336  ultralytics.nn.modules.conv.Conv             [256, 256, 3, 2]              \n",
      "  6                  -1  1    346112  ultralytics.nn.modules.block.C3k2            [256, 256, 1, True]           \n",
      "  7                  -1  1   1180672  ultralytics.nn.modules.conv.Conv             [256, 512, 3, 2]              \n",
      "  8                  -1  1   1380352  ultralytics.nn.modules.block.C3k2            [512, 512, 1, True]           \n",
      "  9                  -1  1    656896  ultralytics.nn.modules.block.SPPF            [512, 512, 5]                 \n",
      " 10                  -1  1    990976  ultralytics.nn.modules.block.C2PSA           [512, 512, 1]                 \n",
      " 11                  -1  1         0  torch.nn.modules.upsampling.Upsample         [None, 2, 'nearest']          \n",
      " 12             [-1, 6]  1         0  ultralytics.nn.modules.conv.Concat           [1]                           \n",
      " 13                  -1  1    443776  ultralytics.nn.modules.block.C3k2            [768, 256, 1, False]          \n",
      " 14                  -1  1         0  torch.nn.modules.upsampling.Upsample         [None, 2, 'nearest']          \n",
      " 15             [-1, 4]  1         0  ultralytics.nn.modules.conv.Concat           [1]                           \n",
      " 16                  -1  1    127680  ultralytics.nn.modules.block.C3k2            [512, 128, 1, False]          \n",
      " 17                  -1  1    147712  ultralytics.nn.modules.conv.Conv             [128, 128, 3, 2]              \n",
      " 18            [-1, 13]  1         0  ultralytics.nn.modules.conv.Concat           [1]                           \n",
      " 19                  -1  1    345472  ultralytics.nn.modules.block.C3k2            [384, 256, 1, False]          \n",
      " 20                  -1  1    590336  ultralytics.nn.modules.conv.Conv             [256, 256, 3, 2]              \n",
      " 21            [-1, 10]  1         0  ultralytics.nn.modules.conv.Concat           [1]                           \n",
      " 22                  -1  1   1511424  ultralytics.nn.modules.block.C3k2            [768, 512, 1, True]           \n",
      " 23        [16, 19, 22]  1    819795  ultralytics.nn.modules.head.Detect           [1, [128, 256, 512]]          \n",
      "YOLO11s summary: 181 layers, 9,428,179 parameters, 9,428,163 gradients, 21.5 GFLOPs\n",
      "\n",
      "Transferred 493/499 items from pretrained weights\n",
      "Freezing layer 'model.23.dfl.conv.weight'\n",
      "\u001b[34m\u001b[1mAMP: \u001b[0mrunning Automatic Mixed Precision (AMP) checks...\n",
      "\u001b[34m\u001b[1mAMP: \u001b[0mchecks passed \n",
      "\u001b[34m\u001b[1mtrain: \u001b[0mFast image access  (ping: 0.10.0 ms, read: 853.033.5 MB/s, size: 4174.0 KB)\n"
     ]
    },
    {
     "name": "stderr",
     "output_type": "stream",
     "text": [
      "\u001b[34m\u001b[1mtrain: \u001b[0mScanning C:\\Users\\joons\\workspace\\final_project\\dataset\\labels\\train.cache... 20806 images, 61 backgrounds, 0 co\u001b[0m\n"
     ]
    },
    {
     "name": "stdout",
     "output_type": "stream",
     "text": [
      "\u001b[34m\u001b[1mval: \u001b[0mFast image access  (ping: 0.20.1 ms, read: 567.0274.5 MB/s, size: 4158.6 KB)\n"
     ]
    },
    {
     "name": "stderr",
     "output_type": "stream",
     "text": [
      "\u001b[34m\u001b[1mval: \u001b[0mScanning C:\\Users\\joons\\workspace\\final_project\\dataset\\labels\\val.cache... 5869 images, 17 backgrounds, 0 corrupt\u001b[0m\n"
     ]
    },
    {
     "name": "stdout",
     "output_type": "stream",
     "text": [
      "Plotting labels to C:\\Users\\joons\\workspace\\final_project\\runs\\train\\labels.jpg... \n",
      "\u001b[34m\u001b[1moptimizer:\u001b[0m AdamW(lr=0.01, momentum=0.8797) with parameter groups 81 weight(decay=0.0), 88 weight(decay=0.0005), 87 bias(decay=0.0)\n",
      "Image sizes 640 train, 640 val\n",
      "Using 8 dataloader workers\n",
      "Logging results to \u001b[1mC:\\Users\\joons\\workspace\\final_project\\runs\\train\u001b[0m\n",
      "Starting training for 100 epochs...\n",
      "\n",
      "      Epoch    GPU_mem   box_loss   cls_loss   dfl_loss  Instances       Size\n"
     ]
    },
    {
     "name": "stderr",
     "output_type": "stream",
     "text": [
      "      1/100      7.88G     0.6581     0.4621     0.8637         78        640: 100%|██████████| 651/651 [02:46<00:00,  \n",
      "                 Class     Images  Instances      Box(P          R      mAP50  mAP50-95): 100%|██████████| 92/92 [00:33\n"
     ]
    },
    {
     "name": "stdout",
     "output_type": "stream",
     "text": [
      "                   all       5869      64101      0.976      0.922      0.964      0.811\n",
      "\n",
      "      Epoch    GPU_mem   box_loss   cls_loss   dfl_loss  Instances       Size\n"
     ]
    },
    {
     "name": "stderr",
     "output_type": "stream",
     "text": [
      "      2/100      7.83G     0.6002     0.3724     0.8521        103        640: 100%|██████████| 651/651 [02:38<00:00,  \n",
      "                 Class     Images  Instances      Box(P          R      mAP50  mAP50-95): 100%|██████████| 92/92 [00:32\n"
     ]
    },
    {
     "name": "stdout",
     "output_type": "stream",
     "text": [
      "                   all       5869      64101      0.977      0.948      0.979      0.871\n",
      "\n",
      "      Epoch    GPU_mem   box_loss   cls_loss   dfl_loss  Instances       Size\n"
     ]
    },
    {
     "name": "stderr",
     "output_type": "stream",
     "text": [
      "      3/100      7.89G     0.5699     0.3472     0.8434         91        640: 100%|██████████| 651/651 [02:34<00:00,  \n",
      "                 Class     Images  Instances      Box(P          R      mAP50  mAP50-95): 100%|██████████| 92/92 [00:32"
     ]
    },
    {
     "name": "stdout",
     "output_type": "stream",
     "text": [
      "                   all       5869      64101      0.979      0.953      0.984      0.885\n"
     ]
    },
    {
     "name": "stderr",
     "output_type": "stream",
     "text": [
      "\n"
     ]
    },
    {
     "name": "stdout",
     "output_type": "stream",
     "text": [
      "\n",
      "      Epoch    GPU_mem   box_loss   cls_loss   dfl_loss  Instances       Size\n"
     ]
    },
    {
     "name": "stderr",
     "output_type": "stream",
     "text": [
      "      4/100      7.78G     0.5494     0.3316     0.8391        132        640: 100%|██████████| 651/651 [02:34<00:00,  \n",
      "                 Class     Images  Instances      Box(P          R      mAP50  mAP50-95): 100%|██████████| 92/92 [00:32"
     ]
    },
    {
     "name": "stdout",
     "output_type": "stream",
     "text": [
      "                   all       5869      64101      0.978      0.951      0.984      0.893\n"
     ]
    },
    {
     "name": "stderr",
     "output_type": "stream",
     "text": [
      "\n"
     ]
    },
    {
     "name": "stdout",
     "output_type": "stream",
     "text": [
      "\n",
      "      Epoch    GPU_mem   box_loss   cls_loss   dfl_loss  Instances       Size\n"
     ]
    },
    {
     "name": "stderr",
     "output_type": "stream",
     "text": [
      "      5/100      7.86G     0.5261     0.3153     0.8347         81        640: 100%|██████████| 651/651 [02:35<00:00,  \n",
      "                 Class     Images  Instances      Box(P          R      mAP50  mAP50-95): 100%|██████████| 92/92 [00:32"
     ]
    },
    {
     "name": "stdout",
     "output_type": "stream",
     "text": [
      "                   all       5869      64101       0.98      0.956      0.986      0.903\n"
     ]
    },
    {
     "name": "stderr",
     "output_type": "stream",
     "text": [
      "\n"
     ]
    },
    {
     "name": "stdout",
     "output_type": "stream",
     "text": [
      "\n",
      "      Epoch    GPU_mem   box_loss   cls_loss   dfl_loss  Instances       Size\n"
     ]
    },
    {
     "name": "stderr",
     "output_type": "stream",
     "text": [
      "      6/100      7.85G      0.509     0.3045      0.831         93        640: 100%|██████████| 651/651 [02:35<00:00,  \n",
      "                 Class     Images  Instances      Box(P          R      mAP50  mAP50-95): 100%|██████████| 92/92 [00:31"
     ]
    },
    {
     "name": "stdout",
     "output_type": "stream",
     "text": [
      "                   all       5869      64101      0.983      0.956      0.986      0.905\n"
     ]
    },
    {
     "name": "stderr",
     "output_type": "stream",
     "text": [
      "\n"
     ]
    },
    {
     "name": "stdout",
     "output_type": "stream",
     "text": [
      "\n",
      "      Epoch    GPU_mem   box_loss   cls_loss   dfl_loss  Instances       Size\n"
     ]
    },
    {
     "name": "stderr",
     "output_type": "stream",
     "text": [
      "      7/100      7.89G      0.497     0.2965     0.8282        121        640: 100%|██████████| 651/651 [02:34<00:00,  \n",
      "                 Class     Images  Instances      Box(P          R      mAP50  mAP50-95): 100%|██████████| 92/92 [00:32"
     ]
    },
    {
     "name": "stdout",
     "output_type": "stream",
     "text": [
      "                   all       5869      64101      0.982      0.957      0.987      0.908\n"
     ]
    },
    {
     "name": "stderr",
     "output_type": "stream",
     "text": [
      "\n"
     ]
    },
    {
     "name": "stdout",
     "output_type": "stream",
     "text": [
      "\n",
      "      Epoch    GPU_mem   box_loss   cls_loss   dfl_loss  Instances       Size\n"
     ]
    },
    {
     "name": "stderr",
     "output_type": "stream",
     "text": [
      "      8/100      7.77G     0.4878     0.2895     0.8269        102        640: 100%|██████████| 651/651 [02:35<00:00,  \n",
      "                 Class     Images  Instances      Box(P          R      mAP50  mAP50-95): 100%|██████████| 92/92 [00:32"
     ]
    },
    {
     "name": "stdout",
     "output_type": "stream",
     "text": [
      "                   all       5869      64101      0.983      0.956      0.987      0.916\n"
     ]
    },
    {
     "name": "stderr",
     "output_type": "stream",
     "text": [
      "\n"
     ]
    },
    {
     "name": "stdout",
     "output_type": "stream",
     "text": [
      "\n",
      "      Epoch    GPU_mem   box_loss   cls_loss   dfl_loss  Instances       Size\n"
     ]
    },
    {
     "name": "stderr",
     "output_type": "stream",
     "text": [
      "      9/100      7.84G     0.4815     0.2844     0.8252         73        640: 100%|██████████| 651/651 [02:33<00:00,  \n",
      "                 Class     Images  Instances      Box(P          R      mAP50  mAP50-95): 100%|██████████| 92/92 [00:32"
     ]
    },
    {
     "name": "stdout",
     "output_type": "stream",
     "text": [
      "                   all       5869      64101      0.983      0.957      0.988      0.915\n"
     ]
    },
    {
     "name": "stderr",
     "output_type": "stream",
     "text": [
      "\n"
     ]
    },
    {
     "name": "stdout",
     "output_type": "stream",
     "text": [
      "\n",
      "      Epoch    GPU_mem   box_loss   cls_loss   dfl_loss  Instances       Size\n"
     ]
    },
    {
     "name": "stderr",
     "output_type": "stream",
     "text": [
      "     10/100       7.8G     0.4743     0.2801     0.8231         80        640: 100%|██████████| 651/651 [02:34<00:00,  \n",
      "                 Class     Images  Instances      Box(P          R      mAP50  mAP50-95): 100%|██████████| 92/92 [00:32"
     ]
    },
    {
     "name": "stdout",
     "output_type": "stream",
     "text": [
      "                   all       5869      64101      0.982      0.956      0.989      0.923\n"
     ]
    },
    {
     "name": "stderr",
     "output_type": "stream",
     "text": [
      "\n"
     ]
    },
    {
     "name": "stdout",
     "output_type": "stream",
     "text": [
      "\n",
      "      Epoch    GPU_mem   box_loss   cls_loss   dfl_loss  Instances       Size\n"
     ]
    },
    {
     "name": "stderr",
     "output_type": "stream",
     "text": [
      "     11/100      7.88G     0.4698     0.2773      0.823         80        640: 100%|██████████| 651/651 [02:34<00:00,  \n",
      "                 Class     Images  Instances      Box(P          R      mAP50  mAP50-95): 100%|██████████| 92/92 [00:32"
     ]
    },
    {
     "name": "stdout",
     "output_type": "stream",
     "text": [
      "                   all       5869      64101      0.981      0.961       0.99       0.92\n"
     ]
    },
    {
     "name": "stderr",
     "output_type": "stream",
     "text": [
      "\n"
     ]
    },
    {
     "name": "stdout",
     "output_type": "stream",
     "text": [
      "\n",
      "      Epoch    GPU_mem   box_loss   cls_loss   dfl_loss  Instances       Size\n"
     ]
    },
    {
     "name": "stderr",
     "output_type": "stream",
     "text": [
      "     12/100      7.81G     0.4658     0.2729     0.8215        115        640: 100%|██████████| 651/651 [02:35<00:00,  \n",
      "                 Class     Images  Instances      Box(P          R      mAP50  mAP50-95): 100%|██████████| 92/92 [00:32"
     ]
    },
    {
     "name": "stdout",
     "output_type": "stream",
     "text": [
      "                   all       5869      64101       0.98       0.96      0.989      0.922\n"
     ]
    },
    {
     "name": "stderr",
     "output_type": "stream",
     "text": [
      "\n"
     ]
    },
    {
     "name": "stdout",
     "output_type": "stream",
     "text": [
      "\n",
      "      Epoch    GPU_mem   box_loss   cls_loss   dfl_loss  Instances       Size\n"
     ]
    },
    {
     "name": "stderr",
     "output_type": "stream",
     "text": [
      "     13/100      7.89G     0.4612      0.271     0.8209         97        640: 100%|██████████| 651/651 [02:34<00:00,  \n",
      "                 Class     Images  Instances      Box(P          R      mAP50  mAP50-95): 100%|██████████| 92/92 [00:32"
     ]
    },
    {
     "name": "stdout",
     "output_type": "stream",
     "text": [
      "                   all       5869      64101      0.984      0.959      0.989      0.928\n"
     ]
    },
    {
     "name": "stderr",
     "output_type": "stream",
     "text": [
      "\n"
     ]
    },
    {
     "name": "stdout",
     "output_type": "stream",
     "text": [
      "\n",
      "      Epoch    GPU_mem   box_loss   cls_loss   dfl_loss  Instances       Size\n"
     ]
    },
    {
     "name": "stderr",
     "output_type": "stream",
     "text": [
      "     14/100       7.8G      0.457      0.268     0.8199        107        640: 100%|██████████| 651/651 [02:35<00:00,  \n",
      "                 Class     Images  Instances      Box(P          R      mAP50  mAP50-95): 100%|██████████| 92/92 [00:31"
     ]
    },
    {
     "name": "stdout",
     "output_type": "stream",
     "text": [
      "                   all       5869      64101      0.985       0.96       0.99      0.929\n"
     ]
    },
    {
     "name": "stderr",
     "output_type": "stream",
     "text": [
      "\n"
     ]
    },
    {
     "name": "stdout",
     "output_type": "stream",
     "text": [
      "\n",
      "      Epoch    GPU_mem   box_loss   cls_loss   dfl_loss  Instances       Size\n"
     ]
    },
    {
     "name": "stderr",
     "output_type": "stream",
     "text": [
      "     15/100      7.95G     0.4542     0.2653     0.8193         70        640: 100%|██████████| 651/651 [02:34<00:00,  \n",
      "                 Class     Images  Instances      Box(P          R      mAP50  mAP50-95): 100%|██████████| 92/92 [00:32"
     ]
    },
    {
     "name": "stdout",
     "output_type": "stream",
     "text": [
      "                   all       5869      64101      0.982      0.961       0.99      0.925\n"
     ]
    },
    {
     "name": "stderr",
     "output_type": "stream",
     "text": [
      "\n"
     ]
    },
    {
     "name": "stdout",
     "output_type": "stream",
     "text": [
      "\n",
      "      Epoch    GPU_mem   box_loss   cls_loss   dfl_loss  Instances       Size\n"
     ]
    },
    {
     "name": "stderr",
     "output_type": "stream",
     "text": [
      "     16/100       7.8G     0.4493     0.2619     0.8186        113        640: 100%|██████████| 651/651 [02:35<00:00,  \n",
      "                 Class     Images  Instances      Box(P          R      mAP50  mAP50-95): 100%|██████████| 92/92 [00:32"
     ]
    },
    {
     "name": "stdout",
     "output_type": "stream",
     "text": [
      "                   all       5869      64101      0.984      0.959       0.99      0.929\n"
     ]
    },
    {
     "name": "stderr",
     "output_type": "stream",
     "text": [
      "\n"
     ]
    },
    {
     "name": "stdout",
     "output_type": "stream",
     "text": [
      "\n",
      "      Epoch    GPU_mem   box_loss   cls_loss   dfl_loss  Instances       Size\n"
     ]
    },
    {
     "name": "stderr",
     "output_type": "stream",
     "text": [
      "     17/100      7.81G     0.4481     0.2608     0.8184        113        640: 100%|██████████| 651/651 [02:34<00:00,  \n",
      "                 Class     Images  Instances      Box(P          R      mAP50  mAP50-95): 100%|██████████| 92/92 [00:32"
     ]
    },
    {
     "name": "stdout",
     "output_type": "stream",
     "text": [
      "                   all       5869      64101      0.982      0.962       0.99       0.93\n"
     ]
    },
    {
     "name": "stderr",
     "output_type": "stream",
     "text": [
      "\n"
     ]
    },
    {
     "name": "stdout",
     "output_type": "stream",
     "text": [
      "\n",
      "      Epoch    GPU_mem   box_loss   cls_loss   dfl_loss  Instances       Size\n"
     ]
    },
    {
     "name": "stderr",
     "output_type": "stream",
     "text": [
      "     18/100       7.8G     0.4433     0.2582     0.8171        104        640: 100%|██████████| 651/651 [02:35<00:00,  \n",
      "                 Class     Images  Instances      Box(P          R      mAP50  mAP50-95): 100%|██████████| 92/92 [00:32"
     ]
    },
    {
     "name": "stdout",
     "output_type": "stream",
     "text": [
      "                   all       5869      64101      0.984      0.961       0.99      0.934\n"
     ]
    },
    {
     "name": "stderr",
     "output_type": "stream",
     "text": [
      "\n"
     ]
    },
    {
     "name": "stdout",
     "output_type": "stream",
     "text": [
      "\n",
      "      Epoch    GPU_mem   box_loss   cls_loss   dfl_loss  Instances       Size\n"
     ]
    },
    {
     "name": "stderr",
     "output_type": "stream",
     "text": [
      "     19/100       7.8G     0.4425     0.2571     0.8164         80        640: 100%|██████████| 651/651 [02:34<00:00,  \n",
      "                 Class     Images  Instances      Box(P          R      mAP50  mAP50-95): 100%|██████████| 92/92 [00:32"
     ]
    },
    {
     "name": "stdout",
     "output_type": "stream",
     "text": [
      "                   all       5869      64101      0.982      0.962      0.991      0.933\n"
     ]
    },
    {
     "name": "stderr",
     "output_type": "stream",
     "text": [
      "\n"
     ]
    },
    {
     "name": "stdout",
     "output_type": "stream",
     "text": [
      "\n",
      "      Epoch    GPU_mem   box_loss   cls_loss   dfl_loss  Instances       Size\n"
     ]
    },
    {
     "name": "stderr",
     "output_type": "stream",
     "text": [
      "     20/100      8.09G     0.4391     0.2556     0.8167        116        640: 100%|██████████| 651/651 [02:35<00:00,  \n",
      "                 Class     Images  Instances      Box(P          R      mAP50  mAP50-95): 100%|██████████| 92/92 [00:32"
     ]
    },
    {
     "name": "stdout",
     "output_type": "stream",
     "text": [
      "                   all       5869      64101      0.983      0.962      0.991      0.931\n"
     ]
    },
    {
     "name": "stderr",
     "output_type": "stream",
     "text": [
      "\n"
     ]
    },
    {
     "name": "stdout",
     "output_type": "stream",
     "text": [
      "\n",
      "      Epoch    GPU_mem   box_loss   cls_loss   dfl_loss  Instances       Size\n"
     ]
    },
    {
     "name": "stderr",
     "output_type": "stream",
     "text": [
      "     21/100      8.07G     0.4357      0.254     0.8154         76        640: 100%|██████████| 651/651 [02:35<00:00,  \n",
      "                 Class     Images  Instances      Box(P          R      mAP50  mAP50-95): 100%|██████████| 92/92 [00:33"
     ]
    },
    {
     "name": "stdout",
     "output_type": "stream",
     "text": [
      "                   all       5869      64101      0.985      0.959      0.991      0.935\n"
     ]
    },
    {
     "name": "stderr",
     "output_type": "stream",
     "text": [
      "\n"
     ]
    },
    {
     "name": "stdout",
     "output_type": "stream",
     "text": [
      "\n",
      "      Epoch    GPU_mem   box_loss   cls_loss   dfl_loss  Instances       Size\n"
     ]
    },
    {
     "name": "stderr",
     "output_type": "stream",
     "text": [
      "     22/100      7.88G     0.4342     0.2517     0.8153        111        640: 100%|██████████| 651/651 [02:36<00:00,  \n",
      "                 Class     Images  Instances      Box(P          R      mAP50  mAP50-95): 100%|██████████| 92/92 [00:33"
     ]
    },
    {
     "name": "stdout",
     "output_type": "stream",
     "text": [
      "                   all       5869      64101      0.985       0.96      0.991      0.936\n"
     ]
    },
    {
     "name": "stderr",
     "output_type": "stream",
     "text": [
      "\n"
     ]
    },
    {
     "name": "stdout",
     "output_type": "stream",
     "text": [
      "\n",
      "      Epoch    GPU_mem   box_loss   cls_loss   dfl_loss  Instances       Size\n"
     ]
    },
    {
     "name": "stderr",
     "output_type": "stream",
     "text": [
      "     23/100      7.81G     0.4311       0.25     0.8148         70        640: 100%|██████████| 651/651 [02:37<00:00,  \n",
      "                 Class     Images  Instances      Box(P          R      mAP50  mAP50-95): 100%|██████████| 92/92 [00:32"
     ]
    },
    {
     "name": "stdout",
     "output_type": "stream",
     "text": [
      "                   all       5869      64101      0.983      0.963      0.991      0.936\n"
     ]
    },
    {
     "name": "stderr",
     "output_type": "stream",
     "text": [
      "\n"
     ]
    },
    {
     "name": "stdout",
     "output_type": "stream",
     "text": [
      "\n",
      "      Epoch    GPU_mem   box_loss   cls_loss   dfl_loss  Instances       Size\n"
     ]
    },
    {
     "name": "stderr",
     "output_type": "stream",
     "text": [
      "     24/100      7.82G      0.429     0.2483     0.8145        108        640: 100%|██████████| 651/651 [02:39<00:00,  \n",
      "                 Class     Images  Instances      Box(P          R      mAP50  mAP50-95): 100%|██████████| 92/92 [00:32"
     ]
    },
    {
     "name": "stdout",
     "output_type": "stream",
     "text": [
      "                   all       5869      64101      0.984      0.962      0.991      0.937\n"
     ]
    },
    {
     "name": "stderr",
     "output_type": "stream",
     "text": [
      "\n"
     ]
    },
    {
     "name": "stdout",
     "output_type": "stream",
     "text": [
      "\n",
      "      Epoch    GPU_mem   box_loss   cls_loss   dfl_loss  Instances       Size\n"
     ]
    },
    {
     "name": "stderr",
     "output_type": "stream",
     "text": [
      "     25/100      7.81G     0.4269     0.2475      0.813        110        640: 100%|██████████| 651/651 [02:35<00:00,  \n",
      "                 Class     Images  Instances      Box(P          R      mAP50  mAP50-95): 100%|██████████| 92/92 [00:32"
     ]
    },
    {
     "name": "stdout",
     "output_type": "stream",
     "text": [
      "                   all       5869      64101      0.984      0.962      0.991      0.938\n"
     ]
    },
    {
     "name": "stderr",
     "output_type": "stream",
     "text": [
      "\n"
     ]
    },
    {
     "name": "stdout",
     "output_type": "stream",
     "text": [
      "\n",
      "      Epoch    GPU_mem   box_loss   cls_loss   dfl_loss  Instances       Size\n"
     ]
    },
    {
     "name": "stderr",
     "output_type": "stream",
     "text": [
      "     26/100      7.77G     0.4252     0.2463     0.8135         92        640: 100%|██████████| 651/651 [02:36<00:00,  \n",
      "                 Class     Images  Instances      Box(P          R      mAP50  mAP50-95): 100%|██████████| 92/92 [00:33"
     ]
    },
    {
     "name": "stdout",
     "output_type": "stream",
     "text": [
      "                   all       5869      64101      0.984      0.962      0.991      0.938\n"
     ]
    },
    {
     "name": "stderr",
     "output_type": "stream",
     "text": [
      "\n"
     ]
    },
    {
     "name": "stdout",
     "output_type": "stream",
     "text": [
      "\n",
      "      Epoch    GPU_mem   box_loss   cls_loss   dfl_loss  Instances       Size\n"
     ]
    },
    {
     "name": "stderr",
     "output_type": "stream",
     "text": [
      "     27/100      7.86G     0.4211     0.2437     0.8126         95        640: 100%|██████████| 651/651 [02:36<00:00,  \n",
      "                 Class     Images  Instances      Box(P          R      mAP50  mAP50-95): 100%|██████████| 92/92 [00:33"
     ]
    },
    {
     "name": "stdout",
     "output_type": "stream",
     "text": [
      "                   all       5869      64101      0.983      0.963      0.991       0.94\n"
     ]
    },
    {
     "name": "stderr",
     "output_type": "stream",
     "text": [
      "\n"
     ]
    },
    {
     "name": "stdout",
     "output_type": "stream",
     "text": [
      "\n",
      "      Epoch    GPU_mem   box_loss   cls_loss   dfl_loss  Instances       Size\n"
     ]
    },
    {
     "name": "stderr",
     "output_type": "stream",
     "text": [
      "     28/100      7.79G     0.4208     0.2445     0.8124        100        640: 100%|██████████| 651/651 [02:38<00:00,  \n",
      "                 Class     Images  Instances      Box(P          R      mAP50  mAP50-95): 100%|██████████| 92/92 [00:32"
     ]
    },
    {
     "name": "stdout",
     "output_type": "stream",
     "text": [
      "                   all       5869      64101      0.985      0.962      0.991       0.94\n"
     ]
    },
    {
     "name": "stderr",
     "output_type": "stream",
     "text": [
      "\n"
     ]
    },
    {
     "name": "stdout",
     "output_type": "stream",
     "text": [
      "\n",
      "      Epoch    GPU_mem   box_loss   cls_loss   dfl_loss  Instances       Size\n"
     ]
    },
    {
     "name": "stderr",
     "output_type": "stream",
     "text": [
      "     29/100      7.86G     0.4175     0.2411     0.8122         78        640: 100%|██████████| 651/651 [02:37<00:00,  \n",
      "                 Class     Images  Instances      Box(P          R      mAP50  mAP50-95): 100%|██████████| 92/92 [00:33"
     ]
    },
    {
     "name": "stdout",
     "output_type": "stream",
     "text": [
      "                   all       5869      64101      0.983      0.964      0.991       0.94\n"
     ]
    },
    {
     "name": "stderr",
     "output_type": "stream",
     "text": [
      "\n"
     ]
    },
    {
     "name": "stdout",
     "output_type": "stream",
     "text": [
      "\n",
      "      Epoch    GPU_mem   box_loss   cls_loss   dfl_loss  Instances       Size\n"
     ]
    },
    {
     "name": "stderr",
     "output_type": "stream",
     "text": [
      "     30/100      7.81G     0.4158     0.2397     0.8112         97        640: 100%|██████████| 651/651 [02:35<00:00,  \n",
      "                 Class     Images  Instances      Box(P          R      mAP50  mAP50-95): 100%|██████████| 92/92 [00:32"
     ]
    },
    {
     "name": "stdout",
     "output_type": "stream",
     "text": [
      "                   all       5869      64101      0.983      0.964      0.991      0.941\n"
     ]
    },
    {
     "name": "stderr",
     "output_type": "stream",
     "text": [
      "\n"
     ]
    },
    {
     "name": "stdout",
     "output_type": "stream",
     "text": [
      "\n",
      "      Epoch    GPU_mem   box_loss   cls_loss   dfl_loss  Instances       Size\n"
     ]
    },
    {
     "name": "stderr",
     "output_type": "stream",
     "text": [
      "     31/100      7.81G     0.4147     0.2396     0.8113         76        640: 100%|██████████| 651/651 [02:34<00:00,  \n",
      "                 Class     Images  Instances      Box(P          R      mAP50  mAP50-95): 100%|██████████| 92/92 [00:31"
     ]
    },
    {
     "name": "stdout",
     "output_type": "stream",
     "text": [
      "                   all       5869      64101      0.984      0.964      0.992      0.941\n"
     ]
    },
    {
     "name": "stderr",
     "output_type": "stream",
     "text": [
      "\n"
     ]
    },
    {
     "name": "stdout",
     "output_type": "stream",
     "text": [
      "\n",
      "      Epoch    GPU_mem   box_loss   cls_loss   dfl_loss  Instances       Size\n"
     ]
    },
    {
     "name": "stderr",
     "output_type": "stream",
     "text": [
      "     32/100      7.78G     0.4121      0.238     0.8108        109        640: 100%|██████████| 651/651 [02:34<00:00,  \n",
      "                 Class     Images  Instances      Box(P          R      mAP50  mAP50-95): 100%|██████████| 92/92 [00:32"
     ]
    },
    {
     "name": "stdout",
     "output_type": "stream",
     "text": [
      "                   all       5869      64101      0.984      0.964      0.991      0.941\n"
     ]
    },
    {
     "name": "stderr",
     "output_type": "stream",
     "text": [
      "\n"
     ]
    },
    {
     "name": "stdout",
     "output_type": "stream",
     "text": [
      "\n",
      "      Epoch    GPU_mem   box_loss   cls_loss   dfl_loss  Instances       Size\n"
     ]
    },
    {
     "name": "stderr",
     "output_type": "stream",
     "text": [
      "     33/100       7.8G     0.4114     0.2369     0.8099         97        640: 100%|██████████| 651/651 [02:36<00:00,  \n",
      "                 Class     Images  Instances      Box(P          R      mAP50  mAP50-95): 100%|██████████| 92/92 [00:31"
     ]
    },
    {
     "name": "stdout",
     "output_type": "stream",
     "text": [
      "                   all       5869      64101      0.985      0.963      0.992      0.943\n"
     ]
    },
    {
     "name": "stderr",
     "output_type": "stream",
     "text": [
      "\n"
     ]
    },
    {
     "name": "stdout",
     "output_type": "stream",
     "text": [
      "\n",
      "      Epoch    GPU_mem   box_loss   cls_loss   dfl_loss  Instances       Size\n"
     ]
    },
    {
     "name": "stderr",
     "output_type": "stream",
     "text": [
      "     34/100      7.97G     0.4096     0.2359     0.8098        137        640: 100%|██████████| 651/651 [02:34<00:00,  \n",
      "                 Class     Images  Instances      Box(P          R      mAP50  mAP50-95): 100%|██████████| 92/92 [00:32"
     ]
    },
    {
     "name": "stdout",
     "output_type": "stream",
     "text": [
      "                   all       5869      64101      0.985      0.964      0.992      0.943\n"
     ]
    },
    {
     "name": "stderr",
     "output_type": "stream",
     "text": [
      "\n"
     ]
    },
    {
     "name": "stdout",
     "output_type": "stream",
     "text": [
      "\n",
      "      Epoch    GPU_mem   box_loss   cls_loss   dfl_loss  Instances       Size\n"
     ]
    },
    {
     "name": "stderr",
     "output_type": "stream",
     "text": [
      "     35/100      7.84G     0.4079     0.2347     0.8095        118        640: 100%|██████████| 651/651 [02:35<00:00,  \n",
      "                 Class     Images  Instances      Box(P          R      mAP50  mAP50-95): 100%|██████████| 92/92 [00:31"
     ]
    },
    {
     "name": "stdout",
     "output_type": "stream",
     "text": [
      "                   all       5869      64101      0.984      0.965      0.992      0.944\n"
     ]
    },
    {
     "name": "stderr",
     "output_type": "stream",
     "text": [
      "\n"
     ]
    },
    {
     "name": "stdout",
     "output_type": "stream",
     "text": [
      "\n",
      "      Epoch    GPU_mem   box_loss   cls_loss   dfl_loss  Instances       Size\n"
     ]
    },
    {
     "name": "stderr",
     "output_type": "stream",
     "text": [
      "     36/100      7.81G     0.4071     0.2343     0.8097        130        640: 100%|██████████| 651/651 [02:35<00:00,  \n",
      "                 Class     Images  Instances      Box(P          R      mAP50  mAP50-95): 100%|██████████| 92/92 [00:32"
     ]
    },
    {
     "name": "stdout",
     "output_type": "stream",
     "text": [
      "                   all       5869      64101      0.984      0.965      0.992      0.944\n"
     ]
    },
    {
     "name": "stderr",
     "output_type": "stream",
     "text": [
      "\n"
     ]
    },
    {
     "name": "stdout",
     "output_type": "stream",
     "text": [
      "\n",
      "      Epoch    GPU_mem   box_loss   cls_loss   dfl_loss  Instances       Size\n"
     ]
    },
    {
     "name": "stderr",
     "output_type": "stream",
     "text": [
      "     37/100      7.84G     0.4053     0.2329     0.8093        118        640: 100%|██████████| 651/651 [02:35<00:00,  \n",
      "                 Class     Images  Instances      Box(P          R      mAP50  mAP50-95): 100%|██████████| 92/92 [00:32"
     ]
    },
    {
     "name": "stdout",
     "output_type": "stream",
     "text": [
      "                   all       5869      64101      0.984      0.965      0.992      0.944\n"
     ]
    },
    {
     "name": "stderr",
     "output_type": "stream",
     "text": [
      "\n"
     ]
    },
    {
     "name": "stdout",
     "output_type": "stream",
     "text": [
      "\n",
      "      Epoch    GPU_mem   box_loss   cls_loss   dfl_loss  Instances       Size\n"
     ]
    },
    {
     "name": "stderr",
     "output_type": "stream",
     "text": [
      "     38/100      7.86G     0.4037     0.2322     0.8085        114        640: 100%|██████████| 651/651 [02:35<00:00,  \n",
      "                 Class     Images  Instances      Box(P          R      mAP50  mAP50-95): 100%|██████████| 92/92 [00:32"
     ]
    },
    {
     "name": "stdout",
     "output_type": "stream",
     "text": [
      "                   all       5869      64101      0.984      0.965      0.992      0.944\n"
     ]
    },
    {
     "name": "stderr",
     "output_type": "stream",
     "text": [
      "\n"
     ]
    },
    {
     "name": "stdout",
     "output_type": "stream",
     "text": [
      "\n",
      "      Epoch    GPU_mem   box_loss   cls_loss   dfl_loss  Instances       Size\n"
     ]
    },
    {
     "name": "stderr",
     "output_type": "stream",
     "text": [
      "     39/100      7.88G     0.4023     0.2311     0.8084         98        640: 100%|██████████| 651/651 [02:34<00:00,  \n",
      "                 Class     Images  Instances      Box(P          R      mAP50  mAP50-95): 100%|██████████| 92/92 [00:32"
     ]
    },
    {
     "name": "stdout",
     "output_type": "stream",
     "text": [
      "                   all       5869      64101      0.984      0.965      0.992      0.944\n"
     ]
    },
    {
     "name": "stderr",
     "output_type": "stream",
     "text": [
      "\n"
     ]
    },
    {
     "name": "stdout",
     "output_type": "stream",
     "text": [
      "\n",
      "      Epoch    GPU_mem   box_loss   cls_loss   dfl_loss  Instances       Size\n"
     ]
    },
    {
     "name": "stderr",
     "output_type": "stream",
     "text": [
      "     40/100      8.06G     0.4005     0.2296     0.8084        118        640: 100%|██████████| 651/651 [02:45<00:00,  \n",
      "                 Class     Images  Instances      Box(P          R      mAP50  mAP50-95): 100%|██████████| 92/92 [00:34"
     ]
    },
    {
     "name": "stdout",
     "output_type": "stream",
     "text": [
      "                   all       5869      64101      0.984      0.966      0.992      0.944\n"
     ]
    },
    {
     "name": "stderr",
     "output_type": "stream",
     "text": [
      "\n"
     ]
    },
    {
     "name": "stdout",
     "output_type": "stream",
     "text": [
      "\n",
      "      Epoch    GPU_mem   box_loss   cls_loss   dfl_loss  Instances       Size\n"
     ]
    },
    {
     "name": "stderr",
     "output_type": "stream",
     "text": [
      "     41/100      7.84G     0.3995     0.2296     0.8081         85        640: 100%|██████████| 651/651 [02:40<00:00,  \n",
      "                 Class     Images  Instances      Box(P          R      mAP50  mAP50-95): 100%|██████████| 92/92 [00:33"
     ]
    },
    {
     "name": "stdout",
     "output_type": "stream",
     "text": [
      "                   all       5869      64101      0.984      0.966      0.992      0.945\n"
     ]
    },
    {
     "name": "stderr",
     "output_type": "stream",
     "text": [
      "\n"
     ]
    },
    {
     "name": "stdout",
     "output_type": "stream",
     "text": [
      "\n",
      "      Epoch    GPU_mem   box_loss   cls_loss   dfl_loss  Instances       Size\n"
     ]
    },
    {
     "name": "stderr",
     "output_type": "stream",
     "text": [
      "     42/100      7.84G     0.3978      0.229     0.8079        138        640: 100%|██████████| 651/651 [02:40<00:00,  \n",
      "                 Class     Images  Instances      Box(P          R      mAP50  mAP50-95): 100%|██████████| 92/92 [00:33"
     ]
    },
    {
     "name": "stdout",
     "output_type": "stream",
     "text": [
      "                   all       5869      64101      0.985      0.965      0.992      0.945\n"
     ]
    },
    {
     "name": "stderr",
     "output_type": "stream",
     "text": [
      "\n"
     ]
    },
    {
     "name": "stdout",
     "output_type": "stream",
     "text": [
      "\n",
      "      Epoch    GPU_mem   box_loss   cls_loss   dfl_loss  Instances       Size\n"
     ]
    },
    {
     "name": "stderr",
     "output_type": "stream",
     "text": [
      "     43/100       8.1G     0.3968     0.2281     0.8075        111        640: 100%|██████████| 651/651 [02:53<00:00,  \n",
      "                 Class     Images  Instances      Box(P          R      mAP50  mAP50-95): 100%|██████████| 92/92 [00:37"
     ]
    },
    {
     "name": "stdout",
     "output_type": "stream",
     "text": [
      "                   all       5869      64101      0.985      0.965      0.992      0.945\n"
     ]
    },
    {
     "name": "stderr",
     "output_type": "stream",
     "text": [
      "\n"
     ]
    },
    {
     "name": "stdout",
     "output_type": "stream",
     "text": [
      "\n",
      "      Epoch    GPU_mem   box_loss   cls_loss   dfl_loss  Instances       Size\n"
     ]
    },
    {
     "name": "stderr",
     "output_type": "stream",
     "text": [
      "     44/100      7.82G     0.3972     0.2274     0.8074        128        640: 100%|██████████| 651/651 [02:40<00:00,  \n",
      "                 Class     Images  Instances      Box(P          R      mAP50  mAP50-95): 100%|██████████| 92/92 [00:33"
     ]
    },
    {
     "name": "stdout",
     "output_type": "stream",
     "text": [
      "                   all       5869      64101      0.985      0.965      0.992      0.946\n"
     ]
    },
    {
     "name": "stderr",
     "output_type": "stream",
     "text": [
      "\n"
     ]
    },
    {
     "name": "stdout",
     "output_type": "stream",
     "text": [
      "\n",
      "      Epoch    GPU_mem   box_loss   cls_loss   dfl_loss  Instances       Size\n"
     ]
    },
    {
     "name": "stderr",
     "output_type": "stream",
     "text": [
      "     45/100      7.81G     0.3951     0.2262     0.8071         81        640: 100%|██████████| 651/651 [02:39<00:00,  \n",
      "                 Class     Images  Instances      Box(P          R      mAP50  mAP50-95): 100%|██████████| 92/92 [00:33"
     ]
    },
    {
     "name": "stdout",
     "output_type": "stream",
     "text": [
      "                   all       5869      64101      0.985      0.966      0.992      0.946\n"
     ]
    },
    {
     "name": "stderr",
     "output_type": "stream",
     "text": [
      "\n"
     ]
    },
    {
     "name": "stdout",
     "output_type": "stream",
     "text": [
      "\n",
      "      Epoch    GPU_mem   box_loss   cls_loss   dfl_loss  Instances       Size\n"
     ]
    },
    {
     "name": "stderr",
     "output_type": "stream",
     "text": [
      "     46/100      7.77G     0.3948     0.2262     0.8071         90        640: 100%|██████████| 651/651 [02:40<00:00,  \n",
      "                 Class     Images  Instances      Box(P          R      mAP50  mAP50-95): 100%|██████████| 92/92 [00:33"
     ]
    },
    {
     "name": "stdout",
     "output_type": "stream",
     "text": [
      "                   all       5869      64101      0.985      0.966      0.992      0.946\n"
     ]
    },
    {
     "name": "stderr",
     "output_type": "stream",
     "text": [
      "\n"
     ]
    },
    {
     "name": "stdout",
     "output_type": "stream",
     "text": [
      "\n",
      "      Epoch    GPU_mem   box_loss   cls_loss   dfl_loss  Instances       Size\n"
     ]
    },
    {
     "name": "stderr",
     "output_type": "stream",
     "text": [
      "     47/100      7.85G     0.3941     0.2247     0.8071        102        640: 100%|██████████| 651/651 [02:38<00:00,  \n",
      "                 Class     Images  Instances      Box(P          R      mAP50  mAP50-95): 100%|██████████| 92/92 [00:34"
     ]
    },
    {
     "name": "stdout",
     "output_type": "stream",
     "text": [
      "                   all       5869      64101      0.984      0.967      0.992      0.946\n"
     ]
    },
    {
     "name": "stderr",
     "output_type": "stream",
     "text": [
      "\n"
     ]
    },
    {
     "name": "stdout",
     "output_type": "stream",
     "text": [
      "\n",
      "      Epoch    GPU_mem   box_loss   cls_loss   dfl_loss  Instances       Size\n"
     ]
    },
    {
     "name": "stderr",
     "output_type": "stream",
     "text": [
      "     48/100       7.9G      0.392     0.2244     0.8064        131        640: 100%|██████████| 651/651 [02:39<00:00,  \n",
      "                 Class     Images  Instances      Box(P          R      mAP50  mAP50-95): 100%|██████████| 92/92 [00:33"
     ]
    },
    {
     "name": "stdout",
     "output_type": "stream",
     "text": [
      "                   all       5869      64101      0.984      0.967      0.992      0.946\n"
     ]
    },
    {
     "name": "stderr",
     "output_type": "stream",
     "text": [
      "\n"
     ]
    },
    {
     "name": "stdout",
     "output_type": "stream",
     "text": [
      "\n",
      "      Epoch    GPU_mem   box_loss   cls_loss   dfl_loss  Instances       Size\n"
     ]
    },
    {
     "name": "stderr",
     "output_type": "stream",
     "text": [
      "     49/100      8.08G     0.3924     0.2244     0.8067         83        640: 100%|██████████| 651/651 [02:50<00:00,  \n",
      "                 Class     Images  Instances      Box(P          R      mAP50  mAP50-95): 100%|██████████| 92/92 [00:35"
     ]
    },
    {
     "name": "stdout",
     "output_type": "stream",
     "text": [
      "                   all       5869      64101      0.985      0.967      0.992      0.946\n"
     ]
    },
    {
     "name": "stderr",
     "output_type": "stream",
     "text": [
      "\n"
     ]
    },
    {
     "name": "stdout",
     "output_type": "stream",
     "text": [
      "\n",
      "      Epoch    GPU_mem   box_loss   cls_loss   dfl_loss  Instances       Size\n"
     ]
    },
    {
     "name": "stderr",
     "output_type": "stream",
     "text": [
      "     50/100      7.84G     0.3911     0.2227      0.806         79        640: 100%|██████████| 651/651 [02:39<00:00,  \n",
      "                 Class     Images  Instances      Box(P          R      mAP50  mAP50-95): 100%|██████████| 92/92 [00:33"
     ]
    },
    {
     "name": "stdout",
     "output_type": "stream",
     "text": [
      "                   all       5869      64101      0.984      0.967      0.992      0.946\n"
     ]
    },
    {
     "name": "stderr",
     "output_type": "stream",
     "text": [
      "\n"
     ]
    },
    {
     "name": "stdout",
     "output_type": "stream",
     "text": [
      "\n",
      "      Epoch    GPU_mem   box_loss   cls_loss   dfl_loss  Instances       Size\n"
     ]
    },
    {
     "name": "stderr",
     "output_type": "stream",
     "text": [
      "     51/100      7.86G     0.3882     0.2216     0.8054         67        640: 100%|██████████| 651/651 [02:38<00:00,  \n",
      "                 Class     Images  Instances      Box(P          R      mAP50  mAP50-95): 100%|██████████| 92/92 [00:33"
     ]
    },
    {
     "name": "stdout",
     "output_type": "stream",
     "text": [
      "                   all       5869      64101      0.984      0.967      0.992      0.946\n"
     ]
    },
    {
     "name": "stderr",
     "output_type": "stream",
     "text": [
      "\n"
     ]
    },
    {
     "name": "stdout",
     "output_type": "stream",
     "text": [
      "\n",
      "      Epoch    GPU_mem   box_loss   cls_loss   dfl_loss  Instances       Size\n"
     ]
    },
    {
     "name": "stderr",
     "output_type": "stream",
     "text": [
      "     52/100       7.8G     0.3879     0.2209     0.8058         96        640: 100%|██████████| 651/651 [02:39<00:00,  \n",
      "                 Class     Images  Instances      Box(P          R      mAP50  mAP50-95): 100%|██████████| 92/92 [00:32"
     ]
    },
    {
     "name": "stdout",
     "output_type": "stream",
     "text": [
      "                   all       5869      64101      0.985      0.967      0.992      0.947\n"
     ]
    },
    {
     "name": "stderr",
     "output_type": "stream",
     "text": [
      "\n"
     ]
    },
    {
     "name": "stdout",
     "output_type": "stream",
     "text": [
      "\n",
      "      Epoch    GPU_mem   box_loss   cls_loss   dfl_loss  Instances       Size\n"
     ]
    },
    {
     "name": "stderr",
     "output_type": "stream",
     "text": [
      "     53/100      7.87G     0.3854     0.2199     0.8054         88        640: 100%|██████████| 651/651 [02:35<00:00,  \n",
      "                 Class     Images  Instances      Box(P          R      mAP50  mAP50-95): 100%|██████████| 92/92 [00:32"
     ]
    },
    {
     "name": "stdout",
     "output_type": "stream",
     "text": [
      "                   all       5869      64101      0.984      0.967      0.992      0.947\n"
     ]
    },
    {
     "name": "stderr",
     "output_type": "stream",
     "text": [
      "\n"
     ]
    },
    {
     "name": "stdout",
     "output_type": "stream",
     "text": [
      "\n",
      "      Epoch    GPU_mem   box_loss   cls_loss   dfl_loss  Instances       Size\n"
     ]
    },
    {
     "name": "stderr",
     "output_type": "stream",
     "text": [
      "     54/100      7.86G     0.3862     0.2206     0.8057        123        640: 100%|██████████| 651/651 [02:35<00:00,  \n",
      "                 Class     Images  Instances      Box(P          R      mAP50  mAP50-95): 100%|██████████| 92/92 [00:32"
     ]
    },
    {
     "name": "stdout",
     "output_type": "stream",
     "text": [
      "                   all       5869      64101      0.984      0.967      0.992      0.947\n"
     ]
    },
    {
     "name": "stderr",
     "output_type": "stream",
     "text": [
      "\n"
     ]
    },
    {
     "name": "stdout",
     "output_type": "stream",
     "text": [
      "\n",
      "      Epoch    GPU_mem   box_loss   cls_loss   dfl_loss  Instances       Size\n"
     ]
    },
    {
     "name": "stderr",
     "output_type": "stream",
     "text": [
      "     55/100      7.87G     0.3854     0.2199     0.8055        109        640: 100%|██████████| 651/651 [02:35<00:00,  \n",
      "                 Class     Images  Instances      Box(P          R      mAP50  mAP50-95): 100%|██████████| 92/92 [00:32"
     ]
    },
    {
     "name": "stdout",
     "output_type": "stream",
     "text": [
      "                   all       5869      64101      0.984      0.968      0.992      0.947\n"
     ]
    },
    {
     "name": "stderr",
     "output_type": "stream",
     "text": [
      "\n"
     ]
    },
    {
     "name": "stdout",
     "output_type": "stream",
     "text": [
      "\n",
      "      Epoch    GPU_mem   box_loss   cls_loss   dfl_loss  Instances       Size\n"
     ]
    },
    {
     "name": "stderr",
     "output_type": "stream",
     "text": [
      "     56/100      7.78G     0.3839     0.2185     0.8055         97        640: 100%|██████████| 651/651 [02:35<00:00,  \n",
      "                 Class     Images  Instances      Box(P          R      mAP50  mAP50-95): 100%|██████████| 92/92 [00:32"
     ]
    },
    {
     "name": "stdout",
     "output_type": "stream",
     "text": [
      "                   all       5869      64101      0.984      0.967      0.992      0.947\n"
     ]
    },
    {
     "name": "stderr",
     "output_type": "stream",
     "text": [
      "\n"
     ]
    },
    {
     "name": "stdout",
     "output_type": "stream",
     "text": [
      "\n",
      "      Epoch    GPU_mem   box_loss   cls_loss   dfl_loss  Instances       Size\n"
     ]
    },
    {
     "name": "stderr",
     "output_type": "stream",
     "text": [
      "     57/100      7.82G     0.3823      0.218     0.8049         92        640: 100%|██████████| 651/651 [02:35<00:00,  \n",
      "                 Class     Images  Instances      Box(P          R      mAP50  mAP50-95): 100%|██████████| 92/92 [00:32"
     ]
    },
    {
     "name": "stdout",
     "output_type": "stream",
     "text": [
      "                   all       5869      64101      0.984      0.967      0.992      0.947\n"
     ]
    },
    {
     "name": "stderr",
     "output_type": "stream",
     "text": [
      "\n"
     ]
    },
    {
     "name": "stdout",
     "output_type": "stream",
     "text": [
      "\n",
      "      Epoch    GPU_mem   box_loss   cls_loss   dfl_loss  Instances       Size\n"
     ]
    },
    {
     "name": "stderr",
     "output_type": "stream",
     "text": [
      "     58/100      7.79G     0.3816      0.217     0.8038         92        640: 100%|██████████| 651/651 [02:36<00:00,  \n",
      "                 Class     Images  Instances      Box(P          R      mAP50  mAP50-95): 100%|██████████| 92/92 [00:32"
     ]
    },
    {
     "name": "stdout",
     "output_type": "stream",
     "text": [
      "                   all       5869      64101      0.984      0.967      0.992      0.947\n"
     ]
    },
    {
     "name": "stderr",
     "output_type": "stream",
     "text": [
      "\n"
     ]
    },
    {
     "name": "stdout",
     "output_type": "stream",
     "text": [
      "\n",
      "      Epoch    GPU_mem   box_loss   cls_loss   dfl_loss  Instances       Size\n"
     ]
    },
    {
     "name": "stderr",
     "output_type": "stream",
     "text": [
      "     59/100      7.84G     0.3812     0.2165     0.8044         98        640: 100%|██████████| 651/651 [02:36<00:00,  \n",
      "                 Class     Images  Instances      Box(P          R      mAP50  mAP50-95): 100%|██████████| 92/92 [00:32"
     ]
    },
    {
     "name": "stdout",
     "output_type": "stream",
     "text": [
      "                   all       5869      64101      0.984      0.967      0.992      0.947\n"
     ]
    },
    {
     "name": "stderr",
     "output_type": "stream",
     "text": [
      "\n"
     ]
    },
    {
     "name": "stdout",
     "output_type": "stream",
     "text": [
      "\n",
      "      Epoch    GPU_mem   box_loss   cls_loss   dfl_loss  Instances       Size\n"
     ]
    },
    {
     "name": "stderr",
     "output_type": "stream",
     "text": [
      "     60/100      7.79G     0.3799     0.2168     0.8037         92        640: 100%|██████████| 651/651 [02:34<00:00,  \n",
      "                 Class     Images  Instances      Box(P          R      mAP50  mAP50-95): 100%|██████████| 92/92 [00:32"
     ]
    },
    {
     "name": "stdout",
     "output_type": "stream",
     "text": [
      "                   all       5869      64101      0.984      0.967      0.992      0.947\n"
     ]
    },
    {
     "name": "stderr",
     "output_type": "stream",
     "text": [
      "\n"
     ]
    },
    {
     "name": "stdout",
     "output_type": "stream",
     "text": [
      "\n",
      "      Epoch    GPU_mem   box_loss   cls_loss   dfl_loss  Instances       Size\n"
     ]
    },
    {
     "name": "stderr",
     "output_type": "stream",
     "text": [
      "     61/100      7.81G     0.3787     0.2147     0.8045        118        640: 100%|██████████| 651/651 [02:34<00:00,  \n",
      "                 Class     Images  Instances      Box(P          R      mAP50  mAP50-95): 100%|██████████| 92/92 [00:32"
     ]
    },
    {
     "name": "stdout",
     "output_type": "stream",
     "text": [
      "                   all       5869      64101      0.984      0.967      0.992      0.947\n"
     ]
    },
    {
     "name": "stderr",
     "output_type": "stream",
     "text": [
      "\n"
     ]
    },
    {
     "name": "stdout",
     "output_type": "stream",
     "text": [
      "\n",
      "      Epoch    GPU_mem   box_loss   cls_loss   dfl_loss  Instances       Size\n"
     ]
    },
    {
     "name": "stderr",
     "output_type": "stream",
     "text": [
      "     62/100      7.78G     0.3771     0.2139     0.8038         95        640: 100%|██████████| 651/651 [02:34<00:00,  \n",
      "                 Class     Images  Instances      Box(P          R      mAP50  mAP50-95): 100%|██████████| 92/92 [00:32"
     ]
    },
    {
     "name": "stdout",
     "output_type": "stream",
     "text": [
      "                   all       5869      64101      0.984      0.967      0.992      0.948\n"
     ]
    },
    {
     "name": "stderr",
     "output_type": "stream",
     "text": [
      "\n"
     ]
    },
    {
     "name": "stdout",
     "output_type": "stream",
     "text": [
      "\n",
      "      Epoch    GPU_mem   box_loss   cls_loss   dfl_loss  Instances       Size\n"
     ]
    },
    {
     "name": "stderr",
     "output_type": "stream",
     "text": [
      "     63/100      7.77G     0.3775     0.2135     0.8036        119        640: 100%|██████████| 651/651 [02:34<00:00,  \n",
      "                 Class     Images  Instances      Box(P          R      mAP50  mAP50-95): 100%|██████████| 92/92 [00:31"
     ]
    },
    {
     "name": "stdout",
     "output_type": "stream",
     "text": [
      "                   all       5869      64101      0.984      0.967      0.992      0.948\n"
     ]
    },
    {
     "name": "stderr",
     "output_type": "stream",
     "text": [
      "\n"
     ]
    },
    {
     "name": "stdout",
     "output_type": "stream",
     "text": [
      "\n",
      "      Epoch    GPU_mem   box_loss   cls_loss   dfl_loss  Instances       Size\n"
     ]
    },
    {
     "name": "stderr",
     "output_type": "stream",
     "text": [
      "     64/100      7.76G      0.376      0.213     0.8036        131        640: 100%|██████████| 651/651 [02:34<00:00,  \n",
      "                 Class     Images  Instances      Box(P          R      mAP50  mAP50-95): 100%|██████████| 92/92 [00:32"
     ]
    },
    {
     "name": "stdout",
     "output_type": "stream",
     "text": [
      "                   all       5869      64101      0.984      0.967      0.992      0.948\n"
     ]
    },
    {
     "name": "stderr",
     "output_type": "stream",
     "text": [
      "\n"
     ]
    },
    {
     "name": "stdout",
     "output_type": "stream",
     "text": [
      "\n",
      "      Epoch    GPU_mem   box_loss   cls_loss   dfl_loss  Instances       Size\n"
     ]
    },
    {
     "name": "stderr",
     "output_type": "stream",
     "text": [
      "     65/100      7.84G     0.3753     0.2121     0.8034         81        640: 100%|██████████| 651/651 [02:36<00:00,  \n",
      "                 Class     Images  Instances      Box(P          R      mAP50  mAP50-95): 100%|██████████| 92/92 [00:32"
     ]
    },
    {
     "name": "stdout",
     "output_type": "stream",
     "text": [
      "                   all       5869      64101      0.984      0.967      0.992      0.948\n"
     ]
    },
    {
     "name": "stderr",
     "output_type": "stream",
     "text": [
      "\n"
     ]
    },
    {
     "name": "stdout",
     "output_type": "stream",
     "text": [
      "\n",
      "      Epoch    GPU_mem   box_loss   cls_loss   dfl_loss  Instances       Size\n"
     ]
    },
    {
     "name": "stderr",
     "output_type": "stream",
     "text": [
      "     66/100       7.8G     0.3754     0.2121     0.8033        123        640: 100%|██████████| 651/651 [02:35<00:00,  \n",
      "                 Class     Images  Instances      Box(P          R      mAP50  mAP50-95): 100%|██████████| 92/92 [00:32"
     ]
    },
    {
     "name": "stdout",
     "output_type": "stream",
     "text": [
      "                   all       5869      64101      0.984      0.967      0.992      0.948\n"
     ]
    },
    {
     "name": "stderr",
     "output_type": "stream",
     "text": [
      "\n"
     ]
    },
    {
     "name": "stdout",
     "output_type": "stream",
     "text": [
      "\n",
      "      Epoch    GPU_mem   box_loss   cls_loss   dfl_loss  Instances       Size\n"
     ]
    },
    {
     "name": "stderr",
     "output_type": "stream",
     "text": [
      "     67/100      7.78G     0.3728     0.2104     0.8024        106        640: 100%|██████████| 651/651 [02:35<00:00,  \n",
      "                 Class     Images  Instances      Box(P          R      mAP50  mAP50-95): 100%|██████████| 92/92 [00:32"
     ]
    },
    {
     "name": "stdout",
     "output_type": "stream",
     "text": [
      "                   all       5869      64101      0.984      0.967      0.992      0.948\n"
     ]
    },
    {
     "name": "stderr",
     "output_type": "stream",
     "text": [
      "\n"
     ]
    },
    {
     "name": "stdout",
     "output_type": "stream",
     "text": [
      "\n",
      "      Epoch    GPU_mem   box_loss   cls_loss   dfl_loss  Instances       Size\n"
     ]
    },
    {
     "name": "stderr",
     "output_type": "stream",
     "text": [
      "     68/100      7.76G     0.3735     0.2109     0.8027        127        640: 100%|██████████| 651/651 [02:35<00:00,  \n",
      "                 Class     Images  Instances      Box(P          R      mAP50  mAP50-95): 100%|██████████| 92/92 [00:32"
     ]
    },
    {
     "name": "stdout",
     "output_type": "stream",
     "text": [
      "                   all       5869      64101      0.984      0.968      0.992      0.948\n"
     ]
    },
    {
     "name": "stderr",
     "output_type": "stream",
     "text": [
      "\n"
     ]
    },
    {
     "name": "stdout",
     "output_type": "stream",
     "text": [
      "\n",
      "      Epoch    GPU_mem   box_loss   cls_loss   dfl_loss  Instances       Size\n"
     ]
    },
    {
     "name": "stderr",
     "output_type": "stream",
     "text": [
      "     69/100      7.85G     0.3722     0.2099     0.8026        110        640: 100%|██████████| 651/651 [02:35<00:00,  \n",
      "                 Class     Images  Instances      Box(P          R      mAP50  mAP50-95): 100%|██████████| 92/92 [00:32"
     ]
    },
    {
     "name": "stdout",
     "output_type": "stream",
     "text": [
      "                   all       5869      64101      0.984      0.967      0.992      0.948\n"
     ]
    },
    {
     "name": "stderr",
     "output_type": "stream",
     "text": [
      "\n"
     ]
    },
    {
     "name": "stdout",
     "output_type": "stream",
     "text": [
      "\n",
      "      Epoch    GPU_mem   box_loss   cls_loss   dfl_loss  Instances       Size\n"
     ]
    },
    {
     "name": "stderr",
     "output_type": "stream",
     "text": [
      "     70/100      7.76G     0.3729     0.2099     0.8029        122        640: 100%|██████████| 651/651 [02:36<00:00,  \n",
      "                 Class     Images  Instances      Box(P          R      mAP50  mAP50-95): 100%|██████████| 92/92 [00:31"
     ]
    },
    {
     "name": "stdout",
     "output_type": "stream",
     "text": [
      "                   all       5869      64101      0.984      0.967      0.992      0.948\n"
     ]
    },
    {
     "name": "stderr",
     "output_type": "stream",
     "text": [
      "\n"
     ]
    },
    {
     "name": "stdout",
     "output_type": "stream",
     "text": [
      "\n",
      "      Epoch    GPU_mem   box_loss   cls_loss   dfl_loss  Instances       Size\n"
     ]
    },
    {
     "name": "stderr",
     "output_type": "stream",
     "text": [
      "     71/100      7.88G     0.3711      0.209     0.8022        144        640: 100%|██████████| 651/651 [02:36<00:00,  \n",
      "                 Class     Images  Instances      Box(P          R      mAP50  mAP50-95): 100%|██████████| 92/92 [00:32"
     ]
    },
    {
     "name": "stdout",
     "output_type": "stream",
     "text": [
      "                   all       5869      64101      0.984      0.967      0.992      0.949\n"
     ]
    },
    {
     "name": "stderr",
     "output_type": "stream",
     "text": [
      "\n"
     ]
    },
    {
     "name": "stdout",
     "output_type": "stream",
     "text": [
      "\n",
      "      Epoch    GPU_mem   box_loss   cls_loss   dfl_loss  Instances       Size\n"
     ]
    },
    {
     "name": "stderr",
     "output_type": "stream",
     "text": [
      "     72/100      7.86G     0.3699      0.208     0.8015        144        640: 100%|██████████| 651/651 [02:35<00:00,  \n",
      "                 Class     Images  Instances      Box(P          R      mAP50  mAP50-95): 100%|██████████| 92/92 [00:31"
     ]
    },
    {
     "name": "stdout",
     "output_type": "stream",
     "text": [
      "                   all       5869      64101      0.984      0.967      0.992      0.949\n"
     ]
    },
    {
     "name": "stderr",
     "output_type": "stream",
     "text": [
      "\n"
     ]
    },
    {
     "name": "stdout",
     "output_type": "stream",
     "text": [
      "\n",
      "      Epoch    GPU_mem   box_loss   cls_loss   dfl_loss  Instances       Size\n"
     ]
    },
    {
     "name": "stderr",
     "output_type": "stream",
     "text": [
      "     73/100       7.8G     0.3682     0.2069     0.8021        136        640: 100%|██████████| 651/651 [02:37<00:00,  \n",
      "                 Class     Images  Instances      Box(P          R      mAP50  mAP50-95): 100%|██████████| 92/92 [00:32"
     ]
    },
    {
     "name": "stdout",
     "output_type": "stream",
     "text": [
      "                   all       5869      64101      0.985      0.967      0.992      0.949\n"
     ]
    },
    {
     "name": "stderr",
     "output_type": "stream",
     "text": [
      "\n"
     ]
    },
    {
     "name": "stdout",
     "output_type": "stream",
     "text": [
      "\n",
      "      Epoch    GPU_mem   box_loss   cls_loss   dfl_loss  Instances       Size\n"
     ]
    },
    {
     "name": "stderr",
     "output_type": "stream",
     "text": [
      "     74/100      7.81G     0.3675     0.2068     0.8021        120        640: 100%|██████████| 651/651 [02:36<00:00,  \n",
      "                 Class     Images  Instances      Box(P          R      mAP50  mAP50-95): 100%|██████████| 92/92 [00:32"
     ]
    },
    {
     "name": "stdout",
     "output_type": "stream",
     "text": [
      "                   all       5869      64101      0.985      0.967      0.992      0.949\n"
     ]
    },
    {
     "name": "stderr",
     "output_type": "stream",
     "text": [
      "\n"
     ]
    },
    {
     "name": "stdout",
     "output_type": "stream",
     "text": [
      "\n",
      "      Epoch    GPU_mem   box_loss   cls_loss   dfl_loss  Instances       Size\n"
     ]
    },
    {
     "name": "stderr",
     "output_type": "stream",
     "text": [
      "     75/100      7.82G     0.3669     0.2059     0.8018         90        640: 100%|██████████| 651/651 [02:35<00:00,  \n",
      "                 Class     Images  Instances      Box(P          R      mAP50  mAP50-95): 100%|██████████| 92/92 [00:32"
     ]
    },
    {
     "name": "stdout",
     "output_type": "stream",
     "text": [
      "                   all       5869      64101      0.985      0.967      0.992      0.949\n"
     ]
    },
    {
     "name": "stderr",
     "output_type": "stream",
     "text": [
      "\n"
     ]
    },
    {
     "name": "stdout",
     "output_type": "stream",
     "text": [
      "\n",
      "      Epoch    GPU_mem   box_loss   cls_loss   dfl_loss  Instances       Size\n"
     ]
    },
    {
     "name": "stderr",
     "output_type": "stream",
     "text": [
      "     76/100      7.91G     0.3669     0.2056      0.802        140        640: 100%|██████████| 651/651 [02:52<00:00,  \n",
      "                 Class     Images  Instances      Box(P          R      mAP50  mAP50-95): 100%|██████████| 92/92 [00:32"
     ]
    },
    {
     "name": "stdout",
     "output_type": "stream",
     "text": [
      "                   all       5869      64101      0.985      0.967      0.992      0.949\n"
     ]
    },
    {
     "name": "stderr",
     "output_type": "stream",
     "text": [
      "\n"
     ]
    },
    {
     "name": "stdout",
     "output_type": "stream",
     "text": [
      "\n",
      "      Epoch    GPU_mem   box_loss   cls_loss   dfl_loss  Instances       Size\n"
     ]
    },
    {
     "name": "stderr",
     "output_type": "stream",
     "text": [
      "     77/100      8.14G     0.3658      0.205     0.8016        101        640: 100%|██████████| 651/651 [02:50<00:00,  \n",
      "                 Class     Images  Instances      Box(P          R      mAP50  mAP50-95): 100%|██████████| 92/92 [00:32"
     ]
    },
    {
     "name": "stdout",
     "output_type": "stream",
     "text": [
      "                   all       5869      64101      0.985      0.967      0.992      0.949\n"
     ]
    },
    {
     "name": "stderr",
     "output_type": "stream",
     "text": [
      "\n"
     ]
    },
    {
     "name": "stdout",
     "output_type": "stream",
     "text": [
      "\n",
      "      Epoch    GPU_mem   box_loss   cls_loss   dfl_loss  Instances       Size\n"
     ]
    },
    {
     "name": "stderr",
     "output_type": "stream",
     "text": [
      "     78/100       7.8G     0.3645     0.2039     0.8012        104        640: 100%|██████████| 651/651 [02:49<00:00,  \n",
      "                 Class     Images  Instances      Box(P          R      mAP50  mAP50-95): 100%|██████████| 92/92 [00:32"
     ]
    },
    {
     "name": "stdout",
     "output_type": "stream",
     "text": [
      "                   all       5869      64101      0.985      0.967      0.992      0.949\n"
     ]
    },
    {
     "name": "stderr",
     "output_type": "stream",
     "text": [
      "\n"
     ]
    },
    {
     "name": "stdout",
     "output_type": "stream",
     "text": [
      "\n",
      "      Epoch    GPU_mem   box_loss   cls_loss   dfl_loss  Instances       Size\n"
     ]
    },
    {
     "name": "stderr",
     "output_type": "stream",
     "text": [
      "     79/100       7.8G     0.3639     0.2036      0.801        127        640: 100%|██████████| 651/651 [02:48<00:00,  \n",
      "                 Class     Images  Instances      Box(P          R      mAP50  mAP50-95): 100%|██████████| 92/92 [00:32"
     ]
    },
    {
     "name": "stdout",
     "output_type": "stream",
     "text": [
      "                   all       5869      64101      0.985      0.967      0.992      0.949\n"
     ]
    },
    {
     "name": "stderr",
     "output_type": "stream",
     "text": [
      "\n"
     ]
    },
    {
     "name": "stdout",
     "output_type": "stream",
     "text": [
      "\n",
      "      Epoch    GPU_mem   box_loss   cls_loss   dfl_loss  Instances       Size\n"
     ]
    },
    {
     "name": "stderr",
     "output_type": "stream",
     "text": [
      "     80/100      7.82G     0.3639     0.2036     0.8013         99        640: 100%|██████████| 651/651 [02:51<00:00,  \n",
      "                 Class     Images  Instances      Box(P          R      mAP50  mAP50-95): 100%|██████████| 92/92 [00:32"
     ]
    },
    {
     "name": "stdout",
     "output_type": "stream",
     "text": [
      "                   all       5869      64101      0.985      0.967      0.992      0.949\n"
     ]
    },
    {
     "name": "stderr",
     "output_type": "stream",
     "text": [
      "\n"
     ]
    },
    {
     "name": "stdout",
     "output_type": "stream",
     "text": [
      "\n",
      "      Epoch    GPU_mem   box_loss   cls_loss   dfl_loss  Instances       Size\n"
     ]
    },
    {
     "name": "stderr",
     "output_type": "stream",
     "text": [
      "     81/100      7.82G     0.3623     0.2022     0.8005        143        640: 100%|██████████| 651/651 [02:49<00:00,  \n",
      "                 Class     Images  Instances      Box(P          R      mAP50  mAP50-95): 100%|██████████| 92/92 [00:32"
     ]
    },
    {
     "name": "stdout",
     "output_type": "stream",
     "text": [
      "                   all       5869      64101      0.985      0.968      0.992      0.949\n"
     ]
    },
    {
     "name": "stderr",
     "output_type": "stream",
     "text": [
      "\n"
     ]
    },
    {
     "name": "stdout",
     "output_type": "stream",
     "text": [
      "\n",
      "      Epoch    GPU_mem   box_loss   cls_loss   dfl_loss  Instances       Size\n"
     ]
    },
    {
     "name": "stderr",
     "output_type": "stream",
     "text": [
      "     82/100      7.91G     0.3611     0.2019     0.8004         83        640: 100%|██████████| 651/651 [02:50<00:00,  \n",
      "                 Class     Images  Instances      Box(P          R      mAP50  mAP50-95): 100%|██████████| 92/92 [00:32"
     ]
    },
    {
     "name": "stdout",
     "output_type": "stream",
     "text": [
      "                   all       5869      64101      0.985      0.967      0.992       0.95\n"
     ]
    },
    {
     "name": "stderr",
     "output_type": "stream",
     "text": [
      "\n"
     ]
    },
    {
     "name": "stdout",
     "output_type": "stream",
     "text": [
      "\n",
      "      Epoch    GPU_mem   box_loss   cls_loss   dfl_loss  Instances       Size\n"
     ]
    },
    {
     "name": "stderr",
     "output_type": "stream",
     "text": [
      "     83/100      7.89G     0.3611     0.2016     0.8004        568        640:  66%|██████▌   | 427/651 [01:49<00:57,  \n"
     ]
    },
    {
     "ename": "FileNotFoundError",
     "evalue": "Caught FileNotFoundError in DataLoader worker process 1.\nOriginal Traceback (most recent call last):\n  File \"C:\\Users\\joons\\anaconda3\\envs\\pigeon\\lib\\site-packages\\torch\\utils\\data\\_utils\\worker.py\", line 349, in _worker_loop\n    data = fetcher.fetch(index)  # type: ignore[possibly-undefined]\n  File \"C:\\Users\\joons\\anaconda3\\envs\\pigeon\\lib\\site-packages\\torch\\utils\\data\\_utils\\fetch.py\", line 52, in fetch\n    data = [self.dataset[idx] for idx in possibly_batched_index]\n  File \"C:\\Users\\joons\\anaconda3\\envs\\pigeon\\lib\\site-packages\\torch\\utils\\data\\_utils\\fetch.py\", line 52, in <listcomp>\n    data = [self.dataset[idx] for idx in possibly_batched_index]\n  File \"C:\\Users\\joons\\anaconda3\\envs\\pigeon\\lib\\site-packages\\ultralytics\\data\\base.py\", line 369, in __getitem__\n    return self.transforms(self.get_image_and_label(index))\n  File \"C:\\Users\\joons\\anaconda3\\envs\\pigeon\\lib\\site-packages\\ultralytics\\data\\base.py\", line 383, in get_image_and_label\n    label[\"img\"], label[\"ori_shape\"], label[\"resized_shape\"] = self.load_image(index)\n  File \"C:\\Users\\joons\\anaconda3\\envs\\pigeon\\lib\\site-packages\\ultralytics\\data\\base.py\", line 228, in load_image\n    im = imread(f)  # BGR\n  File \"C:\\Users\\joons\\anaconda3\\envs\\pigeon\\lib\\site-packages\\ultralytics\\utils\\patches.py\", line 30, in imread\n    file_bytes = np.fromfile(filename, np.uint8)\nFileNotFoundError: [Errno 2] No such file or directory: 'C:\\\\Users\\\\joons\\\\workspace\\\\final_project\\\\dataset\\\\images\\\\train\\\\jongnoB_vid_1_frame_2587.png'\n",
     "output_type": "error",
     "traceback": [
      "\u001b[1;31m---------------------------------------------------------------------------\u001b[0m",
      "\u001b[1;31mFileNotFoundError\u001b[0m                         Traceback (most recent call last)",
      "Cell \u001b[1;32mIn[7], line 3\u001b[0m\n\u001b[0;32m      1\u001b[0m model \u001b[38;5;241m=\u001b[39m YOLO(pretrained_model_path)\n\u001b[1;32m----> 3\u001b[0m results \u001b[38;5;241m=\u001b[39m \u001b[43mmodel\u001b[49m\u001b[38;5;241;43m.\u001b[39;49m\u001b[43mtrain\u001b[49m\u001b[43m(\u001b[49m\n\u001b[0;32m      4\u001b[0m \u001b[43m    \u001b[49m\u001b[43mdata\u001b[49m\u001b[38;5;241;43m=\u001b[39;49m\u001b[43myaml_path\u001b[49m\u001b[43m,\u001b[49m\n\u001b[0;32m      5\u001b[0m \u001b[43m    \u001b[49m\u001b[43mepochs\u001b[49m\u001b[38;5;241;43m=\u001b[39;49m\u001b[38;5;241;43m100\u001b[39;49m\u001b[43m,\u001b[49m\n\u001b[0;32m      6\u001b[0m \u001b[43m    \u001b[49m\u001b[43mmosaic\u001b[49m\u001b[38;5;241;43m=\u001b[39;49m\u001b[38;5;241;43m0.8473\u001b[39;49m\u001b[43m,\u001b[49m\n\u001b[0;32m      7\u001b[0m \u001b[43m    \u001b[49m\u001b[43mscale\u001b[49m\u001b[38;5;241;43m=\u001b[39;49m\u001b[38;5;241;43m0.33761\u001b[39;49m\u001b[43m,\u001b[49m\n\u001b[0;32m      8\u001b[0m \u001b[43m    \u001b[49m\u001b[43mfliplr\u001b[49m\u001b[38;5;241;43m=\u001b[39;49m\u001b[38;5;241;43m0.37146\u001b[39;49m\u001b[43m,\u001b[49m\n\u001b[0;32m      9\u001b[0m \u001b[43m    \u001b[49m\u001b[43mmomentum\u001b[49m\u001b[38;5;241;43m=\u001b[39;49m\u001b[38;5;241;43m0.8797\u001b[39;49m\u001b[43m,\u001b[49m\n\u001b[0;32m     10\u001b[0m \u001b[43m    \u001b[49m\u001b[43mimgsz\u001b[49m\u001b[38;5;241;43m=\u001b[39;49m\u001b[38;5;241;43m640\u001b[39;49m\u001b[43m,\u001b[49m\n\u001b[0;32m     11\u001b[0m \u001b[43m    \u001b[49m\u001b[43mbatch\u001b[49m\u001b[38;5;241;43m=\u001b[39;49m\u001b[38;5;241;43m32\u001b[39;49m\u001b[43m,\u001b[49m\n\u001b[0;32m     12\u001b[0m \u001b[43m    \u001b[49m\u001b[43mpatience\u001b[49m\u001b[38;5;241;43m=\u001b[39;49m\u001b[38;5;241;43m20\u001b[39;49m\u001b[43m,\u001b[49m\n\u001b[0;32m     13\u001b[0m \u001b[43m    \u001b[49m\u001b[43moptimizer\u001b[49m\u001b[38;5;241;43m=\u001b[39;49m\u001b[38;5;124;43m\"\u001b[39;49m\u001b[38;5;124;43mAdamW\u001b[39;49m\u001b[38;5;124;43m\"\u001b[39;49m\u001b[43m,\u001b[49m\n\u001b[0;32m     14\u001b[0m \u001b[43m    \u001b[49m\u001b[43mproject\u001b[49m\u001b[38;5;241;43m=\u001b[39;49m\u001b[43m \u001b[49m\u001b[43mruns_path\u001b[49m\u001b[43m,\u001b[49m\n\u001b[0;32m     15\u001b[0m \u001b[43m)\u001b[49m\n",
      "File \u001b[1;32m~\\anaconda3\\envs\\pigeon\\lib\\site-packages\\ultralytics\\engine\\model.py:790\u001b[0m, in \u001b[0;36mModel.train\u001b[1;34m(self, trainer, **kwargs)\u001b[0m\n\u001b[0;32m    787\u001b[0m     \u001b[38;5;28mself\u001b[39m\u001b[38;5;241m.\u001b[39mmodel \u001b[38;5;241m=\u001b[39m \u001b[38;5;28mself\u001b[39m\u001b[38;5;241m.\u001b[39mtrainer\u001b[38;5;241m.\u001b[39mmodel\n\u001b[0;32m    789\u001b[0m \u001b[38;5;28mself\u001b[39m\u001b[38;5;241m.\u001b[39mtrainer\u001b[38;5;241m.\u001b[39mhub_session \u001b[38;5;241m=\u001b[39m \u001b[38;5;28mself\u001b[39m\u001b[38;5;241m.\u001b[39msession  \u001b[38;5;66;03m# attach optional HUB session\u001b[39;00m\n\u001b[1;32m--> 790\u001b[0m \u001b[38;5;28;43mself\u001b[39;49m\u001b[38;5;241;43m.\u001b[39;49m\u001b[43mtrainer\u001b[49m\u001b[38;5;241;43m.\u001b[39;49m\u001b[43mtrain\u001b[49m\u001b[43m(\u001b[49m\u001b[43m)\u001b[49m\n\u001b[0;32m    791\u001b[0m \u001b[38;5;66;03m# Update model and cfg after training\u001b[39;00m\n\u001b[0;32m    792\u001b[0m \u001b[38;5;28;01mif\u001b[39;00m RANK \u001b[38;5;129;01min\u001b[39;00m {\u001b[38;5;241m-\u001b[39m\u001b[38;5;241m1\u001b[39m, \u001b[38;5;241m0\u001b[39m}:\n",
      "File \u001b[1;32m~\\anaconda3\\envs\\pigeon\\lib\\site-packages\\ultralytics\\engine\\trainer.py:210\u001b[0m, in \u001b[0;36mBaseTrainer.train\u001b[1;34m(self)\u001b[0m\n\u001b[0;32m    207\u001b[0m         ddp_cleanup(\u001b[38;5;28mself\u001b[39m, \u001b[38;5;28mstr\u001b[39m(file))\n\u001b[0;32m    209\u001b[0m \u001b[38;5;28;01melse\u001b[39;00m:\n\u001b[1;32m--> 210\u001b[0m     \u001b[38;5;28;43mself\u001b[39;49m\u001b[38;5;241;43m.\u001b[39;49m\u001b[43m_do_train\u001b[49m\u001b[43m(\u001b[49m\u001b[43mworld_size\u001b[49m\u001b[43m)\u001b[49m\n",
      "File \u001b[1;32m~\\anaconda3\\envs\\pigeon\\lib\\site-packages\\ultralytics\\engine\\trainer.py:366\u001b[0m, in \u001b[0;36mBaseTrainer._do_train\u001b[1;34m(self, world_size)\u001b[0m\n\u001b[0;32m    364\u001b[0m     pbar \u001b[38;5;241m=\u001b[39m TQDM(\u001b[38;5;28menumerate\u001b[39m(\u001b[38;5;28mself\u001b[39m\u001b[38;5;241m.\u001b[39mtrain_loader), total\u001b[38;5;241m=\u001b[39mnb)\n\u001b[0;32m    365\u001b[0m \u001b[38;5;28mself\u001b[39m\u001b[38;5;241m.\u001b[39mtloss \u001b[38;5;241m=\u001b[39m \u001b[38;5;28;01mNone\u001b[39;00m\n\u001b[1;32m--> 366\u001b[0m \u001b[38;5;28;01mfor\u001b[39;00m i, batch \u001b[38;5;129;01min\u001b[39;00m pbar:\n\u001b[0;32m    367\u001b[0m     \u001b[38;5;28mself\u001b[39m\u001b[38;5;241m.\u001b[39mrun_callbacks(\u001b[38;5;124m\"\u001b[39m\u001b[38;5;124mon_train_batch_start\u001b[39m\u001b[38;5;124m\"\u001b[39m)\n\u001b[0;32m    368\u001b[0m     \u001b[38;5;66;03m# Warmup\u001b[39;00m\n",
      "File \u001b[1;32m~\\anaconda3\\envs\\pigeon\\lib\\site-packages\\tqdm\\std.py:1181\u001b[0m, in \u001b[0;36mtqdm.__iter__\u001b[1;34m(self)\u001b[0m\n\u001b[0;32m   1178\u001b[0m time \u001b[38;5;241m=\u001b[39m \u001b[38;5;28mself\u001b[39m\u001b[38;5;241m.\u001b[39m_time\n\u001b[0;32m   1180\u001b[0m \u001b[38;5;28;01mtry\u001b[39;00m:\n\u001b[1;32m-> 1181\u001b[0m     \u001b[38;5;28;01mfor\u001b[39;00m obj \u001b[38;5;129;01min\u001b[39;00m iterable:\n\u001b[0;32m   1182\u001b[0m         \u001b[38;5;28;01myield\u001b[39;00m obj\n\u001b[0;32m   1183\u001b[0m         \u001b[38;5;66;03m# Update and possibly print the progressbar.\u001b[39;00m\n\u001b[0;32m   1184\u001b[0m         \u001b[38;5;66;03m# Note: does not call self.update(1) for speed optimisation.\u001b[39;00m\n",
      "File \u001b[1;32m~\\anaconda3\\envs\\pigeon\\lib\\site-packages\\ultralytics\\data\\build.py:59\u001b[0m, in \u001b[0;36mInfiniteDataLoader.__iter__\u001b[1;34m(self)\u001b[0m\n\u001b[0;32m     57\u001b[0m \u001b[38;5;250m\u001b[39m\u001b[38;5;124;03m\"\"\"Create an iterator that yields indefinitely from the underlying iterator.\"\"\"\u001b[39;00m\n\u001b[0;32m     58\u001b[0m \u001b[38;5;28;01mfor\u001b[39;00m _ \u001b[38;5;129;01min\u001b[39;00m \u001b[38;5;28mrange\u001b[39m(\u001b[38;5;28mlen\u001b[39m(\u001b[38;5;28mself\u001b[39m)):\n\u001b[1;32m---> 59\u001b[0m     \u001b[38;5;28;01myield\u001b[39;00m \u001b[38;5;28;43mnext\u001b[39;49m\u001b[43m(\u001b[49m\u001b[38;5;28;43mself\u001b[39;49m\u001b[38;5;241;43m.\u001b[39;49m\u001b[43miterator\u001b[49m\u001b[43m)\u001b[49m\n",
      "File \u001b[1;32m~\\anaconda3\\envs\\pigeon\\lib\\site-packages\\torch\\utils\\data\\dataloader.py:733\u001b[0m, in \u001b[0;36m_BaseDataLoaderIter.__next__\u001b[1;34m(self)\u001b[0m\n\u001b[0;32m    730\u001b[0m \u001b[38;5;28;01mif\u001b[39;00m \u001b[38;5;28mself\u001b[39m\u001b[38;5;241m.\u001b[39m_sampler_iter \u001b[38;5;129;01mis\u001b[39;00m \u001b[38;5;28;01mNone\u001b[39;00m:\n\u001b[0;32m    731\u001b[0m     \u001b[38;5;66;03m# TODO(https://github.com/pytorch/pytorch/issues/76750)\u001b[39;00m\n\u001b[0;32m    732\u001b[0m     \u001b[38;5;28mself\u001b[39m\u001b[38;5;241m.\u001b[39m_reset()  \u001b[38;5;66;03m# type: ignore[call-arg]\u001b[39;00m\n\u001b[1;32m--> 733\u001b[0m data \u001b[38;5;241m=\u001b[39m \u001b[38;5;28;43mself\u001b[39;49m\u001b[38;5;241;43m.\u001b[39;49m\u001b[43m_next_data\u001b[49m\u001b[43m(\u001b[49m\u001b[43m)\u001b[49m\n\u001b[0;32m    734\u001b[0m \u001b[38;5;28mself\u001b[39m\u001b[38;5;241m.\u001b[39m_num_yielded \u001b[38;5;241m+\u001b[39m\u001b[38;5;241m=\u001b[39m \u001b[38;5;241m1\u001b[39m\n\u001b[0;32m    735\u001b[0m \u001b[38;5;28;01mif\u001b[39;00m (\n\u001b[0;32m    736\u001b[0m     \u001b[38;5;28mself\u001b[39m\u001b[38;5;241m.\u001b[39m_dataset_kind \u001b[38;5;241m==\u001b[39m _DatasetKind\u001b[38;5;241m.\u001b[39mIterable\n\u001b[0;32m    737\u001b[0m     \u001b[38;5;129;01mand\u001b[39;00m \u001b[38;5;28mself\u001b[39m\u001b[38;5;241m.\u001b[39m_IterableDataset_len_called \u001b[38;5;129;01mis\u001b[39;00m \u001b[38;5;129;01mnot\u001b[39;00m \u001b[38;5;28;01mNone\u001b[39;00m\n\u001b[0;32m    738\u001b[0m     \u001b[38;5;129;01mand\u001b[39;00m \u001b[38;5;28mself\u001b[39m\u001b[38;5;241m.\u001b[39m_num_yielded \u001b[38;5;241m>\u001b[39m \u001b[38;5;28mself\u001b[39m\u001b[38;5;241m.\u001b[39m_IterableDataset_len_called\n\u001b[0;32m    739\u001b[0m ):\n",
      "File \u001b[1;32m~\\anaconda3\\envs\\pigeon\\lib\\site-packages\\torch\\utils\\data\\dataloader.py:1488\u001b[0m, in \u001b[0;36m_MultiProcessingDataLoaderIter._next_data\u001b[1;34m(self)\u001b[0m\n\u001b[0;32m   1486\u001b[0m     worker_id, data \u001b[38;5;241m=\u001b[39m \u001b[38;5;28mself\u001b[39m\u001b[38;5;241m.\u001b[39m_task_info\u001b[38;5;241m.\u001b[39mpop(\u001b[38;5;28mself\u001b[39m\u001b[38;5;241m.\u001b[39m_rcvd_idx)\n\u001b[0;32m   1487\u001b[0m     \u001b[38;5;28mself\u001b[39m\u001b[38;5;241m.\u001b[39m_rcvd_idx \u001b[38;5;241m+\u001b[39m\u001b[38;5;241m=\u001b[39m \u001b[38;5;241m1\u001b[39m\n\u001b[1;32m-> 1488\u001b[0m     \u001b[38;5;28;01mreturn\u001b[39;00m \u001b[38;5;28;43mself\u001b[39;49m\u001b[38;5;241;43m.\u001b[39;49m\u001b[43m_process_data\u001b[49m\u001b[43m(\u001b[49m\u001b[43mdata\u001b[49m\u001b[43m,\u001b[49m\u001b[43m \u001b[49m\u001b[43mworker_id\u001b[49m\u001b[43m)\u001b[49m\n\u001b[0;32m   1490\u001b[0m \u001b[38;5;28;01massert\u001b[39;00m \u001b[38;5;129;01mnot\u001b[39;00m \u001b[38;5;28mself\u001b[39m\u001b[38;5;241m.\u001b[39m_shutdown \u001b[38;5;129;01mand\u001b[39;00m \u001b[38;5;28mself\u001b[39m\u001b[38;5;241m.\u001b[39m_tasks_outstanding \u001b[38;5;241m>\u001b[39m \u001b[38;5;241m0\u001b[39m\n\u001b[0;32m   1491\u001b[0m idx, data \u001b[38;5;241m=\u001b[39m \u001b[38;5;28mself\u001b[39m\u001b[38;5;241m.\u001b[39m_get_data()\n",
      "File \u001b[1;32m~\\anaconda3\\envs\\pigeon\\lib\\site-packages\\torch\\utils\\data\\dataloader.py:1550\u001b[0m, in \u001b[0;36m_MultiProcessingDataLoaderIter._process_data\u001b[1;34m(self, data, worker_idx)\u001b[0m\n\u001b[0;32m   1548\u001b[0m \u001b[38;5;28mself\u001b[39m\u001b[38;5;241m.\u001b[39m_try_put_index()\n\u001b[0;32m   1549\u001b[0m \u001b[38;5;28;01mif\u001b[39;00m \u001b[38;5;28misinstance\u001b[39m(data, ExceptionWrapper):\n\u001b[1;32m-> 1550\u001b[0m     \u001b[43mdata\u001b[49m\u001b[38;5;241;43m.\u001b[39;49m\u001b[43mreraise\u001b[49m\u001b[43m(\u001b[49m\u001b[43m)\u001b[49m\n\u001b[0;32m   1551\u001b[0m \u001b[38;5;28;01mreturn\u001b[39;00m data\n",
      "File \u001b[1;32m~\\anaconda3\\envs\\pigeon\\lib\\site-packages\\torch\\_utils.py:750\u001b[0m, in \u001b[0;36mExceptionWrapper.reraise\u001b[1;34m(self)\u001b[0m\n\u001b[0;32m    746\u001b[0m \u001b[38;5;28;01mexcept\u001b[39;00m \u001b[38;5;167;01mException\u001b[39;00m:\n\u001b[0;32m    747\u001b[0m     \u001b[38;5;66;03m# If the exception takes multiple arguments or otherwise can't\u001b[39;00m\n\u001b[0;32m    748\u001b[0m     \u001b[38;5;66;03m# be constructed, don't try to instantiate since we don't know how to\u001b[39;00m\n\u001b[0;32m    749\u001b[0m     \u001b[38;5;28;01mraise\u001b[39;00m \u001b[38;5;167;01mRuntimeError\u001b[39;00m(msg) \u001b[38;5;28;01mfrom\u001b[39;00m\u001b[38;5;250m \u001b[39m\u001b[38;5;28;01mNone\u001b[39;00m\n\u001b[1;32m--> 750\u001b[0m \u001b[38;5;28;01mraise\u001b[39;00m exception\n",
      "\u001b[1;31mFileNotFoundError\u001b[0m: Caught FileNotFoundError in DataLoader worker process 1.\nOriginal Traceback (most recent call last):\n  File \"C:\\Users\\joons\\anaconda3\\envs\\pigeon\\lib\\site-packages\\torch\\utils\\data\\_utils\\worker.py\", line 349, in _worker_loop\n    data = fetcher.fetch(index)  # type: ignore[possibly-undefined]\n  File \"C:\\Users\\joons\\anaconda3\\envs\\pigeon\\lib\\site-packages\\torch\\utils\\data\\_utils\\fetch.py\", line 52, in fetch\n    data = [self.dataset[idx] for idx in possibly_batched_index]\n  File \"C:\\Users\\joons\\anaconda3\\envs\\pigeon\\lib\\site-packages\\torch\\utils\\data\\_utils\\fetch.py\", line 52, in <listcomp>\n    data = [self.dataset[idx] for idx in possibly_batched_index]\n  File \"C:\\Users\\joons\\anaconda3\\envs\\pigeon\\lib\\site-packages\\ultralytics\\data\\base.py\", line 369, in __getitem__\n    return self.transforms(self.get_image_and_label(index))\n  File \"C:\\Users\\joons\\anaconda3\\envs\\pigeon\\lib\\site-packages\\ultralytics\\data\\base.py\", line 383, in get_image_and_label\n    label[\"img\"], label[\"ori_shape\"], label[\"resized_shape\"] = self.load_image(index)\n  File \"C:\\Users\\joons\\anaconda3\\envs\\pigeon\\lib\\site-packages\\ultralytics\\data\\base.py\", line 228, in load_image\n    im = imread(f)  # BGR\n  File \"C:\\Users\\joons\\anaconda3\\envs\\pigeon\\lib\\site-packages\\ultralytics\\utils\\patches.py\", line 30, in imread\n    file_bytes = np.fromfile(filename, np.uint8)\nFileNotFoundError: [Errno 2] No such file or directory: 'C:\\\\Users\\\\joons\\\\workspace\\\\final_project\\\\dataset\\\\images\\\\train\\\\jongnoB_vid_1_frame_2587.png'\n"
     ]
    }
   ],
   "source": [
    "model = YOLO(pretrained_model_path)\n",
    "\n",
    "results = model.train(\n",
    "    data=yaml_path,\n",
    "    epochs=100,\n",
    "    mosaic=0.8473,\n",
    "    scale=0.33761,\n",
    "    fliplr=0.37146,\n",
    "    momentum=0.8797,\n",
    "    imgsz=640,\n",
    "    batch=32,\n",
    "    patience=20,\n",
    "    optimizer=\"AdamW\",\n",
    "    project= runs_path,\n",
    ")"
   ]
  },
  {
   "cell_type": "code",
   "execution_count": 10,
   "metadata": {
    "scrolled": true
   },
   "outputs": [
    {
     "name": "stdout",
     "output_type": "stream",
     "text": [
      "New https://pypi.org/project/ultralytics/8.3.118 available  Update with 'pip install -U ultralytics'\n",
      "Ultralytics 8.3.115  Python-3.10.16 torch-2.7.0+cu118 CUDA:0 (NVIDIA GeForce RTX 3080, 10240MiB)\n",
      "\u001b[34m\u001b[1mengine\\trainer: \u001b[0mtask=detect, mode=train, model=C:\\Users\\joons\\workspace\\final_project\\runs\\train\\weights\\last.pt, data=C:/Users/joons/workspace/final_project\\dataset\\coco8.yaml, epochs=100, time=None, patience=20, batch=32, imgsz=640, save=True, save_period=-1, cache=False, device=None, workers=8, project=C:/Users/joons/workspace/final_project\\runs, name=train, exist_ok=False, pretrained=True, optimizer=AdamW, verbose=True, seed=0, deterministic=True, single_cls=False, rect=False, cos_lr=False, close_mosaic=10, resume=C:\\Users\\joons\\workspace\\final_project\\runs\\train\\weights\\last.pt, amp=True, fraction=1.0, profile=False, freeze=None, multi_scale=False, overlap_mask=True, mask_ratio=4, dropout=0.0, val=True, split=val, save_json=False, conf=None, iou=0.7, max_det=300, half=False, dnn=False, plots=True, source=None, vid_stride=1, stream_buffer=False, visualize=False, augment=False, agnostic_nms=False, classes=None, retina_masks=False, embed=None, show=False, save_frames=False, save_txt=False, save_conf=False, save_crop=False, show_labels=True, show_conf=True, show_boxes=True, line_width=None, format=torchscript, keras=False, optimize=False, int8=False, dynamic=False, simplify=True, opset=None, workspace=None, nms=False, lr0=0.01, lrf=0.01, momentum=0.8797, weight_decay=0.0005, warmup_epochs=3.0, warmup_momentum=0.8, warmup_bias_lr=0.1, box=7.5, cls=0.5, dfl=1.5, pose=12.0, kobj=1.0, nbs=64, hsv_h=0.015, hsv_s=0.7, hsv_v=0.4, degrees=0.0, translate=0.1, scale=0.33761, shear=0.0, perspective=0.0, flipud=0.0, fliplr=0.37146, bgr=0.0, mosaic=0.8473, mixup=0.0, copy_paste=0.0, copy_paste_mode=flip, auto_augment=randaugment, erasing=0.4, cfg=None, tracker=botsort.yaml, save_dir=C:\\Users\\joons\\workspace\\final_project\\runs\\train\n",
      "\n",
      "                   from  n    params  module                                       arguments                     \n",
      "  0                  -1  1       928  ultralytics.nn.modules.conv.Conv             [3, 32, 3, 2]                 \n",
      "  1                  -1  1     18560  ultralytics.nn.modules.conv.Conv             [32, 64, 3, 2]                \n",
      "  2                  -1  1     26080  ultralytics.nn.modules.block.C3k2            [64, 128, 1, False, 0.25]     \n",
      "  3                  -1  1    147712  ultralytics.nn.modules.conv.Conv             [128, 128, 3, 2]              \n",
      "  4                  -1  1    103360  ultralytics.nn.modules.block.C3k2            [128, 256, 1, False, 0.25]    \n",
      "  5                  -1  1    590336  ultralytics.nn.modules.conv.Conv             [256, 256, 3, 2]              \n",
      "  6                  -1  1    346112  ultralytics.nn.modules.block.C3k2            [256, 256, 1, True]           \n",
      "  7                  -1  1   1180672  ultralytics.nn.modules.conv.Conv             [256, 512, 3, 2]              \n",
      "  8                  -1  1   1380352  ultralytics.nn.modules.block.C3k2            [512, 512, 1, True]           \n",
      "  9                  -1  1    656896  ultralytics.nn.modules.block.SPPF            [512, 512, 5]                 \n",
      " 10                  -1  1    990976  ultralytics.nn.modules.block.C2PSA           [512, 512, 1]                 \n",
      " 11                  -1  1         0  torch.nn.modules.upsampling.Upsample         [None, 2, 'nearest']          \n",
      " 12             [-1, 6]  1         0  ultralytics.nn.modules.conv.Concat           [1]                           \n",
      " 13                  -1  1    443776  ultralytics.nn.modules.block.C3k2            [768, 256, 1, False]          \n",
      " 14                  -1  1         0  torch.nn.modules.upsampling.Upsample         [None, 2, 'nearest']          \n",
      " 15             [-1, 4]  1         0  ultralytics.nn.modules.conv.Concat           [1]                           \n",
      " 16                  -1  1    127680  ultralytics.nn.modules.block.C3k2            [512, 128, 1, False]          \n",
      " 17                  -1  1    147712  ultralytics.nn.modules.conv.Conv             [128, 128, 3, 2]              \n",
      " 18            [-1, 13]  1         0  ultralytics.nn.modules.conv.Concat           [1]                           \n",
      " 19                  -1  1    345472  ultralytics.nn.modules.block.C3k2            [384, 256, 1, False]          \n",
      " 20                  -1  1    590336  ultralytics.nn.modules.conv.Conv             [256, 256, 3, 2]              \n",
      " 21            [-1, 10]  1         0  ultralytics.nn.modules.conv.Concat           [1]                           \n",
      " 22                  -1  1   1511424  ultralytics.nn.modules.block.C3k2            [768, 512, 1, True]           \n",
      " 23        [16, 19, 22]  1    819795  ultralytics.nn.modules.head.Detect           [1, [128, 256, 512]]          \n",
      "YOLO11s summary: 181 layers, 9,428,179 parameters, 9,428,163 gradients, 21.5 GFLOPs\n",
      "\n",
      "Transferred 499/499 items from pretrained weights\n",
      "Freezing layer 'model.23.dfl.conv.weight'\n",
      "\u001b[34m\u001b[1mAMP: \u001b[0mrunning Automatic Mixed Precision (AMP) checks...\n",
      "\u001b[34m\u001b[1mAMP: \u001b[0mchecks passed \n",
      "\u001b[34m\u001b[1mtrain: \u001b[0mFast image access  (ping: 0.10.0 ms, read: 709.469.4 MB/s, size: 4174.0 KB)\n"
     ]
    },
    {
     "name": "stderr",
     "output_type": "stream",
     "text": [
      "\u001b[34m\u001b[1mtrain: \u001b[0mScanning C:\\Users\\joons\\workspace\\final_project\\dataset\\labels\\train.cache... 20806 images, 61 backgrounds, 0 co\u001b[0m\n"
     ]
    },
    {
     "name": "stdout",
     "output_type": "stream",
     "text": [
      "\u001b[34m\u001b[1mval: \u001b[0mFast image access  (ping: 0.20.0 ms, read: 313.1105.0 MB/s, size: 4158.6 KB)\n"
     ]
    },
    {
     "name": "stderr",
     "output_type": "stream",
     "text": [
      "\u001b[34m\u001b[1mval: \u001b[0mScanning C:\\Users\\joons\\workspace\\final_project\\dataset\\labels\\val.cache... 5869 images, 17 backgrounds, 0 corrupt\u001b[0m\n"
     ]
    },
    {
     "name": "stdout",
     "output_type": "stream",
     "text": [
      "Plotting labels to C:\\Users\\joons\\workspace\\final_project\\runs\\train\\labels.jpg... \n",
      "\u001b[34m\u001b[1moptimizer:\u001b[0m AdamW(lr=0.01, momentum=0.8797) with parameter groups 81 weight(decay=0.0), 88 weight(decay=0.0005), 87 bias(decay=0.0)\n",
      "Resuming training C:\\Users\\joons\\workspace\\final_project\\runs\\train\\weights\\last.pt from epoch 100 to 100 total epochs\n",
      "Closing dataloader mosaic\n",
      "Image sizes 640 train, 640 val\n",
      "Using 8 dataloader workers\n",
      "Logging results to \u001b[1mC:\\Users\\joons\\workspace\\final_project\\runs\\train\u001b[0m\n",
      "Starting training for 100 epochs...\n",
      "\n",
      "      Epoch    GPU_mem   box_loss   cls_loss   dfl_loss  Instances       Size\n"
     ]
    },
    {
     "name": "stderr",
     "output_type": "stream",
     "text": [
      "    100/100         8G      0.354     0.1926     0.8001         78        640: 100%|██████████| 651/651 [02:35<00:00,  \n",
      "                 Class     Images  Instances      Box(P          R      mAP50  mAP50-95): 100%|██████████| 92/92 [00:48\n"
     ]
    },
    {
     "name": "stdout",
     "output_type": "stream",
     "text": [
      "                   all       5869      64101      0.985      0.967      0.992       0.95\n",
      "\n",
      "1 epochs completed in 0.057 hours.\n",
      "Optimizer stripped from C:\\Users\\joons\\workspace\\final_project\\runs\\train\\weights\\last.pt, 19.2MB\n",
      "Optimizer stripped from C:\\Users\\joons\\workspace\\final_project\\runs\\train\\weights\\best.pt, 19.2MB\n",
      "\n",
      "Validating C:\\Users\\joons\\workspace\\final_project\\runs\\train\\weights\\best.pt...\n",
      "Ultralytics 8.3.115  Python-3.10.16 torch-2.7.0+cu118 CUDA:0 (NVIDIA GeForce RTX 3080, 10240MiB)\n",
      "YOLO11s summary (fused): 100 layers, 9,413,187 parameters, 0 gradients, 21.3 GFLOPs\n"
     ]
    },
    {
     "name": "stderr",
     "output_type": "stream",
     "text": [
      "                 Class     Images  Instances      Box(P          R      mAP50  mAP50-95): 100%|██████████| 92/92 [00:45\n"
     ]
    },
    {
     "name": "stdout",
     "output_type": "stream",
     "text": [
      "                   all       5869      64101      0.985      0.967      0.992       0.95\n",
      "Speed: 0.1ms preprocess, 0.9ms inference, 0.0ms loss, 1.3ms postprocess per image\n",
      "Results saved to \u001b[1mC:\\Users\\joons\\workspace\\final_project\\runs\\train\u001b[0m\n"
     ]
    }
   ],
   "source": [
    "from ultralytics import YOLO\n",
    "import os\n",
    "\n",
    "model = YOLO(\"C:/Users/joons/workspace/final_project/runs/train/weights/last.pt\")\n",
    "\n",
    "results = model.train(\n",
    "    data=yaml_path,\n",
    "    epochs=100,\n",
    "    mosaic=0.8473,\n",
    "    scale=0.33761,\n",
    "    fliplr=0.37146,\n",
    "    momentum=0.8797,\n",
    "    imgsz=640,\n",
    "    batch=32,\n",
    "    patience=20,\n",
    "    optimizer=\"AdamW\",\n",
    "    project= runs_path,\n",
    "    resume=True,\n",
    ")"
   ]
  },
  {
   "cell_type": "code",
   "execution_count": 11,
   "metadata": {
    "scrolled": true
   },
   "outputs": [
    {
     "name": "stdout",
     "output_type": "stream",
     "text": [
      "New https://pypi.org/project/ultralytics/8.3.118 available  Update with 'pip install -U ultralytics'\n",
      "Ultralytics 8.3.115  Python-3.10.16 torch-2.7.0+cu118 CUDA:0 (NVIDIA GeForce RTX 3080, 10240MiB)\n",
      "\u001b[34m\u001b[1mengine\\trainer: \u001b[0mtask=detect, mode=train, model=C:/Users/joons/workspace/final_project\\pretrained_model\\yolo11s.pt, data=C:/Users/joons/workspace/final_project\\dataset\\coco8.yaml, epochs=200, time=None, patience=20, batch=32, imgsz=640, save=True, save_period=-1, cache=False, device=None, workers=8, project=C:/Users/joons/workspace/final_project\\runs, name=epoch200_final, exist_ok=False, pretrained=True, optimizer=AdamW, verbose=True, seed=0, deterministic=True, single_cls=False, rect=False, cos_lr=False, close_mosaic=10, resume=False, amp=True, fraction=1.0, profile=False, freeze=None, multi_scale=False, overlap_mask=True, mask_ratio=4, dropout=0.0, val=True, split=val, save_json=False, conf=None, iou=0.7, max_det=300, half=False, dnn=False, plots=True, source=None, vid_stride=1, stream_buffer=False, visualize=False, augment=False, agnostic_nms=False, classes=None, retina_masks=False, embed=None, show=False, save_frames=False, save_txt=False, save_conf=False, save_crop=False, show_labels=True, show_conf=True, show_boxes=True, line_width=None, format=torchscript, keras=False, optimize=False, int8=False, dynamic=False, simplify=True, opset=None, workspace=None, nms=False, lr0=0.01, lrf=0.01, momentum=0.8797, weight_decay=0.0005, warmup_epochs=3.0, warmup_momentum=0.8, warmup_bias_lr=0.1, box=7.5, cls=0.5, dfl=1.5, pose=12.0, kobj=1.0, nbs=64, hsv_h=0.015, hsv_s=0.7, hsv_v=0.4, degrees=0.0, translate=0.1, scale=0.33761, shear=0.0, perspective=0.0, flipud=0.0, fliplr=0.37146, bgr=0.0, mosaic=0.8473, mixup=0.0, copy_paste=0.0, copy_paste_mode=flip, auto_augment=randaugment, erasing=0.4, cfg=None, tracker=botsort.yaml, save_dir=C:\\Users\\joons\\workspace\\final_project\\runs\\epoch200_final\n",
      "Overriding model.yaml nc=80 with nc=1\n",
      "\n",
      "                   from  n    params  module                                       arguments                     \n",
      "  0                  -1  1       928  ultralytics.nn.modules.conv.Conv             [3, 32, 3, 2]                 \n",
      "  1                  -1  1     18560  ultralytics.nn.modules.conv.Conv             [32, 64, 3, 2]                \n",
      "  2                  -1  1     26080  ultralytics.nn.modules.block.C3k2            [64, 128, 1, False, 0.25]     \n",
      "  3                  -1  1    147712  ultralytics.nn.modules.conv.Conv             [128, 128, 3, 2]              \n",
      "  4                  -1  1    103360  ultralytics.nn.modules.block.C3k2            [128, 256, 1, False, 0.25]    \n",
      "  5                  -1  1    590336  ultralytics.nn.modules.conv.Conv             [256, 256, 3, 2]              \n",
      "  6                  -1  1    346112  ultralytics.nn.modules.block.C3k2            [256, 256, 1, True]           \n",
      "  7                  -1  1   1180672  ultralytics.nn.modules.conv.Conv             [256, 512, 3, 2]              \n",
      "  8                  -1  1   1380352  ultralytics.nn.modules.block.C3k2            [512, 512, 1, True]           \n",
      "  9                  -1  1    656896  ultralytics.nn.modules.block.SPPF            [512, 512, 5]                 \n",
      " 10                  -1  1    990976  ultralytics.nn.modules.block.C2PSA           [512, 512, 1]                 \n",
      " 11                  -1  1         0  torch.nn.modules.upsampling.Upsample         [None, 2, 'nearest']          \n",
      " 12             [-1, 6]  1         0  ultralytics.nn.modules.conv.Concat           [1]                           \n",
      " 13                  -1  1    443776  ultralytics.nn.modules.block.C3k2            [768, 256, 1, False]          \n",
      " 14                  -1  1         0  torch.nn.modules.upsampling.Upsample         [None, 2, 'nearest']          \n",
      " 15             [-1, 4]  1         0  ultralytics.nn.modules.conv.Concat           [1]                           \n",
      " 16                  -1  1    127680  ultralytics.nn.modules.block.C3k2            [512, 128, 1, False]          \n",
      " 17                  -1  1    147712  ultralytics.nn.modules.conv.Conv             [128, 128, 3, 2]              \n",
      " 18            [-1, 13]  1         0  ultralytics.nn.modules.conv.Concat           [1]                           \n",
      " 19                  -1  1    345472  ultralytics.nn.modules.block.C3k2            [384, 256, 1, False]          \n",
      " 20                  -1  1    590336  ultralytics.nn.modules.conv.Conv             [256, 256, 3, 2]              \n",
      " 21            [-1, 10]  1         0  ultralytics.nn.modules.conv.Concat           [1]                           \n",
      " 22                  -1  1   1511424  ultralytics.nn.modules.block.C3k2            [768, 512, 1, True]           \n",
      " 23        [16, 19, 22]  1    819795  ultralytics.nn.modules.head.Detect           [1, [128, 256, 512]]          \n",
      "YOLO11s summary: 181 layers, 9,428,179 parameters, 9,428,163 gradients, 21.5 GFLOPs\n",
      "\n",
      "Transferred 493/499 items from pretrained weights\n",
      "Freezing layer 'model.23.dfl.conv.weight'\n",
      "\u001b[34m\u001b[1mAMP: \u001b[0mrunning Automatic Mixed Precision (AMP) checks...\n",
      "\u001b[34m\u001b[1mAMP: \u001b[0mchecks passed \n",
      "\u001b[34m\u001b[1mtrain: \u001b[0mFast image access  (ping: 0.10.0 ms, read: 872.833.4 MB/s, size: 4174.0 KB)\n"
     ]
    },
    {
     "name": "stderr",
     "output_type": "stream",
     "text": [
      "\u001b[34m\u001b[1mtrain: \u001b[0mScanning C:\\Users\\joons\\workspace\\final_project\\dataset\\labels\\train.cache... 20806 images, 61 backgrounds, 0 co\u001b[0m\n"
     ]
    },
    {
     "name": "stdout",
     "output_type": "stream",
     "text": [
      "\u001b[34m\u001b[1mval: \u001b[0mFast image access  (ping: 0.30.1 ms, read: 313.2104.2 MB/s, size: 4158.6 KB)\n"
     ]
    },
    {
     "name": "stderr",
     "output_type": "stream",
     "text": [
      "\u001b[34m\u001b[1mval: \u001b[0mScanning C:\\Users\\joons\\workspace\\final_project\\dataset\\labels\\val.cache... 5869 images, 17 backgrounds, 0 corrupt\u001b[0m\n"
     ]
    },
    {
     "name": "stdout",
     "output_type": "stream",
     "text": [
      "Plotting labels to C:\\Users\\joons\\workspace\\final_project\\runs\\epoch200_final\\labels.jpg... \n",
      "\u001b[34m\u001b[1moptimizer:\u001b[0m AdamW(lr=0.01, momentum=0.8797) with parameter groups 81 weight(decay=0.0), 88 weight(decay=0.0005), 87 bias(decay=0.0)\n",
      "Image sizes 640 train, 640 val\n",
      "Using 8 dataloader workers\n",
      "Logging results to \u001b[1mC:\\Users\\joons\\workspace\\final_project\\runs\\epoch200_final\u001b[0m\n",
      "Starting training for 200 epochs...\n",
      "\n",
      "      Epoch    GPU_mem   box_loss   cls_loss   dfl_loss  Instances       Size\n"
     ]
    },
    {
     "name": "stderr",
     "output_type": "stream",
     "text": [
      "      1/200      8.02G     0.6581     0.4621     0.8637         78        640: 100%|██████████| 651/651 [02:43<00:00,  \n",
      "                 Class     Images  Instances      Box(P          R      mAP50  mAP50-95): 100%|██████████| 92/92 [00:31\n"
     ]
    },
    {
     "name": "stdout",
     "output_type": "stream",
     "text": [
      "                   all       5869      64101      0.976      0.922      0.964      0.811\n",
      "\n",
      "      Epoch    GPU_mem   box_loss   cls_loss   dfl_loss  Instances       Size\n"
     ]
    },
    {
     "name": "stderr",
     "output_type": "stream",
     "text": [
      "      2/200      7.83G     0.6028     0.3726     0.8533        103        640: 100%|██████████| 651/651 [02:36<00:00,  \n",
      "                 Class     Images  Instances      Box(P          R      mAP50  mAP50-95): 100%|██████████| 92/92 [00:30"
     ]
    },
    {
     "name": "stdout",
     "output_type": "stream",
     "text": [
      "                   all       5869      64101      0.976      0.952      0.981      0.874\n"
     ]
    },
    {
     "name": "stderr",
     "output_type": "stream",
     "text": [
      "\n"
     ]
    },
    {
     "name": "stdout",
     "output_type": "stream",
     "text": [
      "\n",
      "      Epoch    GPU_mem   box_loss   cls_loss   dfl_loss  Instances       Size\n"
     ]
    },
    {
     "name": "stderr",
     "output_type": "stream",
     "text": [
      "      3/200      7.89G     0.5718     0.3466     0.8443         91        640: 100%|██████████| 651/651 [02:29<00:00,  \n",
      "                 Class     Images  Instances      Box(P          R      mAP50  mAP50-95): 100%|██████████| 92/92 [00:30\n"
     ]
    },
    {
     "name": "stdout",
     "output_type": "stream",
     "text": [
      "                   all       5869      64101      0.975      0.949       0.98      0.862\n",
      "\n",
      "      Epoch    GPU_mem   box_loss   cls_loss   dfl_loss  Instances       Size\n"
     ]
    },
    {
     "name": "stderr",
     "output_type": "stream",
     "text": [
      "      4/200      7.76G     0.5503     0.3323     0.8396        132        640: 100%|██████████| 651/651 [02:29<00:00,  \n",
      "                 Class     Images  Instances      Box(P          R      mAP50  mAP50-95): 100%|██████████| 92/92 [00:30"
     ]
    },
    {
     "name": "stdout",
     "output_type": "stream",
     "text": [
      "                   all       5869      64101      0.979       0.95      0.981      0.886\n"
     ]
    },
    {
     "name": "stderr",
     "output_type": "stream",
     "text": [
      "\n"
     ]
    },
    {
     "name": "stdout",
     "output_type": "stream",
     "text": [
      "\n",
      "      Epoch    GPU_mem   box_loss   cls_loss   dfl_loss  Instances       Size\n"
     ]
    },
    {
     "name": "stderr",
     "output_type": "stream",
     "text": [
      "      5/200      7.87G     0.5273     0.3149     0.8357         81        640: 100%|██████████| 651/651 [02:29<00:00,  \n",
      "                 Class     Images  Instances      Box(P          R      mAP50  mAP50-95): 100%|██████████| 92/92 [00:30"
     ]
    },
    {
     "name": "stdout",
     "output_type": "stream",
     "text": [
      "                   all       5869      64101      0.981      0.956      0.986        0.9\n"
     ]
    },
    {
     "name": "stderr",
     "output_type": "stream",
     "text": [
      "\n"
     ]
    },
    {
     "name": "stdout",
     "output_type": "stream",
     "text": [
      "\n",
      "      Epoch    GPU_mem   box_loss   cls_loss   dfl_loss  Instances       Size\n"
     ]
    },
    {
     "name": "stderr",
     "output_type": "stream",
     "text": [
      "      6/200      7.84G     0.5135     0.3053     0.8324         93        640: 100%|██████████| 651/651 [02:28<00:00,  \n",
      "                 Class     Images  Instances      Box(P          R      mAP50  mAP50-95): 100%|██████████| 92/92 [00:30"
     ]
    },
    {
     "name": "stdout",
     "output_type": "stream",
     "text": [
      "                   all       5869      64101      0.981      0.955      0.986      0.905\n"
     ]
    },
    {
     "name": "stderr",
     "output_type": "stream",
     "text": [
      "\n"
     ]
    },
    {
     "name": "stdout",
     "output_type": "stream",
     "text": [
      "\n",
      "      Epoch    GPU_mem   box_loss   cls_loss   dfl_loss  Instances       Size\n"
     ]
    },
    {
     "name": "stderr",
     "output_type": "stream",
     "text": [
      "      7/200      7.89G     0.4994     0.2975     0.8294        121        640: 100%|██████████| 651/651 [02:28<00:00,  \n",
      "                 Class     Images  Instances      Box(P          R      mAP50  mAP50-95): 100%|██████████| 92/92 [00:30"
     ]
    },
    {
     "name": "stdout",
     "output_type": "stream",
     "text": [
      "                   all       5869      64101      0.982      0.956      0.987      0.908\n"
     ]
    },
    {
     "name": "stderr",
     "output_type": "stream",
     "text": [
      "\n"
     ]
    },
    {
     "name": "stdout",
     "output_type": "stream",
     "text": [
      "\n",
      "      Epoch    GPU_mem   box_loss   cls_loss   dfl_loss  Instances       Size\n"
     ]
    },
    {
     "name": "stderr",
     "output_type": "stream",
     "text": [
      "      8/200      8.03G     0.4895     0.2902     0.8276        102        640: 100%|██████████| 651/651 [02:28<00:00,  \n",
      "                 Class     Images  Instances      Box(P          R      mAP50  mAP50-95): 100%|██████████| 92/92 [00:30"
     ]
    },
    {
     "name": "stdout",
     "output_type": "stream",
     "text": [
      "                   all       5869      64101      0.981      0.956      0.988      0.915\n"
     ]
    },
    {
     "name": "stderr",
     "output_type": "stream",
     "text": [
      "\n"
     ]
    },
    {
     "name": "stdout",
     "output_type": "stream",
     "text": [
      "\n",
      "      Epoch    GPU_mem   box_loss   cls_loss   dfl_loss  Instances       Size\n"
     ]
    },
    {
     "name": "stderr",
     "output_type": "stream",
     "text": [
      "      9/200      7.85G     0.4834     0.2848     0.8258         73        640: 100%|██████████| 651/651 [02:28<00:00,  \n",
      "                 Class     Images  Instances      Box(P          R      mAP50  mAP50-95): 100%|██████████| 92/92 [00:30"
     ]
    },
    {
     "name": "stdout",
     "output_type": "stream",
     "text": [
      "                   all       5869      64101      0.983      0.955      0.987      0.914\n"
     ]
    },
    {
     "name": "stderr",
     "output_type": "stream",
     "text": [
      "\n"
     ]
    },
    {
     "name": "stdout",
     "output_type": "stream",
     "text": [
      "\n",
      "      Epoch    GPU_mem   box_loss   cls_loss   dfl_loss  Instances       Size\n"
     ]
    },
    {
     "name": "stderr",
     "output_type": "stream",
     "text": [
      "     10/200      7.78G     0.4765      0.279     0.8241         80        640: 100%|██████████| 651/651 [02:29<00:00,  \n",
      "                 Class     Images  Instances      Box(P          R      mAP50  mAP50-95): 100%|██████████| 92/92 [00:30"
     ]
    },
    {
     "name": "stdout",
     "output_type": "stream",
     "text": [
      "                   all       5869      64101      0.983      0.958      0.988      0.919\n"
     ]
    },
    {
     "name": "stderr",
     "output_type": "stream",
     "text": [
      "\n"
     ]
    },
    {
     "name": "stdout",
     "output_type": "stream",
     "text": [
      "\n",
      "      Epoch    GPU_mem   box_loss   cls_loss   dfl_loss  Instances       Size\n"
     ]
    },
    {
     "name": "stderr",
     "output_type": "stream",
     "text": [
      "     11/200      7.88G     0.4722     0.2777     0.8236         80        640: 100%|██████████| 651/651 [02:29<00:00,  \n",
      "                 Class     Images  Instances      Box(P          R      mAP50  mAP50-95): 100%|██████████| 92/92 [00:30"
     ]
    },
    {
     "name": "stdout",
     "output_type": "stream",
     "text": [
      "                   all       5869      64101      0.981       0.96      0.989       0.92\n"
     ]
    },
    {
     "name": "stderr",
     "output_type": "stream",
     "text": [
      "\n"
     ]
    },
    {
     "name": "stdout",
     "output_type": "stream",
     "text": [
      "\n",
      "      Epoch    GPU_mem   box_loss   cls_loss   dfl_loss  Instances       Size\n"
     ]
    },
    {
     "name": "stderr",
     "output_type": "stream",
     "text": [
      "     12/200      7.79G     0.4689     0.2753     0.8224        115        640: 100%|██████████| 651/651 [02:29<00:00,  \n",
      "                 Class     Images  Instances      Box(P          R      mAP50  mAP50-95): 100%|██████████| 92/92 [00:30"
     ]
    },
    {
     "name": "stdout",
     "output_type": "stream",
     "text": [
      "                   all       5869      64101      0.983      0.958      0.989       0.92\n"
     ]
    },
    {
     "name": "stderr",
     "output_type": "stream",
     "text": [
      "\n"
     ]
    },
    {
     "name": "stdout",
     "output_type": "stream",
     "text": [
      "\n",
      "      Epoch    GPU_mem   box_loss   cls_loss   dfl_loss  Instances       Size\n"
     ]
    },
    {
     "name": "stderr",
     "output_type": "stream",
     "text": [
      "     13/200      7.89G     0.4624     0.2722     0.8212         97        640: 100%|██████████| 651/651 [02:29<00:00,  \n",
      "                 Class     Images  Instances      Box(P          R      mAP50  mAP50-95): 100%|██████████| 92/92 [00:30"
     ]
    },
    {
     "name": "stdout",
     "output_type": "stream",
     "text": [
      "                   all       5869      64101      0.984      0.959      0.989      0.926\n"
     ]
    },
    {
     "name": "stderr",
     "output_type": "stream",
     "text": [
      "\n"
     ]
    },
    {
     "name": "stdout",
     "output_type": "stream",
     "text": [
      "\n",
      "      Epoch    GPU_mem   box_loss   cls_loss   dfl_loss  Instances       Size\n"
     ]
    },
    {
     "name": "stderr",
     "output_type": "stream",
     "text": [
      "     14/200      7.78G     0.4592     0.2678      0.821        107        640: 100%|██████████| 651/651 [02:28<00:00,  \n",
      "                 Class     Images  Instances      Box(P          R      mAP50  mAP50-95): 100%|██████████| 92/92 [00:30"
     ]
    },
    {
     "name": "stdout",
     "output_type": "stream",
     "text": [
      "                   all       5869      64101      0.983      0.961       0.99      0.926\n"
     ]
    },
    {
     "name": "stderr",
     "output_type": "stream",
     "text": [
      "\n"
     ]
    },
    {
     "name": "stdout",
     "output_type": "stream",
     "text": [
      "\n",
      "      Epoch    GPU_mem   box_loss   cls_loss   dfl_loss  Instances       Size\n"
     ]
    },
    {
     "name": "stderr",
     "output_type": "stream",
     "text": [
      "     15/200      7.98G     0.4562     0.2674       0.82         70        640: 100%|██████████| 651/651 [02:28<00:00,  \n",
      "                 Class     Images  Instances      Box(P          R      mAP50  mAP50-95): 100%|██████████| 92/92 [00:30"
     ]
    },
    {
     "name": "stdout",
     "output_type": "stream",
     "text": [
      "                   all       5869      64101      0.983      0.959       0.99      0.929\n"
     ]
    },
    {
     "name": "stderr",
     "output_type": "stream",
     "text": [
      "\n"
     ]
    },
    {
     "name": "stdout",
     "output_type": "stream",
     "text": [
      "\n",
      "      Epoch    GPU_mem   box_loss   cls_loss   dfl_loss  Instances       Size\n"
     ]
    },
    {
     "name": "stderr",
     "output_type": "stream",
     "text": [
      "     16/200      7.78G     0.4513      0.264     0.8191        113        640: 100%|██████████| 651/651 [02:28<00:00,  \n",
      "                 Class     Images  Instances      Box(P          R      mAP50  mAP50-95): 100%|██████████| 92/92 [00:30"
     ]
    },
    {
     "name": "stdout",
     "output_type": "stream",
     "text": [
      "                   all       5869      64101      0.982       0.96       0.99      0.929\n"
     ]
    },
    {
     "name": "stderr",
     "output_type": "stream",
     "text": [
      "\n"
     ]
    },
    {
     "name": "stdout",
     "output_type": "stream",
     "text": [
      "\n",
      "      Epoch    GPU_mem   box_loss   cls_loss   dfl_loss  Instances       Size\n"
     ]
    },
    {
     "name": "stderr",
     "output_type": "stream",
     "text": [
      "     17/200      7.81G     0.4506     0.2625     0.8189        113        640: 100%|██████████| 651/651 [02:28<00:00,  \n",
      "                 Class     Images  Instances      Box(P          R      mAP50  mAP50-95): 100%|██████████| 92/92 [00:30"
     ]
    },
    {
     "name": "stdout",
     "output_type": "stream",
     "text": [
      "                   all       5869      64101      0.982      0.962       0.99      0.931\n"
     ]
    },
    {
     "name": "stderr",
     "output_type": "stream",
     "text": [
      "\n"
     ]
    },
    {
     "name": "stdout",
     "output_type": "stream",
     "text": [
      "\n",
      "      Epoch    GPU_mem   box_loss   cls_loss   dfl_loss  Instances       Size\n"
     ]
    },
    {
     "name": "stderr",
     "output_type": "stream",
     "text": [
      "     18/200      7.78G     0.4449     0.2585     0.8179        104        640: 100%|██████████| 651/651 [02:28<00:00,  \n",
      "                 Class     Images  Instances      Box(P          R      mAP50  mAP50-95): 100%|██████████| 92/92 [00:30"
     ]
    },
    {
     "name": "stdout",
     "output_type": "stream",
     "text": [
      "                   all       5869      64101      0.984       0.96       0.99      0.934\n"
     ]
    },
    {
     "name": "stderr",
     "output_type": "stream",
     "text": [
      "\n"
     ]
    },
    {
     "name": "stdout",
     "output_type": "stream",
     "text": [
      "\n",
      "      Epoch    GPU_mem   box_loss   cls_loss   dfl_loss  Instances       Size\n"
     ]
    },
    {
     "name": "stderr",
     "output_type": "stream",
     "text": [
      "     19/200      7.81G      0.446     0.2581     0.8176         80        640: 100%|██████████| 651/651 [02:28<00:00,  \n",
      "                 Class     Images  Instances      Box(P          R      mAP50  mAP50-95): 100%|██████████| 92/92 [00:30"
     ]
    },
    {
     "name": "stdout",
     "output_type": "stream",
     "text": [
      "                   all       5869      64101      0.983      0.962      0.991      0.932\n"
     ]
    },
    {
     "name": "stderr",
     "output_type": "stream",
     "text": [
      "\n"
     ]
    },
    {
     "name": "stdout",
     "output_type": "stream",
     "text": [
      "\n",
      "      Epoch    GPU_mem   box_loss   cls_loss   dfl_loss  Instances       Size\n"
     ]
    },
    {
     "name": "stderr",
     "output_type": "stream",
     "text": [
      "     20/200      8.08G      0.442     0.2567     0.8178        116        640: 100%|██████████| 651/651 [02:28<00:00,  \n",
      "                 Class     Images  Instances      Box(P          R      mAP50  mAP50-95): 100%|██████████| 92/92 [00:30"
     ]
    },
    {
     "name": "stdout",
     "output_type": "stream",
     "text": [
      "                   all       5869      64101      0.983      0.961       0.99      0.933\n"
     ]
    },
    {
     "name": "stderr",
     "output_type": "stream",
     "text": [
      "\n"
     ]
    },
    {
     "name": "stdout",
     "output_type": "stream",
     "text": [
      "\n",
      "      Epoch    GPU_mem   box_loss   cls_loss   dfl_loss  Instances       Size\n"
     ]
    },
    {
     "name": "stderr",
     "output_type": "stream",
     "text": [
      "     21/200      8.07G     0.4389     0.2552     0.8161         76        640: 100%|██████████| 651/651 [02:28<00:00,  \n",
      "                 Class     Images  Instances      Box(P          R      mAP50  mAP50-95): 100%|██████████| 92/92 [00:30"
     ]
    },
    {
     "name": "stdout",
     "output_type": "stream",
     "text": [
      "                   all       5869      64101      0.984       0.96      0.991      0.934\n"
     ]
    },
    {
     "name": "stderr",
     "output_type": "stream",
     "text": [
      "\n"
     ]
    },
    {
     "name": "stdout",
     "output_type": "stream",
     "text": [
      "\n",
      "      Epoch    GPU_mem   box_loss   cls_loss   dfl_loss  Instances       Size\n"
     ]
    },
    {
     "name": "stderr",
     "output_type": "stream",
     "text": [
      "     22/200      7.87G     0.4375     0.2526     0.8157        111        640: 100%|██████████| 651/651 [02:28<00:00,  \n",
      "                 Class     Images  Instances      Box(P          R      mAP50  mAP50-95): 100%|██████████| 92/92 [00:30"
     ]
    },
    {
     "name": "stdout",
     "output_type": "stream",
     "text": [
      "                   all       5869      64101      0.985      0.961      0.991      0.936\n"
     ]
    },
    {
     "name": "stderr",
     "output_type": "stream",
     "text": [
      "\n"
     ]
    },
    {
     "name": "stdout",
     "output_type": "stream",
     "text": [
      "\n",
      "      Epoch    GPU_mem   box_loss   cls_loss   dfl_loss  Instances       Size\n"
     ]
    },
    {
     "name": "stderr",
     "output_type": "stream",
     "text": [
      "     23/200      7.81G     0.4343      0.252     0.8155         70        640: 100%|██████████| 651/651 [02:28<00:00,  \n",
      "                 Class     Images  Instances      Box(P          R      mAP50  mAP50-95): 100%|██████████| 92/92 [00:30"
     ]
    },
    {
     "name": "stdout",
     "output_type": "stream",
     "text": [
      "                   all       5869      64101      0.983      0.962      0.991      0.936\n"
     ]
    },
    {
     "name": "stderr",
     "output_type": "stream",
     "text": [
      "\n"
     ]
    },
    {
     "name": "stdout",
     "output_type": "stream",
     "text": [
      "\n",
      "      Epoch    GPU_mem   box_loss   cls_loss   dfl_loss  Instances       Size\n"
     ]
    },
    {
     "name": "stderr",
     "output_type": "stream",
     "text": [
      "     24/200       7.8G     0.4334     0.2503     0.8153        108        640: 100%|██████████| 651/651 [02:28<00:00,  \n",
      "                 Class     Images  Instances      Box(P          R      mAP50  mAP50-95): 100%|██████████| 92/92 [00:30"
     ]
    },
    {
     "name": "stdout",
     "output_type": "stream",
     "text": [
      "                   all       5869      64101      0.984      0.962      0.991      0.937\n"
     ]
    },
    {
     "name": "stderr",
     "output_type": "stream",
     "text": [
      "\n"
     ]
    },
    {
     "name": "stdout",
     "output_type": "stream",
     "text": [
      "\n",
      "      Epoch    GPU_mem   box_loss   cls_loss   dfl_loss  Instances       Size\n"
     ]
    },
    {
     "name": "stderr",
     "output_type": "stream",
     "text": [
      "     25/200      7.81G     0.4299     0.2488      0.814        110        640: 100%|██████████| 651/651 [02:28<00:00,  \n",
      "                 Class     Images  Instances      Box(P          R      mAP50  mAP50-95): 100%|██████████| 92/92 [00:30"
     ]
    },
    {
     "name": "stdout",
     "output_type": "stream",
     "text": [
      "                   all       5869      64101      0.983      0.964      0.991      0.938\n"
     ]
    },
    {
     "name": "stderr",
     "output_type": "stream",
     "text": [
      "\n"
     ]
    },
    {
     "name": "stdout",
     "output_type": "stream",
     "text": [
      "\n",
      "      Epoch    GPU_mem   box_loss   cls_loss   dfl_loss  Instances       Size\n"
     ]
    },
    {
     "name": "stderr",
     "output_type": "stream",
     "text": [
      "     26/200      7.76G     0.4301      0.249     0.8143         92        640: 100%|██████████| 651/651 [02:28<00:00,  \n",
      "                 Class     Images  Instances      Box(P          R      mAP50  mAP50-95): 100%|██████████| 92/92 [00:30"
     ]
    },
    {
     "name": "stdout",
     "output_type": "stream",
     "text": [
      "                   all       5869      64101      0.984      0.963      0.991      0.938\n"
     ]
    },
    {
     "name": "stderr",
     "output_type": "stream",
     "text": [
      "\n"
     ]
    },
    {
     "name": "stdout",
     "output_type": "stream",
     "text": [
      "\n",
      "      Epoch    GPU_mem   box_loss   cls_loss   dfl_loss  Instances       Size\n"
     ]
    },
    {
     "name": "stderr",
     "output_type": "stream",
     "text": [
      "     27/200      7.86G      0.427     0.2471     0.8139         95        640: 100%|██████████| 651/651 [02:28<00:00,  \n",
      "                 Class     Images  Instances      Box(P          R      mAP50  mAP50-95): 100%|██████████| 92/92 [00:30"
     ]
    },
    {
     "name": "stdout",
     "output_type": "stream",
     "text": [
      "                   all       5869      64101      0.984      0.963      0.991      0.938\n"
     ]
    },
    {
     "name": "stderr",
     "output_type": "stream",
     "text": [
      "\n"
     ]
    },
    {
     "name": "stdout",
     "output_type": "stream",
     "text": [
      "\n",
      "      Epoch    GPU_mem   box_loss   cls_loss   dfl_loss  Instances       Size\n"
     ]
    },
    {
     "name": "stderr",
     "output_type": "stream",
     "text": [
      "     28/200      7.77G     0.4262      0.246     0.8134        100        640: 100%|██████████| 651/651 [02:28<00:00,  \n",
      "                 Class     Images  Instances      Box(P          R      mAP50  mAP50-95): 100%|██████████| 92/92 [00:30"
     ]
    },
    {
     "name": "stdout",
     "output_type": "stream",
     "text": [
      "                   all       5869      64101      0.985      0.962      0.991       0.94\n"
     ]
    },
    {
     "name": "stderr",
     "output_type": "stream",
     "text": [
      "\n"
     ]
    },
    {
     "name": "stdout",
     "output_type": "stream",
     "text": [
      "\n",
      "      Epoch    GPU_mem   box_loss   cls_loss   dfl_loss  Instances       Size\n"
     ]
    },
    {
     "name": "stderr",
     "output_type": "stream",
     "text": [
      "     29/200      7.86G     0.4237     0.2445     0.8135         78        640: 100%|██████████| 651/651 [02:28<00:00,  \n",
      "                 Class     Images  Instances      Box(P          R      mAP50  mAP50-95): 100%|██████████| 92/92 [00:30"
     ]
    },
    {
     "name": "stdout",
     "output_type": "stream",
     "text": [
      "                   all       5869      64101      0.984      0.963      0.991       0.94\n"
     ]
    },
    {
     "name": "stderr",
     "output_type": "stream",
     "text": [
      "\n"
     ]
    },
    {
     "name": "stdout",
     "output_type": "stream",
     "text": [
      "\n",
      "      Epoch    GPU_mem   box_loss   cls_loss   dfl_loss  Instances       Size\n"
     ]
    },
    {
     "name": "stderr",
     "output_type": "stream",
     "text": [
      "     30/200      7.79G     0.4215     0.2436     0.8126         97        640: 100%|██████████| 651/651 [02:28<00:00,  \n",
      "                 Class     Images  Instances      Box(P          R      mAP50  mAP50-95): 100%|██████████| 92/92 [00:30"
     ]
    },
    {
     "name": "stdout",
     "output_type": "stream",
     "text": [
      "                   all       5869      64101      0.985      0.962      0.991      0.941\n"
     ]
    },
    {
     "name": "stderr",
     "output_type": "stream",
     "text": [
      "\n"
     ]
    },
    {
     "name": "stdout",
     "output_type": "stream",
     "text": [
      "\n",
      "      Epoch    GPU_mem   box_loss   cls_loss   dfl_loss  Instances       Size\n"
     ]
    },
    {
     "name": "stderr",
     "output_type": "stream",
     "text": [
      "     31/200      7.81G     0.4203     0.2426      0.813         76        640: 100%|██████████| 651/651 [02:28<00:00,  \n",
      "                 Class     Images  Instances      Box(P          R      mAP50  mAP50-95): 100%|██████████| 92/92 [00:30"
     ]
    },
    {
     "name": "stdout",
     "output_type": "stream",
     "text": [
      "                   all       5869      64101      0.983      0.964      0.991      0.941\n"
     ]
    },
    {
     "name": "stderr",
     "output_type": "stream",
     "text": [
      "\n"
     ]
    },
    {
     "name": "stdout",
     "output_type": "stream",
     "text": [
      "\n",
      "      Epoch    GPU_mem   box_loss   cls_loss   dfl_loss  Instances       Size\n"
     ]
    },
    {
     "name": "stderr",
     "output_type": "stream",
     "text": [
      "     32/200      7.77G     0.4175     0.2409     0.8122        109        640: 100%|██████████| 651/651 [02:28<00:00,  \n",
      "                 Class     Images  Instances      Box(P          R      mAP50  mAP50-95): 100%|██████████| 92/92 [00:30"
     ]
    },
    {
     "name": "stdout",
     "output_type": "stream",
     "text": [
      "                   all       5869      64101      0.984      0.964      0.991      0.941\n"
     ]
    },
    {
     "name": "stderr",
     "output_type": "stream",
     "text": [
      "\n"
     ]
    },
    {
     "name": "stdout",
     "output_type": "stream",
     "text": [
      "\n",
      "      Epoch    GPU_mem   box_loss   cls_loss   dfl_loss  Instances       Size\n"
     ]
    },
    {
     "name": "stderr",
     "output_type": "stream",
     "text": [
      "     33/200      7.81G     0.4175     0.2406     0.8116         97        640: 100%|██████████| 651/651 [02:28<00:00,  \n",
      "                 Class     Images  Instances      Box(P          R      mAP50  mAP50-95): 100%|██████████| 92/92 [00:30"
     ]
    },
    {
     "name": "stdout",
     "output_type": "stream",
     "text": [
      "                   all       5869      64101      0.985      0.963      0.992      0.942\n"
     ]
    },
    {
     "name": "stderr",
     "output_type": "stream",
     "text": [
      "\n"
     ]
    },
    {
     "name": "stdout",
     "output_type": "stream",
     "text": [
      "\n",
      "      Epoch    GPU_mem   box_loss   cls_loss   dfl_loss  Instances       Size\n"
     ]
    },
    {
     "name": "stderr",
     "output_type": "stream",
     "text": [
      "     34/200      7.93G      0.416     0.2399     0.8114        137        640: 100%|██████████| 651/651 [02:28<00:00,  \n",
      "                 Class     Images  Instances      Box(P          R      mAP50  mAP50-95): 100%|██████████| 92/92 [00:30"
     ]
    },
    {
     "name": "stdout",
     "output_type": "stream",
     "text": [
      "                   all       5869      64101      0.984      0.964      0.992      0.943\n"
     ]
    },
    {
     "name": "stderr",
     "output_type": "stream",
     "text": [
      "\n"
     ]
    },
    {
     "name": "stdout",
     "output_type": "stream",
     "text": [
      "\n",
      "      Epoch    GPU_mem   box_loss   cls_loss   dfl_loss  Instances       Size\n"
     ]
    },
    {
     "name": "stderr",
     "output_type": "stream",
     "text": [
      "     35/200      7.84G      0.415     0.2403     0.8112        118        640: 100%|██████████| 651/651 [02:28<00:00,  \n",
      "                 Class     Images  Instances      Box(P          R      mAP50  mAP50-95): 100%|██████████| 92/92 [00:30"
     ]
    },
    {
     "name": "stdout",
     "output_type": "stream",
     "text": [
      "                   all       5869      64101      0.985      0.963      0.992      0.943\n"
     ]
    },
    {
     "name": "stderr",
     "output_type": "stream",
     "text": [
      "\n"
     ]
    },
    {
     "name": "stdout",
     "output_type": "stream",
     "text": [
      "\n",
      "      Epoch    GPU_mem   box_loss   cls_loss   dfl_loss  Instances       Size\n"
     ]
    },
    {
     "name": "stderr",
     "output_type": "stream",
     "text": [
      "     36/200      7.79G     0.4121     0.2377     0.8109        130        640: 100%|██████████| 651/651 [02:28<00:00,  \n",
      "                 Class     Images  Instances      Box(P          R      mAP50  mAP50-95): 100%|██████████| 92/92 [00:30"
     ]
    },
    {
     "name": "stdout",
     "output_type": "stream",
     "text": [
      "                   all       5869      64101      0.986      0.963      0.992      0.943\n"
     ]
    },
    {
     "name": "stderr",
     "output_type": "stream",
     "text": [
      "\n"
     ]
    },
    {
     "name": "stdout",
     "output_type": "stream",
     "text": [
      "\n",
      "      Epoch    GPU_mem   box_loss   cls_loss   dfl_loss  Instances       Size\n"
     ]
    },
    {
     "name": "stderr",
     "output_type": "stream",
     "text": [
      "     37/200      7.84G     0.4113     0.2365     0.8106        118        640: 100%|██████████| 651/651 [02:28<00:00,  \n",
      "                 Class     Images  Instances      Box(P          R      mAP50  mAP50-95): 100%|██████████| 92/92 [00:30"
     ]
    },
    {
     "name": "stdout",
     "output_type": "stream",
     "text": [
      "                   all       5869      64101      0.986      0.963      0.992      0.943\n"
     ]
    },
    {
     "name": "stderr",
     "output_type": "stream",
     "text": [
      "\n"
     ]
    },
    {
     "name": "stdout",
     "output_type": "stream",
     "text": [
      "\n",
      "      Epoch    GPU_mem   box_loss   cls_loss   dfl_loss  Instances       Size\n"
     ]
    },
    {
     "name": "stderr",
     "output_type": "stream",
     "text": [
      "     38/200      7.84G     0.4096     0.2361     0.8101        114        640: 100%|██████████| 651/651 [02:28<00:00,  \n",
      "                 Class     Images  Instances      Box(P          R      mAP50  mAP50-95): 100%|██████████| 92/92 [00:30"
     ]
    },
    {
     "name": "stdout",
     "output_type": "stream",
     "text": [
      "                   all       5869      64101      0.986      0.963      0.992      0.943\n"
     ]
    },
    {
     "name": "stderr",
     "output_type": "stream",
     "text": [
      "\n"
     ]
    },
    {
     "name": "stdout",
     "output_type": "stream",
     "text": [
      "\n",
      "      Epoch    GPU_mem   box_loss   cls_loss   dfl_loss  Instances       Size\n"
     ]
    },
    {
     "name": "stderr",
     "output_type": "stream",
     "text": [
      "     39/200      7.88G     0.4083     0.2359     0.8099         98        640: 100%|██████████| 651/651 [02:28<00:00,  \n",
      "                 Class     Images  Instances      Box(P          R      mAP50  mAP50-95): 100%|██████████| 92/92 [00:30"
     ]
    },
    {
     "name": "stdout",
     "output_type": "stream",
     "text": [
      "                   all       5869      64101      0.986      0.963      0.992      0.943\n"
     ]
    },
    {
     "name": "stderr",
     "output_type": "stream",
     "text": [
      "\n"
     ]
    },
    {
     "name": "stdout",
     "output_type": "stream",
     "text": [
      "\n",
      "      Epoch    GPU_mem   box_loss   cls_loss   dfl_loss  Instances       Size\n"
     ]
    },
    {
     "name": "stderr",
     "output_type": "stream",
     "text": [
      "     40/200      8.04G     0.4072     0.2347     0.8098        118        640: 100%|██████████| 651/651 [02:28<00:00,  \n",
      "                 Class     Images  Instances      Box(P          R      mAP50  mAP50-95): 100%|██████████| 92/92 [00:30"
     ]
    },
    {
     "name": "stdout",
     "output_type": "stream",
     "text": [
      "                   all       5869      64101      0.985      0.964      0.992      0.943\n"
     ]
    },
    {
     "name": "stderr",
     "output_type": "stream",
     "text": [
      "\n"
     ]
    },
    {
     "name": "stdout",
     "output_type": "stream",
     "text": [
      "\n",
      "      Epoch    GPU_mem   box_loss   cls_loss   dfl_loss  Instances       Size\n"
     ]
    },
    {
     "name": "stderr",
     "output_type": "stream",
     "text": [
      "     41/200      7.84G     0.4053     0.2329     0.8095         85        640: 100%|██████████| 651/651 [02:28<00:00,  \n",
      "                 Class     Images  Instances      Box(P          R      mAP50  mAP50-95): 100%|██████████| 92/92 [00:30"
     ]
    },
    {
     "name": "stdout",
     "output_type": "stream",
     "text": [
      "                   all       5869      64101      0.985      0.965      0.992      0.944\n"
     ]
    },
    {
     "name": "stderr",
     "output_type": "stream",
     "text": [
      "\n"
     ]
    },
    {
     "name": "stdout",
     "output_type": "stream",
     "text": [
      "\n",
      "      Epoch    GPU_mem   box_loss   cls_loss   dfl_loss  Instances       Size\n"
     ]
    },
    {
     "name": "stderr",
     "output_type": "stream",
     "text": [
      "     42/200      7.82G     0.4045     0.2329     0.8097        138        640: 100%|██████████| 651/651 [02:28<00:00,  \n",
      "                 Class     Images  Instances      Box(P          R      mAP50  mAP50-95): 100%|██████████| 92/92 [00:30"
     ]
    },
    {
     "name": "stdout",
     "output_type": "stream",
     "text": [
      "                   all       5869      64101      0.984      0.965      0.992      0.944\n"
     ]
    },
    {
     "name": "stderr",
     "output_type": "stream",
     "text": [
      "\n"
     ]
    },
    {
     "name": "stdout",
     "output_type": "stream",
     "text": [
      "\n",
      "      Epoch    GPU_mem   box_loss   cls_loss   dfl_loss  Instances       Size\n"
     ]
    },
    {
     "name": "stderr",
     "output_type": "stream",
     "text": [
      "     43/200       8.1G     0.4042     0.2327     0.8095        111        640: 100%|██████████| 651/651 [02:28<00:00,  \n",
      "                 Class     Images  Instances      Box(P          R      mAP50  mAP50-95): 100%|██████████| 92/92 [00:30"
     ]
    },
    {
     "name": "stdout",
     "output_type": "stream",
     "text": [
      "                   all       5869      64101      0.984      0.965      0.992      0.944\n"
     ]
    },
    {
     "name": "stderr",
     "output_type": "stream",
     "text": [
      "\n"
     ]
    },
    {
     "name": "stdout",
     "output_type": "stream",
     "text": [
      "\n",
      "      Epoch    GPU_mem   box_loss   cls_loss   dfl_loss  Instances       Size\n"
     ]
    },
    {
     "name": "stderr",
     "output_type": "stream",
     "text": [
      "     44/200       7.8G     0.4049     0.2321     0.8092        128        640: 100%|██████████| 651/651 [02:28<00:00,  \n",
      "                 Class     Images  Instances      Box(P          R      mAP50  mAP50-95): 100%|██████████| 92/92 [00:30"
     ]
    },
    {
     "name": "stdout",
     "output_type": "stream",
     "text": [
      "                   all       5869      64101      0.985      0.964      0.992      0.944\n"
     ]
    },
    {
     "name": "stderr",
     "output_type": "stream",
     "text": [
      "\n"
     ]
    },
    {
     "name": "stdout",
     "output_type": "stream",
     "text": [
      "\n",
      "      Epoch    GPU_mem   box_loss   cls_loss   dfl_loss  Instances       Size\n"
     ]
    },
    {
     "name": "stderr",
     "output_type": "stream",
     "text": [
      "     45/200      7.81G     0.4039     0.2327      0.809         81        640: 100%|██████████| 651/651 [02:28<00:00,  \n",
      "                 Class     Images  Instances      Box(P          R      mAP50  mAP50-95): 100%|██████████| 92/92 [00:30"
     ]
    },
    {
     "name": "stdout",
     "output_type": "stream",
     "text": [
      "                   all       5869      64101      0.984      0.966      0.992      0.944\n"
     ]
    },
    {
     "name": "stderr",
     "output_type": "stream",
     "text": [
      "\n"
     ]
    },
    {
     "name": "stdout",
     "output_type": "stream",
     "text": [
      "\n",
      "      Epoch    GPU_mem   box_loss   cls_loss   dfl_loss  Instances       Size\n"
     ]
    },
    {
     "name": "stderr",
     "output_type": "stream",
     "text": [
      "     46/200      8.02G     0.4013     0.2309     0.8087         90        640: 100%|██████████| 651/651 [02:28<00:00,  \n",
      "                 Class     Images  Instances      Box(P          R      mAP50  mAP50-95): 100%|██████████| 92/92 [00:30"
     ]
    },
    {
     "name": "stdout",
     "output_type": "stream",
     "text": [
      "                   all       5869      64101      0.984      0.965      0.992      0.944\n"
     ]
    },
    {
     "name": "stderr",
     "output_type": "stream",
     "text": [
      "\n"
     ]
    },
    {
     "name": "stdout",
     "output_type": "stream",
     "text": [
      "\n",
      "      Epoch    GPU_mem   box_loss   cls_loss   dfl_loss  Instances       Size\n"
     ]
    },
    {
     "name": "stderr",
     "output_type": "stream",
     "text": [
      "     47/200      7.85G     0.4005     0.2299     0.8086        102        640: 100%|██████████| 651/651 [02:28<00:00,  \n",
      "                 Class     Images  Instances      Box(P          R      mAP50  mAP50-95): 100%|██████████| 92/92 [00:30"
     ]
    },
    {
     "name": "stdout",
     "output_type": "stream",
     "text": [
      "                   all       5869      64101      0.984      0.965      0.992      0.945\n"
     ]
    },
    {
     "name": "stderr",
     "output_type": "stream",
     "text": [
      "\n"
     ]
    },
    {
     "name": "stdout",
     "output_type": "stream",
     "text": [
      "\n",
      "      Epoch    GPU_mem   box_loss   cls_loss   dfl_loss  Instances       Size\n"
     ]
    },
    {
     "name": "stderr",
     "output_type": "stream",
     "text": [
      "     48/200      7.88G     0.3986     0.2295      0.808        131        640: 100%|██████████| 651/651 [02:28<00:00,  \n",
      "                 Class     Images  Instances      Box(P          R      mAP50  mAP50-95): 100%|██████████| 92/92 [00:30"
     ]
    },
    {
     "name": "stdout",
     "output_type": "stream",
     "text": [
      "                   all       5869      64101      0.985      0.965      0.992      0.945\n"
     ]
    },
    {
     "name": "stderr",
     "output_type": "stream",
     "text": [
      "\n"
     ]
    },
    {
     "name": "stdout",
     "output_type": "stream",
     "text": [
      "\n",
      "      Epoch    GPU_mem   box_loss   cls_loss   dfl_loss  Instances       Size\n"
     ]
    },
    {
     "name": "stderr",
     "output_type": "stream",
     "text": [
      "     49/200      8.09G     0.4002       0.23     0.8082         83        640: 100%|██████████| 651/651 [02:28<00:00,  \n",
      "                 Class     Images  Instances      Box(P          R      mAP50  mAP50-95): 100%|██████████| 92/92 [00:30"
     ]
    },
    {
     "name": "stdout",
     "output_type": "stream",
     "text": [
      "                   all       5869      64101      0.984      0.966      0.992      0.945\n"
     ]
    },
    {
     "name": "stderr",
     "output_type": "stream",
     "text": [
      "\n"
     ]
    },
    {
     "name": "stdout",
     "output_type": "stream",
     "text": [
      "\n",
      "      Epoch    GPU_mem   box_loss   cls_loss   dfl_loss  Instances       Size\n"
     ]
    },
    {
     "name": "stderr",
     "output_type": "stream",
     "text": [
      "     50/200       7.8G     0.3987     0.2292     0.8076         79        640: 100%|██████████| 651/651 [02:28<00:00,  \n",
      "                 Class     Images  Instances      Box(P          R      mAP50  mAP50-95): 100%|██████████| 92/92 [00:30"
     ]
    },
    {
     "name": "stdout",
     "output_type": "stream",
     "text": [
      "                   all       5869      64101      0.984      0.966      0.992      0.945\n"
     ]
    },
    {
     "name": "stderr",
     "output_type": "stream",
     "text": [
      "\n"
     ]
    },
    {
     "name": "stdout",
     "output_type": "stream",
     "text": [
      "\n",
      "      Epoch    GPU_mem   box_loss   cls_loss   dfl_loss  Instances       Size\n"
     ]
    },
    {
     "name": "stderr",
     "output_type": "stream",
     "text": [
      "     51/200      7.86G     0.3957     0.2274     0.8069         67        640: 100%|██████████| 651/651 [02:28<00:00,  \n",
      "                 Class     Images  Instances      Box(P          R      mAP50  mAP50-95): 100%|██████████| 92/92 [00:30"
     ]
    },
    {
     "name": "stdout",
     "output_type": "stream",
     "text": [
      "                   all       5869      64101      0.984      0.966      0.992      0.945\n"
     ]
    },
    {
     "name": "stderr",
     "output_type": "stream",
     "text": [
      "\n"
     ]
    },
    {
     "name": "stdout",
     "output_type": "stream",
     "text": [
      "\n",
      "      Epoch    GPU_mem   box_loss   cls_loss   dfl_loss  Instances       Size\n"
     ]
    },
    {
     "name": "stderr",
     "output_type": "stream",
     "text": [
      "     52/200      7.78G     0.3966     0.2272     0.8078         96        640: 100%|██████████| 651/651 [02:28<00:00,  \n",
      "                 Class     Images  Instances      Box(P          R      mAP50  mAP50-95): 100%|██████████| 92/92 [00:30"
     ]
    },
    {
     "name": "stdout",
     "output_type": "stream",
     "text": [
      "                   all       5869      64101      0.985      0.966      0.992      0.945\n"
     ]
    },
    {
     "name": "stderr",
     "output_type": "stream",
     "text": [
      "\n"
     ]
    },
    {
     "name": "stdout",
     "output_type": "stream",
     "text": [
      "\n",
      "      Epoch    GPU_mem   box_loss   cls_loss   dfl_loss  Instances       Size\n"
     ]
    },
    {
     "name": "stderr",
     "output_type": "stream",
     "text": [
      "     53/200      7.87G      0.393     0.2259     0.8073         88        640: 100%|██████████| 651/651 [02:28<00:00,  \n",
      "                 Class     Images  Instances      Box(P          R      mAP50  mAP50-95): 100%|██████████| 92/92 [00:30"
     ]
    },
    {
     "name": "stdout",
     "output_type": "stream",
     "text": [
      "                   all       5869      64101      0.985      0.966      0.992      0.945\n"
     ]
    },
    {
     "name": "stderr",
     "output_type": "stream",
     "text": [
      "\n"
     ]
    },
    {
     "name": "stdout",
     "output_type": "stream",
     "text": [
      "\n",
      "      Epoch    GPU_mem   box_loss   cls_loss   dfl_loss  Instances       Size\n"
     ]
    },
    {
     "name": "stderr",
     "output_type": "stream",
     "text": [
      "     54/200      7.84G     0.3934     0.2261     0.8073        123        640: 100%|██████████| 651/651 [02:28<00:00,  \n",
      "                 Class     Images  Instances      Box(P          R      mAP50  mAP50-95): 100%|██████████| 92/92 [00:30"
     ]
    },
    {
     "name": "stdout",
     "output_type": "stream",
     "text": [
      "                   all       5869      64101      0.985      0.966      0.992      0.945\n"
     ]
    },
    {
     "name": "stderr",
     "output_type": "stream",
     "text": [
      "\n"
     ]
    },
    {
     "name": "stdout",
     "output_type": "stream",
     "text": [
      "\n",
      "      Epoch    GPU_mem   box_loss   cls_loss   dfl_loss  Instances       Size\n"
     ]
    },
    {
     "name": "stderr",
     "output_type": "stream",
     "text": [
      "     55/200      7.87G     0.3934     0.2258     0.8074        109        640: 100%|██████████| 651/651 [02:28<00:00,  \n",
      "                 Class     Images  Instances      Box(P          R      mAP50  mAP50-95): 100%|██████████| 92/92 [00:30"
     ]
    },
    {
     "name": "stdout",
     "output_type": "stream",
     "text": [
      "                   all       5869      64101      0.985      0.966      0.992      0.946\n"
     ]
    },
    {
     "name": "stderr",
     "output_type": "stream",
     "text": [
      "\n"
     ]
    },
    {
     "name": "stdout",
     "output_type": "stream",
     "text": [
      "\n",
      "      Epoch    GPU_mem   box_loss   cls_loss   dfl_loss  Instances       Size\n"
     ]
    },
    {
     "name": "stderr",
     "output_type": "stream",
     "text": [
      "     56/200      7.76G     0.3926     0.2256     0.8071         97        640: 100%|██████████| 651/651 [02:28<00:00,  \n",
      "                 Class     Images  Instances      Box(P          R      mAP50  mAP50-95): 100%|██████████| 92/92 [00:30"
     ]
    },
    {
     "name": "stdout",
     "output_type": "stream",
     "text": [
      "                   all       5869      64101      0.984      0.967      0.992      0.946\n"
     ]
    },
    {
     "name": "stderr",
     "output_type": "stream",
     "text": [
      "\n"
     ]
    },
    {
     "name": "stdout",
     "output_type": "stream",
     "text": [
      "\n",
      "      Epoch    GPU_mem   box_loss   cls_loss   dfl_loss  Instances       Size\n"
     ]
    },
    {
     "name": "stderr",
     "output_type": "stream",
     "text": [
      "     57/200      7.82G     0.3916     0.2255     0.8068         92        640: 100%|██████████| 651/651 [02:28<00:00,  \n",
      "                 Class     Images  Instances      Box(P          R      mAP50  mAP50-95): 100%|██████████| 92/92 [00:30"
     ]
    },
    {
     "name": "stdout",
     "output_type": "stream",
     "text": [
      "                   all       5869      64101      0.984      0.967      0.992      0.946\n"
     ]
    },
    {
     "name": "stderr",
     "output_type": "stream",
     "text": [
      "\n"
     ]
    },
    {
     "name": "stdout",
     "output_type": "stream",
     "text": [
      "\n",
      "      Epoch    GPU_mem   box_loss   cls_loss   dfl_loss  Instances       Size\n"
     ]
    },
    {
     "name": "stderr",
     "output_type": "stream",
     "text": [
      "     58/200      7.77G     0.3914      0.225     0.8061         92        640: 100%|██████████| 651/651 [02:28<00:00,  \n",
      "                 Class     Images  Instances      Box(P          R      mAP50  mAP50-95): 100%|██████████| 92/92 [00:30"
     ]
    },
    {
     "name": "stdout",
     "output_type": "stream",
     "text": [
      "                   all       5869      64101      0.984      0.967      0.992      0.946\n"
     ]
    },
    {
     "name": "stderr",
     "output_type": "stream",
     "text": [
      "\n"
     ]
    },
    {
     "name": "stdout",
     "output_type": "stream",
     "text": [
      "\n",
      "      Epoch    GPU_mem   box_loss   cls_loss   dfl_loss  Instances       Size\n"
     ]
    },
    {
     "name": "stderr",
     "output_type": "stream",
     "text": [
      "     59/200      7.84G     0.3903     0.2231     0.8062         98        640: 100%|██████████| 651/651 [02:28<00:00,  \n",
      "                 Class     Images  Instances      Box(P          R      mAP50  mAP50-95): 100%|██████████| 92/92 [00:30"
     ]
    },
    {
     "name": "stdout",
     "output_type": "stream",
     "text": [
      "                   all       5869      64101      0.984      0.967      0.992      0.947\n"
     ]
    },
    {
     "name": "stderr",
     "output_type": "stream",
     "text": [
      "\n"
     ]
    },
    {
     "name": "stdout",
     "output_type": "stream",
     "text": [
      "\n",
      "      Epoch    GPU_mem   box_loss   cls_loss   dfl_loss  Instances       Size\n"
     ]
    },
    {
     "name": "stderr",
     "output_type": "stream",
     "text": [
      "     60/200      7.77G     0.3896     0.2232      0.806         92        640: 100%|██████████| 651/651 [02:28<00:00,  \n",
      "                 Class     Images  Instances      Box(P          R      mAP50  mAP50-95): 100%|██████████| 92/92 [00:30"
     ]
    },
    {
     "name": "stdout",
     "output_type": "stream",
     "text": [
      "                   all       5869      64101      0.984      0.967      0.992      0.947\n"
     ]
    },
    {
     "name": "stderr",
     "output_type": "stream",
     "text": [
      "\n"
     ]
    },
    {
     "name": "stdout",
     "output_type": "stream",
     "text": [
      "\n",
      "      Epoch    GPU_mem   box_loss   cls_loss   dfl_loss  Instances       Size\n"
     ]
    },
    {
     "name": "stderr",
     "output_type": "stream",
     "text": [
      "     61/200      7.82G      0.388     0.2218     0.8062        118        640: 100%|██████████| 651/651 [02:28<00:00,  \n",
      "                 Class     Images  Instances      Box(P          R      mAP50  mAP50-95): 100%|██████████| 92/92 [00:30"
     ]
    },
    {
     "name": "stdout",
     "output_type": "stream",
     "text": [
      "                   all       5869      64101      0.984      0.967      0.992      0.947\n"
     ]
    },
    {
     "name": "stderr",
     "output_type": "stream",
     "text": [
      "\n"
     ]
    },
    {
     "name": "stdout",
     "output_type": "stream",
     "text": [
      "\n",
      "      Epoch    GPU_mem   box_loss   cls_loss   dfl_loss  Instances       Size\n"
     ]
    },
    {
     "name": "stderr",
     "output_type": "stream",
     "text": [
      "     62/200      7.76G     0.3865     0.2215     0.8057         95        640: 100%|██████████| 651/651 [02:28<00:00,  \n",
      "                 Class     Images  Instances      Box(P          R      mAP50  mAP50-95): 100%|██████████| 92/92 [00:30"
     ]
    },
    {
     "name": "stdout",
     "output_type": "stream",
     "text": [
      "                   all       5869      64101      0.984      0.966      0.992      0.947\n"
     ]
    },
    {
     "name": "stderr",
     "output_type": "stream",
     "text": [
      "\n"
     ]
    },
    {
     "name": "stdout",
     "output_type": "stream",
     "text": [
      "\n",
      "      Epoch    GPU_mem   box_loss   cls_loss   dfl_loss  Instances       Size\n"
     ]
    },
    {
     "name": "stderr",
     "output_type": "stream",
     "text": [
      "     63/200      7.77G     0.3885     0.2226     0.8057        119        640: 100%|██████████| 651/651 [02:28<00:00,  \n",
      "                 Class     Images  Instances      Box(P          R      mAP50  mAP50-95): 100%|██████████| 92/92 [00:30"
     ]
    },
    {
     "name": "stdout",
     "output_type": "stream",
     "text": [
      "                   all       5869      64101      0.984      0.966      0.992      0.947\n"
     ]
    },
    {
     "name": "stderr",
     "output_type": "stream",
     "text": [
      "\n"
     ]
    },
    {
     "name": "stdout",
     "output_type": "stream",
     "text": [
      "\n",
      "      Epoch    GPU_mem   box_loss   cls_loss   dfl_loss  Instances       Size\n"
     ]
    },
    {
     "name": "stderr",
     "output_type": "stream",
     "text": [
      "     64/200      7.97G     0.3874     0.2216     0.8058        131        640: 100%|██████████| 651/651 [02:28<00:00,  \n",
      "                 Class     Images  Instances      Box(P          R      mAP50  mAP50-95): 100%|██████████| 92/92 [00:30"
     ]
    },
    {
     "name": "stdout",
     "output_type": "stream",
     "text": [
      "                   all       5869      64101      0.984      0.966      0.992      0.947\n"
     ]
    },
    {
     "name": "stderr",
     "output_type": "stream",
     "text": [
      "\n"
     ]
    },
    {
     "name": "stdout",
     "output_type": "stream",
     "text": [
      "\n",
      "      Epoch    GPU_mem   box_loss   cls_loss   dfl_loss  Instances       Size\n"
     ]
    },
    {
     "name": "stderr",
     "output_type": "stream",
     "text": [
      "     65/200      7.84G     0.3858       0.22     0.8056         81        640: 100%|██████████| 651/651 [02:28<00:00,  \n",
      "                 Class     Images  Instances      Box(P          R      mAP50  mAP50-95): 100%|██████████| 92/92 [00:30"
     ]
    },
    {
     "name": "stdout",
     "output_type": "stream",
     "text": [
      "                   all       5869      64101      0.984      0.966      0.992      0.947\n"
     ]
    },
    {
     "name": "stderr",
     "output_type": "stream",
     "text": [
      "\n"
     ]
    },
    {
     "name": "stdout",
     "output_type": "stream",
     "text": [
      "\n",
      "      Epoch    GPU_mem   box_loss   cls_loss   dfl_loss  Instances       Size\n"
     ]
    },
    {
     "name": "stderr",
     "output_type": "stream",
     "text": [
      "     66/200      7.78G     0.3862      0.221     0.8054        123        640: 100%|██████████| 651/651 [02:28<00:00,  \n",
      "                 Class     Images  Instances      Box(P          R      mAP50  mAP50-95): 100%|██████████| 92/92 [00:30"
     ]
    },
    {
     "name": "stdout",
     "output_type": "stream",
     "text": [
      "                   all       5869      64101      0.984      0.966      0.992      0.947\n"
     ]
    },
    {
     "name": "stderr",
     "output_type": "stream",
     "text": [
      "\n"
     ]
    },
    {
     "name": "stdout",
     "output_type": "stream",
     "text": [
      "\n",
      "      Epoch    GPU_mem   box_loss   cls_loss   dfl_loss  Instances       Size\n"
     ]
    },
    {
     "name": "stderr",
     "output_type": "stream",
     "text": [
      "     67/200      7.79G     0.3833     0.2188     0.8048        106        640: 100%|██████████| 651/651 [02:28<00:00,  \n",
      "                 Class     Images  Instances      Box(P          R      mAP50  mAP50-95): 100%|██████████| 92/92 [00:30"
     ]
    },
    {
     "name": "stdout",
     "output_type": "stream",
     "text": [
      "                   all       5869      64101      0.984      0.966      0.992      0.947\n"
     ]
    },
    {
     "name": "stderr",
     "output_type": "stream",
     "text": [
      "\n"
     ]
    },
    {
     "name": "stdout",
     "output_type": "stream",
     "text": [
      "\n",
      "      Epoch    GPU_mem   box_loss   cls_loss   dfl_loss  Instances       Size\n"
     ]
    },
    {
     "name": "stderr",
     "output_type": "stream",
     "text": [
      "     68/200      7.77G      0.385     0.2199     0.8053        127        640: 100%|██████████| 651/651 [02:28<00:00,  \n",
      "                 Class     Images  Instances      Box(P          R      mAP50  mAP50-95): 100%|██████████| 92/92 [00:30"
     ]
    },
    {
     "name": "stdout",
     "output_type": "stream",
     "text": [
      "                   all       5869      64101      0.985      0.966      0.992      0.947\n"
     ]
    },
    {
     "name": "stderr",
     "output_type": "stream",
     "text": [
      "\n"
     ]
    },
    {
     "name": "stdout",
     "output_type": "stream",
     "text": [
      "\n",
      "      Epoch    GPU_mem   box_loss   cls_loss   dfl_loss  Instances       Size\n"
     ]
    },
    {
     "name": "stderr",
     "output_type": "stream",
     "text": [
      "     69/200      7.85G     0.3841     0.2189     0.8052        110        640: 100%|██████████| 651/651 [02:28<00:00,  \n",
      "                 Class     Images  Instances      Box(P          R      mAP50  mAP50-95): 100%|██████████| 92/92 [00:30"
     ]
    },
    {
     "name": "stdout",
     "output_type": "stream",
     "text": [
      "                   all       5869      64101      0.985      0.966      0.992      0.948\n"
     ]
    },
    {
     "name": "stderr",
     "output_type": "stream",
     "text": [
      "\n"
     ]
    },
    {
     "name": "stdout",
     "output_type": "stream",
     "text": [
      "\n",
      "      Epoch    GPU_mem   box_loss   cls_loss   dfl_loss  Instances       Size\n"
     ]
    },
    {
     "name": "stderr",
     "output_type": "stream",
     "text": [
      "     70/200      7.96G     0.3852     0.2203     0.8055        122        640: 100%|██████████| 651/651 [02:28<00:00,  \n",
      "                 Class     Images  Instances      Box(P          R      mAP50  mAP50-95): 100%|██████████| 92/92 [00:30"
     ]
    },
    {
     "name": "stdout",
     "output_type": "stream",
     "text": [
      "                   all       5869      64101      0.985      0.966      0.992      0.948\n"
     ]
    },
    {
     "name": "stderr",
     "output_type": "stream",
     "text": [
      "\n"
     ]
    },
    {
     "name": "stdout",
     "output_type": "stream",
     "text": [
      "\n",
      "      Epoch    GPU_mem   box_loss   cls_loss   dfl_loss  Instances       Size\n"
     ]
    },
    {
     "name": "stderr",
     "output_type": "stream",
     "text": [
      "     71/200      7.88G     0.3825     0.2183     0.8043        144        640: 100%|██████████| 651/651 [02:28<00:00,  \n",
      "                 Class     Images  Instances      Box(P          R      mAP50  mAP50-95): 100%|██████████| 92/92 [00:30"
     ]
    },
    {
     "name": "stdout",
     "output_type": "stream",
     "text": [
      "                   all       5869      64101      0.985      0.966      0.992      0.948\n"
     ]
    },
    {
     "name": "stderr",
     "output_type": "stream",
     "text": [
      "\n"
     ]
    },
    {
     "name": "stdout",
     "output_type": "stream",
     "text": [
      "\n",
      "      Epoch    GPU_mem   box_loss   cls_loss   dfl_loss  Instances       Size\n"
     ]
    },
    {
     "name": "stderr",
     "output_type": "stream",
     "text": [
      "     72/200      7.86G     0.3824     0.2185     0.8042        144        640: 100%|██████████| 651/651 [02:28<00:00,  \n",
      "                 Class     Images  Instances      Box(P          R      mAP50  mAP50-95): 100%|██████████| 92/92 [00:30"
     ]
    },
    {
     "name": "stdout",
     "output_type": "stream",
     "text": [
      "                   all       5869      64101      0.985      0.966      0.992      0.948\n"
     ]
    },
    {
     "name": "stderr",
     "output_type": "stream",
     "text": [
      "\n"
     ]
    },
    {
     "name": "stdout",
     "output_type": "stream",
     "text": [
      "\n",
      "      Epoch    GPU_mem   box_loss   cls_loss   dfl_loss  Instances       Size\n"
     ]
    },
    {
     "name": "stderr",
     "output_type": "stream",
     "text": [
      "     73/200       7.8G     0.3812     0.2178     0.8047        136        640: 100%|██████████| 651/651 [02:28<00:00,  \n",
      "                 Class     Images  Instances      Box(P          R      mAP50  mAP50-95): 100%|██████████| 92/92 [00:30"
     ]
    },
    {
     "name": "stdout",
     "output_type": "stream",
     "text": [
      "                   all       5869      64101      0.984      0.966      0.992      0.948\n"
     ]
    },
    {
     "name": "stderr",
     "output_type": "stream",
     "text": [
      "\n"
     ]
    },
    {
     "name": "stdout",
     "output_type": "stream",
     "text": [
      "\n",
      "      Epoch    GPU_mem   box_loss   cls_loss   dfl_loss  Instances       Size\n"
     ]
    },
    {
     "name": "stderr",
     "output_type": "stream",
     "text": [
      "     74/200       7.8G     0.3805     0.2171     0.8048        120        640: 100%|██████████| 651/651 [02:28<00:00,  \n",
      "                 Class     Images  Instances      Box(P          R      mAP50  mAP50-95): 100%|██████████| 92/92 [00:30"
     ]
    },
    {
     "name": "stdout",
     "output_type": "stream",
     "text": [
      "                   all       5869      64101      0.984      0.966      0.992      0.948\n"
     ]
    },
    {
     "name": "stderr",
     "output_type": "stream",
     "text": [
      "\n"
     ]
    },
    {
     "name": "stdout",
     "output_type": "stream",
     "text": [
      "\n",
      "      Epoch    GPU_mem   box_loss   cls_loss   dfl_loss  Instances       Size\n"
     ]
    },
    {
     "name": "stderr",
     "output_type": "stream",
     "text": [
      "     75/200      7.82G     0.3801     0.2166     0.8044         90        640: 100%|██████████| 651/651 [02:28<00:00,  \n",
      "                 Class     Images  Instances      Box(P          R      mAP50  mAP50-95): 100%|██████████| 92/92 [00:30"
     ]
    },
    {
     "name": "stdout",
     "output_type": "stream",
     "text": [
      "                   all       5869      64101      0.985      0.966      0.992      0.948\n"
     ]
    },
    {
     "name": "stderr",
     "output_type": "stream",
     "text": [
      "\n"
     ]
    },
    {
     "name": "stdout",
     "output_type": "stream",
     "text": [
      "\n",
      "      Epoch    GPU_mem   box_loss   cls_loss   dfl_loss  Instances       Size\n"
     ]
    },
    {
     "name": "stderr",
     "output_type": "stream",
     "text": [
      "     76/200       7.9G     0.3802     0.2167     0.8047        140        640: 100%|██████████| 651/651 [02:28<00:00,  \n",
      "                 Class     Images  Instances      Box(P          R      mAP50  mAP50-95): 100%|██████████| 92/92 [00:30"
     ]
    },
    {
     "name": "stdout",
     "output_type": "stream",
     "text": [
      "                   all       5869      64101      0.985      0.966      0.992      0.948\n"
     ]
    },
    {
     "name": "stderr",
     "output_type": "stream",
     "text": [
      "\n"
     ]
    },
    {
     "name": "stdout",
     "output_type": "stream",
     "text": [
      "\n",
      "      Epoch    GPU_mem   box_loss   cls_loss   dfl_loss  Instances       Size\n"
     ]
    },
    {
     "name": "stderr",
     "output_type": "stream",
     "text": [
      "     77/200      8.14G     0.3777     0.2158     0.8037        101        640: 100%|██████████| 651/651 [02:28<00:00,  \n",
      "                 Class     Images  Instances      Box(P          R      mAP50  mAP50-95): 100%|██████████| 92/92 [00:30"
     ]
    },
    {
     "name": "stdout",
     "output_type": "stream",
     "text": [
      "                   all       5869      64101      0.985      0.966      0.992      0.949\n"
     ]
    },
    {
     "name": "stderr",
     "output_type": "stream",
     "text": [
      "\n"
     ]
    },
    {
     "name": "stdout",
     "output_type": "stream",
     "text": [
      "\n",
      "      Epoch    GPU_mem   box_loss   cls_loss   dfl_loss  Instances       Size\n"
     ]
    },
    {
     "name": "stderr",
     "output_type": "stream",
     "text": [
      "     78/200      7.78G     0.3783     0.2153     0.8036        104        640: 100%|██████████| 651/651 [02:28<00:00,  \n",
      "                 Class     Images  Instances      Box(P          R      mAP50  mAP50-95): 100%|██████████| 92/92 [00:30"
     ]
    },
    {
     "name": "stdout",
     "output_type": "stream",
     "text": [
      "                   all       5869      64101      0.985      0.966      0.992      0.949\n"
     ]
    },
    {
     "name": "stderr",
     "output_type": "stream",
     "text": [
      "\n"
     ]
    },
    {
     "name": "stdout",
     "output_type": "stream",
     "text": [
      "\n",
      "      Epoch    GPU_mem   box_loss   cls_loss   dfl_loss  Instances       Size\n"
     ]
    },
    {
     "name": "stderr",
     "output_type": "stream",
     "text": [
      "     79/200       7.8G     0.3777     0.2154     0.8038        127        640: 100%|██████████| 651/651 [02:28<00:00,  \n",
      "                 Class     Images  Instances      Box(P          R      mAP50  mAP50-95): 100%|██████████| 92/92 [00:30"
     ]
    },
    {
     "name": "stdout",
     "output_type": "stream",
     "text": [
      "                   all       5869      64101      0.985      0.966      0.992      0.949\n"
     ]
    },
    {
     "name": "stderr",
     "output_type": "stream",
     "text": [
      "\n"
     ]
    },
    {
     "name": "stdout",
     "output_type": "stream",
     "text": [
      "\n",
      "      Epoch    GPU_mem   box_loss   cls_loss   dfl_loss  Instances       Size\n"
     ]
    },
    {
     "name": "stderr",
     "output_type": "stream",
     "text": [
      "     80/200       7.8G     0.3783     0.2152     0.8041         99        640: 100%|██████████| 651/651 [02:28<00:00,  \n",
      "                 Class     Images  Instances      Box(P          R      mAP50  mAP50-95): 100%|██████████| 92/92 [00:30"
     ]
    },
    {
     "name": "stdout",
     "output_type": "stream",
     "text": [
      "                   all       5869      64101      0.985      0.966      0.992      0.949\n"
     ]
    },
    {
     "name": "stderr",
     "output_type": "stream",
     "text": [
      "\n"
     ]
    },
    {
     "name": "stdout",
     "output_type": "stream",
     "text": [
      "\n",
      "      Epoch    GPU_mem   box_loss   cls_loss   dfl_loss  Instances       Size\n"
     ]
    },
    {
     "name": "stderr",
     "output_type": "stream",
     "text": [
      "     81/200      7.83G     0.3769     0.2144     0.8034        143        640: 100%|██████████| 651/651 [02:28<00:00,  \n",
      "                 Class     Images  Instances      Box(P          R      mAP50  mAP50-95): 100%|██████████| 92/92 [00:30"
     ]
    },
    {
     "name": "stdout",
     "output_type": "stream",
     "text": [
      "                   all       5869      64101      0.985      0.966      0.992      0.949\n"
     ]
    },
    {
     "name": "stderr",
     "output_type": "stream",
     "text": [
      "\n"
     ]
    },
    {
     "name": "stdout",
     "output_type": "stream",
     "text": [
      "\n",
      "      Epoch    GPU_mem   box_loss   cls_loss   dfl_loss  Instances       Size\n"
     ]
    },
    {
     "name": "stderr",
     "output_type": "stream",
     "text": [
      "     82/200      7.81G     0.3764     0.2142     0.8032         83        640: 100%|██████████| 651/651 [02:28<00:00,  \n",
      "                 Class     Images  Instances      Box(P          R      mAP50  mAP50-95): 100%|██████████| 92/92 [00:30"
     ]
    },
    {
     "name": "stdout",
     "output_type": "stream",
     "text": [
      "                   all       5869      64101      0.985      0.966      0.992      0.949\n"
     ]
    },
    {
     "name": "stderr",
     "output_type": "stream",
     "text": [
      "\n"
     ]
    },
    {
     "name": "stdout",
     "output_type": "stream",
     "text": [
      "\n",
      "      Epoch    GPU_mem   box_loss   cls_loss   dfl_loss  Instances       Size\n"
     ]
    },
    {
     "name": "stderr",
     "output_type": "stream",
     "text": [
      "     83/200      7.92G     0.3771     0.2149     0.8035        101        640: 100%|██████████| 651/651 [02:28<00:00,  \n",
      "                 Class     Images  Instances      Box(P          R      mAP50  mAP50-95): 100%|██████████| 92/92 [00:30"
     ]
    },
    {
     "name": "stdout",
     "output_type": "stream",
     "text": [
      "                   all       5869      64101      0.986      0.965      0.992      0.949\n"
     ]
    },
    {
     "name": "stderr",
     "output_type": "stream",
     "text": [
      "\n"
     ]
    },
    {
     "name": "stdout",
     "output_type": "stream",
     "text": [
      "\n",
      "      Epoch    GPU_mem   box_loss   cls_loss   dfl_loss  Instances       Size\n"
     ]
    },
    {
     "name": "stderr",
     "output_type": "stream",
     "text": [
      "     84/200      7.78G     0.3753      0.214     0.8034        133        640: 100%|██████████| 651/651 [02:28<00:00,  \n",
      "                 Class     Images  Instances      Box(P          R      mAP50  mAP50-95): 100%|██████████| 92/92 [00:30"
     ]
    },
    {
     "name": "stdout",
     "output_type": "stream",
     "text": [
      "                   all       5869      64101      0.985      0.965      0.992      0.949\n"
     ]
    },
    {
     "name": "stderr",
     "output_type": "stream",
     "text": [
      "\n"
     ]
    },
    {
     "name": "stdout",
     "output_type": "stream",
     "text": [
      "\n",
      "      Epoch    GPU_mem   box_loss   cls_loss   dfl_loss  Instances       Size\n"
     ]
    },
    {
     "name": "stderr",
     "output_type": "stream",
     "text": [
      "     85/200      7.79G     0.3751     0.2134     0.8027         89        640: 100%|██████████| 651/651 [02:28<00:00,  \n",
      "                 Class     Images  Instances      Box(P          R      mAP50  mAP50-95): 100%|██████████| 92/92 [00:30"
     ]
    },
    {
     "name": "stdout",
     "output_type": "stream",
     "text": [
      "                   all       5869      64101      0.986      0.965      0.992      0.949\n"
     ]
    },
    {
     "name": "stderr",
     "output_type": "stream",
     "text": [
      "\n"
     ]
    },
    {
     "name": "stdout",
     "output_type": "stream",
     "text": [
      "\n",
      "      Epoch    GPU_mem   box_loss   cls_loss   dfl_loss  Instances       Size\n"
     ]
    },
    {
     "name": "stderr",
     "output_type": "stream",
     "text": [
      "     86/200      7.76G     0.3743     0.2128     0.8035        127        640: 100%|██████████| 651/651 [02:28<00:00,  \n",
      "                 Class     Images  Instances      Box(P          R      mAP50  mAP50-95): 100%|██████████| 92/92 [00:30"
     ]
    },
    {
     "name": "stdout",
     "output_type": "stream",
     "text": [
      "                   all       5869      64101      0.986      0.964      0.992      0.949\n"
     ]
    },
    {
     "name": "stderr",
     "output_type": "stream",
     "text": [
      "\n"
     ]
    },
    {
     "name": "stdout",
     "output_type": "stream",
     "text": [
      "\n",
      "      Epoch    GPU_mem   box_loss   cls_loss   dfl_loss  Instances       Size\n"
     ]
    },
    {
     "name": "stderr",
     "output_type": "stream",
     "text": [
      "     87/200      7.77G     0.3747     0.2128     0.8032         86        640: 100%|██████████| 651/651 [02:28<00:00,  \n",
      "                 Class     Images  Instances      Box(P          R      mAP50  mAP50-95): 100%|██████████| 92/92 [00:30"
     ]
    },
    {
     "name": "stdout",
     "output_type": "stream",
     "text": [
      "                   all       5869      64101      0.986      0.965      0.992      0.949\n"
     ]
    },
    {
     "name": "stderr",
     "output_type": "stream",
     "text": [
      "\n"
     ]
    },
    {
     "name": "stdout",
     "output_type": "stream",
     "text": [
      "\n",
      "      Epoch    GPU_mem   box_loss   cls_loss   dfl_loss  Instances       Size\n"
     ]
    },
    {
     "name": "stderr",
     "output_type": "stream",
     "text": [
      "     88/200      7.76G     0.3741     0.2126     0.8029        130        640: 100%|██████████| 651/651 [02:28<00:00,  \n",
      "                 Class     Images  Instances      Box(P          R      mAP50  mAP50-95): 100%|██████████| 92/92 [00:30"
     ]
    },
    {
     "name": "stdout",
     "output_type": "stream",
     "text": [
      "                   all       5869      64101      0.985      0.964      0.992      0.948\n"
     ]
    },
    {
     "name": "stderr",
     "output_type": "stream",
     "text": [
      "\n"
     ]
    },
    {
     "name": "stdout",
     "output_type": "stream",
     "text": [
      "\n",
      "      Epoch    GPU_mem   box_loss   cls_loss   dfl_loss  Instances       Size\n"
     ]
    },
    {
     "name": "stderr",
     "output_type": "stream",
     "text": [
      "     89/200      7.88G      0.374     0.2123     0.8036        109        640: 100%|██████████| 651/651 [02:28<00:00,  \n",
      "                 Class     Images  Instances      Box(P          R      mAP50  mAP50-95): 100%|██████████| 92/92 [00:30"
     ]
    },
    {
     "name": "stdout",
     "output_type": "stream",
     "text": [
      "                   all       5869      64101      0.985      0.964      0.992      0.948\n"
     ]
    },
    {
     "name": "stderr",
     "output_type": "stream",
     "text": [
      "\n"
     ]
    },
    {
     "name": "stdout",
     "output_type": "stream",
     "text": [
      "\n",
      "      Epoch    GPU_mem   box_loss   cls_loss   dfl_loss  Instances       Size\n"
     ]
    },
    {
     "name": "stderr",
     "output_type": "stream",
     "text": [
      "     90/200      7.77G     0.3729     0.2127     0.8029         78        640: 100%|██████████| 651/651 [02:28<00:00,  \n",
      "                 Class     Images  Instances      Box(P          R      mAP50  mAP50-95): 100%|██████████| 92/92 [00:30"
     ]
    },
    {
     "name": "stdout",
     "output_type": "stream",
     "text": [
      "                   all       5869      64101      0.985      0.965      0.992      0.949\n"
     ]
    },
    {
     "name": "stderr",
     "output_type": "stream",
     "text": [
      "\n"
     ]
    },
    {
     "name": "stdout",
     "output_type": "stream",
     "text": [
      "\n",
      "      Epoch    GPU_mem   box_loss   cls_loss   dfl_loss  Instances       Size\n"
     ]
    },
    {
     "name": "stderr",
     "output_type": "stream",
     "text": [
      "     91/200       7.8G     0.3726     0.2126     0.8031        153        640: 100%|██████████| 651/651 [02:28<00:00,  \n",
      "                 Class     Images  Instances      Box(P          R      mAP50  mAP50-95): 100%|██████████| 92/92 [00:30"
     ]
    },
    {
     "name": "stdout",
     "output_type": "stream",
     "text": [
      "                   all       5869      64101      0.985      0.965      0.992      0.948\n"
     ]
    },
    {
     "name": "stderr",
     "output_type": "stream",
     "text": [
      "\n"
     ]
    },
    {
     "name": "stdout",
     "output_type": "stream",
     "text": [
      "\n",
      "      Epoch    GPU_mem   box_loss   cls_loss   dfl_loss  Instances       Size\n"
     ]
    },
    {
     "name": "stderr",
     "output_type": "stream",
     "text": [
      "     92/200      7.78G     0.3718     0.2113     0.8031         86        640: 100%|██████████| 651/651 [02:28<00:00,  \n",
      "                 Class     Images  Instances      Box(P          R      mAP50  mAP50-95): 100%|██████████| 92/92 [00:30"
     ]
    },
    {
     "name": "stdout",
     "output_type": "stream",
     "text": [
      "                   all       5869      64101      0.985      0.965      0.992      0.949\n"
     ]
    },
    {
     "name": "stderr",
     "output_type": "stream",
     "text": [
      "\n"
     ]
    },
    {
     "name": "stdout",
     "output_type": "stream",
     "text": [
      "\n",
      "      Epoch    GPU_mem   box_loss   cls_loss   dfl_loss  Instances       Size\n"
     ]
    },
    {
     "name": "stderr",
     "output_type": "stream",
     "text": [
      "     93/200      7.82G     0.3722     0.2104     0.8031         71        640: 100%|██████████| 651/651 [02:28<00:00,  \n",
      "                 Class     Images  Instances      Box(P          R      mAP50  mAP50-95): 100%|██████████| 92/92 [00:30"
     ]
    },
    {
     "name": "stdout",
     "output_type": "stream",
     "text": [
      "                   all       5869      64101      0.985      0.965      0.992      0.949\n"
     ]
    },
    {
     "name": "stderr",
     "output_type": "stream",
     "text": [
      "\n"
     ]
    },
    {
     "name": "stdout",
     "output_type": "stream",
     "text": [
      "\n",
      "      Epoch    GPU_mem   box_loss   cls_loss   dfl_loss  Instances       Size\n"
     ]
    },
    {
     "name": "stderr",
     "output_type": "stream",
     "text": [
      "     94/200      7.79G     0.3709     0.2105     0.8027         82        640: 100%|██████████| 651/651 [02:28<00:00,  \n",
      "                 Class     Images  Instances      Box(P          R      mAP50  mAP50-95): 100%|██████████| 92/92 [00:30"
     ]
    },
    {
     "name": "stdout",
     "output_type": "stream",
     "text": [
      "                   all       5869      64101      0.985      0.965      0.992      0.949\n"
     ]
    },
    {
     "name": "stderr",
     "output_type": "stream",
     "text": [
      "\n"
     ]
    },
    {
     "name": "stdout",
     "output_type": "stream",
     "text": [
      "\n",
      "      Epoch    GPU_mem   box_loss   cls_loss   dfl_loss  Instances       Size\n"
     ]
    },
    {
     "name": "stderr",
     "output_type": "stream",
     "text": [
      "     95/200      7.84G     0.3694     0.2092     0.8019        131        640: 100%|██████████| 651/651 [02:28<00:00,  \n",
      "                 Class     Images  Instances      Box(P          R      mAP50  mAP50-95): 100%|██████████| 92/92 [00:30"
     ]
    },
    {
     "name": "stdout",
     "output_type": "stream",
     "text": [
      "                   all       5869      64101      0.985      0.965      0.992      0.949\n"
     ]
    },
    {
     "name": "stderr",
     "output_type": "stream",
     "text": [
      "\n"
     ]
    },
    {
     "name": "stdout",
     "output_type": "stream",
     "text": [
      "\n",
      "      Epoch    GPU_mem   box_loss   cls_loss   dfl_loss  Instances       Size\n"
     ]
    },
    {
     "name": "stderr",
     "output_type": "stream",
     "text": [
      "     96/200      7.81G     0.3698     0.2097     0.8023         88        640: 100%|██████████| 651/651 [02:28<00:00,  \n",
      "                 Class     Images  Instances      Box(P          R      mAP50  mAP50-95): 100%|██████████| 92/92 [00:30"
     ]
    },
    {
     "name": "stdout",
     "output_type": "stream",
     "text": [
      "                   all       5869      64101      0.985      0.965      0.992      0.949\n"
     ]
    },
    {
     "name": "stderr",
     "output_type": "stream",
     "text": [
      "\n"
     ]
    },
    {
     "name": "stdout",
     "output_type": "stream",
     "text": [
      "\n",
      "      Epoch    GPU_mem   box_loss   cls_loss   dfl_loss  Instances       Size\n"
     ]
    },
    {
     "name": "stderr",
     "output_type": "stream",
     "text": [
      "     97/200       7.8G     0.3697     0.2093     0.8023        103        640: 100%|██████████| 651/651 [02:28<00:00,  \n",
      "                 Class     Images  Instances      Box(P          R      mAP50  mAP50-95): 100%|██████████| 92/92 [00:30"
     ]
    },
    {
     "name": "stdout",
     "output_type": "stream",
     "text": [
      "                   all       5869      64101      0.985      0.964      0.992      0.949\n"
     ]
    },
    {
     "name": "stderr",
     "output_type": "stream",
     "text": [
      "\n"
     ]
    },
    {
     "name": "stdout",
     "output_type": "stream",
     "text": [
      "\n",
      "      Epoch    GPU_mem   box_loss   cls_loss   dfl_loss  Instances       Size\n"
     ]
    },
    {
     "name": "stderr",
     "output_type": "stream",
     "text": [
      "     98/200      7.96G     0.3684     0.2085     0.8018         68        640: 100%|██████████| 651/651 [02:28<00:00,  \n",
      "                 Class     Images  Instances      Box(P          R      mAP50  mAP50-95): 100%|██████████| 92/92 [00:30"
     ]
    },
    {
     "name": "stdout",
     "output_type": "stream",
     "text": [
      "                   all       5869      64101      0.985      0.964      0.992      0.949\n"
     ]
    },
    {
     "name": "stderr",
     "output_type": "stream",
     "text": [
      "\n"
     ]
    },
    {
     "name": "stdout",
     "output_type": "stream",
     "text": [
      "\n",
      "      Epoch    GPU_mem   box_loss   cls_loss   dfl_loss  Instances       Size\n"
     ]
    },
    {
     "name": "stderr",
     "output_type": "stream",
     "text": [
      "     99/200      7.86G     0.3683     0.2088     0.8021         91        640: 100%|██████████| 651/651 [02:28<00:00,  \n",
      "                 Class     Images  Instances      Box(P          R      mAP50  mAP50-95): 100%|██████████| 92/92 [00:30"
     ]
    },
    {
     "name": "stdout",
     "output_type": "stream",
     "text": [
      "                   all       5869      64101      0.985      0.964      0.992      0.949\n"
     ]
    },
    {
     "name": "stderr",
     "output_type": "stream",
     "text": [
      "\n"
     ]
    },
    {
     "name": "stdout",
     "output_type": "stream",
     "text": [
      "\n",
      "      Epoch    GPU_mem   box_loss   cls_loss   dfl_loss  Instances       Size\n"
     ]
    },
    {
     "name": "stderr",
     "output_type": "stream",
     "text": [
      "    100/200      7.85G     0.3676     0.2087     0.8017         56        640: 100%|██████████| 651/651 [02:28<00:00,  \n",
      "                 Class     Images  Instances      Box(P          R      mAP50  mAP50-95): 100%|██████████| 92/92 [00:30"
     ]
    },
    {
     "name": "stdout",
     "output_type": "stream",
     "text": [
      "                   all       5869      64101      0.985      0.964      0.992      0.949\n"
     ]
    },
    {
     "name": "stderr",
     "output_type": "stream",
     "text": [
      "\n"
     ]
    },
    {
     "name": "stdout",
     "output_type": "stream",
     "text": [
      "\n",
      "      Epoch    GPU_mem   box_loss   cls_loss   dfl_loss  Instances       Size\n"
     ]
    },
    {
     "name": "stderr",
     "output_type": "stream",
     "text": [
      "    101/200      7.89G     0.3664     0.2077     0.8012        135        640: 100%|██████████| 651/651 [02:28<00:00,  \n",
      "                 Class     Images  Instances      Box(P          R      mAP50  mAP50-95): 100%|██████████| 92/92 [00:30"
     ]
    },
    {
     "name": "stdout",
     "output_type": "stream",
     "text": [
      "                   all       5869      64101      0.985      0.964      0.991      0.949\n"
     ]
    },
    {
     "name": "stderr",
     "output_type": "stream",
     "text": [
      "\n"
     ]
    },
    {
     "name": "stdout",
     "output_type": "stream",
     "text": [
      "\n",
      "      Epoch    GPU_mem   box_loss   cls_loss   dfl_loss  Instances       Size\n"
     ]
    },
    {
     "name": "stderr",
     "output_type": "stream",
     "text": [
      "    102/200      7.78G      0.366     0.2073     0.8014        123        640: 100%|██████████| 651/651 [02:28<00:00,  \n",
      "                 Class     Images  Instances      Box(P          R      mAP50  mAP50-95): 100%|██████████| 92/92 [00:30"
     ]
    },
    {
     "name": "stdout",
     "output_type": "stream",
     "text": [
      "                   all       5869      64101      0.985      0.964      0.991      0.949\n"
     ]
    },
    {
     "name": "stderr",
     "output_type": "stream",
     "text": [
      "\n"
     ]
    },
    {
     "name": "stdout",
     "output_type": "stream",
     "text": [
      "\n",
      "      Epoch    GPU_mem   box_loss   cls_loss   dfl_loss  Instances       Size\n"
     ]
    },
    {
     "name": "stderr",
     "output_type": "stream",
     "text": [
      "    103/200      7.84G     0.3669     0.2079     0.8021        106        640: 100%|██████████| 651/651 [02:28<00:00,  \n",
      "                 Class     Images  Instances      Box(P          R      mAP50  mAP50-95): 100%|██████████| 92/92 [00:30"
     ]
    },
    {
     "name": "stdout",
     "output_type": "stream",
     "text": [
      "                   all       5869      64101      0.984      0.964      0.991      0.949\n"
     ]
    },
    {
     "name": "stderr",
     "output_type": "stream",
     "text": [
      "\n"
     ]
    },
    {
     "name": "stdout",
     "output_type": "stream",
     "text": [
      "\n",
      "      Epoch    GPU_mem   box_loss   cls_loss   dfl_loss  Instances       Size\n"
     ]
    },
    {
     "name": "stderr",
     "output_type": "stream",
     "text": [
      "    104/200      7.77G     0.3652     0.2067     0.8013        100        640: 100%|██████████| 651/651 [02:28<00:00,  \n",
      "                 Class     Images  Instances      Box(P          R      mAP50  mAP50-95): 100%|██████████| 92/92 [00:30"
     ]
    },
    {
     "name": "stdout",
     "output_type": "stream",
     "text": [
      "                   all       5869      64101      0.985      0.964      0.991      0.948\n"
     ]
    },
    {
     "name": "stderr",
     "output_type": "stream",
     "text": [
      "\n"
     ]
    },
    {
     "name": "stdout",
     "output_type": "stream",
     "text": [
      "\n",
      "      Epoch    GPU_mem   box_loss   cls_loss   dfl_loss  Instances       Size\n"
     ]
    },
    {
     "name": "stderr",
     "output_type": "stream",
     "text": [
      "    105/200      7.79G     0.3651     0.2065     0.8014        133        640: 100%|██████████| 651/651 [02:28<00:00,  \n",
      "                 Class     Images  Instances      Box(P          R      mAP50  mAP50-95): 100%|██████████| 92/92 [00:30"
     ]
    },
    {
     "name": "stdout",
     "output_type": "stream",
     "text": [
      "                   all       5869      64101      0.985      0.964      0.991      0.948\n",
      "\u001b[34m\u001b[1mEarlyStopping: \u001b[0mTraining stopped early as no improvement observed in last 20 epochs. Best results observed at epoch 85, best model saved as best.pt.\n",
      "To update EarlyStopping(patience=20) pass a new patience value, i.e. `patience=300` or use `patience=0` to disable EarlyStopping.\n"
     ]
    },
    {
     "name": "stderr",
     "output_type": "stream",
     "text": [
      "\n"
     ]
    },
    {
     "name": "stdout",
     "output_type": "stream",
     "text": [
      "\n",
      "105 epochs completed in 5.264 hours.\n",
      "Optimizer stripped from C:\\Users\\joons\\workspace\\final_project\\runs\\epoch200_final\\weights\\last.pt, 19.2MB\n",
      "Optimizer stripped from C:\\Users\\joons\\workspace\\final_project\\runs\\epoch200_final\\weights\\best.pt, 19.2MB\n",
      "\n",
      "Validating C:\\Users\\joons\\workspace\\final_project\\runs\\epoch200_final\\weights\\best.pt...\n",
      "Ultralytics 8.3.115  Python-3.10.16 torch-2.7.0+cu118 CUDA:0 (NVIDIA GeForce RTX 3080, 10240MiB)\n",
      "YOLO11s summary (fused): 100 layers, 9,413,187 parameters, 0 gradients, 21.3 GFLOPs\n"
     ]
    },
    {
     "name": "stderr",
     "output_type": "stream",
     "text": [
      "                 Class     Images  Instances      Box(P          R      mAP50  mAP50-95): 100%|██████████| 92/92 [00:44\n"
     ]
    },
    {
     "name": "stdout",
     "output_type": "stream",
     "text": [
      "                   all       5869      64101      0.985      0.965      0.992      0.949\n",
      "Speed: 0.1ms preprocess, 0.9ms inference, 0.0ms loss, 1.2ms postprocess per image\n",
      "Results saved to \u001b[1mC:\\Users\\joons\\workspace\\final_project\\runs\\epoch200_final\u001b[0m\n"
     ]
    }
   ],
   "source": [
    "model = YOLO(pretrained_model_path)\n",
    "\n",
    "results = model.train(\n",
    "    data=yaml_path,\n",
    "    epochs=200,\n",
    "    mosaic=0.8473,\n",
    "    scale=0.33761,\n",
    "    fliplr=0.37146,\n",
    "    momentum=0.8797,\n",
    "    imgsz=640,\n",
    "    batch=32,\n",
    "    patience=20,\n",
    "    optimizer=\"AdamW\",\n",
    "    name=\"epoch200_final\",\n",
    "    project= runs_path,\n",
    ")"
   ]
  },
  {
   "cell_type": "code",
   "execution_count": null,
   "metadata": {},
   "outputs": [],
   "source": []
  }
 ],
 "metadata": {
  "accelerator": "GPU",
  "colab": {
   "authorship_tag": "ABX9TyNxnlPy9XsCdOtdCimGxl8F",
   "gpuType": "A100",
   "machine_shape": "hm",
   "provenance": []
  },
  "kernelspec": {
   "display_name": "pigeon",
   "language": "python",
   "name": "pigeon"
  },
  "language_info": {
   "codemirror_mode": {
    "name": "ipython",
    "version": 3
   },
   "file_extension": ".py",
   "mimetype": "text/x-python",
   "name": "python",
   "nbconvert_exporter": "python",
   "pygments_lexer": "ipython3",
   "version": "3.10.16"
  }
 },
 "nbformat": 4,
 "nbformat_minor": 4
}
